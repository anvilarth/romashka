{
 "cells": [
  {
   "cell_type": "code",
   "execution_count": 1,
   "metadata": {},
   "outputs": [],
   "source": [
    "import pickle \n",
    "import torch\n",
    "import numpy as np\n",
    "import torch.nn as nn \n",
    "import torch.nn.functional as F\n",
    "\n",
    "from data_generators import batches_generator, transaction_features\n",
    "from models import TransactionsRnn, TransactionsModel\n",
    "\n",
    "from augmentations import add_noise"
   ]
  },
  {
   "cell_type": "code",
   "execution_count": 2,
   "metadata": {},
   "outputs": [],
   "source": [
    "path_to_dataset = '../train_buckets'\n",
    "dir_with_datasets = os.listdir(path_to_dataset)\n",
    "dataset_train = sorted([os.path.join(path_to_dataset, x) for x in dir_with_datasets])\n",
    "\n",
    "device = torch.device('cuda' if torch.cuda.is_available() else 'cpu')"
   ]
  },
  {
   "cell_type": "code",
   "execution_count": 3,
   "metadata": {},
   "outputs": [],
   "source": [
    "train_generator = batches_generator(dataset_train, batch_size=128, shuffle=True,\n",
    "                                    device=device, is_train=True, output_format='torch')"
   ]
  },
  {
   "cell_type": "code",
   "execution_count": 5,
   "metadata": {},
   "outputs": [],
   "source": [
    "b = next(iter(train_generator))"
   ]
  },
  {
   "cell_type": "code",
   "execution_count": 15,
   "metadata": {},
   "outputs": [
    {
     "data": {
      "text/plain": [
       "[tensor([[1, 1, 1,  ..., 0, 0, 0],\n",
       "         [1, 1, 1,  ..., 0, 0, 0],\n",
       "         [1, 1, 1,  ..., 0, 0, 0],\n",
       "         ...,\n",
       "         [1, 1, 1,  ..., 0, 0, 0],\n",
       "         [1, 1, 1,  ..., 0, 0, 0],\n",
       "         [1, 1, 1,  ..., 0, 0, 0]], device='cuda:0'),\n",
       " tensor([[1, 1, 1,  ..., 0, 0, 0],\n",
       "         [2, 2, 1,  ..., 0, 0, 0],\n",
       "         [1, 1, 1,  ..., 0, 0, 0],\n",
       "         ...,\n",
       "         [1, 1, 1,  ..., 0, 0, 0],\n",
       "         [4, 4, 4,  ..., 0, 0, 0],\n",
       "         [1, 4, 1,  ..., 0, 0, 0]], device='cuda:0'),\n",
       " tensor([[  1,   1,   1,  ...,   0,   0,   0],\n",
       "         [  3,   3,   3,  ...,   0,   0,   0],\n",
       "         [  2,   2,   2,  ...,   0,   0,   0],\n",
       "         ...,\n",
       "         [ 98,  98,  98,  ...,   0,   0,   0],\n",
       "         [ 67,  67,  67,  ...,   0,   0,   0],\n",
       "         [110, 110, 110,  ...,   0,   0,   0]], device='cuda:0'),\n",
       " tensor([[1, 1, 1,  ..., 0, 0, 0],\n",
       "         [8, 8, 9,  ..., 0, 0, 0],\n",
       "         [1, 1, 1,  ..., 0, 0, 0],\n",
       "         ...,\n",
       "         [1, 1, 1,  ..., 0, 0, 0],\n",
       "         [4, 4, 4,  ..., 0, 0, 0],\n",
       "         [1, 4, 1,  ..., 0, 0, 0]], device='cuda:0'),\n",
       " tensor([[1, 1, 1,  ..., 0, 0, 0],\n",
       "         [1, 1, 1,  ..., 0, 0, 0],\n",
       "         [1, 1, 1,  ..., 0, 0, 0],\n",
       "         ...,\n",
       "         [1, 1, 1,  ..., 0, 0, 0],\n",
       "         [2, 2, 2,  ..., 0, 0, 0],\n",
       "         [1, 2, 1,  ..., 0, 0, 0]], device='cuda:0'),\n",
       " tensor([[1, 1, 1,  ..., 0, 0, 0],\n",
       "         [1, 1, 2,  ..., 0, 0, 0],\n",
       "         [1, 1, 1,  ..., 0, 0, 0],\n",
       "         ...,\n",
       "         [2, 2, 2,  ..., 0, 0, 0],\n",
       "         [1, 1, 1,  ..., 0, 0, 0],\n",
       "         [2, 1, 1,  ..., 0, 0, 0]], device='cuda:0'),\n",
       " tensor([[3, 3, 3,  ..., 0, 0, 0],\n",
       "         [3, 3, 3,  ..., 0, 0, 0],\n",
       "         [3, 3, 3,  ..., 0, 0, 0],\n",
       "         ...,\n",
       "         [3, 3, 3,  ..., 0, 0, 0],\n",
       "         [3, 3, 3,  ..., 0, 0, 0],\n",
       "         [3, 3, 3,  ..., 0, 0, 0]], device='cuda:0'),\n",
       " tensor([[1, 1, 1,  ..., 0, 0, 0],\n",
       "         [1, 1, 1,  ..., 0, 0, 0],\n",
       "         [1, 1, 1,  ..., 0, 0, 0],\n",
       "         ...,\n",
       "         [1, 1, 1,  ..., 0, 0, 0],\n",
       "         [2, 2, 2,  ..., 0, 0, 0],\n",
       "         [1, 2, 1,  ..., 0, 0, 0]], device='cuda:0'),\n",
       " tensor([[ 1,  1, 15,  ...,  0,  0,  0],\n",
       "         [ 2,  2, 80,  ...,  0,  0,  0],\n",
       "         [ 1, 63,  3,  ...,  0,  0,  0],\n",
       "         ...,\n",
       "         [ 6,  6,  6,  ...,  0,  0,  0],\n",
       "         [ 2,  2,  2,  ...,  0,  0,  0],\n",
       "         [20,  2, 17,  ...,  0,  0,  0]], device='cuda:0'),\n",
       " tensor([[1, 1, 1,  ..., 0, 0, 0],\n",
       "         [1, 1, 1,  ..., 0, 0, 0],\n",
       "         [1, 1, 1,  ..., 0, 0, 0],\n",
       "         ...,\n",
       "         [1, 1, 1,  ..., 0, 0, 0],\n",
       "         [1, 1, 1,  ..., 0, 0, 0],\n",
       "         [1, 1, 1,  ..., 0, 0, 0]], device='cuda:0'),\n",
       " tensor([[ 1, 42, 42,  ...,  0,  0,  0],\n",
       "         [ 1,  1,  1,  ...,  0,  0,  0],\n",
       "         [74, 45, 45,  ...,  0,  0,  0],\n",
       "         ...,\n",
       "         [ 1,  1,  1,  ...,  0,  0,  0],\n",
       "         [15, 15, 15,  ...,  0,  0,  0],\n",
       "         [ 1, 75,  2,  ...,  0,  0,  0]], device='cuda:0'),\n",
       " tensor([[ 1,  1,  5,  ...,  0,  0,  0],\n",
       "         [ 2,  2, 21,  ...,  0,  0,  0],\n",
       "         [ 1,  9,  4,  ...,  0,  0,  0],\n",
       "         ...,\n",
       "         [ 3,  3,  3,  ...,  0,  0,  0],\n",
       "         [ 2,  2,  2,  ...,  0,  0,  0],\n",
       "         [11,  2, 15,  ...,  0,  0,  0]], device='cuda:0'),\n",
       " tensor([[2, 6, 6,  ..., 0, 0, 0],\n",
       "         [6, 2, 5,  ..., 0, 0, 0],\n",
       "         [7, 7, 7,  ..., 0, 0, 0],\n",
       "         ...,\n",
       "         [5, 5, 5,  ..., 0, 0, 0],\n",
       "         [5, 1, 1,  ..., 0, 0, 0],\n",
       "         [6, 7, 7,  ..., 0, 0, 0]], device='cuda:0'),\n",
       " tensor([[13, 19, 19,  ...,  0,  0,  0],\n",
       "         [14, 22, 20,  ...,  0,  0,  0],\n",
       "         [ 9, 10, 10,  ...,  0,  0,  0],\n",
       "         ...,\n",
       "         [ 0,  2,  3,  ...,  0,  0,  0],\n",
       "         [14, 16, 16,  ...,  0,  0,  0],\n",
       "         [10, 14, 14,  ...,  0,  0,  0]], device='cuda:0'),\n",
       " tensor([[47, 31, 31,  ...,  0,  0,  0],\n",
       "         [16, 16, 29,  ...,  0,  0,  0],\n",
       "         [44, 44, 44,  ...,  0,  0,  0],\n",
       "         ...,\n",
       "         [21, 21, 21,  ...,  0,  0,  0],\n",
       "         [21, 22, 40,  ...,  0,  0,  0],\n",
       "         [21, 21, 21,  ...,  0,  0,  0]], device='cuda:0'),\n",
       " tensor([[0, 0, 1,  ..., 0, 0, 0],\n",
       "         [8, 7, 7,  ..., 0, 0, 0],\n",
       "         [2, 8, 5,  ..., 0, 0, 0],\n",
       "         ...,\n",
       "         [2, 2, 0,  ..., 0, 0, 0],\n",
       "         [8, 8, 8,  ..., 0, 0, 0],\n",
       "         [1, 8, 3,  ..., 0, 0, 0]], device='cuda:0'),\n",
       " tensor([[14, 13, 13,  ...,  0,  0,  0],\n",
       "         [17, 16, 16,  ...,  0,  0,  0],\n",
       "         [23, 23, 23,  ...,  0,  0,  0],\n",
       "         ...,\n",
       "         [23, 23, 23,  ...,  0,  0,  0],\n",
       "         [23, 21, 20,  ...,  0,  0,  0],\n",
       "         [23, 23, 23,  ...,  0,  0,  0]], device='cuda:0'),\n",
       " tensor([[0, 9, 1,  ..., 0, 0, 0],\n",
       "         [0, 9, 8,  ..., 0, 0, 0],\n",
       "         [0, 2, 1,  ..., 0, 0, 0],\n",
       "         ...,\n",
       "         [0, 3, 2,  ..., 0, 0, 0],\n",
       "         [0, 9, 9,  ..., 0, 0, 0],\n",
       "         [0, 9, 1,  ..., 0, 0, 0]], device='cuda:0')]"
      ]
     },
     "execution_count": 15,
     "metadata": {},
     "output_type": "execute_result"
    }
   ],
   "source": [
    "b['transactions_features']"
   ]
  },
  {
   "cell_type": "code",
   "execution_count": 5,
   "metadata": {},
   "outputs": [],
   "source": [
    "with open('./assets/embedding_projections.pkl', 'rb') as f:\n",
    "    embedding_projections = pickle.load(f)"
   ]
  },
  {
   "cell_type": "code",
   "execution_count": 6,
   "metadata": {},
   "outputs": [],
   "source": [
    "ckpt = torch.load('/datasets/home/andrey/al/romashka/wandb/run-20221101_224414-1hiz5uxa/checkpoints/epoch_9.ckpt')\n",
    "model = TransactionsRnn(transaction_features, embedding_projections)\n",
    "model.load_state_dict(ckpt)\n",
    "model.to(device);"
   ]
  },
  {
   "cell_type": "code",
   "execution_count": 8,
   "metadata": {},
   "outputs": [],
   "source": [
    "ckpt = torch.load('/datasets/home/andrey/al/romashka/wandb/run-20221102_131548-3v39ss2u/checkpoints/epoch_0.ckpt')\n",
    "\n",
    "new_dict = {}\n",
    "for key in ckpt:\n",
    "    new_dict[key[6:]] = ckpt[key]\n",
    "\n",
    "m = TransactionsModel(transaction_features, embedding_projections, head_type='id')\n",
    "m.load_state_dict(new_dict)"
   ]
  },
  {
   "cell_type": "code",
   "execution_count": 18,
   "metadata": {},
   "outputs": [
    {
     "name": "stdout",
     "output_type": "stream",
     "text": [
      "USING rel_pos_embs=False\n"
     ]
    }
   ],
   "source": []
  },
  {
   "cell_type": "code",
   "execution_count": null,
   "metadata": {},
   "outputs": [],
   "source": []
  }
 ],
 "metadata": {
  "kernelspec": {
   "display_name": "Python 3",
   "language": "python",
   "name": "python3"
  },
  "language_info": {
   "codemirror_mode": {
    "name": "ipython",
    "version": 3
   },
   "file_extension": ".py",
   "mimetype": "text/x-python",
   "name": "python",
   "nbconvert_exporter": "python",
   "pygments_lexer": "ipython3",
   "version": "3.8.8 (default, Feb 24 2021, 21:46:12) \n[GCC 7.3.0]"
  },
  "vscode": {
   "interpreter": {
    "hash": "83c3bc64cdb2fa57c90e4138bece6a48e4148d75db176957f4eccfc04658c255"
   }
  }
 },
 "nbformat": 4,
 "nbformat_minor": 4
}
