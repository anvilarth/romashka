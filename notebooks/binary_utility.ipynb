{
 "cells": [
  {
   "cell_type": "code",
   "execution_count": 1,
   "id": "8da87289-e8e4-4de5-b1c4-1f278683bc58",
   "metadata": {},
   "outputs": [],
   "source": [
    "%load_ext autoreload\n",
    "%autoreload 2\n",
    "\n",
    "import matplotlib as mpl\n",
    "import seaborn as sns\n",
    "import tqdm\n",
    "import re\n",
    "\n",
    "from matplotlib import pyplot as plt\n",
    "\n",
    "%matplotlib inline\n",
    "\n",
    "sns.set(style='whitegrid')\n",
    "import matplotlib\n",
    "matplotlib.rcParams[\"figure.dpi\"] = 300\n",
    "plt.rcParams['axes.facecolor'] = 'white'\n",
    "plt.rcParams['figure.facecolor'] = 'white'\n",
    "plt.rcParams['savefig.facecolor'] = 'white'\n",
    "plt.rcParams['savefig.facecolor'] = 'white'"
   ]
  },
  {
   "cell_type": "code",
   "execution_count": 2,
   "id": "8d47bd38-baf2-41c4-8b0d-f6a66c4bdf44",
   "metadata": {},
   "outputs": [],
   "source": [
    "import sys \n",
    "sys.path.append('../')"
   ]
  },
  {
   "cell_type": "markdown",
   "id": "1977c59b",
   "metadata": {},
   "source": [
    "#### Imports"
   ]
  },
  {
   "cell_type": "code",
   "execution_count": 3,
   "id": "cca5a27e-3293-40eb-a1c1-587332db18cb",
   "metadata": {
    "tags": []
   },
   "outputs": [],
   "source": [
    "import os\n",
    "import numpy as np\n",
    "import torch\n",
    "import torch.nn as nn\n",
    "import wandb\n",
    "\n",
    "import tqdm\n",
    "import pickle\n",
    "import pytorch_lightning as pl\n",
    "import random\n",
    "\n",
    "from torch.utils.data import IterableDataset, DataLoader\n",
    "from pytorch_lightning.loggers import WandbLogger\n",
    "from pytorch_lightning.callbacks import ModelCheckpoint\n",
    "\n",
    "from functools import partial\n",
    "from collections import namedtuple\n",
    "from transformers import AutoModelForSeq2SeqLM, AutoTokenizer"
   ]
  },
  {
   "cell_type": "code",
   "execution_count": 4,
   "id": "0d1654ee",
   "metadata": {},
   "outputs": [],
   "source": [
    "from src.transactions_qa.tqa_model import TransactionQAModel\n",
    "from src.models.components.models import TransactionsModel\n",
    "from src.utils.tools import (make_time_batch, \n",
    "                   calculate_embedding_size)\n",
    "\n",
    "from src.data.alfa.components import ( \n",
    "                             cat_features_names, \n",
    "                             num_features_names, \n",
    "                             meta_features_names)\n",
    "\n",
    "from src.data import AlfaDataModule \n",
    "from src.transactions_qa.tqa_model import TransactionQAModel\n",
    "from src.transactions_qa.utils import get_projections_maps, get_exponent_number, get_mantissa_number\n",
    "from src.tasks import AbstractTask, AutoTask\n",
    "from src.transactions_qa.utils import get_split_indices,  prepare_splitted_batch, collate_batch_dict"
   ]
  },
  {
   "cell_type": "code",
   "execution_count": 5,
   "id": "7024fcfa",
   "metadata": {},
   "outputs": [],
   "source": [
    "from transformers import AutoModelForSeq2SeqLM, AutoTokenizer, AutoConfig"
   ]
  },
  {
   "cell_type": "code",
   "execution_count": 6,
   "id": "91ebf7d9",
   "metadata": {},
   "outputs": [],
   "source": [
    "os.environ['TOKENIZERS_PARALLELISM'] = 'false'"
   ]
  },
  {
   "cell_type": "code",
   "execution_count": 7,
   "id": "780f1a7d",
   "metadata": {},
   "outputs": [],
   "source": [
    "def load_transaction_model(encoder_type='whisper/tiny', head_type='next'):\n",
    "    projections_maps = get_projections_maps(relative_folder=\"..\")\n",
    "    # Loading Transactions model & weights\n",
    "    print(f\"Loading Transactions model...\")\n",
    "\n",
    "    transactions_model_encoder_type = encoder_type\n",
    "    transactions_model_head_type = head_type\n",
    "\n",
    "\n",
    "    transactions_model_config = {\n",
    "        \"cat_features\": cat_features_names,\n",
    "        \"cat_embedding_projections\": projections_maps.get('cat_embedding_projections'),\n",
    "        \"num_features\": num_features_names,\n",
    "        \"num_embedding_projections\": projections_maps.get('num_embedding_projections'),\n",
    "        \"meta_features\": meta_features_names,\n",
    "        \"meta_embedding_projections\": projections_maps.get('meta_embedding_projections'),\n",
    "        \"encoder_type\": transactions_model_encoder_type,\n",
    "        \"head_type\": transactions_model_head_type,\n",
    "        \"embedding_dropout\": 0.1\n",
    "    }\n",
    "    transactions_model = TransactionsModel(**transactions_model_config)\n",
    "\n",
    "    return transactions_model, projections_maps"
   ]
  },
  {
   "cell_type": "code",
   "execution_count": 8,
   "id": "6c32bad2-82bf-454a-901e-c5288226d312",
   "metadata": {},
   "outputs": [],
   "source": [
    "def load_language_model(language_model_name_or_path=\"google/flan-t5-small\"):\n",
    "    use_fast_tokenizer = True\n",
    "\n",
    "    print(f\"Loading Language model: `{language_model_name_or_path}`...\")\n",
    "    config_kwargs = {\n",
    "        \"use_auth_token\": None,\n",
    "        \"return_unused_kwargs\": True\n",
    "    }\n",
    "\n",
    "    tokenizer_kwargs = {\n",
    "        \"use_fast\": use_fast_tokenizer,\n",
    "        \"use_auth_token\": None,\n",
    "        \"do_lowercase\": False\n",
    "    }\n",
    "\n",
    "    config, unused_kwargs = AutoConfig.from_pretrained(\n",
    "        language_model_name_or_path, **config_kwargs\n",
    "    )\n",
    "    # Download vocabulary from huggingface.co and define model-specific arguments\n",
    "    tokenizer = AutoTokenizer.from_pretrained(language_model_name_or_path, **tokenizer_kwargs)\n",
    "\n",
    "    # Download model from huggingface.co and cache.\n",
    "    lm_model = AutoModelForSeq2SeqLM.from_pretrained(\n",
    "        language_model_name_or_path,\n",
    "        config=config\n",
    "    )\n",
    "    return lm_model, tokenizer"
   ]
  },
  {
   "cell_type": "code",
   "execution_count": 9,
   "id": "1e61bc73",
   "metadata": {},
   "outputs": [],
   "source": [
    "def load_datamodule():\n",
    "    DATA_PATH = '/home/jovyan/romashka/data' \n",
    "    dataset_config = {\n",
    "                'data_dir': DATA_PATH,\n",
    "                'batch_size': 32,\n",
    "                'min_seq_len': 0,\n",
    "                'max_seq_len': 250,\n",
    "                'shuffle': True,\n",
    "                'num_workers': 5,\n",
    "                'pin_memory': True,\n",
    "                'seed': 42\n",
    "    }    \n",
    "\n",
    "    dm = AlfaDataModule(**dataset_config)\n",
    "    return dm"
   ]
  },
  {
   "cell_type": "code",
   "execution_count": 10,
   "id": "35580e84",
   "metadata": {},
   "outputs": [],
   "source": [
    "def load_tasks(task_names, tokenizer):\n",
    "    # Create tasks\n",
    "    tasks = []\n",
    "    tasks_kwargs = [{\"num_options\": 6, \"floating_threshold\": True, 'answer2text': False, 'use_numerical_output': False}, \n",
    "    {\"num_options\": 6, \"floating_threshold\": False, 'use_numerical_output': False}] # ground truth + 5 additional options\n",
    "    if isinstance(task_names, str):\n",
    "        task_names = eval(task_names)\n",
    "    if isinstance(tasks_kwargs, str):\n",
    "        tasks_kwargs = eval(tasks_kwargs)\n",
    "    print(f\"Got task_names: {task_names} with task_kwargs: {tasks_kwargs}\")\n",
    "\n",
    "    for task_i, task_name in enumerate(task_names):\n",
    "        task_kwargs = tasks_kwargs[task_i] if task_i < len(tasks_kwargs) else {}\n",
    "        if \"tokenizer\" not in task_kwargs:\n",
    "            task_kwargs['tokenizer'] = tokenizer\n",
    "        task = AutoTask.get(task_name=task_name, **task_kwargs)\n",
    "        tasks.append(task)\n",
    "    print(f\"Created {len(tasks)} tasks.\")\n",
    "    return tasks"
   ]
  },
  {
   "cell_type": "code",
   "execution_count": 11,
   "id": "83d834e2",
   "metadata": {},
   "outputs": [],
   "source": [
    "def make_tqa_model(lm_model, transactions_model, tokenizer, tasks):\n",
    "    # Create general Tranactions QA model\n",
    "    max_steps = 100_000\n",
    "    warmup_steps = 1000\n",
    "    do_freeze_transactions_model = True\n",
    "    do_freeze_language_model = True\n",
    "    do_freeze_connector = False\n",
    "\n",
    "    transactionsQA_model_config = {\n",
    "        \"warmup_steps\": warmup_steps,\n",
    "        \"training_steps\": max_steps,\n",
    "        \"do_freeze_tm\": do_freeze_transactions_model,\n",
    "        \"do_freeze_lm\": do_freeze_language_model,\n",
    "        \"do_freeze_connector\": do_freeze_connector,\n",
    "        \"connector_input_size\": 384,\n",
    "        \"use_numerical_input\": False,\n",
    "        \"use_numerical_output\": False,\n",
    "        \"numerical_context\": \"context\",\n",
    "    }\n",
    "\n",
    "    model = TransactionQAModel(\n",
    "        language_model=lm_model,\n",
    "        transaction_model=transactions_model,\n",
    "        tokenizer=tokenizer,\n",
    "        tasks=tasks,\n",
    "        **transactionsQA_model_config\n",
    "    )\n",
    "    return model"
   ]
  },
  {
   "cell_type": "code",
   "execution_count": 41,
   "id": "f61b93c0",
   "metadata": {},
   "outputs": [
    {
     "name": "stdout",
     "output_type": "stream",
     "text": [
      "Loading Language model: `google/flan-t5-small`...\n",
      "Loading Transactions model...\n"
     ]
    },
    {
     "name": "stderr",
     "output_type": "stream",
     "text": [
      "2023-06-25 23:38:13,980 - [INFO] - Tasks - (task_abstract.py).generate_question_templates(206) - Given 5 starting options and 1 ending options results in 5 total combinations.\n",
      "2023-06-25 23:38:13,982 - [INFO] - Tasks - (task_abstract.py).extend_vocabulary(173) - Added to tokenizer: 2 tokens.\n",
      "2023-06-25 23:38:13,983 - [INFO] - Tasks - (task_abstract.py).extend_vocabulary(179) - Notice: resize_token_embeddings of a model to adapt to the size of the new vocabulary!\n",
      "2023-06-25 23:38:13,986 - [INFO] - Tasks - (task_abstract.py).generate_question_templates(206) - Given 5 starting options and 1 ending options results in 5 total combinations.\n",
      "2023-06-25 23:38:13,987 - [INFO] - Tasks - (task_abstract.py).extend_vocabulary(173) - Added to tokenizer: 0 tokens.\n",
      "2023-06-25 23:38:13,988 - [INFO] - Tasks - (task_abstract.py).extend_vocabulary(179) - Notice: resize_token_embeddings of a model to adapt to the size of the new vocabulary!\n",
      "2023-06-25 23:38:13,989 - [INFO] - Tasks - (task_abstract.py).generate_question_templates(206) - Given 5 starting options and 5 ending options results in 25 total combinations.\n",
      "2023-06-25 23:38:14,010 - [INFO] - TransactionQAModel - (tqa_model.py).__init__(113) - Setuping metrics.\n",
      "2023-06-25 23:38:14,010 - [INFO] - TransactionQAModel - (tqa_model.py).__init__(113) - Setuping metrics.\n",
      "2023-06-25 23:38:14,010 - [INFO] - TransactionQAModel - (tqa_model.py).__init__(113) - Setuping metrics.\n",
      "2023-06-25 23:38:14,015 - [INFO] - TransactionQAModel - (tqa_model.py)._prepare_model(206) - Running in `single task` settingwith a single task: next_amnt_open_ended provided.\n",
      "2023-06-25 23:38:14,015 - [INFO] - TransactionQAModel - (tqa_model.py)._prepare_model(206) - Running in `single task` settingwith a single task: next_amnt_open_ended provided.\n",
      "2023-06-25 23:38:14,015 - [INFO] - TransactionQAModel - (tqa_model.py)._prepare_model(206) - Running in `single task` settingwith a single task: next_amnt_open_ended provided.\n",
      "2023-06-25 23:38:14,017 - [INFO] - TransactionQAModel - (tqa_model.py)._set_model_type(241) - Language model type: `encoder-decoder`\n",
      "2023-06-25 23:38:14,017 - [INFO] - TransactionQAModel - (tqa_model.py)._set_model_type(241) - Language model type: `encoder-decoder`\n",
      "2023-06-25 23:38:14,017 - [INFO] - TransactionQAModel - (tqa_model.py)._set_model_type(241) - Language model type: `encoder-decoder`\n",
      "2023-06-25 23:38:14,019 - [INFO] - TransactionQAModel - (tqa_model.py)._resize_text_embeddings(251) - LM initial `num_embeddings`: 32128, `embedding_dim`: 512\n",
      "2023-06-25 23:38:14,019 - [INFO] - TransactionQAModel - (tqa_model.py)._resize_text_embeddings(251) - LM initial `num_embeddings`: 32128, `embedding_dim`: 512\n",
      "2023-06-25 23:38:14,019 - [INFO] - TransactionQAModel - (tqa_model.py)._resize_text_embeddings(251) - LM initial `num_embeddings`: 32128, `embedding_dim`: 512\n"
     ]
    },
    {
     "name": "stdout",
     "output_type": "stream",
     "text": [
      "USING whisper\n",
      "Got task_names: ['next_amnt_open_ended'] with task_kwargs: [{'num_options': 6, 'floating_threshold': True, 'answer2text': False, 'use_numerical_output': False}, {'num_options': 6, 'floating_threshold': False, 'use_numerical_output': False}]\n",
      "Created 1 tasks.\n",
      "Got task_names: ['next_amnt_binary'] with task_kwargs: [{'num_options': 6, 'floating_threshold': True, 'answer2text': False, 'use_numerical_output': False}, {'num_options': 6, 'floating_threshold': False, 'use_numerical_output': False}]\n",
      "Created 1 tasks.\n",
      "Output dimension of embedding model: 384\n",
      "Input dimension of autoregressive model: 512\n",
      "Creating linear connector from 384 to 512 and move to device: cpu.\n",
      "ModuleDict(\n",
      "  (next_amnt_open_ended): ModuleDict(\n",
      "    (mae): MeanAbsoluteError()\n",
      "    (mape): MeanAbsolutePercentageError()\n",
      "    (rouge): ROUGEScore()\n",
      "  )\n",
      ")\n"
     ]
    },
    {
     "name": "stderr",
     "output_type": "stream",
     "text": [
      "2023-06-25 23:38:14,252 - [INFO] - TransactionQAModel - (tqa_model.py)._resize_text_embeddings(263) - LM resized `num_embeddings`: 32102, `embedding_dim`: 512\n",
      "2023-06-25 23:38:14,252 - [INFO] - TransactionQAModel - (tqa_model.py)._resize_text_embeddings(263) - LM resized `num_embeddings`: 32102, `embedding_dim`: 512\n",
      "2023-06-25 23:38:14,252 - [INFO] - TransactionQAModel - (tqa_model.py)._resize_text_embeddings(263) - LM resized `num_embeddings`: 32102, `embedding_dim`: 512\n",
      "2023-06-25 23:38:14,257 - [INFO] - TransactionQAModel - (tqa_model.py)._prepare_model(217) - Freezing transaction model's parameters...\n",
      "2023-06-25 23:38:14,257 - [INFO] - TransactionQAModel - (tqa_model.py)._prepare_model(217) - Freezing transaction model's parameters...\n",
      "2023-06-25 23:38:14,257 - [INFO] - TransactionQAModel - (tqa_model.py)._prepare_model(217) - Freezing transaction model's parameters...\n",
      "2023-06-25 23:38:14,261 - [INFO] - TransactionQAModel - (tqa_model.py)._prepare_model(222) - Freezing language model's parameters...\n",
      "2023-06-25 23:38:14,261 - [INFO] - TransactionQAModel - (tqa_model.py)._prepare_model(222) - Freezing language model's parameters...\n",
      "2023-06-25 23:38:14,261 - [INFO] - TransactionQAModel - (tqa_model.py)._prepare_model(222) - Freezing language model's parameters...\n",
      "2023-06-25 23:38:14,321 - [INFO] - TransactionQAModel - (tqa_model.py).__init__(113) - Setuping metrics.\n",
      "2023-06-25 23:38:14,321 - [INFO] - TransactionQAModel - (tqa_model.py).__init__(113) - Setuping metrics.\n",
      "2023-06-25 23:38:14,321 - [INFO] - TransactionQAModel - (tqa_model.py).__init__(113) - Setuping metrics.\n",
      "2023-06-25 23:38:14,321 - [INFO] - TransactionQAModel - (tqa_model.py).__init__(113) - Setuping metrics.\n",
      "2023-06-25 23:38:14,326 - [INFO] - TransactionQAModel - (tqa_model.py)._prepare_model(206) - Running in `single task` settingwith a single task: next_amnt_binary provided.\n",
      "2023-06-25 23:38:14,326 - [INFO] - TransactionQAModel - (tqa_model.py)._prepare_model(206) - Running in `single task` settingwith a single task: next_amnt_binary provided.\n",
      "2023-06-25 23:38:14,326 - [INFO] - TransactionQAModel - (tqa_model.py)._prepare_model(206) - Running in `single task` settingwith a single task: next_amnt_binary provided.\n",
      "2023-06-25 23:38:14,326 - [INFO] - TransactionQAModel - (tqa_model.py)._prepare_model(206) - Running in `single task` settingwith a single task: next_amnt_binary provided.\n",
      "2023-06-25 23:38:14,329 - [INFO] - TransactionQAModel - (tqa_model.py)._set_model_type(241) - Language model type: `encoder-decoder`\n",
      "2023-06-25 23:38:14,329 - [INFO] - TransactionQAModel - (tqa_model.py)._set_model_type(241) - Language model type: `encoder-decoder`\n",
      "2023-06-25 23:38:14,329 - [INFO] - TransactionQAModel - (tqa_model.py)._set_model_type(241) - Language model type: `encoder-decoder`\n",
      "2023-06-25 23:38:14,329 - [INFO] - TransactionQAModel - (tqa_model.py)._set_model_type(241) - Language model type: `encoder-decoder`\n",
      "2023-06-25 23:38:14,333 - [INFO] - TransactionQAModel - (tqa_model.py)._resize_text_embeddings(251) - LM initial `num_embeddings`: 32102, `embedding_dim`: 512\n",
      "2023-06-25 23:38:14,333 - [INFO] - TransactionQAModel - (tqa_model.py)._resize_text_embeddings(251) - LM initial `num_embeddings`: 32102, `embedding_dim`: 512\n",
      "2023-06-25 23:38:14,333 - [INFO] - TransactionQAModel - (tqa_model.py)._resize_text_embeddings(251) - LM initial `num_embeddings`: 32102, `embedding_dim`: 512\n",
      "2023-06-25 23:38:14,333 - [INFO] - TransactionQAModel - (tqa_model.py)._resize_text_embeddings(251) - LM initial `num_embeddings`: 32102, `embedding_dim`: 512\n",
      "2023-06-25 23:38:14,336 - [INFO] - TransactionQAModel - (tqa_model.py)._resize_text_embeddings(263) - LM resized `num_embeddings`: 32102, `embedding_dim`: 512\n",
      "2023-06-25 23:38:14,336 - [INFO] - TransactionQAModel - (tqa_model.py)._resize_text_embeddings(263) - LM resized `num_embeddings`: 32102, `embedding_dim`: 512\n",
      "2023-06-25 23:38:14,336 - [INFO] - TransactionQAModel - (tqa_model.py)._resize_text_embeddings(263) - LM resized `num_embeddings`: 32102, `embedding_dim`: 512\n",
      "2023-06-25 23:38:14,336 - [INFO] - TransactionQAModel - (tqa_model.py)._resize_text_embeddings(263) - LM resized `num_embeddings`: 32102, `embedding_dim`: 512\n",
      "2023-06-25 23:38:14,338 - [INFO] - TransactionQAModel - (tqa_model.py)._prepare_model(217) - Freezing transaction model's parameters...\n",
      "2023-06-25 23:38:14,338 - [INFO] - TransactionQAModel - (tqa_model.py)._prepare_model(217) - Freezing transaction model's parameters...\n",
      "2023-06-25 23:38:14,338 - [INFO] - TransactionQAModel - (tqa_model.py)._prepare_model(217) - Freezing transaction model's parameters...\n",
      "2023-06-25 23:38:14,338 - [INFO] - TransactionQAModel - (tqa_model.py)._prepare_model(217) - Freezing transaction model's parameters...\n",
      "2023-06-25 23:38:14,340 - [INFO] - TransactionQAModel - (tqa_model.py)._prepare_model(222) - Freezing language model's parameters...\n",
      "2023-06-25 23:38:14,340 - [INFO] - TransactionQAModel - (tqa_model.py)._prepare_model(222) - Freezing language model's parameters...\n",
      "2023-06-25 23:38:14,340 - [INFO] - TransactionQAModel - (tqa_model.py)._prepare_model(222) - Freezing language model's parameters...\n",
      "2023-06-25 23:38:14,340 - [INFO] - TransactionQAModel - (tqa_model.py)._prepare_model(222) - Freezing language model's parameters...\n"
     ]
    },
    {
     "name": "stdout",
     "output_type": "stream",
     "text": [
      "Output dimension of embedding model: 384\n",
      "Input dimension of autoregressive model: 512\n",
      "Creating linear connector from 384 to 512 and move to device: cpu.\n",
      "ModuleDict(\n",
      "  (next_amnt_binary): ModuleDict(\n",
      "    (auc): BinaryAUROC()\n",
      "    (accuracy): BinaryAccuracy()\n",
      "  )\n",
      ")\n"
     ]
    }
   ],
   "source": [
    "# task_names = ['next_transactions_30_days_binary', 'default', 'next_mcc_binary', 'next_mcc_open_ended']\n",
    "open_ended_task_names = ['next_amnt_open_ended']\n",
    "binary_task_names = ['next_amnt_binary']\n",
    "\n",
    "LM_NAME = 'google/flan-t5-small'\n",
    "\n",
    "lm_model, tokenizer = load_language_model(language_model_name_or_path=LM_NAME)\n",
    "transactions_model, projections_maps = load_transaction_model()\n",
    "\n",
    "open_end_tasks = load_tasks(open_ended_task_names, tokenizer)\n",
    "binary_tasks = load_tasks(binary_task_names, tokenizer)\n",
    "dm = load_datamodule()\n",
    "\n",
    "open_ended_model = make_tqa_model(lm_model, transactions_model, tokenizer, open_end_tasks)\n",
    "binary_model = make_tqa_model(lm_model, transactions_model, tokenizer, binary_tasks)"
   ]
  },
  {
   "cell_type": "code",
   "execution_count": 48,
   "id": "529923c6",
   "metadata": {},
   "outputs": [
    {
     "data": {
      "text/plain": [
       "<All keys matched successfully>"
      ]
     },
     "execution_count": 48,
     "metadata": {},
     "output_type": "execute_result"
    }
   ],
   "source": [
    "open_ended_ckpt = torch.load('/home/jovyan/romashka/checkpoints/checkpoints/tqa_200k-steps_ft=all_numerical_v59/last.ckpt')['state_dict']\n",
    "binary_ckpt = torch.load('/home/jovyan/romashka/checkpoints/checkpoints/tqa_200k-steps_ft=all_numerical_v58/last.ckpt')['state_dict']\n",
    "\n",
    "open_ended_model.load_state_dict(open_ended_ckpt)\n",
    "# binary_model.load_state_dict(binary_ckpt)\n",
    "\n",
    "# open_ended_model.cuda();\n",
    "# binary_model.cuda();"
   ]
  },
  {
   "cell_type": "markdown",
   "id": "c34e986c",
   "metadata": {},
   "source": [
    "### Numerical Input"
   ]
  },
  {
   "cell_type": "code",
   "execution_count": 43,
   "metadata": {},
   "outputs": [],
   "source": [
    "batch = next(iter(dm.val_dataloader()))"
   ]
  },
  {
   "cell_type": "code",
   "execution_count": 44,
   "metadata": {},
   "outputs": [],
   "source": [
    "import os\n",
    "import contextlib\n",
    "from contextlib import contextmanager\n",
    "\n",
    "import warnings\n",
    "warnings.filterwarnings(\"ignore\", category=DeprecationWarning) "
   ]
  },
  {
   "cell_type": "code",
   "execution_count": 45,
   "metadata": {},
   "outputs": [],
   "source": [
    "# t = tqa_model1.model_step(batch)"
   ]
  },
  {
   "cell_type": "code",
   "execution_count": 46,
   "metadata": {},
   "outputs": [],
   "source": [
    "device = 'cuda:0'"
   ]
  },
  {
   "cell_type": "code",
   "execution_count": 47,
   "metadata": {},
   "outputs": [],
   "source": [
    "@contextmanager\n",
    "def nullcontext(enter_result=None):\n",
    "    yield enter_result\n"
   ]
  },
  {
   "cell_type": "code",
   "execution_count": 38,
   "metadata": {},
   "outputs": [
    {
     "name": "stderr",
     "output_type": "stream",
     "text": [
      "1it [00:01,  1.21s/it]"
     ]
    },
    {
     "name": "stdout",
     "output_type": "stream",
     "text": [
      "Value is not a number: amount25\n",
      "Value is not a number: amount25\n",
      "tensor([125,  25,  25,  25,  25,  25,   0,  25,  25,  25,  25,  25,  25,  25,\n",
      "        125,  25,   0,  25,   0,  25,  25,  25,   1,  25,  25,  25, 125,  25,\n",
      "         25,   0,  25,  25], device='cuda:0')\n",
      "tensor([ 25,  25, 125, 125, 125, 125,  25,  25, 125,  25,  25,  25,  25,  10,\n",
      "        125, 125, 125, 125,   0,  25,  25, 125,  25, 125,  25, 125, 125, 125,\n",
      "        125, 125, 125, 125], device='cuda:0')\n",
      "tensor([ 25,  25,  25, 125,  25, 125, 125,  25, 125, 125, 125, 125,  10, 125,\n",
      "         25, 125,  25,  10, 125,  25,  25, 125,  25,  25, 125, 125,  25,  25,\n",
      "         25,  10,  25,  25], device='cuda:0')\n"
     ]
    },
    {
     "name": "stderr",
     "output_type": "stream",
     "text": [
      "5it [00:01,  4.73it/s]"
     ]
    },
    {
     "name": "stdout",
     "output_type": "stream",
     "text": [
      "tensor([125,  25,  25, 125, 125, 125,  25, 125,  25, 125, 125,  25,  25, 125,\n",
      "         25, 125, 125,  25, 125, 125, 125, 125,  25, 125, 125,   0, 125, 125,\n",
      "        125, 125, 125, 125], device='cuda:0')\n",
      "tensor([125, 125, 125, 125, 125,  25, 125, 125,  25, 125,  25, 125,  25,  25,\n",
      "        125,  10, 125,  25,  25, 125,  25, 125, 125,  25, 125,  25,  25,  25,\n",
      "        125, 125, 125,  25], device='cuda:0')\n",
      "tensor([ 10,  25,  25,  25,  10,  25, 125, 125, 125, 125,   0, 125, 125,  10,\n",
      "         25,  10,  25, 125, 125, 125, 125,  25,  10, 125, 125, 125, 125,  25,\n",
      "         25,  25,  25,  25], device='cuda:0')\n"
     ]
    },
    {
     "name": "stderr",
     "output_type": "stream",
     "text": [
      "9it [00:01,  8.39it/s]"
     ]
    },
    {
     "name": "stdout",
     "output_type": "stream",
     "text": [
      "tensor([ 25,  10, 125, 125,  25, 125, 125,  25,   0,  25, 125, 125, 125,  25,\n",
      "        125, 125,  10, 125,  25,  25, 125,  10,  25, 125, 125, 125, 125, 125,\n",
      "        125, 125, 125, 125], device='cuda:0')\n",
      "tensor([125,  25, 125, 125,  25,  10,  25,  25, 125, 125,  25,  25,  25, 125,\n",
      "         25,  10,  25, 125, 125, 125,  25,  10, 125,  25,  25, 125, 125, 125,\n",
      "         25, 125,  10,  25], device='cuda:0')\n",
      "tensor([125, 125, 125,   0,  25, 125, 125, 125, 125,  10, 125, 125, 125,  25,\n",
      "        125,  25, 125, 125, 125,  25,  25,  25,  25, 125,  10,  25,  25, 125,\n",
      "         25,  25,  25, 125], device='cuda:0')\n"
     ]
    },
    {
     "name": "stderr",
     "output_type": "stream",
     "text": [
      "11it [00:01,  9.70it/s]"
     ]
    },
    {
     "name": "stdout",
     "output_type": "stream",
     "text": [
      "tensor([ 10,  25,  25,  25,  25,  25,  25,  25, 125,  25, 125, 125,  25,  25,\n",
      "         25, 125,   0,  25,  25, 125,  25,  25,   0,  25, 125,  25, 125,  25,\n",
      "        125,  25,  25, 125], device='cuda:0')\n",
      "tensor([ 25,   0, 125,  25, 125, 125,  25, 125,   0,  25,  25, 125, 125, 125,\n",
      "        125,  25,  25, 125, 125,  25, 125,  25, 125, 125, 125,   0, 125,  25,\n",
      "         25, 125, 125,  25], device='cuda:0')\n",
      "tensor([125,  25,   0, 125, 125, 125,  25, 125,  25,  25, 125,  25, 125, 125,\n",
      "          0, 125,  25,  25, 125, 125, 125,  25, 125, 125,  25, 125,   0, 125,\n",
      "        125,  10,  25, 125], device='cuda:0')\n"
     ]
    },
    {
     "name": "stderr",
     "output_type": "stream",
     "text": [
      "15it [00:02, 11.56it/s]"
     ]
    },
    {
     "name": "stdout",
     "output_type": "stream",
     "text": [
      "tensor([ 25, 125, 125,   0, 125, 125, 125, 125, 125, 125, 125, 125,  25,  25,\n",
      "        125,  25, 125, 125,  25, 125,  25, 125,  25, 125,  10, 125,  25, 125,\n",
      "        125,  25, 125, 125], device='cuda:0')\n",
      "tensor([ 25, 125, 125, 125, 125, 125, 125, 125, 125, 125, 125, 125, 125, 125,\n",
      "        125, 125, 125, 125, 125,  25, 125, 125, 125, 125, 125,  10, 125,  25,\n",
      "         25,  25,  25, 125], device='cuda:0')\n",
      "tensor([ 25, 125, 125,  25, 125,  25,  10, 125, 125,  25, 125, 125,  25,  25,\n",
      "        125,  25,  25,  25, 125,  25,  25,  25, 125,   0, 125, 125, 125,  25,\n",
      "        125, 125, 125,  25], device='cuda:0')\n"
     ]
    },
    {
     "name": "stderr",
     "output_type": "stream",
     "text": [
      "17it [00:02, 12.42it/s]"
     ]
    },
    {
     "name": "stdout",
     "output_type": "stream",
     "text": [
      "tensor([ 25,  25,  25, 125, 125, 125, 125, 125, 125, 125,  25, 125, 125, 125,\n",
      "         25, 125, 125,  25,  25, 125,  25,  10,  25, 125, 125, 125,  25, 125,\n",
      "        125,  25, 125,  25], device='cuda:0')\n",
      "tensor([125, 125,  25, 125, 125,  10,  25, 125,  25,  25, 125, 125, 125,  25,\n",
      "        125,  25, 125,  25,  25, 125, 125, 125,  10, 125,  25, 125, 125,  25,\n",
      "        125,  25, 125,  25], device='cuda:0')\n",
      "tensor([ 25,  25,  25, 125,  25, 125, 125,  25, 125, 125,  25,  25, 125, 125,\n",
      "        125, 125, 125, 125, 125,  25, 125, 125, 125, 125,  25,  25, 125, 125,\n",
      "        125, 125,  25, 125], device='cuda:0')\n",
      "tensor([ 25,  25,  25,  25, 125, 125, 125, 125,  25, 125, 125, 125,  10, 125,\n",
      "        125, 125, 125,  25, 125, 125,  10, 125, 125, 125,  10, 125,  25,  25,\n",
      "         25, 125,  25, 125], device='cuda:0')\n"
     ]
    },
    {
     "name": "stderr",
     "output_type": "stream",
     "text": [
      "21it [00:02, 13.01it/s]"
     ]
    },
    {
     "name": "stdout",
     "output_type": "stream",
     "text": [
      "tensor([125,  25, 125, 125, 125, 125,  25, 125, 125, 125, 125, 125, 125, 125,\n",
      "        125, 125,  25,  25, 125,  25,  25, 125,  25,  25, 125, 125, 125, 125,\n",
      "        125, 125,  25,  10], device='cuda:0')\n",
      "tensor([ 25, 125, 125, 125, 125, 125, 125, 125,  25, 125, 125,   0,  10,  25,\n",
      "        125,  10, 125, 125, 125, 125, 125,  25, 125,  25, 125,  25,  25, 125,\n",
      "         25, 125, 125,  10], device='cuda:0')\n",
      "tensor([ 25,  10, 125, 125, 125, 125,   0, 125, 125, 125,  25, 125, 125,  25,\n",
      "        125, 125, 125,  25, 125, 125,  25, 125,  25,  25, 125, 125, 125,  25,\n",
      "         25,  25,  10, 125], device='cuda:0')\n"
     ]
    },
    {
     "name": "stderr",
     "output_type": "stream",
     "text": [
      "25it [00:02, 13.80it/s]"
     ]
    },
    {
     "name": "stdout",
     "output_type": "stream",
     "text": [
      "tensor([ 25,  10, 125, 125,  25, 125, 125,  25, 125, 125,  25,  10, 125,  25,\n",
      "        125, 125, 125, 125, 125, 125, 125, 125,  25, 125,  25, 125, 125, 125,\n",
      "        125, 125,   0,  10], device='cuda:0')\n",
      "tensor([125, 125, 125,  25,   0,  10, 125, 125,  25,  25, 125,  25, 125, 125,\n",
      "        125, 125, 125, 125, 125, 125, 125, 125, 125, 125,  10, 125,   0, 125,\n",
      "        125,  25, 125,  25], device='cuda:0')\n",
      "tensor([125, 125,  25,   0, 125, 125, 125,  25, 125,  25,  10, 125,  10, 125,\n",
      "        125,   0,  25,  25,  25, 125, 125, 125,  25, 125, 125,  25, 125,  25,\n",
      "        125,  25,  25, 125], device='cuda:0')\n",
      "tensor([125,  10, 125, 125,  25,   0, 125, 125,  25,  25,  25, 125, 125,   0,\n",
      "         25,  25, 125, 125, 125, 125, 125,  25,  25, 125,  10,   0,  10,  10,\n",
      "         25, 125,  25,  25], device='cuda:0')\n"
     ]
    },
    {
     "name": "stderr",
     "output_type": "stream",
     "text": [
      "27it [00:03, 14.13it/s]"
     ]
    },
    {
     "name": "stdout",
     "output_type": "stream",
     "text": [
      "tensor([125, 125,  25,  25, 125, 125, 125, 125, 125, 125, 125, 125, 125,  25,\n",
      "        125, 125, 125,  25, 125,  25, 125,  25,  25,  25, 125, 125, 125,  10,\n",
      "        125,  10,  25, 125], device='cuda:0')\n",
      "tensor([125, 125,  25, 125,   0, 125,  10, 125, 125,  25, 125, 125, 125, 125,\n",
      "        125, 125,   0, 125,  25, 125, 125,   0, 125,  25,  25, 125, 125, 125,\n",
      "        125, 125, 125, 125], device='cuda:0')\n",
      "tensor([ 25, 125, 125,  25, 125,  10,  25, 125, 125, 125,  25, 125,  25, 125,\n",
      "          0, 125, 125, 125, 125, 125,  25, 125, 125,  25,  25, 125, 125,  25,\n",
      "        125, 125, 125, 125], device='cuda:0')\n"
     ]
    },
    {
     "name": "stderr",
     "output_type": "stream",
     "text": [
      "31it [00:03, 14.56it/s]"
     ]
    },
    {
     "name": "stdout",
     "output_type": "stream",
     "text": [
      "tensor([  0,  25, 125,  25,  25,  25,  25,  25,  25,   0,  25,  25,  25, 125,\n",
      "         25,   0,  25,  25, 125,  25, 125, 125,  25, 125, 125, 125,  25,  25,\n",
      "        125,  25, 125, 125], device='cuda:0')\n",
      "tensor([125, 125,  25, 125, 125,  25,  25,  25,  25,  25,  25,  25, 125,  10,\n",
      "        125, 125,  25,  25, 125, 125,  25, 125, 125, 125, 125,  10, 125, 125,\n",
      "          0,  25, 125,  10], device='cuda:0')\n",
      "tensor([125, 125,  25,  25, 125,   0,  25, 125, 125, 125,  10,   0,  25, 125,\n",
      "        125,  25, 125,  25,  25, 125,  25, 125, 125, 125, 125, 125, 125,  25,\n",
      "        125, 125,  10,  10], device='cuda:0')\n",
      "tensor([125, 125, 125,  25,  25, 125, 125, 125,  25, 125, 125, 125,  25, 125,\n",
      "        125, 125, 125, 125,  25,  25, 125,  25, 125,  25, 125, 125, 125, 125,\n",
      "        125,  25,  25,  25], device='cuda:0')\n"
     ]
    },
    {
     "name": "stderr",
     "output_type": "stream",
     "text": [
      "35it [00:03, 14.72it/s]"
     ]
    },
    {
     "name": "stdout",
     "output_type": "stream",
     "text": [
      "tensor([125, 125, 125, 125,  10, 125, 125, 125, 125, 125, 125, 125,   0,  10,\n",
      "         25,  25, 125, 125,  25,  25,  25, 125,  25,  25, 125,  10,  25, 125,\n",
      "        125, 125, 125,  25], device='cuda:0')\n",
      "tensor([ 25, 125,  25, 125,  25,  25, 125, 125, 125, 125, 125, 125,  25, 125,\n",
      "         25,  25,  25, 125, 125,  10, 125,  25, 125, 125,  25,  25, 125, 125,\n",
      "         25, 125,  25, 125], device='cuda:0')\n",
      "tensor([125,  25, 125, 125, 125,  10,  25, 125, 125, 125, 125,  25, 125, 125,\n",
      "         10,  25, 125, 125, 125,  25, 125,  10,  25, 125, 125, 125, 125, 125,\n",
      "        125, 125, 125, 125], device='cuda:0')\n",
      "tensor([125, 125, 125,  25, 125,  25,  10, 125,  25, 125, 125, 125, 125,  25,\n",
      "         10, 125, 125, 125, 125, 125, 125,  25, 125, 125, 125, 125,  25, 125,\n",
      "         25, 125, 125,  10], device='cuda:0')\n"
     ]
    },
    {
     "name": "stderr",
     "output_type": "stream",
     "text": [
      "39it [00:03, 14.87it/s]"
     ]
    },
    {
     "name": "stdout",
     "output_type": "stream",
     "text": [
      "tensor([125,  25, 125, 125, 125,  25, 125,  25,  25, 125,  25, 125, 125,  10,\n",
      "        125,  25, 125,  25,  25, 125, 125,  10,  10,  25,  25,  10, 125, 125,\n",
      "         25, 125, 125,  25], device='cuda:0')\n",
      "tensor([125, 125, 125, 125,  25,  25, 125, 125,  10, 125,   0, 125,  25, 125,\n",
      "        125,  25,  10,  25, 125,  25, 125, 125, 125, 125,   0, 125, 125,  25,\n",
      "          0, 125,  25,  25], device='cuda:0')\n",
      "tensor([125, 125, 125, 125,  10,  25,  25,  25, 125,  25, 125,  25, 125, 125,\n",
      "        125, 125, 125,  25,  25, 125, 125, 125, 125,  25, 125,  25,  25, 125,\n",
      "        125,  25, 125, 125], device='cuda:0')\n",
      "tensor([ 10, 125, 125,  25, 125,  25, 125,  25, 125,  25, 125,  25,  25, 125,\n",
      "         25,   0, 125,  25, 125,  25, 125,  25, 125, 125, 125, 125,  25,  10,\n",
      "        125, 125,  25, 125], device='cuda:0')\n"
     ]
    },
    {
     "name": "stderr",
     "output_type": "stream",
     "text": [
      "43it [00:04, 14.98it/s]"
     ]
    },
    {
     "name": "stdout",
     "output_type": "stream",
     "text": [
      "tensor([ 25, 125,  25, 125, 125, 125,  25, 125, 125,  25, 125, 125, 125,  25,\n",
      "        125, 125,  10,  25,   0, 125,  25,  25, 125, 125, 125,  25, 125, 125,\n",
      "         25, 125, 125,  25], device='cuda:0')\n",
      "tensor([125,  25, 125,   0, 125, 125, 125, 125, 125, 125, 125,  25, 125, 125,\n",
      "        125, 125, 125, 125,  25, 125, 125, 125,  10,  25,  25,  25,  25,  25,\n",
      "        125, 125, 125, 125], device='cuda:0')\n",
      "tensor([125,  25, 125, 125,  10,  25, 125,  25,  25, 125, 125, 125, 125, 125,\n",
      "        125, 125,  25,  25,  25, 125, 125, 125,  25, 125, 125, 125, 125,  25,\n",
      "        125, 125,  25, 125], device='cuda:0')\n",
      "tensor([ 25, 125,  25,   0, 125, 125, 125,  25, 125, 125,   0,   0, 125,  25,\n",
      "         25,   0,  25, 125,  25, 125,  25,  25,  25, 125,  25, 125, 125,  25,\n",
      "         25,  25, 125,  25], device='cuda:0')\n"
     ]
    },
    {
     "name": "stderr",
     "output_type": "stream",
     "text": [
      "47it [00:04, 15.03it/s]"
     ]
    },
    {
     "name": "stdout",
     "output_type": "stream",
     "text": [
      "tensor([125, 125, 125,  25,  10, 125, 125, 125,  25, 125, 125, 125,  25,  25,\n",
      "        125, 125,  25,   0, 125,  25,  25,  25, 125,  25,  25,  25, 125, 125,\n",
      "        125,  25,  25, 125], device='cuda:0')\n",
      "tensor([ 25, 125,  25, 125, 125, 125,  25,  25,  25,  25, 125,  25, 125, 125,\n",
      "         25,   0,  25, 125,  25, 125, 125, 125, 125, 125,  10, 125, 125, 125,\n",
      "         25,  25, 125, 125], device='cuda:0')\n",
      "tensor([125,  10, 125,  25, 125, 125,  25, 125,  25, 125, 125, 125,  10, 125,\n",
      "        125,  25,  25, 125,  25, 125,  25, 125, 125,   0, 125,   0, 125, 125,\n",
      "        125,   0,  10, 125], device='cuda:0')\n"
     ]
    },
    {
     "name": "stderr",
     "output_type": "stream",
     "text": [
      "51it [00:04, 14.54it/s]"
     ]
    },
    {
     "name": "stdout",
     "output_type": "stream",
     "text": [
      "tensor([ 10,  25, 125,  10,  25,  25, 125, 125, 125, 125,  25,  25, 125,  10,\n",
      "         25,  10, 125,  25,  25,  25,  10, 125,  25,  25,   0, 125, 125, 125,\n",
      "         25, 125,  25,  25], device='cuda:0')\n",
      "tensor([125,  10, 125,  10,  25,  10, 125, 125,  10,  25,  25, 125, 125, 125,\n",
      "         25,  10, 125,  25, 125,  25, 125, 125,   0,  25,  25,  10, 125,  25,\n",
      "        125,  25, 125, 125], device='cuda:0')\n",
      "tensor([ 25, 125,  25, 125,  25, 125, 125, 125, 125,  25,  25, 125, 125, 125,\n",
      "         25,  25, 125,  25,  25, 125,  25, 125,  25, 125,  25,  10,  25, 125,\n",
      "        125, 125, 125, 125], device='cuda:0')\n"
     ]
    },
    {
     "name": "stderr",
     "output_type": "stream",
     "text": [
      "53it [00:04, 14.53it/s]"
     ]
    },
    {
     "name": "stdout",
     "output_type": "stream",
     "text": [
      "tensor([125,  25, 125,  10, 125,  25, 125,   0, 125, 125, 125, 125, 125, 125,\n",
      "        125, 125,  10, 125,  25,  10, 125, 125,  25, 125,  25, 125, 125,  10,\n",
      "        125, 125, 125,  25], device='cuda:0')\n",
      "tensor([125,   0,  10, 125, 125, 125,  25, 125,  25,  25,  25, 125,  25,  25,\n",
      "        125,  25,  10,  10, 125, 125,  10,  25, 125, 125,   0, 125, 125, 125,\n",
      "        125, 125, 125, 125], device='cuda:0')\n",
      "tensor([ 25,  25, 125, 125,  25,  10, 125,  25, 125, 125, 125, 125,  25,  25,\n",
      "        125, 125, 125, 125, 125, 125,   0, 125,  25, 125, 125,  25, 125,  25,\n",
      "         25,  25, 125, 125], device='cuda:0')\n"
     ]
    },
    {
     "name": "stderr",
     "output_type": "stream",
     "text": [
      "57it [00:05, 14.58it/s]"
     ]
    },
    {
     "name": "stdout",
     "output_type": "stream",
     "text": [
      "tensor([125, 125, 125,  25, 125,  10, 125,  25, 125, 125, 125,  25,  10, 125,\n",
      "        125,  25,  25,  25,  25,  25,  25,  25,  25,  25, 125,  25,  25, 125,\n",
      "          0,  25, 125,  25], device='cuda:0')\n",
      "tensor([  0, 125,  25, 125,  25, 125, 125, 125,  10,  25, 125, 125, 125,  25,\n",
      "         10, 125, 125, 125, 125,  25,  25,  10,  10, 125, 125, 125,  25,  25,\n",
      "        125,  10, 125, 125], device='cuda:0')\n",
      "tensor([ 25,  25,  25,   0, 125,   0,  25,  25,  25,   0,  25,  25,  25,  25,\n",
      "         25,   0, 125, 125,  10, 125, 125,  25,  25,  25,  25, 125,  25,  25,\n",
      "         25,  25,  25,  25], device='cuda:0')\n"
     ]
    },
    {
     "name": "stderr",
     "output_type": "stream",
     "text": [
      "59it [00:05, 14.44it/s]"
     ]
    },
    {
     "name": "stdout",
     "output_type": "stream",
     "text": [
      "tensor([ 25, 125,  25,  25, 125, 125, 125, 125, 125,  25, 125,  25, 125, 125,\n",
      "        125, 125,  25,  25, 125, 125, 125,  10, 125, 125, 125, 125, 125, 125,\n",
      "        125, 125, 125, 125], device='cuda:0')\n",
      "tensor([ 25, 125, 125,  25, 125, 125, 125, 125, 125,  10,  25, 125, 125,  25,\n",
      "        125,  25, 125,  10,  25, 125,  25,  25,  25,  25, 125,  25, 125,  25,\n",
      "        125, 125, 125,  25], device='cuda:0')\n",
      "tensor([125,  10, 125,  25, 125, 125, 125,  25,  25,  10, 125,  25,  25, 125,\n",
      "        125, 125,  25, 125,  25,  25,  25, 125, 125,  25,  25, 125,  25,   0,\n",
      "        125,  25,  25,  25], device='cuda:0')\n"
     ]
    },
    {
     "name": "stderr",
     "output_type": "stream",
     "text": [
      "63it [00:05, 14.43it/s]"
     ]
    },
    {
     "name": "stdout",
     "output_type": "stream",
     "text": [
      "tensor([ 25, 125, 125,  25, 125, 125, 125,  25,  25, 125,  25, 125, 125, 125,\n",
      "        125,  25, 125, 125, 125,  25, 125, 125,  25, 125, 125,  25,  25, 125,\n",
      "        125,  25,  10, 125], device='cuda:0')\n",
      "tensor([ 25, 125,  25, 125, 125, 125, 125, 125, 125,  25,  25,  25, 125, 125,\n",
      "        125,  25, 125, 125, 125,  25,  25,  25,  10,  25, 125, 125, 125, 125,\n",
      "        125, 125, 125, 125], device='cuda:0')\n",
      "tensor([125, 125,  25,  25,  10, 125, 125,  25, 125,  25, 125, 125, 125, 125,\n",
      "        125, 125,  25, 125,  25,  25, 125,  25, 125, 125,  25, 125, 125, 125,\n",
      "         10,  25, 125,  25], device='cuda:0')\n"
     ]
    },
    {
     "name": "stderr",
     "output_type": "stream",
     "text": [
      "65it [00:05, 14.45it/s]"
     ]
    },
    {
     "name": "stdout",
     "output_type": "stream",
     "text": [
      "tensor([125, 125, 125, 125, 125, 125, 125,  25,  25, 125, 125, 125, 125, 125,\n",
      "        125, 125, 125, 125,  25, 125, 125, 125,  25, 125, 125, 125, 125,  25,\n",
      "        125,  25,  25, 125], device='cuda:0')\n",
      "tensor([125,   0,  25, 125,  25, 125,  25, 125, 125,  25,  25,  25, 125,  25,\n",
      "        125, 125,  25, 125,  25, 125,  25,  25, 125, 125,  25, 125, 125, 125,\n",
      "         25,  25, 125, 125], device='cuda:0')\n",
      "tensor([125,  25,  25,  25,   0,  25,  25,  25,  25,  25, 125,  25, 125,   0,\n",
      "        125, 125,  25,  25,  25, 125, 125, 125, 125,  25,  25,  25,  25,  25,\n",
      "         25,  25,  25,  25], device='cuda:0')\n",
      "tensor([  0,  25, 125, 125,  25, 125, 125, 125, 125, 125,  25,  25, 125,  25,\n",
      "         10, 125,   0,  25, 125, 125, 125,  10, 125,  25,  10, 125, 125,  10,\n",
      "          0, 125,  10, 125], device='cuda:0')\n"
     ]
    },
    {
     "name": "stderr",
     "output_type": "stream",
     "text": [
      "69it [00:05, 14.63it/s]"
     ]
    },
    {
     "name": "stdout",
     "output_type": "stream",
     "text": [
      "tensor([ 25,  10, 125, 125, 125,  25,  25,  25, 125, 125, 125,  25,  25, 125,\n",
      "        125, 125,  10, 125, 125, 125, 125,  25, 125, 125, 125, 125,  25,  25,\n",
      "         25, 125,  10,  25], device='cuda:0')\n",
      "tensor([ 25,  25,  25,  10, 125,  10,  25, 125,  25, 125,  25,  25, 125,  25,\n",
      "        125,  25,   0,  25, 125,  25, 125, 125, 125,  25,  25,  25,  25, 125,\n",
      "        125,  25,  25,  25], device='cuda:0')\n",
      "tensor([ 25, 125, 125,  10,  25, 125, 125, 125,  25, 125,  10,  25,  25, 125,\n",
      "        125, 125, 125, 125,  25,  25,  25, 125, 125, 125,  10, 125, 125, 125,\n",
      "          0,  25,  25, 125], device='cuda:0')\n"
     ]
    },
    {
     "name": "stderr",
     "output_type": "stream",
     "text": [
      "73it [00:06, 14.26it/s]"
     ]
    },
    {
     "name": "stdout",
     "output_type": "stream",
     "text": [
      "tensor([125, 125, 125,  10, 125,  25, 125,  25,  25,  25, 125, 125,  10,  25,\n",
      "        125, 125,  25, 125, 125, 125, 125, 125, 125, 125, 125, 125, 125, 125,\n",
      "        125, 125, 125,  10], device='cuda:0')\n",
      "tensor([ 25, 125, 125, 125,  25, 125, 125,  25, 125, 125, 125,  25,  25, 125,\n",
      "        125, 125,   0,  10, 125,  25,  25,  25, 125, 125, 125,   0,  25, 125,\n",
      "         10, 125,  25,  25], device='cuda:0')\n",
      "tensor([125,  25,  25,  10,  25,  25,  25,  25,  25,  25, 125,  25,  25,  25,\n",
      "        125,  25, 125,  25,  25,  10,  25,  25, 125,  25,   0,  25,  25, 125,\n",
      "         25,  25,  25, 125], device='cuda:0')\n"
     ]
    },
    {
     "name": "stderr",
     "output_type": "stream",
     "text": [
      "75it [00:06, 14.30it/s]"
     ]
    },
    {
     "name": "stdout",
     "output_type": "stream",
     "text": [
      "tensor([125, 125, 125,  25, 125,  25, 125,  25, 125,   0, 125,  25, 125, 125,\n",
      "        125, 125,  25, 125, 125, 125, 125, 125, 125,  25, 125, 125, 125, 125,\n",
      "         25, 125, 125,  25], device='cuda:0')\n",
      "tensor([ 25, 125, 125, 125,   0, 125,  10, 125,  25, 125, 125,   0,  25,  25,\n",
      "        125,  25,  25,  25, 125, 125, 125, 125, 125, 125,  10,  25,  25,  25,\n",
      "          0,  25,  25,  25], device='cuda:0')\n",
      "tensor([  0, 125, 125,  25, 125, 125, 125, 125, 125,  25,  25,  25, 125, 125,\n",
      "         25,   0,  25, 125, 125,  25, 125, 125,  25,  25, 125,  25, 125, 125,\n",
      "        125, 125,  25,  25], device='cuda:0')\n"
     ]
    },
    {
     "name": "stderr",
     "output_type": "stream",
     "text": [
      "79it [00:06, 14.49it/s]"
     ]
    },
    {
     "name": "stdout",
     "output_type": "stream",
     "text": [
      "tensor([125,  25, 125, 125, 125, 125, 125,  25, 125, 125, 125, 125, 125,  25,\n",
      "        125, 125, 125, 125, 125, 125, 125,  25,  25, 125, 125, 125,  10, 125,\n",
      "         25,  25, 125,  25], device='cuda:0')\n",
      "tensor([  0,  25,  25,  25,  25,  25,  25, 125, 125,  25,  25,  25,  25,  25,\n",
      "        125, 125, 125,  25,  25,  25,  25,  25,   0,  25,  25,  25, 125, 125,\n",
      "         25,  25,  25,  25], device='cuda:0')\n",
      "tensor([125, 125, 125,  25, 125, 125, 125, 125, 125, 125, 125, 125, 125, 125,\n",
      "         25, 125, 125, 125, 125, 125, 125, 125, 125, 125,   0, 125, 125, 125,\n",
      "         10, 125, 125,  25], device='cuda:0')\n"
     ]
    },
    {
     "name": "stderr",
     "output_type": "stream",
     "text": [
      "81it [00:06, 14.42it/s]"
     ]
    },
    {
     "name": "stdout",
     "output_type": "stream",
     "text": [
      "tensor([ 10, 125,  25,  25, 125,  25, 125, 125, 125,  25,  25,  25,  25,  25,\n",
      "        125,  25, 125, 125,  25,   0,  25, 125,  25, 125,  25,  25,   0,  25,\n",
      "         25,  25,  25,  25], device='cuda:0')\n",
      "tensor([125, 125,  25,  25, 125, 125, 125,  25,  25, 125,  25, 125, 125,  25,\n",
      "        125,  25, 125,  25, 125,  25,  10, 125,  25,  25,  25,  25,  25, 125,\n",
      "        125, 125,  25, 125], device='cuda:0')\n",
      "tensor([125, 125, 125,  25, 125, 125,  25,  25,  10, 125, 125, 125,  25, 125,\n",
      "         10,  25,  25,  25, 125,  25, 125,   0,  25, 125, 125,  10,  10, 125,\n",
      "        125, 125, 125, 125], device='cuda:0')\n"
     ]
    },
    {
     "name": "stderr",
     "output_type": "stream",
     "text": [
      "85it [00:06, 14.36it/s]"
     ]
    },
    {
     "name": "stdout",
     "output_type": "stream",
     "text": [
      "tensor([ 10, 125,  25,  25, 125,  25, 125, 125, 125, 125, 125,  10,  25, 125,\n",
      "         25, 125, 125, 125, 125, 125,  25,  25, 125,  25, 125,  25,  10,  25,\n",
      "        125, 125, 125,  25], device='cuda:0')\n",
      "tensor([125,  10, 125, 125,  25, 125, 125, 125,  25, 125,  25,  10,   0,  25,\n",
      "         25, 125,  10,  25, 125,  10,  25, 125, 125,  25, 125,  25,  25, 125,\n",
      "         25,  25,  25, 125], device='cuda:0')\n",
      "tensor([ 25, 125,  25, 125,  25,   0,  25,  25,  25,  25,  25,  25, 125, 125,\n",
      "         25,  25,  25,  25,  25,  25,  25,  25,  25,  25,  25,  25,  25,  25,\n",
      "         25,   0, 125,  25], device='cuda:0')\n"
     ]
    },
    {
     "name": "stderr",
     "output_type": "stream",
     "text": [
      "87it [00:07, 14.46it/s]"
     ]
    },
    {
     "name": "stdout",
     "output_type": "stream",
     "text": [
      "tensor([ 25, 125, 125, 125,  25, 125,  25, 125,  10, 125, 125, 125, 125, 125,\n",
      "        125,   0, 125, 125, 125,  25,  25, 125,  25, 125, 125, 125,  25,  10,\n",
      "        125, 125, 125,  25], device='cuda:0')\n",
      "tensor([125, 125, 125,  25, 125, 125, 125,  25,  10,  25,  10,   0,  25, 125,\n",
      "        125, 125,  25,  10, 125,  25,  25, 125,  25, 125, 125, 125,   0, 125,\n",
      "         25, 125, 125, 125], device='cuda:0')\n",
      "tensor([125, 125, 125,  25, 125,  25, 125,  25,  25, 125,  25,  25, 125,  25,\n",
      "        125, 125, 125,  25, 125,  25, 125, 125, 125, 125,  25, 125, 125,   0,\n",
      "         25, 125, 125, 125], device='cuda:0')\n",
      "tensor([125,  25, 125,   0, 125,  25, 125,  25,  25,  10, 125, 125, 125, 125,\n",
      "        125,  25, 125,  10, 125, 125,  25,  25,  10, 125,  25, 125,  25,  25,\n",
      "        125, 125, 125, 125], device='cuda:0')\n"
     ]
    },
    {
     "name": "stderr",
     "output_type": "stream",
     "text": [
      "91it [00:07, 14.71it/s]"
     ]
    },
    {
     "name": "stdout",
     "output_type": "stream",
     "text": [
      "tensor([125, 125,  25,  25,  25,  25,  25, 125,  25, 125,  25, 125, 125,  25,\n",
      "        125,   0, 125, 125, 125,  10, 125, 125, 125,  25, 125, 125, 125, 125,\n",
      "         25,   0,   0, 125], device='cuda:0')\n",
      "tensor([ 25,  10,   0, 125,  25,  10,  25, 125,  10,  25,  25, 125,   0, 125,\n",
      "        125,  25, 125,  25,  10, 125, 125,  25, 125,  25, 125, 125,  25, 125,\n",
      "        125, 125,  10,  25], device='cuda:0')\n",
      "tensor([ 25,  25,  10, 125,  25,  10, 125, 125,  25,  25,  25, 125, 125, 125,\n",
      "         25, 125, 125, 125, 125, 125,  25,  25,  25,  25, 125, 125,  25, 125,\n",
      "        125, 125, 125,  10], device='cuda:0')\n",
      "tensor([ 25, 125,  25, 125,   0, 125,  25,  25, 125, 125,  25, 125, 125,  10,\n",
      "         25, 125, 125, 125,  25, 125, 125,  25, 125, 125, 125,  25,  25,  25,\n",
      "        125,  10, 125, 125], device='cuda:0')\n"
     ]
    },
    {
     "name": "stderr",
     "output_type": "stream",
     "text": [
      "95it [00:07, 14.80it/s]"
     ]
    },
    {
     "name": "stdout",
     "output_type": "stream",
     "text": [
      "tensor([125, 125, 125,  25,  25,  25, 125, 125,   0,  25,  25,   0,  25, 125,\n",
      "        125, 125, 125,   0,   0, 125,  25,  25,  25, 125,  25,  25,  25,  25,\n",
      "         25, 125,  25,  25], device='cuda:0')\n",
      "tensor([ 25, 125,  25, 125,  10, 125,  25, 125,  25,  25, 125, 125,  25, 125,\n",
      "        125, 125,  25, 125, 125,  25, 125, 125, 125, 125, 125, 125, 125, 125,\n",
      "         25,  25,  25,  25], device='cuda:0')\n",
      "tensor([125,  25, 125, 125,  25, 125, 125,   0,  25, 125,  25, 125,  10,  25,\n",
      "        125,  25,  25, 125, 125, 125, 125, 125,  25, 125, 125, 125, 125,  25,\n",
      "        125, 125,  25, 125], device='cuda:0')\n",
      "tensor([  0, 125,  25, 125, 125,  25,  25,  25,  25, 125, 125,  25,  25,   0,\n",
      "         25,  25, 125,  25,  25,  25,   0,  25,  25, 125,  25,  25,  25,  10,\n",
      "         25,  25, 125,  25], device='cuda:0')\n"
     ]
    },
    {
     "name": "stderr",
     "output_type": "stream",
     "text": [
      "99it [00:07, 14.71it/s]"
     ]
    },
    {
     "name": "stdout",
     "output_type": "stream",
     "text": [
      "tensor([125, 125, 125, 125,  25,   0, 125,  25, 125, 125,  25, 125, 125,  25,\n",
      "         10, 125,  25, 125, 125,   0, 125, 125, 125,  10,  25, 125, 125, 125,\n",
      "         25,  25,  25,  25], device='cuda:0')\n",
      "tensor([125, 125, 125, 125, 125,  25, 125,  25, 125,  25,  25,  25,  25, 125,\n",
      "        125, 125, 125, 125,  25, 125,  25, 125,   0, 125,  25, 125,  25, 125,\n",
      "        125, 125, 125,  25], device='cuda:0')\n",
      "tensor([ 25,  25,  10,   0,  25,  25,  25,  25,  25,  25,  25, 125,  25, 125,\n",
      "         25,  25,   0,  25,  25,   0,  25,  25, 125, 125,  25,  25,  25,  25,\n",
      "         25, 125,  25, 125], device='cuda:0')\n"
     ]
    },
    {
     "name": "stderr",
     "output_type": "stream",
     "text": [
      "103it [00:08, 14.85it/s]"
     ]
    },
    {
     "name": "stdout",
     "output_type": "stream",
     "text": [
      "tensor([125, 125, 125, 125, 125, 125, 125, 125, 125, 125, 125, 125,  25,  25,\n",
      "        125,  25, 125, 125, 125, 125,  10, 125, 125, 125, 125, 125, 125, 125,\n",
      "        125, 125, 125, 125], device='cuda:0')\n",
      "tensor([  0,  25,  25,  25,  25, 125,  25, 125, 125, 125, 125,  25, 125, 125,\n",
      "         25, 125,  25, 125,  25, 125,  25, 125, 125, 125, 125,  25, 125, 125,\n",
      "         10, 125,  25,  25], device='cuda:0')\n",
      "tensor([ 25, 125,  25, 125, 125,  25,  25,  25,  25,  25, 125,  25, 125,  25,\n",
      "          0,   0,  25,  25,  25,  25, 125, 125,  25, 125,  25,   0,  25,  25,\n",
      "         25, 125, 125,  25], device='cuda:0')\n",
      "tensor([125, 125, 125, 125, 125, 125, 125,  25, 125, 125,   0,  25, 125, 125,\n",
      "         25, 125, 125, 125, 125, 125,  25, 125,  25, 125,  25, 125,  25,  25,\n",
      "        125,  25, 125, 125], device='cuda:0')\n"
     ]
    },
    {
     "name": "stderr",
     "output_type": "stream",
     "text": [
      "107it [00:08, 14.98it/s]"
     ]
    },
    {
     "name": "stdout",
     "output_type": "stream",
     "text": [
      "tensor([ 25, 125,  25,  25,  25, 125, 125,  25, 125,  25,  25, 125,   0,  25,\n",
      "        125, 125,   0,  25,  25,  25, 125, 125,   0, 125, 125, 125, 125, 125,\n",
      "         25, 125, 125,   0], device='cuda:0')\n",
      "Value is not a number: amount25\n",
      "Value is not a number: amount01\n",
      "tensor([ 25,  25,  25,  10,  25,  25,   1,  25,  25,  25,  25,  25,  25,  25,\n",
      "          0,   0,  25,   1,  25,  25,   0, 125,  25,  25, 125,  25,  25, 125,\n",
      "         25,  25,   0,   1], device='cuda:0')\n",
      "tensor([125,  25,  25, 125, 125, 125,  25, 125, 125, 125, 125,  25, 125,  10,\n",
      "         10, 125, 125,  25, 125, 125,  25, 125,  25,  25, 125,  25, 125,  25,\n",
      "         25, 125, 125, 125], device='cuda:0')\n",
      "tensor([125, 125,  25, 125,  25, 125,  25,  25, 125,  10, 125, 125, 125, 125,\n",
      "        125,   0, 125,  25, 125,  10, 125,  25, 125, 125,  25,  25, 125, 125,\n",
      "        125, 125, 125,  25], device='cuda:0')\n"
     ]
    },
    {
     "name": "stderr",
     "output_type": "stream",
     "text": [
      "111it [00:08, 15.03it/s]"
     ]
    },
    {
     "name": "stdout",
     "output_type": "stream",
     "text": [
      "tensor([125, 125,  25,  25, 125,  10,  25, 125, 125, 125,  25, 125,  25,   0,\n",
      "         25,  25,  25, 125,  25,  25, 125,  10, 125, 125, 125, 125,  25,  10,\n",
      "         25, 125, 125,  25], device='cuda:0')\n",
      "tensor([ 25, 125,  25,  25,  25,  25,  25,  25,  25,  25,  25,  25,  25, 125,\n",
      "        125,  25,  25, 125,  25,  25,  25,  25,  25,  25, 125,  25, 125,  25,\n",
      "         25,  25,  25, 125], device='cuda:0')\n",
      "Value is not a number: amount0\n",
      "Value is not a number: amount25\n",
      "tensor([ 25,   0, 125,  25,  25,  25,  25,  25,   1,  25,  10, 125,  25,  25,\n",
      "         25,  25,  25,  25,  25,   0,  25,  25,   0, 101,  25,  25,  25,  25,\n",
      "         25,  25,  25,  25], device='cuda:0')\n",
      "tensor([ 25, 125,  25,  25, 125, 125, 125, 125, 125,  25, 125, 125, 125,  25,\n",
      "        125, 125, 125, 125,  25, 125, 125, 125, 125,  25, 125, 125, 125, 125,\n",
      "         25, 125,  25, 125], device='cuda:0')\n"
     ]
    },
    {
     "name": "stderr",
     "output_type": "stream",
     "text": [
      "115it [00:09, 14.87it/s]"
     ]
    },
    {
     "name": "stdout",
     "output_type": "stream",
     "text": [
      "tensor([125,  25, 125, 125,  25, 125, 125, 125,  25,  25, 125,  25, 125, 125,\n",
      "         10, 125,  25,  25, 125,  25,  10,  25, 125, 125,  25, 125, 125, 125,\n",
      "         25, 125,  25, 125], device='cuda:0')\n",
      "tensor([125,  25, 125,  25, 125, 125,  25,  25, 125,  25, 125,  10, 125,  25,\n",
      "        125, 125,  25, 125, 125, 125,  10, 125, 125,  25,  25, 125, 125, 125,\n",
      "        125, 125, 125,  25], device='cuda:0')\n",
      "Value is not a number: amount25\n",
      "tensor([ 25,   0, 125,   0,   1,  25,  25,  25,  25,  25,  25,  25,  25,  25,\n",
      "          0,  25,  25,  25,  25, 125,  25, 125,  25,  25,  25,  25,  25,  25,\n",
      "         25,   1,   0,  25], device='cuda:0')\n",
      "Value is not a number: amount25\n",
      "Value is not a number: amount25\n",
      "Value is not a number: amount25\n",
      "Value is not a number: amount25\n",
      "Value is not a number: amount0\n",
      "Value is not a number: amount25\n"
     ]
    },
    {
     "name": "stderr",
     "output_type": "stream",
     "text": [
      "117it [00:09, 14.76it/s]"
     ]
    },
    {
     "name": "stdout",
     "output_type": "stream",
     "text": [
      "tensor([  0,  25,  25,  25,  25,  25,   0,  25,  25, 125, 101,   0,  25,  25,\n",
      "         25,  25,   0,  25,  25,   0,   0,  25,  25,  25,  25,  25,  25,   1,\n",
      "         25,   0,   0,  25], device='cuda:0')\n",
      "tensor([ 25,  25, 125, 125, 125,  25, 125, 125, 125,  10, 125, 125,  25, 125,\n",
      "         25,  25,  25, 125, 125,  25,  25, 125, 125, 125, 125,  25, 125,  25,\n",
      "        125, 125, 125,  25], device='cuda:0')\n",
      "tensor([125,  25, 125,  25,  25,  25,  25, 125,  25,  25,  25, 125, 125,  25,\n",
      "         25, 125, 125,  25,  25,  10, 125,  25, 125, 125,  10, 125, 125, 125,\n",
      "         25, 125, 125, 125], device='cuda:0')\n"
     ]
    },
    {
     "name": "stderr",
     "output_type": "stream",
     "text": [
      "121it [00:09, 14.75it/s]"
     ]
    },
    {
     "name": "stdout",
     "output_type": "stream",
     "text": [
      "tensor([125, 125, 125, 125,  25, 125, 125, 125, 125, 125, 125,  25,  25, 125,\n",
      "         25, 125,  25, 125, 125, 125,  25, 125, 125,  25,  25, 125, 125, 125,\n",
      "        125, 125,  25,  25], device='cuda:0')\n",
      "Value is not a number: amount25\n",
      "Value is not a number: amount25\n",
      "tensor([ 25,  25,  25, 125,  25,   0,  25,   0,  25,   0,  25,  25,  25,  25,\n",
      "         25,   0,  25,  25,   0,  25,  25, 125,   0,  25,  25,  25,   0,  25,\n",
      "         25,  25, 125,  25], device='cuda:0')\n",
      "Value is not a number: amount01\n",
      "Value is not a number: amount25\n",
      "Value is not a number: amount0\n",
      "Value is not a number: amount25\n",
      "Value is not a number: amount0\n",
      "tensor([25, 25, 25, 25, 25, 25, 25, 25, 25,  0, 25, 25, 25, 25, 25, 25, 25,  0,\n",
      "        25, 25, 25,  1, 25, 25, 25,  0,  0, 25, 25, 25,  0, 25],\n",
      "       device='cuda:0')\n"
     ]
    },
    {
     "name": "stderr",
     "output_type": "stream",
     "text": [
      "123it [00:09, 14.67it/s]"
     ]
    },
    {
     "name": "stdout",
     "output_type": "stream",
     "text": [
      "tensor([ 25, 125, 125,  25, 125, 125,  25,  25,  25, 125,  25,  25, 125, 125,\n",
      "         25, 125, 125,  10, 125, 125,  25, 125, 125, 125, 125, 125, 125, 125,\n",
      "        125,   0, 125,  25], device='cuda:0')\n",
      "tensor([125,  10, 125, 125, 125, 125, 125,  25, 125, 125,  25, 125,  10, 125,\n",
      "         25,  25,  25, 125, 125, 125,  25,  10,  25, 125,  25,  25, 125,  10,\n",
      "        125, 125, 125, 125], device='cuda:0')\n",
      "tensor([125, 125, 125, 125, 125,  25,  25, 125, 125, 125,  10,  25, 125, 125,\n",
      "         25,  25, 125,  10,  25, 125,  25, 125,  25,  25,  25, 125,  25, 125,\n",
      "        125,  10, 125,  25], device='cuda:0')\n",
      "Value is not a number: amount25\n",
      "Value is not a number: amount25\n",
      "Value is not a number: amount25\n",
      "Value is not a number: amount25\n"
     ]
    },
    {
     "name": "stderr",
     "output_type": "stream",
     "text": [
      "127it [00:09, 14.78it/s]"
     ]
    },
    {
     "name": "stdout",
     "output_type": "stream",
     "text": [
      "tensor([ 25,   0,  25,  25,  25,  25,   0,  25,  25,  25,  25,  25, 101,  25,\n",
      "          0,  25,  25,   0,  25,  25,  25,  25,  25,  25,   0,  25,  25,  25,\n",
      "         25,  25,  25,   0], device='cuda:0')\n",
      "Value is not a number: amount25\n",
      "Value is not a number: amount01\n",
      "tensor([ 25,  25,   0,  25,  25,  25,  25,   0,   0,   1,  25,  25,  25,  25,\n",
      "         25,  25,   0,  25,  25,  25,  25,   0,  25,  25, 125,  25,  25,  25,\n",
      "         25,  25,  25,  25], device='cuda:0')\n",
      "tensor([ 25,  10, 125, 125,  25, 125, 125, 125, 125,   0, 125, 125,  25, 125,\n",
      "        125, 125, 125, 125,  25, 125, 125,  25, 125, 125,  25, 125,  10, 125,\n",
      "        125,  25, 125, 125], device='cuda:0')\n",
      "tensor([125, 125, 125, 125,  25, 125, 125, 125,  25, 125, 125, 125, 125,  10,\n",
      "         25, 125, 125, 125, 125,  25, 125, 125, 125, 125, 125, 125, 125, 125,\n",
      "          0, 125, 125, 125], device='cuda:0')\n"
     ]
    },
    {
     "name": "stderr",
     "output_type": "stream",
     "text": [
      "131it [00:10, 14.86it/s]"
     ]
    },
    {
     "name": "stdout",
     "output_type": "stream",
     "text": [
      "Value is not a number: amount25\n",
      "Value is not a number: amount25\n",
      "tensor([125,  25,  25,  25,  25,  25,  25, 125,  25,  25,  25,   0,   0,   0,\n",
      "          0,  25,  25,  25,  25,  25,   0,  25,  25,  25,   0,   0,   0,  25,\n",
      "          1,  25,  25,  25], device='cuda:0')\n",
      "Value is not a number: amount25\n",
      "Value is not a number: amount25\n",
      "tensor([  0,  25,   0,  25,  25,  25,  25,  25,   0,  25,  25,  25,  25,  25,\n",
      "          0,  25,  25,  25,  25,  25,  25,  25,  25,  25,  25,   0,  25, 125,\n",
      "         25,  25, 125, 125], device='cuda:0')\n",
      "Value is not a number: amount25\n",
      "Value is not a number: amount25\n",
      "tensor([ 25,  25,  25,  25,  25,  25,  25,  25,  25,  25,   0,  25,   0,  25,\n",
      "         25,  25,  25,  25,  25,  25,   0,  25, 125,  10,  25,  25,  25,  25,\n",
      "          0,   0,  25,  25], device='cuda:0')\n"
     ]
    },
    {
     "name": "stderr",
     "output_type": "stream",
     "text": [
      "133it [00:10, 14.95it/s]"
     ]
    },
    {
     "name": "stdout",
     "output_type": "stream",
     "text": [
      "tensor([125, 125, 125,  10, 125, 125, 125, 125, 125,  10, 125,  25,  25, 125,\n",
      "         25, 125, 125, 125, 125, 125, 125, 125, 125,  10, 125,  25,   0, 125,\n",
      "        125,  25,  25,  25], device='cuda:0')\n",
      "tensor([125, 125, 125,  10,  10,  25, 125,  25, 125, 125, 125,  25, 125, 125,\n",
      "        125,   0,   0,  10, 125,  25, 125, 125, 125, 125, 125, 125, 125, 125,\n",
      "         25, 125, 125,  25], device='cuda:0')\n",
      "Value is not a number: amount25\n",
      "Value is not a number: amount25\n",
      "Value is not a number: amount25\n",
      "tensor([25, 25, 25,  0, 25,  0, 25, 25,  1, 25, 25, 25, 25, 25, 25, 25, 25, 25,\n",
      "        25, 25,  0, 25, 25, 25,  0,  0, 25, 25,  0,  0, 25,  0],\n",
      "       device='cuda:0')\n",
      "Value is not a number: amount25\n",
      "Value is not a number: amount25\n",
      "tensor([125,  25,  25,  25,  25,  25,   0,  25,  25,  25,  25,  25,  25,  25,\n",
      "        125,  25,   0,  25,   0,  25,  25,  25,   1,  25,  25,  25, 125,  25,\n",
      "         25,   0,  25,  25], device='cuda:0')\n"
     ]
    },
    {
     "name": "stderr",
     "output_type": "stream",
     "text": [
      "137it [00:10, 14.95it/s]"
     ]
    },
    {
     "name": "stdout",
     "output_type": "stream",
     "text": [
      "Value is not a number: amount25\n",
      "Value is not a number: amount25\n",
      "Value is not a number: amount0\n",
      "tensor([ 25,  25,  25,  25,  25,  25,   0,  25,  25,   1,  25,  25,  25, 125,\n",
      "         25,  25,  25,  25,  25,  25,  25,  25,  25,  25,   0,  25,  25,   1,\n",
      "         25,  25,   0,  25], device='cuda:0')\n",
      "tensor([ 10, 125, 125, 125, 125, 125,   0, 125,  25, 125,   0,  25, 125, 125,\n",
      "        125, 125, 125,  25, 125, 125, 125, 125, 125,  25,   0, 125, 125, 125,\n",
      "         25,  25,  25,  25], device='cuda:0')\n",
      "tensor([125, 125, 125, 125, 125, 125, 125, 125, 125, 125,  10,  25,  10, 125,\n",
      "        125, 125, 125,  25, 125, 125, 125, 125, 125, 125, 125, 125, 125,  25,\n",
      "          0,  10,  25, 125], device='cuda:0')\n",
      "Value is not a number: amount25\n"
     ]
    },
    {
     "name": "stderr",
     "output_type": "stream",
     "text": [
      "141it [00:10, 15.00it/s]"
     ]
    },
    {
     "name": "stdout",
     "output_type": "stream",
     "text": [
      "tensor([101,  25,   1,  25,  25,  25,  25,  25,  25,   1,   0,  25,  25,   1,\n",
      "         25,  25,  25,  25,  25,  25,   0,  25,  25,  25,  25, 125,  25,  25,\n",
      "         25,  25,  25,  25], device='cuda:0')\n",
      "Value is not a number: amount25\n",
      "Value is not a number: amount25\n",
      "tensor([ 25,   0,   0,  25,  25,  25,  25,  25,  25,   1,   1, 125,   1,   0,\n",
      "        101,  25,  25,  25,  25,  25,  25,  25, 125,  25, 125,  25,   0,  25,\n",
      "          1,   0,  25,  25], device='cuda:0')\n",
      "Value is not a number: amount01\n",
      "Value is not a number: amount25\n",
      "Value is not a number: amount0\n",
      "tensor([ 25,  25,   0,  25,  25,  25,  25,  25, 125,  25,  25,   0,  25,  25,\n",
      "          0,  25,  25,  25,  25,  25,   0, 125,  10,  25,  25,   1, 125,   1,\n",
      "         25,   0, 125,   1], device='cuda:0')\n",
      "tensor([ 25,  25, 125,  25,   0, 125, 125, 125,  25, 125, 125,  25, 125,  25,\n",
      "        125, 125,  25,  25, 125,  25,   0, 125, 125, 125,  25,  25,  10, 125,\n",
      "        125, 125, 125,  25], device='cuda:0')\n"
     ]
    },
    {
     "name": "stderr",
     "output_type": "stream",
     "text": [
      "143it [00:10, 14.87it/s]"
     ]
    },
    {
     "name": "stdout",
     "output_type": "stream",
     "text": [
      "Value is not a number: amount25\n",
      "Value is not a number: amount25\n",
      "Value is not a number: amount25\n",
      "tensor([ 25,  25,   0,   0,  25,  25,  25, 101,   0,  10,  25,  25,  25,  25,\n",
      "          0,  25,   0,  10,  25,  25,  25,  25,  25,  25,  25,  25,  25,   0,\n",
      "          0,  25,  25,   0], device='cuda:0')\n",
      "Value is not a number: amount0\n",
      "Value is not a number: amount25\n",
      "Value is not a number: amount25\n",
      "tensor([ 25,  25,   0,  25,   0, 125,  25,  25,  25,   0,  25,  25,  25,  25,\n",
      "          0,  25,  25,  25,  25,  25,  25, 125,   0, 125,  25,  25,  25,  25,\n",
      "          0,  25,  25,  25], device='cuda:0')\n",
      "Value is not a number: amount25\n",
      "Value is not a number: amount25\n",
      "tensor([  0,  25, 125,  25,  25,  25,  25,  25,  25,   1,   0,  25,   1,  25,\n",
      "          1,  25,  25, 125,  25,  25,  25,  25,  25,  25,  25,  25,   1,  25,\n",
      "         25,  25,  25,  25], device='cuda:0')\n"
     ]
    },
    {
     "name": "stderr",
     "output_type": "stream",
     "text": [
      "147it [00:11, 14.73it/s]"
     ]
    },
    {
     "name": "stdout",
     "output_type": "stream",
     "text": [
      "Value is not a number: amount25\n",
      "tensor([ 25,  25,  25,  25,  25,  25,  25,   0,   0,  25,  25,  25,  25, 125,\n",
      "         25,   0,  25,   1, 125,  25,  25,  25,  25,  25,  25,  25,  25,   1,\n",
      "         25,  25,   0, 125], device='cuda:0')\n",
      "tensor([ 25,  25, 125, 125, 125,  25,  25, 125,   0,  25, 125, 125, 125, 125,\n",
      "        125,  25,  10,   0, 125, 125, 125,  10, 125, 125, 125, 125,  25,  25,\n",
      "        125,  25, 125, 125], device='cuda:0')\n",
      "tensor([ 25,  25,  25,   0,  25,  25,  25,  25,  25,  25,  25,  25,  25,  25,\n",
      "         25,  25,  25,  25,  25,  25,  25,  25,  25,   0,  25,  25,   1,  25,\n",
      "         25,  25, 101,  25], device='cuda:0')\n",
      "Value is not a number: amount25\n"
     ]
    },
    {
     "name": "stderr",
     "output_type": "stream",
     "text": [
      "151it [00:11, 14.87it/s]"
     ]
    },
    {
     "name": "stdout",
     "output_type": "stream",
     "text": [
      "tensor([ 25,  25,   0,  25,  25,  25,   0, 125,  25,  25,  25, 125,  25,  25,\n",
      "         25,   0,  25,  25, 125,  25,  25,  25, 125,   0,  25,  25,  25,  25,\n",
      "         25,   0,  25,  25], device='cuda:0')\n",
      "Value is not a number: amount25\n",
      "Value is not a number: amount25\n",
      "Value is not a number: amount25\n",
      "Value is not a number: amount25\n",
      "tensor([ 25,  25,  25,  25,  12,  25,  25,  25,   0,  25,  25,  25,  25,  25,\n",
      "          0,   0,  25, 125,  25,  25,  25,  25,  25,   0,  25,  25,  25,  25,\n",
      "         25,  25,  25,  25], device='cuda:0')\n",
      "Value is not a number: amount25\n",
      "tensor([ 25,  25, 125,  25,  25,   1,  25,  25,  25,  25,  25, 125,  25,  25,\n",
      "         25,  25,  25,  25,  25,  25,  25,  25, 125,  25,   0,  25,  25, 125,\n",
      "         25,  25,  25,  25], device='cuda:0')\n",
      "tensor([125, 125,  10, 125, 125, 125, 125, 125,  25, 125,  10, 125, 125,   0,\n",
      "         25, 125, 125,  25,  10,  25, 125,  25, 125,   0, 125, 125,  25, 125,\n",
      "        125, 125,  25, 125], device='cuda:0')\n"
     ]
    },
    {
     "name": "stderr",
     "output_type": "stream",
     "text": [
      "155it [00:11, 14.89it/s]"
     ]
    },
    {
     "name": "stdout",
     "output_type": "stream",
     "text": [
      "Value is not a number: amount25\n",
      "Value is not a number: amount25\n",
      "tensor([25, 25, 25,  0,  1, 25, 25, 25, 25,  0, 25, 25, 25,  0, 25, 25, 25,  1,\n",
      "         0, 25, 25, 25,  1,  0, 25, 25, 25, 25, 25,  1, 25,  0],\n",
      "       device='cuda:0')\n",
      "Value is not a number: amount25\n",
      "Value is not a number: amount0\n",
      "Value is not a number: amount25\n",
      "tensor([25, 25,  0, 25, 25,  1, 25,  0, 25,  0, 25, 25,  0, 25, 25, 25, 25, 25,\n",
      "        25, 25, 25, 25,  0, 25,  0, 25, 25,  0, 25, 25, 25, 25],\n",
      "       device='cuda:0')\n",
      "Value is not a number: amount25\n",
      "Value is not a number: amount25\n",
      "Value is not a number: amount01\n",
      "tensor([ 25,  25,  25,  25,  25,   0,  25,  25,   0,   0,  25,  25,   0,  25,\n",
      "         25,  25,   0,   0, 125,   0,  25,   0,  25,  25,  25,  25,  25,  25,\n",
      "        125, 125,  25,  25], device='cuda:0')\n"
     ]
    },
    {
     "name": "stderr",
     "output_type": "stream",
     "text": [
      "157it [00:11, 14.86it/s]"
     ]
    },
    {
     "name": "stdout",
     "output_type": "stream",
     "text": [
      "Value is not a number: amount25\n",
      "tensor([  0,  25,   0,  25,  25,  25,  25,  25,  25,  25,  25,  25,  25,  25,\n",
      "         25,  25,  25,  25,  25,  25,  25,  25,  25,  25,  25,  25,  25,  25,\n",
      "         10,   0,  25, 125], device='cuda:0')\n",
      "tensor([125, 125,  10, 125,  25,  25,  25,  10,  25, 125, 125,  10, 125,  25,\n",
      "         25,  10, 125, 125, 125, 125,  25,  25,  10, 125,  25,  25, 125, 125,\n",
      "         25,  25,  10, 125], device='cuda:0')\n",
      "tensor([ 25,  25,  25,  25,  25,  25,  25,  25,  25,  25,  25,  25,  25,  25,\n",
      "         25,  25, 125,   1,  25,   0,  25,  25,  25,  25,  25,  25,  25,   0,\n",
      "          0,  25,  25,  25], device='cuda:0')\n"
     ]
    },
    {
     "name": "stderr",
     "output_type": "stream",
     "text": [
      "161it [00:12, 14.84it/s]"
     ]
    },
    {
     "name": "stdout",
     "output_type": "stream",
     "text": [
      "tensor([ 25,  25, 125,  25,   0,  25,  25,  25,  25,  25,  25,  25,  25,  25,\n",
      "         25,  25,   1,  25,   0,  25,  25,  25,  25,  25,  25,  25,  25,  25,\n",
      "         25,  25,  25,  25], device='cuda:0')\n",
      "Value is not a number: amount25\n",
      "Value is not a number: amount25\n",
      "Value is not a number: amount25\n",
      "Value is not a number: amount0\n",
      "Value is not a number: amount25\n",
      "tensor([ 25,  25,  25,  25, 125,   0,   0,  25,  25,   1,   0,  25,  25,  25,\n",
      "          0,   0,   0,  25,   1,  25,  25,  25,   0,  25,  25,  25,  25,  25,\n",
      "        125,  25,   0, 125], device='cuda:0')\n",
      "Value is not a number: amount25\n",
      "Value is not a number: amount25\n",
      "Value is not a number: amount25\n",
      "tensor([ 25,   0,  25,   0,  25,   0,  25,  25,  25,  25,  25,  25,  25,  10,\n",
      "         25,   0,  25,  25,  10,  25,  25, 125,  25,  25,   1,  25, 125,  25,\n",
      "         25,  25, 125,  25], device='cuda:0')\n",
      "Value is not a number: amount25\n",
      "Value is not a number: amount25\n"
     ]
    },
    {
     "name": "stderr",
     "output_type": "stream",
     "text": [
      "163it [00:12, 14.93it/s]"
     ]
    },
    {
     "name": "stdout",
     "output_type": "stream",
     "text": [
      "tensor([ 0, 25, 25, 25, 25, 25, 25, 25, 25, 25, 25, 25, 25, 25,  0, 25,  0, 25,\n",
      "        25, 25, 25, 25,  0, 25, 25,  0,  1, 25, 25, 25, 25, 25],\n",
      "       device='cuda:0')\n",
      "tensor([125,  25,  25,  25,  25,  25,  25,  25,  25,  25,  25,  25,  25,  25,\n",
      "         25,  25,  25,  25,  25,  25,  25,  25,  25,  25,  25,  25,  25,  25,\n",
      "         25,  25,  25,  25], device='cuda:0')\n",
      "Value is not a number: amount25\n",
      "tensor([125,  25,   0,  25,  25,  25,  25,  25,  25,  25, 125,  25,  25,  25,\n",
      "         25,   0,  25,  25,  25,  25,  25,  25,   1,  10,   0,  25,  25,  25,\n",
      "         25,  25,  25,  25], device='cuda:0')\n",
      "Value is not a number: amount25\n",
      "Value is not a number: amount25\n",
      "Value is not a number: amount25\n",
      "tensor([25, 25, 25,  0, 25, 25, 25, 25,  0, 25, 25, 25, 25, 25, 25, 25, 25, 25,\n",
      "        25, 25, 25, 25, 25, 25, 25,  0, 25, 25, 25,  0, 25, 25],\n",
      "       device='cuda:0')\n"
     ]
    },
    {
     "name": "stderr",
     "output_type": "stream",
     "text": [
      "167it [00:12, 14.96it/s]"
     ]
    },
    {
     "name": "stdout",
     "output_type": "stream",
     "text": [
      "tensor([ 25,   1,  25,  25,   1,  25, 125, 125,  25,  25,  25,  25,  25,  25,\n",
      "         25,  25,   1,  25,  25,  25,  25,  25,   0,   0,  25,  25,  25,   1,\n",
      "         25,  25,  25,  25], device='cuda:0')\n",
      "Value is not a number: amount25\n",
      "Value is not a number: amount25\n",
      "tensor([ 25,  25,  25,  25,  25,  25,  25,  25,  25,   0,  25,   0,  25,  25,\n",
      "         25,  25,  25,  25,  25,   0, 125,  25,  25,   0,  25,  25,  25,  25,\n",
      "          0,  25,  25,  25], device='cuda:0')\n",
      "Value is not a number: amount0\n",
      "tensor([ 25,  25,  25,  25,   0,  25, 125,  25,  25,  25,  25,  25,  25,  25,\n",
      "         25,  25,   1,  25,   0,  25,  25,  25,  25,  25,  25,  25,  25,  25,\n",
      "         25,  25,  25,  25], device='cuda:0')\n",
      "Value is not a number: amount25\n",
      "Value is not a number: amount25\n",
      "Value is not a number: amount25\n",
      "Value is not a number: amount25\n",
      "tensor([ 0, 25, 25, 25, 25, 25, 25, 25, 25, 25,  0,  1, 25, 25, 25,  0,  0, 25,\n",
      "        25, 25, 25, 25,  0, 25, 25, 25, 25, 25, 25, 25,  0, 25],\n",
      "       device='cuda:0')\n"
     ]
    },
    {
     "name": "stderr",
     "output_type": "stream",
     "text": [
      "171it [00:12, 15.05it/s]"
     ]
    },
    {
     "name": "stdout",
     "output_type": "stream",
     "text": [
      "Value is not a number: amount25\n",
      "tensor([ 25,   0,  25,  25,  25,   0,  25,   1,  25,  25,  25,  25,  25,  25,\n",
      "         25,   0, 125,  25,  25,  25,  25,  25,  25,   0,  25,  25,  25,   1,\n",
      "         25,  25,  25,  25], device='cuda:0')\n",
      "Value is not a number: amount0\n",
      "Value is not a number: amount25\n",
      "tensor([ 25,  25,  25,   0,  25, 125,  25,  25,  25,  25,  25,  25, 125,  25,\n",
      "         25,   0,  25,   0,  10,  25, 125,  25,  25,  25,  25,  25,  25,  25,\n",
      "         25,   1,  25,  25], device='cuda:0')\n",
      "Value is not a number: amount25\n",
      "Value is not a number: amount25\n",
      "Value is not a number: amount25\n",
      "tensor([ 25,  25,   0,  25,   0,  25,  25,  25,  25,  25,  25,  25,  25,  25,\n",
      "        125,  25,  25,  25,   0,  25,   1,  25,  25,  25,   1,  25,   0,  25,\n",
      "         25,  25,   0,  25], device='cuda:0')\n",
      "Value is not a number: amount0\n",
      "Value is not a number: amount0\n"
     ]
    },
    {
     "name": "stderr",
     "output_type": "stream",
     "text": [
      "175it [00:13, 14.94it/s]"
     ]
    },
    {
     "name": "stdout",
     "output_type": "stream",
     "text": [
      "tensor([ 25,  25,   1,  25,  25,   0,  25,  25, 125,  25,  25,  25,  25,  25,\n",
      "          0,  25,  25,  25,  25,  25,   1,   0,  25,  25,  25,  25,  25,  25,\n",
      "         25,  25,  25,  25], device='cuda:0')\n",
      "Value is not a number: amount25\n",
      "Value is not a number: amount25\n",
      "tensor([25, 25, 25, 25, 25, 25,  0,  0, 25,  0, 25,  0, 25, 25, 25, 25,  0, 25,\n",
      "        25, 25, 10, 25, 10, 25, 25,  0, 25, 25, 25, 25, 25,  0],\n",
      "       device='cuda:0')\n",
      "Value is not a number: amount25\n",
      "Value is not a number: amount25\n",
      "tensor([ 25,  25,   1,  25,  25,   0,  25,   0,   0,  25,   0,  25,   0,  25,\n",
      "         25,   0,  25,  25,  25,  25,  25,   1,  25,  25,  25,  25,  25,   0,\n",
      "         25, 125,  25,  25], device='cuda:0')\n"
     ]
    },
    {
     "name": "stderr",
     "output_type": "stream",
     "text": [
      "177it [00:13, 14.97it/s]"
     ]
    },
    {
     "name": "stdout",
     "output_type": "stream",
     "text": [
      "tensor([ 25,   0,  25,  25,  25,  25,  25,   1,   0,  25,  25,  25,  25,  25,\n",
      "         25, 101, 125, 125,  25,  25,  25,   0,  25,  25,  25,  25,  25,  25,\n",
      "         25,  25,  25,  25], device='cuda:0')\n",
      "Value is not a number: amount25\n",
      "Value is not a number: amount25\n",
      "Value is not a number: amount25\n",
      "tensor([ 25,  25,  25,  25,  25,   0,  25, 125,  25,   0, 125,  25,  25,   1,\n",
      "         25,  25,  25,  25,   1,  25,  25,  25,  25,  25,  25,  25,   0,  25,\n",
      "         25,  25,  25,  25], device='cuda:0')\n",
      "Value is not a number: amount25\n",
      "Value is not a number: amount25\n",
      "tensor([ 25,  25,   0,  25,  25,  25,   0,  25, 125,  25,  25,  25, 125,  25,\n",
      "          0,  25,  25,   0,  25,  25,   0,  25,  25,  25,  25,  25,  25,  25,\n",
      "         25,  25,  25,   0], device='cuda:0')\n",
      "Value is not a number: amount25\n",
      "Value is not a number: amount25\n",
      "tensor([ 25,  25,   1,  25,  25, 125,  25,  25,  25,  25,  25,  25,  25,   1,\n",
      "         25,  25,  25,  25,  25,  25,   1,  25,  25,   1,   0,  25,  25,  25,\n",
      "         25,   0,   0, 125], device='cuda:0')\n"
     ]
    },
    {
     "name": "stderr",
     "output_type": "stream",
     "text": [
      "181it [00:13, 14.94it/s]"
     ]
    },
    {
     "name": "stdout",
     "output_type": "stream",
     "text": [
      "Value is not a number: amount25\n",
      "tensor([ 25,  25,   1,   0,  25,   1,  25,  25,  25,  25,   0,  25,  25,  25,\n",
      "         25, 125,  25,  25, 125,  25,  25,  25,   1,  25,  25,   0,  25,  25,\n",
      "         25,  10,  25,  25], device='cuda:0')\n",
      "Value is not a number: amount25\n",
      "Value is not a number: amount01\n",
      "tensor([  0,  25,  25,  25,  25,  25, 125,  25,  25,  25,  25,  25,  25, 125,\n",
      "         25,   1,  25,  25,  25,  25,  25,  25,   0,  25,  25,  25,   1,   0,\n",
      "         25,  25,  25,  25], device='cuda:0')\n",
      "Value is not a number: amount25\n",
      "tensor([125,  25,  25,   0,  25, 125,  25, 101, 125,  25,  25,  25,  25,   0,\n",
      "         25,  25,  25,  25,  25,   0,  25,  25,   0,  25,   0,  25,  25,   0,\n",
      "         25,   0,  25,  25], device='cuda:0')\n"
     ]
    },
    {
     "name": "stderr",
     "output_type": "stream",
     "text": [
      "185it [00:13, 15.04it/s]"
     ]
    },
    {
     "name": "stdout",
     "output_type": "stream",
     "text": [
      "Value is not a number: amount25\n",
      "tensor([ 25,  25,  25,  25, 125,   0,  25,   0,  25,   1,   1,  25,  25,  25,\n",
      "         25,  25,  25,  25,  25,  25,  25,  25,  25,  25,  25,  25,  25,  25,\n",
      "         25,  25,   0,  25], device='cuda:0')\n",
      "Value is not a number: amount01\n",
      "tensor([ 25,  25,  25,  25, 125,  25,  25,  25,  25,  25,  25,  25,  25,  25,\n",
      "         25,  25,  25,  25,  25,  25,  25,  25,  25,  25,   0,  25,  25, 101,\n",
      "         25,   0, 125,  25], device='cuda:0')\n",
      "Value is not a number: amount25\n",
      "Value is not a number: amount25\n",
      "Value is not a number: amount25\n",
      "Value is not a number: amount01\n",
      "tensor([  0,  25,  25,   1,  25,  25,  25, 125,  25,  25,  25, 101,  25,   0,\n",
      "          0,  25,   0, 125,  25,  25,   0,  25,  25,   0,  25,  25,   1,  25,\n",
      "         25,  25,  25,  25], device='cuda:0')\n",
      "Value is not a number: amount25\n",
      "Value is not a number: amount25\n",
      "Value is not a number: amount25\n",
      "Value is not a number: amount25\n",
      "Value is not a number: amount25\n"
     ]
    },
    {
     "name": "stderr",
     "output_type": "stream",
     "text": [
      "187it [00:13, 15.05it/s]"
     ]
    },
    {
     "name": "stdout",
     "output_type": "stream",
     "text": [
      "tensor([101,  10,  25,  25,   0,  25,  25,  25,  25, 125,  25,  25,  25,  25,\n",
      "         25,   0,  25,  25,   0,   0,   0,   1,  25,  25,  25,  25,  25,  25,\n",
      "         25,  25,  25,   0], device='cuda:0')\n",
      "Value is not a number: amount25\n",
      "Value is not a number: amount0\n",
      "Value is not a number: amount25\n",
      "tensor([  1, 125,  25,  25,   0,   1,   0,  25,   0,  25,   1,  25,  25,   0,\n",
      "         25,   0,   0,  25, 125,  25,  25,  25,  25,  25,  25,  25,  25,  25,\n",
      "         25,  25,  25,  25], device='cuda:0')\n",
      "Value is not a number: amount01\n",
      "Value is not a number: amount25\n",
      "Value is not a number: amount01\n",
      "tensor([  1,   0,  25,  25,  25,   0,  25,  25,   1,  25,  25,  25,   1,  25,\n",
      "          0,  25,  25,  25, 125,  25,   0,  25,  25,   0, 125,  25,  25,  25,\n",
      "          0,  25,  25,   1], device='cuda:0')\n",
      "Value is not a number: amount01\n",
      "Value is not a number: amount25\n",
      "Value is not a number: amount25\n",
      "tensor([ 25,  25,  25,  25,  25,   0,  25,  25,  25,   0, 125,   0, 125,  25,\n",
      "         25,  25,  25, 125,   0,   0,  25,  25,  25,  25, 101,  25,   0,  25,\n",
      "          1,   1,  25,  25], device='cuda:0')\n"
     ]
    },
    {
     "name": "stderr",
     "output_type": "stream",
     "text": [
      "191it [00:14, 15.05it/s]"
     ]
    },
    {
     "name": "stdout",
     "output_type": "stream",
     "text": [
      "Value is not a number: amount01\n",
      "Value is not a number: amount0\n",
      "Value is not a number: amount25\n",
      "tensor([ 25,  25,  25,  25,  25,  25,   0,   0,   0,  25,  25,  25,  25,  25,\n",
      "         25, 125, 125,  25,  25,   0,   0,  25,   0,   0,  25,  25,  25,  25,\n",
      "          0,  25,  25,  25], device='cuda:0')\n",
      "tensor([  0, 101,  25,  25, 125,  25,  25,  25,  25,  25,  25,  25,  25,  25,\n",
      "         25,   0, 125,   1,  25,  25,   0,  25,   0,  25,  25,  25,  25,  25,\n",
      "         25,  25,  25,   0], device='cuda:0')\n",
      "Value is not a number: amount25\n",
      "Value is not a number: amount25\n",
      "Value is not a number: amount25\n",
      "Value is not a number: amount25\n",
      "tensor([ 25,  25,  25,  25,  25,  25,  25,  25,   0,   0,   1,  25,  25,   0,\n",
      "         25,  25,  25,  25,   0,  25,   0,  25,  25,  25,  25,  25,  25,  25,\n",
      "        125,  25, 125,  25], device='cuda:0')\n"
     ]
    },
    {
     "name": "stderr",
     "output_type": "stream",
     "text": [
      "195it [00:14, 14.93it/s]"
     ]
    },
    {
     "name": "stdout",
     "output_type": "stream",
     "text": [
      "Value is not a number: amount25\n",
      "tensor([25, 25, 25,  0, 25, 25, 25, 25, 25, 25,  0, 25, 25, 25, 25, 25,  0,  1,\n",
      "        25, 25,  1,  0,  0, 25, 25, 25, 25,  0, 25, 25, 25, 25],\n",
      "       device='cuda:0')\n",
      "Value is not a number: amount25\n",
      "Value is not a number: amount25\n",
      "Value is not a number: amount25\n",
      "tensor([ 25,  25,  25,  25,  25,  25,  10, 101,  25,  25,  25,  25,  25,   0,\n",
      "         25,  25,  25,   0,  25,   0,  25,  25,  25,   1,   1,  25,   0,  25,\n",
      "         25,   0,  25,  25], device='cuda:0')\n",
      "Value is not a number: amount25\n",
      "Value is not a number: amount25\n",
      "tensor([ 25,  25,  25,  25,  25,  25, 125,  25,  25,  25,  25,  25,  25,  25,\n",
      "          0,  25,  25,  25,  25,  25,  25,  25,  10,  25,  25,  25,  25,  10,\n",
      "         25,  25,   0,  25], device='cuda:0')\n",
      "Value is not a number: amount25\n"
     ]
    },
    {
     "name": "stderr",
     "output_type": "stream",
     "text": [
      "197it [00:14, 15.01it/s]"
     ]
    },
    {
     "name": "stdout",
     "output_type": "stream",
     "text": [
      "tensor([125, 125,  25,  25,  25,   0,  25,  25,  25,  25,  25,  25,  25,  25,\n",
      "         25,  25,  25,  25,   0,  25,  25,  25,  25,  25,   0,  25,  25,   0,\n",
      "         25,  25,  25,  25], device='cuda:0')\n",
      "Value is not a number: amount25\n",
      "Value is not a number: amount25\n",
      "tensor([25, 25, 25,  0, 25,  0, 25, 25, 25, 25, 25, 25, 25, 25, 25, 25, 25,  0,\n",
      "        25,  0, 25,  0, 25, 25, 25, 25, 25, 25, 25, 25, 25, 25],\n",
      "       device='cuda:0')\n",
      "tensor([ 25,  25,  25,  25,   0,  25,  25,  25,  25,  25,  25,   1,  25,  25,\n",
      "         25,   0,   0,  25,  25,   0, 125,   1,  25,  25,  25,  25,  25,  25,\n",
      "         25,  25,  25,  25], device='cuda:0')\n",
      "tensor([ 25,   0,  25,  25, 125,  25,  25,  25,  25,  25,  25,  25,  25,   0,\n",
      "         25,  25,   0,  25,   0,  25,  25,  25,  25,  25,  25,  25,  25,   0,\n",
      "         25,  25,  25,  25], device='cuda:0')\n"
     ]
    },
    {
     "name": "stderr",
     "output_type": "stream",
     "text": [
      "201it [00:14, 15.06it/s]"
     ]
    },
    {
     "name": "stdout",
     "output_type": "stream",
     "text": [
      "Value is not a number: amount25\n",
      "Value is not a number: amount25\n",
      "Value is not a number: amount25\n",
      "Value is not a number: amount0\n",
      "tensor([ 25,  25,  25,  25,  25,  25,   0,  25,  25,  25,  25,  25,  10,  25,\n",
      "          0,   0,  25,  25,  25, 125,   0,  25,  25,  25,   0,  25,  25,   0,\n",
      "          0,  25,   0,  25], device='cuda:0')\n",
      "Value is not a number: amount25\n",
      "Value is not a number: amount0\n",
      "tensor([ 25,  25,   0,  25,   0,  25,  25,  25,  25,  25, 125,  25,  25,   0,\n",
      "         25,   1,  25,  25,  25,  25,  25,  25,  25,  25,  25,  25,  25,  25,\n",
      "         25,  25,   0,   0], device='cuda:0')\n",
      "Value is not a number: amount0\n",
      "tensor([25, 25, 25, 25, 25, 25, 25,  0, 25, 25,  0, 25, 25, 25, 25, 25, 25, 25,\n",
      "        25,  0, 25, 25, 25, 25,  0, 25, 25, 25,  1,  0, 25,  0],\n",
      "       device='cuda:0')\n",
      "Value is not a number: amount0\n",
      "Value is not a number: amount25\n",
      "Value is not a number: amount25\n",
      "Value is not a number: amount25\n"
     ]
    },
    {
     "name": "stderr",
     "output_type": "stream",
     "text": [
      "205it [00:15, 14.74it/s]"
     ]
    },
    {
     "name": "stdout",
     "output_type": "stream",
     "text": [
      "tensor([  0,  25, 125,   0,  25,  25,  25,   0,  25,  25,  25,   0,  25,  25,\n",
      "          0,  25,  25,  25,   1,  25,  25,  25,  25, 125,  25,  25,  25,  25,\n",
      "          0,  25,  25,   0], device='cuda:0')\n",
      "Value is not a number: amount25\n",
      "Value is not a number: amount25\n",
      "Value is not a number: amount25\n",
      "tensor([  1,  25,  25,  25,   0,  25,   0,   1,  25,  25, 101,  25,  25,  25,\n",
      "         25,  25,  25,  25,   0,   3,  25, 125,   1, 125,  25,   1,   1,  25,\n",
      "         25, 125, 125,  25], device='cuda:0')\n",
      "Value is not a number: amount25\n",
      "Value is not a number: amount25\n",
      "Value is not a number: amount25\n",
      "Value is not a number: amount25\n",
      "tensor([ 25,  25,  25,  25,   1,  25,  25,  25,  25,   1,  25,  25,   0,  25,\n",
      "         25,  25,   0,  25,  25,   0,  25, 125,   0,  25,  25,  25,  25,  25,\n",
      "          0,   0,  25,  25], device='cuda:0')\n",
      "Value is not a number: £25\n",
      "Value is not a number: amount0\n",
      "Value is not a number: amount25\n",
      "Value is not a number: £25\n",
      "Value is not a number: amount25\n"
     ]
    },
    {
     "name": "stderr",
     "output_type": "stream",
     "text": [
      "207it [00:15, 14.35it/s]"
     ]
    },
    {
     "name": "stdout",
     "output_type": "stream",
     "text": [
      "tensor([25, 25, 25, 25, 25, 25, 25, 25,  0,  0, 25, 25, 25, 25, 25, 25,  0,  0,\n",
      "        25, 25,  0, 25, 25, 25, 25, 25, 25, 25, 25, 25, 25,  0],\n",
      "       device='cuda:0')\n",
      "Value is not a number: amount25\n",
      "tensor([ 25,  25,  25,  25,   0,  25,   0,  25,  25,   0,  25,  25, 125,  25,\n",
      "         25,   0,  25,  25,  25,  25,  25,  25,  25,   1,   0,   0,  25,  25,\n",
      "         25,  25,   0, 101], device='cuda:0')\n",
      "Value is not a number: amount25\n",
      "Value is not a number: amount01\n",
      "Value is not a number: amount25\n",
      "Value is not a number: amount25\n",
      "Value is not a number: amount25\n",
      "Value is not a number: amount25\n",
      "tensor([ 1,  0, 25, 25,  0, 25, 25, 25, 25,  0,  0,  0, 25, 25, 25, 25, 25,  1,\n",
      "        25,  0, 25,  0,  0, 25, 25, 25,  0, 25, 25, 25,  1, 25],\n",
      "       device='cuda:0')\n",
      "Value is not a number: amount25\n",
      "Value is not a number: amount25\n"
     ]
    },
    {
     "name": "stderr",
     "output_type": "stream",
     "text": [
      "211it [00:15, 14.60it/s]"
     ]
    },
    {
     "name": "stdout",
     "output_type": "stream",
     "text": [
      "tensor([ 25,   0,   0, 101,  25,  25,  25,   1,  25,  25,  25, 101,  25,  25,\n",
      "          0,  25,   0,  25,   0,  25,  25,   0,  25,  25,  25,  25,  25, 101,\n",
      "         25,  25,  25,   0], device='cuda:0')\n",
      "Value is not a number: amount25\n",
      "Value is not a number: amount0\n",
      "Value is not a number: amount25\n",
      "Value is not a number: amount25\n",
      "Value is not a number: amount25\n",
      "Value is not a number: amount25\n",
      "tensor([ 0,  0, 25, 25, 25, 25, 25, 25, 25, 25, 25, 25, 25, 25, 25, 25, 25, 25,\n",
      "         0,  0, 25,  0, 25, 25, 25,  0, 25, 25, 25, 25, 25, 25],\n",
      "       device='cuda:0')\n",
      "Value is not a number: amount0\n",
      "Value is not a number: amount25\n",
      "tensor([ 25,  25,  25,  25,  25,  25,  25,  25,  25,  25, 125,  25,  25,  25,\n",
      "         25,   0,  25,   1,  25,  25,  25,  25,  25,  25,  25,   0,  25,  25,\n",
      "         25,   0,  25,  25], device='cuda:0')\n",
      "Value is not a number: amount25\n",
      "Value is not a number: amount25\n",
      "Value is not a number: amount25\n",
      "tensor([ 0, 25, 25,  0, 25, 25, 25,  0, 25,  0, 25, 25, 25, 25, 25, 25, 25, 25,\n",
      "        25, 25,  0, 25, 25,  0,  0,  0, 25, 25,  1, 25, 25,  1],\n",
      "       device='cuda:0')\n"
     ]
    },
    {
     "name": "stderr",
     "output_type": "stream",
     "text": [
      "215it [00:15, 14.86it/s]"
     ]
    },
    {
     "name": "stdout",
     "output_type": "stream",
     "text": [
      "Value is not a number: amount0\n",
      "Value is not a number: amount25\n",
      "Value is not a number: amount25\n",
      "tensor([ 25,   0,  25, 125,  25,  25,   0,  25,  25,  25,  25,  25,  25,  25,\n",
      "         25,  25,  25,  25,   0,   0,   0,  25,  25,  25,  25,  25,   0,  25,\n",
      "          1,  25,  25,  25], device='cuda:0')\n",
      "Value is not a number: amount25\n",
      "tensor([ 25,  25,  25,  25, 125,  25,  25,  25,   0,   0,  25,  25,  25,  25,\n",
      "        125,  25,   0,  25,  25,   0,  25,  25,  25,  25,  25,  25,   1,  25,\n",
      "         25,  25,   0,  25], device='cuda:0')\n",
      "Value is not a number: amount25\n",
      "Value is not a number: amount25\n",
      "Value is not a number: amount25\n",
      "tensor([ 25,  25,   1,  25,  25,  25,  25,   0,   0,  25,  25,  25,  25,  25,\n",
      "         25,  25,  25,  25,  25,  25, 125,  25,   0,  25,  25,  25,  25,  25,\n",
      "         25,   0,  25,  25], device='cuda:0')\n",
      "Value is not a number: amount25\n",
      "Value is not a number: amount25\n"
     ]
    },
    {
     "name": "stderr",
     "output_type": "stream",
     "text": [
      "217it [00:15, 14.84it/s]"
     ]
    },
    {
     "name": "stdout",
     "output_type": "stream",
     "text": [
      "tensor([  0,  25,  25,  25,  25,  25,  10,  25,   0,  25,  25,  25, 125,  25,\n",
      "         25,  25,  25,  25,  25,   0,  25,  25,  25,   0,  25,  25,  25,  25,\n",
      "         25,  25,  25,  25], device='cuda:0')\n",
      "Value is not a number: amount0\n",
      "Value is not a number: amount25\n",
      "Value is not a number: amount25\n",
      "Value is not a number: amount25\n",
      "Value is not a number: amount25\n",
      "tensor([25, 25, 25,  0,  0, 25,  0,  0, 25, 25,  0, 25,  1, 25, 25,  0, 25, 25,\n",
      "        25, 25, 25, 25, 25, 25, 25, 25, 25, 25, 25,  0, 25, 25],\n",
      "       device='cuda:0')\n",
      "Value is not a number: amount25\n",
      "tensor([ 25,  25,   1,   1,   0,  25,  25,  25,  25,  25,   0,  25,  25,   0,\n",
      "          1,  25, 125,  25,  25,  25,  25,  25,  25, 125,   0,  25,  25,  25,\n",
      "         25,  25,  25,  25], device='cuda:0')\n",
      "Value is not a number: amount25\n",
      "Value is not a number: amount25\n",
      "Value is not a number: amount01\n",
      "Value is not a number: amount25\n"
     ]
    },
    {
     "name": "stderr",
     "output_type": "stream",
     "text": [
      "221it [00:16, 14.82it/s]"
     ]
    },
    {
     "name": "stdout",
     "output_type": "stream",
     "text": [
      "tensor([  0,  25,  25,   0,   0,   0, 125,  25,   1,  25,   0,   0,   0,  25,\n",
      "         25,  25,   0,  25,   0,  25,  25,  25,  25,  25,  25,  25,   0,   0,\n",
      "         25,  25,  25,  25], device='cuda:0')\n",
      "Value is not a number: amount01\n",
      "tensor([ 25,  25,  25,  25,  25,   0,  25,   1,  25,   0,  25, 125,  25,  25,\n",
      "         25,  25,  25,  25,  25,  25,  25,   1,  25,   0,  25,  25,  25,   0,\n",
      "         25,  25, 125,  25], device='cuda:0')\n",
      "Value is not a number: amount25\n",
      "tensor([25, 25, 10, 25, 25, 25, 25,  1, 25, 25, 25, 25, 25, 25,  0, 25, 25, 25,\n",
      "        25, 25,  0, 25, 25, 25, 25, 25, 25, 25, 25, 25, 25, 25],\n",
      "       device='cuda:0')\n",
      "Value is not a number: amount25\n",
      "Value is not a number: amount25\n",
      "Value is not a number: amount25\n",
      "Value is not a number: amount25\n",
      "tensor([25, 25, 25, 25, 25, 25, 25, 25, 25, 25, 25, 25, 25,  0, 25,  0, 25, 25,\n",
      "         0, 25,  0, 25, 25, 25, 25, 25, 25,  0, 25, 25, 25, 25],\n",
      "       device='cuda:0')\n"
     ]
    },
    {
     "name": "stderr",
     "output_type": "stream",
     "text": [
      "225it [00:16, 15.00it/s]"
     ]
    },
    {
     "name": "stdout",
     "output_type": "stream",
     "text": [
      "tensor([25, 25, 25, 25, 25, 25, 25, 25,  1, 25, 25, 25, 25, 25,  0, 25,  0, 25,\n",
      "        25, 25, 25, 25, 25, 25, 25, 25, 25, 25, 25,  0,  1, 25],\n",
      "       device='cuda:0')\n",
      "Value is not a number: amount25\n",
      "Value is not a number: amount25\n",
      "Value is not a number: amount25\n",
      "tensor([  0,  25,   1,   1,   1,  25,  25,   1,  25,  25,  25,   0,  25,  25,\n",
      "         25,   0, 125, 125,   0,   0,  25,   0,  25,  25,   1,  25,  25,  25,\n",
      "         25,  25,  25,  25], device='cuda:0')\n",
      "tensor([ 25,   0,  25,   0,  25,   0,  25,  25,  25,   0,  25,  25,  25,  25,\n",
      "         25,  25,  25,   0,  25,   0,  25,  25,  25,  25,  25,   0,  25,  25,\n",
      "         25,  25, 101,  25], device='cuda:0')\n",
      "Value is not a number: amount25\n",
      "tensor([ 25,  25,  25,  25,  25,  25,  25,  25,  25,  25,   0,  25,  25,  25,\n",
      "         25,  25, 125,  25,  25,  25,  25,   0,  25,  25,  25,  25,   0,  25,\n",
      "         25,  25,  25,  25], device='cuda:0')\n"
     ]
    },
    {
     "name": "stderr",
     "output_type": "stream",
     "text": [
      "229it [00:16, 14.79it/s]"
     ]
    },
    {
     "name": "stdout",
     "output_type": "stream",
     "text": [
      "Value is not a number: amount25\n",
      "Value is not a number: amount25\n",
      "Value is not a number: amount25\n",
      "Value is not a number: amount25\n",
      "tensor([25, 25, 25, 25, 25,  0, 25,  0,  1, 25,  0, 25, 25, 25, 25,  1, 25, 25,\n",
      "        25,  0, 25, 25, 25, 25, 25,  1, 25,  1, 25,  1, 25, 25],\n",
      "       device='cuda:0')\n",
      "Value is not a number: amount0\n",
      "tensor([  1,  25,  25, 125,  25,  25,  25,   0,  25,   0,  25,  25,  25, 125,\n",
      "         25,  25,  25,  25,  25,  25,  25,  25,  25,  25,  25,  25,   0,   1,\n",
      "          1,  25,  25, 125], device='cuda:0')\n",
      "Value is not a number: amount25\n",
      "Value is not a number: amount25\n",
      "tensor([ 25,   0,  10,  25,  25,  25, 101,  25,   0,  25,  25,  12,  25,  25,\n",
      "         25,   0,  25, 125,  25,  25,   0,  25,   1,  25,   0,  25,  25,  25,\n",
      "         25,  25,  25,  25], device='cuda:0')\n"
     ]
    },
    {
     "name": "stderr",
     "output_type": "stream",
     "text": [
      "231it [00:16, 14.85it/s]"
     ]
    },
    {
     "name": "stdout",
     "output_type": "stream",
     "text": [
      "Value is not a number: amount25\n",
      "tensor([25, 25, 25, 25, 25, 25, 25, 25, 25, 25, 25, 25,  0, 25, 25, 25, 25, 25,\n",
      "        25, 25, 25, 25, 25,  0,  1, 25, 25, 25,  0, 25, 25, 25],\n",
      "       device='cuda:0')\n",
      "Value is not a number: £0\n",
      "Value is not a number: amount25\n",
      "Value is not a number: amount25\n",
      "Value is not a number: amount0\n",
      "tensor([25, 25, 25, 25, 25, 25, 25,  0, 25, 25, 25, 25,  0, 25, 25, 25, 25, 25,\n",
      "        25, 25,  0, 25, 25, 25, 25, 25, 25,  0, 25, 25, 25, 25],\n",
      "       device='cuda:0')\n",
      "Value is not a number: amount01\n",
      "Value is not a number: amount25\n",
      "Value is not a number: amount25\n",
      "tensor([ 25,   0, 125,  25,  25,  25,  25,   0,  25,   1,  25,  25,  25,  25,\n",
      "         25,  25,  25,   0,   0, 125, 101,  25,  25,  25,  25,  25,  25,  25,\n",
      "         25,  25,  25,  25], device='cuda:0')\n",
      "Value is not a number: amount0\n",
      "Value is not a number: amount25\n",
      "Value is not a number: amount25\n"
     ]
    },
    {
     "name": "stderr",
     "output_type": "stream",
     "text": [
      "233it [00:16, 13.73it/s]\n"
     ]
    },
    {
     "name": "stdout",
     "output_type": "stream",
     "text": [
      "tensor([25, 25, 25, 25, 25,  0, 25, 25, 25, 25,  0,  0, 25, 25, 25, 25, 25, 25,\n",
      "        25, 25,  1, 10,  0, 25,  0, 25, 25, 25, 25, 25, 25,  0],\n",
      "       device='cuda:0')\n",
      "Value is not a number: amount25\n"
     ]
    },
    {
     "ename": "KeyboardInterrupt",
     "evalue": "",
     "output_type": "error",
     "traceback": [
      "\u001b[0;31m---------------------------------------------------------------------------\u001b[0m",
      "\u001b[0;31mKeyboardInterrupt\u001b[0m                         Traceback (most recent call last)",
      "\u001b[0;32m/tmp/ipykernel_54244/3714554522.py\u001b[0m in \u001b[0;36m<module>\u001b[0;34m\u001b[0m\n\u001b[1;32m     14\u001b[0m         \u001b[0;32mwith\u001b[0m \u001b[0mnullcontext\u001b[0m\u001b[0;34m(\u001b[0m\u001b[0;34m)\u001b[0m\u001b[0;34m:\u001b[0m\u001b[0;34m\u001b[0m\u001b[0;34m\u001b[0m\u001b[0m\n\u001b[1;32m     15\u001b[0m             \u001b[0mpred1\u001b[0m\u001b[0;34m,\u001b[0m \u001b[0mtrue_output1\u001b[0m \u001b[0;34m=\u001b[0m \u001b[0mopen_ended_model\u001b[0m\u001b[0;34m.\u001b[0m\u001b[0mtasks\u001b[0m\u001b[0;34m[\u001b[0m\u001b[0;36m0\u001b[0m\u001b[0;34m]\u001b[0m\u001b[0;34m.\u001b[0m\u001b[0mprocess_outputs\u001b[0m\u001b[0;34m(\u001b[0m\u001b[0mout1\u001b[0m\u001b[0;34m,\u001b[0m \u001b[0mbatch_answers1\u001b[0m\u001b[0;34m)\u001b[0m\u001b[0;34m\u001b[0m\u001b[0;34m\u001b[0m\u001b[0m\n\u001b[0;32m---> 16\u001b[0;31m             \u001b[0mout1\u001b[0m\u001b[0;34m,\u001b[0m \u001b[0mbatch_answers1\u001b[0m \u001b[0;34m=\u001b[0m \u001b[0mopen_ended_model\u001b[0m\u001b[0;34m.\u001b[0m\u001b[0mmodel_step\u001b[0m\u001b[0;34m(\u001b[0m\u001b[0mbatch\u001b[0m\u001b[0;34m)\u001b[0m\u001b[0;34m\u001b[0m\u001b[0;34m\u001b[0m\u001b[0m\n\u001b[0m\u001b[1;32m     17\u001b[0m             \u001b[0mprint\u001b[0m\u001b[0;34m(\u001b[0m\u001b[0mpred1\u001b[0m\u001b[0;34m)\u001b[0m\u001b[0;34m\u001b[0m\u001b[0;34m\u001b[0m\u001b[0m\n\u001b[1;32m     18\u001b[0m \u001b[0;34m\u001b[0m\u001b[0m\n",
      "\u001b[0;32m~/romashka/src/transactions_qa/tqa_model.py\u001b[0m in \u001b[0;36mmodel_step\u001b[0;34m(self, batch, generate, task_idx, **kwargs)\u001b[0m\n\u001b[1;32m    495\u001b[0m                                          \u001b[0mlabels\u001b[0m\u001b[0;34m=\u001b[0m\u001b[0mmodel_input\u001b[0m\u001b[0;34m[\u001b[0m\u001b[0;34m'labels'\u001b[0m\u001b[0;34m]\u001b[0m\u001b[0;34m,\u001b[0m\u001b[0;34m\u001b[0m\u001b[0;34m\u001b[0m\u001b[0m\n\u001b[1;32m    496\u001b[0m                                          \u001b[0mdecoder_attention_mask\u001b[0m\u001b[0;34m=\u001b[0m\u001b[0mmodel_input\u001b[0m\u001b[0;34m[\u001b[0m\u001b[0;34m'decoder_attention_mask'\u001b[0m\u001b[0;34m]\u001b[0m\u001b[0;34m,\u001b[0m\u001b[0;34m\u001b[0m\u001b[0;34m\u001b[0m\u001b[0m\n\u001b[0;32m--> 497\u001b[0;31m                                          \u001b[0moutput_hidden_states\u001b[0m\u001b[0;34m=\u001b[0m\u001b[0;32mTrue\u001b[0m\u001b[0;34m,\u001b[0m\u001b[0;34m\u001b[0m\u001b[0;34m\u001b[0m\u001b[0m\n\u001b[0m\u001b[1;32m    498\u001b[0m                                         )\n\u001b[1;32m    499\u001b[0m         \u001b[0;32mif\u001b[0m \u001b[0mself\u001b[0m\u001b[0;34m.\u001b[0m\u001b[0muse_numerical_output\u001b[0m\u001b[0;34m:\u001b[0m\u001b[0;34m\u001b[0m\u001b[0;34m\u001b[0m\u001b[0m\n",
      "\u001b[0;32m~/.imgenv-afilatov-dev-19-0/lib/python3.7/site-packages/torch/nn/modules/module.py\u001b[0m in \u001b[0;36m_call_impl\u001b[0;34m(self, *input, **kwargs)\u001b[0m\n\u001b[1;32m   1192\u001b[0m         if not (self._backward_hooks or self._forward_hooks or self._forward_pre_hooks or _global_backward_hooks\n\u001b[1;32m   1193\u001b[0m                 or _global_forward_hooks or _global_forward_pre_hooks):\n\u001b[0;32m-> 1194\u001b[0;31m             \u001b[0;32mreturn\u001b[0m \u001b[0mforward_call\u001b[0m\u001b[0;34m(\u001b[0m\u001b[0;34m*\u001b[0m\u001b[0minput\u001b[0m\u001b[0;34m,\u001b[0m \u001b[0;34m**\u001b[0m\u001b[0mkwargs\u001b[0m\u001b[0;34m)\u001b[0m\u001b[0;34m\u001b[0m\u001b[0;34m\u001b[0m\u001b[0m\n\u001b[0m\u001b[1;32m   1195\u001b[0m         \u001b[0;31m# Do not call functions when jit is used\u001b[0m\u001b[0;34m\u001b[0m\u001b[0;34m\u001b[0m\u001b[0;34m\u001b[0m\u001b[0m\n\u001b[1;32m   1196\u001b[0m         \u001b[0mfull_backward_hooks\u001b[0m\u001b[0;34m,\u001b[0m \u001b[0mnon_full_backward_hooks\u001b[0m \u001b[0;34m=\u001b[0m \u001b[0;34m[\u001b[0m\u001b[0;34m]\u001b[0m\u001b[0;34m,\u001b[0m \u001b[0;34m[\u001b[0m\u001b[0;34m]\u001b[0m\u001b[0;34m\u001b[0m\u001b[0;34m\u001b[0m\u001b[0m\n",
      "\u001b[0;32m~/.imgenv-afilatov-dev-19-0/lib/python3.7/site-packages/transformers/models/t5/modeling_t5.py\u001b[0m in \u001b[0;36mforward\u001b[0;34m(self, input_ids, attention_mask, decoder_input_ids, decoder_attention_mask, head_mask, decoder_head_mask, cross_attn_head_mask, encoder_outputs, past_key_values, inputs_embeds, decoder_inputs_embeds, labels, use_cache, output_attentions, output_hidden_states, return_dict)\u001b[0m\n\u001b[1;32m   1684\u001b[0m                 \u001b[0moutput_attentions\u001b[0m\u001b[0;34m=\u001b[0m\u001b[0moutput_attentions\u001b[0m\u001b[0;34m,\u001b[0m\u001b[0;34m\u001b[0m\u001b[0;34m\u001b[0m\u001b[0m\n\u001b[1;32m   1685\u001b[0m                 \u001b[0moutput_hidden_states\u001b[0m\u001b[0;34m=\u001b[0m\u001b[0moutput_hidden_states\u001b[0m\u001b[0;34m,\u001b[0m\u001b[0;34m\u001b[0m\u001b[0;34m\u001b[0m\u001b[0m\n\u001b[0;32m-> 1686\u001b[0;31m                 \u001b[0mreturn_dict\u001b[0m\u001b[0;34m=\u001b[0m\u001b[0mreturn_dict\u001b[0m\u001b[0;34m,\u001b[0m\u001b[0;34m\u001b[0m\u001b[0;34m\u001b[0m\u001b[0m\n\u001b[0m\u001b[1;32m   1687\u001b[0m             )\n\u001b[1;32m   1688\u001b[0m         \u001b[0;32melif\u001b[0m \u001b[0mreturn_dict\u001b[0m \u001b[0;32mand\u001b[0m \u001b[0;32mnot\u001b[0m \u001b[0misinstance\u001b[0m\u001b[0;34m(\u001b[0m\u001b[0mencoder_outputs\u001b[0m\u001b[0;34m,\u001b[0m \u001b[0mBaseModelOutput\u001b[0m\u001b[0;34m)\u001b[0m\u001b[0;34m:\u001b[0m\u001b[0;34m\u001b[0m\u001b[0;34m\u001b[0m\u001b[0m\n",
      "\u001b[0;32m~/.imgenv-afilatov-dev-19-0/lib/python3.7/site-packages/torch/nn/modules/module.py\u001b[0m in \u001b[0;36m_call_impl\u001b[0;34m(self, *input, **kwargs)\u001b[0m\n\u001b[1;32m   1192\u001b[0m         if not (self._backward_hooks or self._forward_hooks or self._forward_pre_hooks or _global_backward_hooks\n\u001b[1;32m   1193\u001b[0m                 or _global_forward_hooks or _global_forward_pre_hooks):\n\u001b[0;32m-> 1194\u001b[0;31m             \u001b[0;32mreturn\u001b[0m \u001b[0mforward_call\u001b[0m\u001b[0;34m(\u001b[0m\u001b[0;34m*\u001b[0m\u001b[0minput\u001b[0m\u001b[0;34m,\u001b[0m \u001b[0;34m**\u001b[0m\u001b[0mkwargs\u001b[0m\u001b[0;34m)\u001b[0m\u001b[0;34m\u001b[0m\u001b[0;34m\u001b[0m\u001b[0m\n\u001b[0m\u001b[1;32m   1195\u001b[0m         \u001b[0;31m# Do not call functions when jit is used\u001b[0m\u001b[0;34m\u001b[0m\u001b[0;34m\u001b[0m\u001b[0;34m\u001b[0m\u001b[0m\n\u001b[1;32m   1196\u001b[0m         \u001b[0mfull_backward_hooks\u001b[0m\u001b[0;34m,\u001b[0m \u001b[0mnon_full_backward_hooks\u001b[0m \u001b[0;34m=\u001b[0m \u001b[0;34m[\u001b[0m\u001b[0;34m]\u001b[0m\u001b[0;34m,\u001b[0m \u001b[0;34m[\u001b[0m\u001b[0;34m]\u001b[0m\u001b[0;34m\u001b[0m\u001b[0;34m\u001b[0m\u001b[0m\n",
      "\u001b[0;32m~/.imgenv-afilatov-dev-19-0/lib/python3.7/site-packages/transformers/models/t5/modeling_t5.py\u001b[0m in \u001b[0;36mforward\u001b[0;34m(self, input_ids, attention_mask, encoder_hidden_states, encoder_attention_mask, inputs_embeds, head_mask, cross_attn_head_mask, past_key_values, use_cache, output_attentions, output_hidden_states, return_dict)\u001b[0m\n\u001b[1;32m   1095\u001b[0m                     \u001b[0mpast_key_value\u001b[0m\u001b[0;34m=\u001b[0m\u001b[0mpast_key_value\u001b[0m\u001b[0;34m,\u001b[0m\u001b[0;34m\u001b[0m\u001b[0;34m\u001b[0m\u001b[0m\n\u001b[1;32m   1096\u001b[0m                     \u001b[0muse_cache\u001b[0m\u001b[0;34m=\u001b[0m\u001b[0muse_cache\u001b[0m\u001b[0;34m,\u001b[0m\u001b[0;34m\u001b[0m\u001b[0;34m\u001b[0m\u001b[0m\n\u001b[0;32m-> 1097\u001b[0;31m                     \u001b[0moutput_attentions\u001b[0m\u001b[0;34m=\u001b[0m\u001b[0moutput_attentions\u001b[0m\u001b[0;34m,\u001b[0m\u001b[0;34m\u001b[0m\u001b[0;34m\u001b[0m\u001b[0m\n\u001b[0m\u001b[1;32m   1098\u001b[0m                 )\n\u001b[1;32m   1099\u001b[0m \u001b[0;34m\u001b[0m\u001b[0m\n",
      "\u001b[0;32m~/.imgenv-afilatov-dev-19-0/lib/python3.7/site-packages/torch/nn/modules/module.py\u001b[0m in \u001b[0;36m_call_impl\u001b[0;34m(self, *input, **kwargs)\u001b[0m\n\u001b[1;32m   1192\u001b[0m         if not (self._backward_hooks or self._forward_hooks or self._forward_pre_hooks or _global_backward_hooks\n\u001b[1;32m   1193\u001b[0m                 or _global_forward_hooks or _global_forward_pre_hooks):\n\u001b[0;32m-> 1194\u001b[0;31m             \u001b[0;32mreturn\u001b[0m \u001b[0mforward_call\u001b[0m\u001b[0;34m(\u001b[0m\u001b[0;34m*\u001b[0m\u001b[0minput\u001b[0m\u001b[0;34m,\u001b[0m \u001b[0;34m**\u001b[0m\u001b[0mkwargs\u001b[0m\u001b[0;34m)\u001b[0m\u001b[0;34m\u001b[0m\u001b[0;34m\u001b[0m\u001b[0m\n\u001b[0m\u001b[1;32m   1195\u001b[0m         \u001b[0;31m# Do not call functions when jit is used\u001b[0m\u001b[0;34m\u001b[0m\u001b[0;34m\u001b[0m\u001b[0;34m\u001b[0m\u001b[0m\n\u001b[1;32m   1196\u001b[0m         \u001b[0mfull_backward_hooks\u001b[0m\u001b[0;34m,\u001b[0m \u001b[0mnon_full_backward_hooks\u001b[0m \u001b[0;34m=\u001b[0m \u001b[0;34m[\u001b[0m\u001b[0;34m]\u001b[0m\u001b[0;34m,\u001b[0m \u001b[0;34m[\u001b[0m\u001b[0;34m]\u001b[0m\u001b[0;34m\u001b[0m\u001b[0;34m\u001b[0m\u001b[0m\n",
      "\u001b[0;32m~/.imgenv-afilatov-dev-19-0/lib/python3.7/site-packages/transformers/models/t5/modeling_t5.py\u001b[0m in \u001b[0;36mforward\u001b[0;34m(self, hidden_states, attention_mask, position_bias, encoder_hidden_states, encoder_attention_mask, encoder_decoder_position_bias, layer_head_mask, cross_attn_layer_head_mask, past_key_value, use_cache, output_attentions, return_dict)\u001b[0m\n\u001b[1;32m    698\u001b[0m             \u001b[0mpast_key_value\u001b[0m\u001b[0;34m=\u001b[0m\u001b[0mself_attn_past_key_value\u001b[0m\u001b[0;34m,\u001b[0m\u001b[0;34m\u001b[0m\u001b[0;34m\u001b[0m\u001b[0m\n\u001b[1;32m    699\u001b[0m             \u001b[0muse_cache\u001b[0m\u001b[0;34m=\u001b[0m\u001b[0muse_cache\u001b[0m\u001b[0;34m,\u001b[0m\u001b[0;34m\u001b[0m\u001b[0;34m\u001b[0m\u001b[0m\n\u001b[0;32m--> 700\u001b[0;31m             \u001b[0moutput_attentions\u001b[0m\u001b[0;34m=\u001b[0m\u001b[0moutput_attentions\u001b[0m\u001b[0;34m,\u001b[0m\u001b[0;34m\u001b[0m\u001b[0;34m\u001b[0m\u001b[0m\n\u001b[0m\u001b[1;32m    701\u001b[0m         )\n\u001b[1;32m    702\u001b[0m         \u001b[0mhidden_states\u001b[0m\u001b[0;34m,\u001b[0m \u001b[0mpresent_key_value_state\u001b[0m \u001b[0;34m=\u001b[0m \u001b[0mself_attention_outputs\u001b[0m\u001b[0;34m[\u001b[0m\u001b[0;34m:\u001b[0m\u001b[0;36m2\u001b[0m\u001b[0;34m]\u001b[0m\u001b[0;34m\u001b[0m\u001b[0;34m\u001b[0m\u001b[0m\n",
      "\u001b[0;32m~/.imgenv-afilatov-dev-19-0/lib/python3.7/site-packages/torch/nn/modules/module.py\u001b[0m in \u001b[0;36m_call_impl\u001b[0;34m(self, *input, **kwargs)\u001b[0m\n\u001b[1;32m   1192\u001b[0m         if not (self._backward_hooks or self._forward_hooks or self._forward_pre_hooks or _global_backward_hooks\n\u001b[1;32m   1193\u001b[0m                 or _global_forward_hooks or _global_forward_pre_hooks):\n\u001b[0;32m-> 1194\u001b[0;31m             \u001b[0;32mreturn\u001b[0m \u001b[0mforward_call\u001b[0m\u001b[0;34m(\u001b[0m\u001b[0;34m*\u001b[0m\u001b[0minput\u001b[0m\u001b[0;34m,\u001b[0m \u001b[0;34m**\u001b[0m\u001b[0mkwargs\u001b[0m\u001b[0;34m)\u001b[0m\u001b[0;34m\u001b[0m\u001b[0;34m\u001b[0m\u001b[0m\n\u001b[0m\u001b[1;32m   1195\u001b[0m         \u001b[0;31m# Do not call functions when jit is used\u001b[0m\u001b[0;34m\u001b[0m\u001b[0;34m\u001b[0m\u001b[0;34m\u001b[0m\u001b[0m\n\u001b[1;32m   1196\u001b[0m         \u001b[0mfull_backward_hooks\u001b[0m\u001b[0;34m,\u001b[0m \u001b[0mnon_full_backward_hooks\u001b[0m \u001b[0;34m=\u001b[0m \u001b[0;34m[\u001b[0m\u001b[0;34m]\u001b[0m\u001b[0;34m,\u001b[0m \u001b[0;34m[\u001b[0m\u001b[0;34m]\u001b[0m\u001b[0;34m\u001b[0m\u001b[0;34m\u001b[0m\u001b[0m\n",
      "\u001b[0;32m~/.imgenv-afilatov-dev-19-0/lib/python3.7/site-packages/transformers/models/t5/modeling_t5.py\u001b[0m in \u001b[0;36mforward\u001b[0;34m(self, hidden_states, attention_mask, position_bias, layer_head_mask, past_key_value, use_cache, output_attentions)\u001b[0m\n\u001b[1;32m    605\u001b[0m             \u001b[0mpast_key_value\u001b[0m\u001b[0;34m=\u001b[0m\u001b[0mpast_key_value\u001b[0m\u001b[0;34m,\u001b[0m\u001b[0;34m\u001b[0m\u001b[0;34m\u001b[0m\u001b[0m\n\u001b[1;32m    606\u001b[0m             \u001b[0muse_cache\u001b[0m\u001b[0;34m=\u001b[0m\u001b[0muse_cache\u001b[0m\u001b[0;34m,\u001b[0m\u001b[0;34m\u001b[0m\u001b[0;34m\u001b[0m\u001b[0m\n\u001b[0;32m--> 607\u001b[0;31m             \u001b[0moutput_attentions\u001b[0m\u001b[0;34m=\u001b[0m\u001b[0moutput_attentions\u001b[0m\u001b[0;34m,\u001b[0m\u001b[0;34m\u001b[0m\u001b[0;34m\u001b[0m\u001b[0m\n\u001b[0m\u001b[1;32m    608\u001b[0m         )\n\u001b[1;32m    609\u001b[0m         \u001b[0mhidden_states\u001b[0m \u001b[0;34m=\u001b[0m \u001b[0mhidden_states\u001b[0m \u001b[0;34m+\u001b[0m \u001b[0mself\u001b[0m\u001b[0;34m.\u001b[0m\u001b[0mdropout\u001b[0m\u001b[0;34m(\u001b[0m\u001b[0mattention_output\u001b[0m\u001b[0;34m[\u001b[0m\u001b[0;36m0\u001b[0m\u001b[0;34m]\u001b[0m\u001b[0;34m)\u001b[0m\u001b[0;34m\u001b[0m\u001b[0;34m\u001b[0m\u001b[0m\n",
      "\u001b[0;32m~/.imgenv-afilatov-dev-19-0/lib/python3.7/site-packages/torch/nn/modules/module.py\u001b[0m in \u001b[0;36m_call_impl\u001b[0;34m(self, *input, **kwargs)\u001b[0m\n\u001b[1;32m   1192\u001b[0m         if not (self._backward_hooks or self._forward_hooks or self._forward_pre_hooks or _global_backward_hooks\n\u001b[1;32m   1193\u001b[0m                 or _global_forward_hooks or _global_forward_pre_hooks):\n\u001b[0;32m-> 1194\u001b[0;31m             \u001b[0;32mreturn\u001b[0m \u001b[0mforward_call\u001b[0m\u001b[0;34m(\u001b[0m\u001b[0;34m*\u001b[0m\u001b[0minput\u001b[0m\u001b[0;34m,\u001b[0m \u001b[0;34m**\u001b[0m\u001b[0mkwargs\u001b[0m\u001b[0;34m)\u001b[0m\u001b[0;34m\u001b[0m\u001b[0;34m\u001b[0m\u001b[0m\n\u001b[0m\u001b[1;32m   1195\u001b[0m         \u001b[0;31m# Do not call functions when jit is used\u001b[0m\u001b[0;34m\u001b[0m\u001b[0;34m\u001b[0m\u001b[0;34m\u001b[0m\u001b[0m\n\u001b[1;32m   1196\u001b[0m         \u001b[0mfull_backward_hooks\u001b[0m\u001b[0;34m,\u001b[0m \u001b[0mnon_full_backward_hooks\u001b[0m \u001b[0;34m=\u001b[0m \u001b[0;34m[\u001b[0m\u001b[0;34m]\u001b[0m\u001b[0;34m,\u001b[0m \u001b[0;34m[\u001b[0m\u001b[0;34m]\u001b[0m\u001b[0;34m\u001b[0m\u001b[0;34m\u001b[0m\u001b[0m\n",
      "\u001b[0;32m~/.imgenv-afilatov-dev-19-0/lib/python3.7/site-packages/transformers/models/t5/modeling_t5.py\u001b[0m in \u001b[0;36mforward\u001b[0;34m(self, hidden_states, mask, key_value_states, position_bias, past_key_value, layer_head_mask, query_length, use_cache, output_attentions)\u001b[0m\n\u001b[1;32m    521\u001b[0m         \u001b[0;31m# get key/value states\u001b[0m\u001b[0;34m\u001b[0m\u001b[0;34m\u001b[0m\u001b[0;34m\u001b[0m\u001b[0m\n\u001b[1;32m    522\u001b[0m         key_states = project(\n\u001b[0;32m--> 523\u001b[0;31m             \u001b[0mhidden_states\u001b[0m\u001b[0;34m,\u001b[0m \u001b[0mself\u001b[0m\u001b[0;34m.\u001b[0m\u001b[0mk\u001b[0m\u001b[0;34m,\u001b[0m \u001b[0mkey_value_states\u001b[0m\u001b[0;34m,\u001b[0m \u001b[0mpast_key_value\u001b[0m\u001b[0;34m[\u001b[0m\u001b[0;36m0\u001b[0m\u001b[0;34m]\u001b[0m \u001b[0;32mif\u001b[0m \u001b[0mpast_key_value\u001b[0m \u001b[0;32mis\u001b[0m \u001b[0;32mnot\u001b[0m \u001b[0;32mNone\u001b[0m \u001b[0;32melse\u001b[0m \u001b[0;32mNone\u001b[0m\u001b[0;34m\u001b[0m\u001b[0;34m\u001b[0m\u001b[0m\n\u001b[0m\u001b[1;32m    524\u001b[0m         )\n\u001b[1;32m    525\u001b[0m         value_states = project(\n",
      "\u001b[0;32m~/.imgenv-afilatov-dev-19-0/lib/python3.7/site-packages/transformers/models/t5/modeling_t5.py\u001b[0m in \u001b[0;36mproject\u001b[0;34m(hidden_states, proj_layer, key_value_states, past_key_value)\u001b[0m\n\u001b[1;32m    494\u001b[0m                 \u001b[0;31m# self-attn\u001b[0m\u001b[0;34m\u001b[0m\u001b[0;34m\u001b[0m\u001b[0;34m\u001b[0m\u001b[0m\n\u001b[1;32m    495\u001b[0m                 \u001b[0;31m# (batch_size, n_heads, seq_length, dim_per_head)\u001b[0m\u001b[0;34m\u001b[0m\u001b[0;34m\u001b[0m\u001b[0;34m\u001b[0m\u001b[0m\n\u001b[0;32m--> 496\u001b[0;31m                 \u001b[0mhidden_states\u001b[0m \u001b[0;34m=\u001b[0m \u001b[0mshape\u001b[0m\u001b[0;34m(\u001b[0m\u001b[0mproj_layer\u001b[0m\u001b[0;34m(\u001b[0m\u001b[0mhidden_states\u001b[0m\u001b[0;34m)\u001b[0m\u001b[0;34m)\u001b[0m\u001b[0;34m\u001b[0m\u001b[0;34m\u001b[0m\u001b[0m\n\u001b[0m\u001b[1;32m    497\u001b[0m             \u001b[0;32melif\u001b[0m \u001b[0mpast_key_value\u001b[0m \u001b[0;32mis\u001b[0m \u001b[0;32mNone\u001b[0m\u001b[0;34m:\u001b[0m\u001b[0;34m\u001b[0m\u001b[0;34m\u001b[0m\u001b[0m\n\u001b[1;32m    498\u001b[0m                 \u001b[0;31m# cross-attn\u001b[0m\u001b[0;34m\u001b[0m\u001b[0;34m\u001b[0m\u001b[0;34m\u001b[0m\u001b[0m\n",
      "\u001b[0;32m~/.imgenv-afilatov-dev-19-0/lib/python3.7/site-packages/torch/nn/modules/module.py\u001b[0m in \u001b[0;36m_call_impl\u001b[0;34m(self, *input, **kwargs)\u001b[0m\n\u001b[1;32m   1192\u001b[0m         if not (self._backward_hooks or self._forward_hooks or self._forward_pre_hooks or _global_backward_hooks\n\u001b[1;32m   1193\u001b[0m                 or _global_forward_hooks or _global_forward_pre_hooks):\n\u001b[0;32m-> 1194\u001b[0;31m             \u001b[0;32mreturn\u001b[0m \u001b[0mforward_call\u001b[0m\u001b[0;34m(\u001b[0m\u001b[0;34m*\u001b[0m\u001b[0minput\u001b[0m\u001b[0;34m,\u001b[0m \u001b[0;34m**\u001b[0m\u001b[0mkwargs\u001b[0m\u001b[0;34m)\u001b[0m\u001b[0;34m\u001b[0m\u001b[0;34m\u001b[0m\u001b[0m\n\u001b[0m\u001b[1;32m   1195\u001b[0m         \u001b[0;31m# Do not call functions when jit is used\u001b[0m\u001b[0;34m\u001b[0m\u001b[0;34m\u001b[0m\u001b[0;34m\u001b[0m\u001b[0m\n\u001b[1;32m   1196\u001b[0m         \u001b[0mfull_backward_hooks\u001b[0m\u001b[0;34m,\u001b[0m \u001b[0mnon_full_backward_hooks\u001b[0m \u001b[0;34m=\u001b[0m \u001b[0;34m[\u001b[0m\u001b[0;34m]\u001b[0m\u001b[0;34m,\u001b[0m \u001b[0;34m[\u001b[0m\u001b[0;34m]\u001b[0m\u001b[0;34m\u001b[0m\u001b[0;34m\u001b[0m\u001b[0m\n",
      "\u001b[0;31mKeyboardInterrupt\u001b[0m: "
     ]
    }
   ],
   "source": [
    "open_ended_results = []\n",
    "binary_results = []\n",
    "\n",
    "with torch.no_grad():\n",
    "    for batch in tqdm.tqdm(dm.val_dataloader()):\n",
    "        open_ended_model.eval()\n",
    "        binary_model.eval()\n",
    "\n",
    "        for elem in batch:\n",
    "            batch[elem] = batch[elem].to(device)\n",
    "            \n",
    "\n",
    "        \n",
    "        # Removing prints\n",
    "        # with open(os.devnull, \"w\") as f, contextlib.redirect_stdout(f):\n",
    "        with nullcontext():\n",
    "            out1, batch_answers1 = open_ended_model.model_step(batch)\n",
    "            pred1, true_output1 = open_ended_model.tasks[0].process_outputs(out1, batch_answers1)\n",
    "\n",
    "            print(pred1)\n",
    "\n",
    "            out2, batch_answers2 = binary_model.model_step(batch)\n",
    "            pred2, true_output2 = binary_model.tasks[0].process_outputs(out2, batch_answers2)\n",
    "\n",
    "            questions = binary_model.tokenizer.batch_decode(out2['question_encoded'], skip_special_tokens=True)\n",
    "            thresholds = torch.tensor([float(re.findall(\"\\d+\\.\\d+\",  string)[0]) for string in questions], device=device)\n",
    "\n",
    "            open_ended_predictions = (pred1 > thresholds) == true_output2\n",
    "            binary_predictions = (pred2 > 0.5) == true_output2\n",
    "\n",
    "            open_ended_results.append(open_ended_predictions)\n",
    "            binary_results.append(binary_predictions)"
   ]
  },
  {
   "cell_type": "code",
   "execution_count": 25,
   "metadata": {},
   "outputs": [
    {
     "data": {
      "text/plain": [
       "dict_keys(['num_features', 'cat_features', 'meta_features', 'mask', 'app_id', 'label'])"
      ]
     },
     "execution_count": 25,
     "metadata": {},
     "output_type": "execute_result"
    }
   ],
   "source": [
    "batch.keys()"
   ]
  },
  {
   "cell_type": "code",
   "execution_count": 20,
   "metadata": {},
   "outputs": [
    {
     "data": {
      "text/plain": [
       "tensor(0.8757, device='cuda:0')"
      ]
     },
     "execution_count": 20,
     "metadata": {},
     "output_type": "execute_result"
    }
   ],
   "source": [
    "torch.cat(binary_results).float().mean()"
   ]
  },
  {
   "cell_type": "code",
   "execution_count": 21,
   "metadata": {},
   "outputs": [
    {
     "data": {
      "text/plain": [
       "tensor(0.4865, device='cuda:0')"
      ]
     },
     "execution_count": 21,
     "metadata": {},
     "output_type": "execute_result"
    }
   ],
   "source": [
    "torch.cat(open_ended_results).float().mean()"
   ]
  },
  {
   "cell_type": "markdown",
   "metadata": {},
   "source": [
    "### New metric"
   ]
  },
  {
   "cell_type": "code",
   "execution_count": 79,
   "metadata": {},
   "outputs": [],
   "source": [
    "buckets = torch.linspace(0, 1, 10, device=device)"
   ]
  },
  {
   "cell_type": "code",
   "execution_count": 83,
   "metadata": {},
   "outputs": [],
   "source": [
    "true_buckets = torch.bucketize(true_output, buckets)\n",
    "predicted_buckets = torch.bucketize(pred1, buckets)"
   ]
  },
  {
   "cell_type": "code",
   "execution_count": 91,
   "metadata": {},
   "outputs": [],
   "source": [
    "binary_accuracy = (10 - abs(true_buckets - predicted_buckets)).float().mean() / 10"
   ]
  },
  {
   "cell_type": "code",
   "execution_count": 134,
   "metadata": {},
   "outputs": [],
   "source": [
    "for i in range(1, 10):\n",
    "    thrs = torch.tensor([i / 10] * batch_size, device=device).unsqueeze(1)\n",
    "    out2, batch_answers2 = binary_model.model_step(batch, threshold=thrs)\n",
    "    pred2, true_output2 = binary_model.tasks[0].process_outputs(out2, batch_answers2)\n",
    "\n",
    "    binary_predictions = (pred2 > 0.5) == true_output2"
   ]
  },
  {
   "cell_type": "code",
   "execution_count": 136,
   "metadata": {},
   "outputs": [
    {
     "data": {
      "text/plain": [
       "tensor([True, True, True, True, True, True, True, True, True, True, True, True,\n",
       "        True, True, True, True, True, True, True, True, True, True, True, True,\n",
       "        True, True, True, True, True, True, True, True], device='cuda:0')"
      ]
     },
     "execution_count": 136,
     "metadata": {},
     "output_type": "execute_result"
    }
   ],
   "source": [
    "binary_predictions"
   ]
  }
 ],
 "metadata": {
  "kernelspec": {
   "display_name": "Python 3.7.12 ('base')",
   "language": "python",
   "name": "python3"
  },
  "language_info": {
   "codemirror_mode": {
    "name": "ipython",
    "version": 3
   },
   "file_extension": ".py",
   "mimetype": "text/x-python",
   "name": "python",
   "nbconvert_exporter": "python",
   "pygments_lexer": "ipython3",
   "version": "3.7.12"
  },
  "orig_nbformat": 4,
  "vscode": {
   "interpreter": {
    "hash": "4ff2a09b934b25be9a8b176e9d1e80ece927d491d3847c62b1a0ae23e4142515"
   }
  }
 },
 "nbformat": 4,
 "nbformat_minor": 2
}
