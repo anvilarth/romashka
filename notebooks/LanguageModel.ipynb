{
 "cells": [
  {
   "cell_type": "code",
   "execution_count": 1,
   "id": "8da87289-e8e4-4de5-b1c4-1f278683bc58",
   "metadata": {},
   "outputs": [],
   "source": [
    "%load_ext autoreload\n",
    "%autoreload 2\n",
    "\n",
    "import matplotlib as mpl\n",
    "import seaborn as sns\n",
    "import tqdm\n",
    "from matplotlib import pyplot as plt\n",
    "\n",
    "%matplotlib inline\n",
    "\n",
    "sns.set(style='whitegrid')\n",
    "import matplotlib\n",
    "matplotlib.rcParams[\"figure.dpi\"] = 300\n",
    "plt.rcParams['axes.facecolor'] = 'white'\n",
    "plt.rcParams['figure.facecolor'] = 'white'\n",
    "plt.rcParams['savefig.facecolor'] = 'white'\n",
    "plt.rcParams['savefig.facecolor'] = 'white'"
   ]
  },
  {
   "cell_type": "code",
   "execution_count": 2,
   "id": "8d47bd38-baf2-41c4-8b0d-f6a66c4bdf44",
   "metadata": {},
   "outputs": [],
   "source": [
    "import sys \n",
    "sys.path.append('../')"
   ]
  },
  {
   "cell_type": "code",
   "execution_count": 3,
   "id": "94996fa6-92d2-47c3-808a-75c20eb6f8bd",
   "metadata": {},
   "outputs": [
    {
     "name": "stdout",
     "output_type": "stream",
     "text": [
      "Extension horovod.torch has not been built: /home/user/conda/lib/python3.7/site-packages/horovod/torch/mpi_lib/_mpi_lib.cpython-37m-x86_64-linux-gnu.so not found\n",
      "If this is not expected, reinstall Horovod with HOROVOD_WITH_PYTORCH=1 to debug the build error.\n",
      "Warning! MPI libs are missing, but python applications are still avaiable.\n"
     ]
    },
    {
     "name": "stderr",
     "output_type": "stream",
     "text": [
      "/home/user/conda/lib/python3.7/site-packages/tensorflow/python/framework/dtypes.py:585: DeprecationWarning: `np.object` is a deprecated alias for the builtin `object`. To silence this warning, use `object` by itself. Doing this will not modify any behavior and is safe. \n",
      "Deprecated in NumPy 1.20; for more details and guidance: https://numpy.org/devdocs/release/1.20.0-notes.html#deprecations\n",
      "  np.object,\n",
      "/home/user/conda/lib/python3.7/site-packages/tensorflow/python/framework/dtypes.py:637: DeprecationWarning: `np.bool` is a deprecated alias for the builtin `bool`. To silence this warning, use `bool` by itself. Doing this will not modify any behavior and is safe. If you specifically wanted the numpy scalar type, use `np.bool_` here.\n",
      "Deprecated in NumPy 1.20; for more details and guidance: https://numpy.org/devdocs/release/1.20.0-notes.html#deprecations\n",
      "  np.bool,\n",
      "/home/user/conda/lib/python3.7/site-packages/tensorflow/python/framework/tensor_util.py:108: DeprecationWarning: `np.object` is a deprecated alias for the builtin `object`. To silence this warning, use `object` by itself. Doing this will not modify any behavior and is safe. \n",
      "Deprecated in NumPy 1.20; for more details and guidance: https://numpy.org/devdocs/release/1.20.0-notes.html#deprecations\n",
      "  np.object:\n",
      "/home/user/conda/lib/python3.7/site-packages/tensorflow/python/framework/tensor_util.py:110: DeprecationWarning: `np.bool` is a deprecated alias for the builtin `bool`. To silence this warning, use `bool` by itself. Doing this will not modify any behavior and is safe. If you specifically wanted the numpy scalar type, use `np.bool_` here.\n",
      "Deprecated in NumPy 1.20; for more details and guidance: https://numpy.org/devdocs/release/1.20.0-notes.html#deprecations\n",
      "  np.bool:\n",
      "/home/user/conda/lib/python3.7/site-packages/tensorflow/python/ops/numpy_ops/np_random.py:110: DeprecationWarning: `np.int` is a deprecated alias for the builtin `int`. To silence this warning, use `int` by itself. Doing this will not modify any behavior and is safe. When replacing `np.int`, you may wish to use e.g. `np.int64` or `np.int32` to specify the precision. If you wish to review your current use, check the release note link for additional information.\n",
      "Deprecated in NumPy 1.20; for more details and guidance: https://numpy.org/devdocs/release/1.20.0-notes.html#deprecations\n",
      "  def randint(low, high=None, size=None, dtype=onp.int):  # pylint: disable=missing-function-docstring\n"
     ]
    }
   ],
   "source": [
    "\n",
    "import os\n",
    "import numpy as np\n",
    "import torch\n",
    "import torch.nn as nn\n",
    "import wandb\n",
    "import pytorch_lightning as pl\n",
    "\n",
    "import tqdm\n",
    "import pickle\n",
    "from torch.utils.data import IterableDataset, DataLoader\n",
    "from models import TransactionsModel\n",
    "from data_generators import batches_generator, cat_features_names, num_features_names, meta_features_names\n",
    "\n",
    "from functools import partial\n",
    "from collections import namedtuple\n",
    "from tools import make_time_batch, calculate_embedding_size\n",
    "from transformers import AutoTokenizer,  AutoModelForSeq2SeqLM, T5Tokenizer, T5Model, T5ForConditionalGeneration, Adafactor, AutoConfig"
   ]
  },
  {
   "cell_type": "code",
   "execution_count": 4,
   "id": "a362b80c-bde1-4454-a59b-28eb85f2234f",
   "metadata": {},
   "outputs": [],
   "source": [
    "with open('./assets/num_embedding_projections.pkl', 'rb') as f:\n",
    "    num_embedding_projections = pickle.load(f)\n",
    "    \n",
    "with open('./assets/cat_embedding_projections.pkl', 'rb') as f:\n",
    "    cat_embedding_projections = pickle.load(f)\n",
    "\n",
    "with open('./assets/meta_embedding_projections.pkl', 'rb') as f:\n",
    "    meta_embedding_projections = pickle.load(f)\n",
    "    \n",
    "path_to_dataset = '/home/jovyan/data/train_buckets'\n",
    "\n",
    "dir_with_datasets = os.listdir(path_to_dataset)\n",
    "dataset_train = sorted([os.path.join(path_to_dataset, x) for x in dir_with_datasets])\n",
    "\n",
    "valpath_to_dataset = '/home/jovyan/data/val_buckets'\n",
    "\n",
    "valdir_with_datasets = os.listdir(valpath_to_dataset)\n",
    "dataset_val = sorted([os.path.join(valpath_to_dataset, x) for x in valdir_with_datasets])\n",
    "\n",
    "device = torch.device('cuda' if torch.cuda.is_available() else 'cpu')"
   ]
  },
  {
   "cell_type": "code",
   "execution_count": 5,
   "id": "190c2d57-a0cd-4685-b41e-fb37afa3a202",
   "metadata": {},
   "outputs": [],
   "source": [
    "# !pip install inflect"
   ]
  },
  {
   "cell_type": "markdown",
   "id": "ac6c489c-0c82-484d-8b60-f0b9d13ac2d1",
   "metadata": {
    "jp-MarkdownHeadingCollapsed": true,
    "tags": []
   },
   "source": [
    "### Debugging"
   ]
  },
  {
   "cell_type": "code",
   "execution_count": 221,
   "id": "1376a754-ff97-46e3-9315-a9266695f053",
   "metadata": {},
   "outputs": [],
   "source": [
    "for param in model_transaction.parameters():\n",
    "    param.requires_grad = False"
   ]
  },
  {
   "cell_type": "code",
   "execution_count": null,
   "id": "5eeb9406-ab99-4999-a50c-81fa698380e0",
   "metadata": {},
   "outputs": [],
   "source": [
    "params = list(model.parameters()) + list(linear_mapping.parameters())"
   ]
  },
  {
   "cell_type": "code",
   "execution_count": 223,
   "id": "dd20ba92-7af1-47e3-92f9-657839c5cb41",
   "metadata": {},
   "outputs": [],
   "source": [
    "optimizer = torch.optim.Adam(params, lr=1e-5)"
   ]
  },
  {
   "cell_type": "code",
   "execution_count": 224,
   "id": "6bdee06e-2c96-4cec-bdd9-abf7c7044913",
   "metadata": {},
   "outputs": [],
   "source": [
    "def pad_outputs(lst, tok):\n",
    "    if len(lst) == 2:\n",
    "        lst.append(tok.pad_token_id)\n",
    "    \n",
    "    return lst"
   ]
  },
  {
   "cell_type": "code",
   "execution_count": 230,
   "id": "39d205f3-88c1-4b12-a163-a4b0204db4c3",
   "metadata": {},
   "outputs": [],
   "source": [
    "# wandb.init(pembed_tokensect=\"romashka\", entity=\"serofade\", group='tqa')\n",
    "starting = tok.encode(\"this is the client's transaction history\", return_tensors='pt').cuda()\n",
    "\n",
    "number_of_days = np.random.choice(train_days.numpy())\n",
    "tokenized_days = tok.encode(str(number_of_days), return_tensors='pt').cuda()\n",
    "\n",
    "embedding_starting = model.encoder.embed_tokens(tokenized_days)\n",
    "\n",
    "batch_size = batch['mask'].shape[0]\n",
    "    \n",
    "embedding_starting_necessary = embedding_starting.repeat(batch_size, 1, 1)\n",
    "ending = tok.encode(f\"how many transactions it will make in {number_of_days} days\", return_tensors='pt').cuda()\n",
    "embedding_ending = model.encoder.embed_tokens(tokenized_days).repeat(batch_size, 1, 1)\n",
    "\n",
    "_, labels, _, padding_mask = make_time_batch(batch, number_days=number_of_days)\n",
    "\n",
    "padding_min = max(1, padding_mask.sum(1).min().item())"
   ]
  },
  {
   "cell_type": "code",
   "execution_count": 231,
   "id": "6752c204-e70d-462a-bdc2-a1ab75477c2f",
   "metadata": {},
   "outputs": [],
   "source": [
    "answer_ending = tok.encode('client will make', return_tensors='pt')[:, :-1].cuda().repeat(batch_size, 1)\n",
    "answer_mask = torch.ones(batch_size, 3).cuda()"
   ]
  },
  {
   "cell_type": "code",
   "execution_count": 232,
   "id": "8b51cc96-8976-4efe-88ee-a54537e47057",
   "metadata": {},
   "outputs": [
    {
     "data": {
      "text/plain": [
       "torch.Size([2, 3])"
      ]
     },
     "execution_count": 232,
     "metadata": {},
     "output_type": "execute_result"
    }
   ],
   "source": [
    "answer_ending.shape"
   ]
  },
  {
   "cell_type": "code",
   "execution_count": 233,
   "id": "b3c0fc28-23fc-46e2-84ee-20b6cee3918f",
   "metadata": {
    "collapsed": true,
    "jupyter": {
     "outputs_hidden": true
    },
    "tags": []
   },
   "outputs": [
    {
     "name": "stdout",
     "output_type": "stream",
     "text": [
      "0.16760709881782532\n",
      "0.006415157113224268\n"
     ]
    },
    {
     "ename": "KeyboardInterrupt",
     "evalue": "",
     "output_type": "error",
     "traceback": [
      "\u001b[0;31m---------------------------------------------------------------------------\u001b[0m",
      "\u001b[0;31mKeyboardInterrupt\u001b[0m                         Traceback (most recent call last)",
      "\u001b[0;32m/tmp/ipykernel_121/1582940600.py\u001b[0m in \u001b[0;36m<module>\u001b[0;34m\u001b[0m\n\u001b[1;32m     29\u001b[0m     \u001b[0mloss\u001b[0m\u001b[0;34m.\u001b[0m\u001b[0mbackward\u001b[0m\u001b[0;34m(\u001b[0m\u001b[0mretain_graph\u001b[0m\u001b[0;34m=\u001b[0m\u001b[0;32mTrue\u001b[0m\u001b[0;34m)\u001b[0m\u001b[0;34m\u001b[0m\u001b[0;34m\u001b[0m\u001b[0m\n\u001b[1;32m     30\u001b[0m \u001b[0;34m\u001b[0m\u001b[0m\n\u001b[0;32m---> 31\u001b[0;31m     \u001b[0moptimizer\u001b[0m\u001b[0;34m.\u001b[0m\u001b[0mstep\u001b[0m\u001b[0;34m(\u001b[0m\u001b[0;34m)\u001b[0m\u001b[0;34m\u001b[0m\u001b[0;34m\u001b[0m\u001b[0m\n\u001b[0m\u001b[1;32m     32\u001b[0m \u001b[0;34m\u001b[0m\u001b[0m\n\u001b[1;32m     33\u001b[0m     \u001b[0;32mif\u001b[0m \u001b[0mi\u001b[0m \u001b[0;34m%\u001b[0m \u001b[0;36m100\u001b[0m \u001b[0;34m==\u001b[0m \u001b[0;36m0\u001b[0m \u001b[0;32mand\u001b[0m \u001b[0mi\u001b[0m \u001b[0;34m!=\u001b[0m \u001b[0;36m0\u001b[0m\u001b[0;34m:\u001b[0m\u001b[0;34m\u001b[0m\u001b[0;34m\u001b[0m\u001b[0m\n",
      "\u001b[0;32m/home/user/conda/lib/python3.7/site-packages/torch/optim/optimizer.py\u001b[0m in \u001b[0;36mwrapper\u001b[0;34m(*args, **kwargs)\u001b[0m\n\u001b[1;32m     87\u001b[0m                 \u001b[0mprofile_name\u001b[0m \u001b[0;34m=\u001b[0m \u001b[0;34m\"Optimizer.step#{}.step\"\u001b[0m\u001b[0;34m.\u001b[0m\u001b[0mformat\u001b[0m\u001b[0;34m(\u001b[0m\u001b[0mobj\u001b[0m\u001b[0;34m.\u001b[0m\u001b[0m__class__\u001b[0m\u001b[0;34m.\u001b[0m\u001b[0m__name__\u001b[0m\u001b[0;34m)\u001b[0m\u001b[0;34m\u001b[0m\u001b[0;34m\u001b[0m\u001b[0m\n\u001b[1;32m     88\u001b[0m                 \u001b[0;32mwith\u001b[0m \u001b[0mtorch\u001b[0m\u001b[0;34m.\u001b[0m\u001b[0mautograd\u001b[0m\u001b[0;34m.\u001b[0m\u001b[0mprofiler\u001b[0m\u001b[0;34m.\u001b[0m\u001b[0mrecord_function\u001b[0m\u001b[0;34m(\u001b[0m\u001b[0mprofile_name\u001b[0m\u001b[0;34m)\u001b[0m\u001b[0;34m:\u001b[0m\u001b[0;34m\u001b[0m\u001b[0;34m\u001b[0m\u001b[0m\n\u001b[0;32m---> 89\u001b[0;31m                     \u001b[0;32mreturn\u001b[0m \u001b[0mfunc\u001b[0m\u001b[0;34m(\u001b[0m\u001b[0;34m*\u001b[0m\u001b[0margs\u001b[0m\u001b[0;34m,\u001b[0m \u001b[0;34m**\u001b[0m\u001b[0mkwargs\u001b[0m\u001b[0;34m)\u001b[0m\u001b[0;34m\u001b[0m\u001b[0;34m\u001b[0m\u001b[0m\n\u001b[0m\u001b[1;32m     90\u001b[0m             \u001b[0;32mreturn\u001b[0m \u001b[0mwrapper\u001b[0m\u001b[0;34m\u001b[0m\u001b[0;34m\u001b[0m\u001b[0m\n\u001b[1;32m     91\u001b[0m \u001b[0;34m\u001b[0m\u001b[0m\n",
      "\u001b[0;32m/home/user/conda/lib/python3.7/site-packages/torch/autograd/grad_mode.py\u001b[0m in \u001b[0;36mdecorate_context\u001b[0;34m(*args, **kwargs)\u001b[0m\n\u001b[1;32m     25\u001b[0m         \u001b[0;32mdef\u001b[0m \u001b[0mdecorate_context\u001b[0m\u001b[0;34m(\u001b[0m\u001b[0;34m*\u001b[0m\u001b[0margs\u001b[0m\u001b[0;34m,\u001b[0m \u001b[0;34m**\u001b[0m\u001b[0mkwargs\u001b[0m\u001b[0;34m)\u001b[0m\u001b[0;34m:\u001b[0m\u001b[0;34m\u001b[0m\u001b[0;34m\u001b[0m\u001b[0m\n\u001b[1;32m     26\u001b[0m             \u001b[0;32mwith\u001b[0m \u001b[0mself\u001b[0m\u001b[0;34m.\u001b[0m\u001b[0m__class__\u001b[0m\u001b[0;34m(\u001b[0m\u001b[0;34m)\u001b[0m\u001b[0;34m:\u001b[0m\u001b[0;34m\u001b[0m\u001b[0;34m\u001b[0m\u001b[0m\n\u001b[0;32m---> 27\u001b[0;31m                 \u001b[0;32mreturn\u001b[0m \u001b[0mfunc\u001b[0m\u001b[0;34m(\u001b[0m\u001b[0;34m*\u001b[0m\u001b[0margs\u001b[0m\u001b[0;34m,\u001b[0m \u001b[0;34m**\u001b[0m\u001b[0mkwargs\u001b[0m\u001b[0;34m)\u001b[0m\u001b[0;34m\u001b[0m\u001b[0;34m\u001b[0m\u001b[0m\n\u001b[0m\u001b[1;32m     28\u001b[0m         \u001b[0;32mreturn\u001b[0m \u001b[0mcast\u001b[0m\u001b[0;34m(\u001b[0m\u001b[0mF\u001b[0m\u001b[0;34m,\u001b[0m \u001b[0mdecorate_context\u001b[0m\u001b[0;34m)\u001b[0m\u001b[0;34m\u001b[0m\u001b[0;34m\u001b[0m\u001b[0m\n\u001b[1;32m     29\u001b[0m \u001b[0;34m\u001b[0m\u001b[0m\n",
      "\u001b[0;32m/home/user/conda/lib/python3.7/site-packages/torch/optim/adam.py\u001b[0m in \u001b[0;36mstep\u001b[0;34m(self, closure)\u001b[0m\n\u001b[1;32m    117\u001b[0m                    \u001b[0mgroup\u001b[0m\u001b[0;34m[\u001b[0m\u001b[0;34m'lr'\u001b[0m\u001b[0;34m]\u001b[0m\u001b[0;34m,\u001b[0m\u001b[0;34m\u001b[0m\u001b[0;34m\u001b[0m\u001b[0m\n\u001b[1;32m    118\u001b[0m                    \u001b[0mgroup\u001b[0m\u001b[0;34m[\u001b[0m\u001b[0;34m'weight_decay'\u001b[0m\u001b[0;34m]\u001b[0m\u001b[0;34m,\u001b[0m\u001b[0;34m\u001b[0m\u001b[0;34m\u001b[0m\u001b[0m\n\u001b[0;32m--> 119\u001b[0;31m                    group['eps'])\n\u001b[0m\u001b[1;32m    120\u001b[0m         \u001b[0;32mreturn\u001b[0m \u001b[0mloss\u001b[0m\u001b[0;34m\u001b[0m\u001b[0;34m\u001b[0m\u001b[0m\n",
      "\u001b[0;32m/home/user/conda/lib/python3.7/site-packages/torch/optim/_functional.py\u001b[0m in \u001b[0;36madam\u001b[0;34m(params, grads, exp_avgs, exp_avg_sqs, max_exp_avg_sqs, state_steps, amsgrad, beta1, beta2, lr, weight_decay, eps)\u001b[0m\n\u001b[1;32m     90\u001b[0m             \u001b[0mdenom\u001b[0m \u001b[0;34m=\u001b[0m \u001b[0;34m(\u001b[0m\u001b[0mmax_exp_avg_sqs\u001b[0m\u001b[0;34m[\u001b[0m\u001b[0mi\u001b[0m\u001b[0;34m]\u001b[0m\u001b[0;34m.\u001b[0m\u001b[0msqrt\u001b[0m\u001b[0;34m(\u001b[0m\u001b[0;34m)\u001b[0m \u001b[0;34m/\u001b[0m \u001b[0mmath\u001b[0m\u001b[0;34m.\u001b[0m\u001b[0msqrt\u001b[0m\u001b[0;34m(\u001b[0m\u001b[0mbias_correction2\u001b[0m\u001b[0;34m)\u001b[0m\u001b[0;34m)\u001b[0m\u001b[0;34m.\u001b[0m\u001b[0madd_\u001b[0m\u001b[0;34m(\u001b[0m\u001b[0meps\u001b[0m\u001b[0;34m)\u001b[0m\u001b[0;34m\u001b[0m\u001b[0;34m\u001b[0m\u001b[0m\n\u001b[1;32m     91\u001b[0m         \u001b[0;32melse\u001b[0m\u001b[0;34m:\u001b[0m\u001b[0;34m\u001b[0m\u001b[0;34m\u001b[0m\u001b[0m\n\u001b[0;32m---> 92\u001b[0;31m             \u001b[0mdenom\u001b[0m \u001b[0;34m=\u001b[0m \u001b[0;34m(\u001b[0m\u001b[0mexp_avg_sq\u001b[0m\u001b[0;34m.\u001b[0m\u001b[0msqrt\u001b[0m\u001b[0;34m(\u001b[0m\u001b[0;34m)\u001b[0m \u001b[0;34m/\u001b[0m \u001b[0mmath\u001b[0m\u001b[0;34m.\u001b[0m\u001b[0msqrt\u001b[0m\u001b[0;34m(\u001b[0m\u001b[0mbias_correction2\u001b[0m\u001b[0;34m)\u001b[0m\u001b[0;34m)\u001b[0m\u001b[0;34m.\u001b[0m\u001b[0madd_\u001b[0m\u001b[0;34m(\u001b[0m\u001b[0meps\u001b[0m\u001b[0;34m)\u001b[0m\u001b[0;34m\u001b[0m\u001b[0;34m\u001b[0m\u001b[0m\n\u001b[0m\u001b[1;32m     93\u001b[0m \u001b[0;34m\u001b[0m\u001b[0m\n\u001b[1;32m     94\u001b[0m         \u001b[0mstep_size\u001b[0m \u001b[0;34m=\u001b[0m \u001b[0mlr\u001b[0m \u001b[0;34m/\u001b[0m \u001b[0mbias_correction1\u001b[0m\u001b[0;34m\u001b[0m\u001b[0;34m\u001b[0m\u001b[0m\n",
      "\u001b[0;31mKeyboardInterrupt\u001b[0m: "
     ]
    }
   ],
   "source": [
    "# if padding_min == 1:\n",
    "#     continue\n",
    "\n",
    "# for i, batch in tqdm.tqdm(enumerate(train_dataloader)):\n",
    "for i in range(10000):\n",
    "     \n",
    "    out = linear_mapping(model_transaction.get_embs(batch)[0])\n",
    "    encoder_input =  out[:, padding_min-1:padding_min]\n",
    "\n",
    "    rly_encoder_input = torch.cat([embedding_starting_necessary, encoder_input, embedding_ending], dim=1)\n",
    "    input_labels = labels[:, padding_min - 1]\n",
    "    target = tok.batch_encode_plus(list(map(lambda x: str(x.item()), input_labels.int())), padding=True, return_tensors='pt')\n",
    "    \n",
    "    torch_labels = target.input_ids.cuda()\n",
    "    attention_mask = target.attention_mask.cuda()\n",
    "    \n",
    "    answer = torch.cat([answer_ending, torch_labels], dim=1)\n",
    "    decoder_mask = torch.cat([answer_mask, attention_mask], dim=1)\n",
    "    # rly_encoder_input = torch.cat([encoder_input, day_prefix], dim=1).repeat(padding_min, 1, 1)  \n",
    "    # torch_labels = torch.tensor(list(map(lambda x: pad_outputs(tok.encode(str(x.int().item())), tok), labels.int()[:, :padding_min].reshape(-1)))).cuda()\n",
    "    \n",
    "    # break\n",
    "    \n",
    "#     attention_mask = torch.triu(torch.ones(padding_min, padding_min+2)).repeat(batch_size, 1).cuda()\n",
    "    \n",
    "    outputs = model(inputs_embeds=rly_encoder_input, labels=answer, decoder_attention_mask=decoder_mask)\n",
    "    loss = outputs.loss\n",
    "    \n",
    "    loss.backward(retain_graph=True)\n",
    "    \n",
    "    optimizer.step()\n",
    "    \n",
    "    if i % 100 == 0 and i != 0:\n",
    "        # wandb.log({'train_loss': loss.item()})\n",
    "        print(loss.item())\n",
    "    \n",
    "# wandb.finish()"
   ]
  },
  {
   "cell_type": "code",
   "execution_count": 234,
   "id": "c925b696-94a0-4d7e-92d0-6c6fe627d8a3",
   "metadata": {},
   "outputs": [
    {
     "data": {
      "text/plain": [
       "['client will make 32</s>', 'client will make 33</s>']"
      ]
     },
     "execution_count": 234,
     "metadata": {},
     "output_type": "execute_result"
    }
   ],
   "source": [
    "tok.batch_decode(outputs.logits.argmax(2))"
   ]
  },
  {
   "cell_type": "code",
   "execution_count": 235,
   "id": "31f61159-d4f3-4a12-a67e-0f02a9968e0b",
   "metadata": {},
   "outputs": [
    {
     "data": {
      "text/plain": [
       "30"
      ]
     },
     "execution_count": 235,
     "metadata": {},
     "output_type": "execute_result"
    }
   ],
   "source": [
    "number_of_days"
   ]
  },
  {
   "cell_type": "code",
   "execution_count": 236,
   "id": "32944a1a-4a7c-4029-ba7a-7fc127a0fe04",
   "metadata": {},
   "outputs": [
    {
     "data": {
      "text/plain": [
       "tensor([32., 33.], device='cuda:0')"
      ]
     },
     "execution_count": 236,
     "metadata": {},
     "output_type": "execute_result"
    }
   ],
   "source": [
    "input_labels"
   ]
  },
  {
   "cell_type": "code",
   "execution_count": 132,
   "id": "1d85ccae-02bc-426f-8584-c88cc6edf6e5",
   "metadata": {},
   "outputs": [
    {
     "name": "stdout",
     "output_type": "stream",
     "text": [
      "tensor(460, device='cuda:0') tensor(-9.5558, device='cuda:0', grad_fn=<SelectBackward>)\n",
      "tensor(11526, device='cuda:0') tensor(-11.9299, device='cuda:0', grad_fn=<SelectBackward>)\n"
     ]
    }
   ],
   "source": [
    "for i, elem in enumerate(torch_labels[:, 0]):\n",
    "    print(elem, outputs.logits[i, 0, elem])"
   ]
  },
  {
   "cell_type": "code",
   "execution_count": 133,
   "id": "7421c201-a363-4d79-8ae6-91aa706cfa99",
   "metadata": {},
   "outputs": [
    {
     "data": {
      "text/plain": [
       "tensor([[1188,   56,   36, 2838,    1],\n",
       "        [1188,   56,   36, 2838,    1]], device='cuda:0')"
      ]
     },
     "execution_count": 133,
     "metadata": {},
     "output_type": "execute_result"
    }
   ],
   "source": [
    "outputs.logits.argmax(2)"
   ]
  },
  {
   "cell_type": "code",
   "execution_count": 134,
   "id": "79ccd821-9cb7-4c98-86a3-ba56e96c1791",
   "metadata": {
    "tags": []
   },
   "outputs": [
    {
     "data": {
      "text/plain": [
       "tensor([[[1188, 2838,  820,    8,    3],\n",
       "         [  56,   19, 2838,    3,   65],\n",
       "         [  36,   59,  726,   43,  143],\n",
       "         [2838,    3,    8,   46, 1942],\n",
       "         [   1,  770, 1093,    3,  399]],\n",
       "\n",
       "        [[1188, 2838,  820,    8,    3],\n",
       "         [  56, 2838,   19,    3,   47],\n",
       "         [  36,  726,   59,   43,  129],\n",
       "         [2838,    3,    8,   46, 1942],\n",
       "         [   1,  770,    3, 4364,    5]]], device='cuda:0')"
      ]
     },
     "execution_count": 134,
     "metadata": {},
     "output_type": "execute_result"
    }
   ],
   "source": [
    "torch.topk(outputs.logits, 5).indices"
   ]
  },
  {
   "cell_type": "code",
   "execution_count": 136,
   "id": "c6cf1d00-1db4-4728-b7fb-d8ba6a4732cc",
   "metadata": {
    "tags": []
   },
   "outputs": [
    {
     "name": "stdout",
     "output_type": "stream",
     "text": [
      "20.0\n",
      "1 tensor(-6.8242, device='cuda:0', grad_fn=<SelectBackward>)\n",
      "2 tensor(-6.3647, device='cuda:0', grad_fn=<SelectBackward>)\n",
      "3 tensor(-7.7969, device='cuda:0', grad_fn=<SelectBackward>)\n",
      "4 tensor(-8.5440, device='cuda:0', grad_fn=<SelectBackward>)\n",
      "5 tensor(-8.3946, device='cuda:0', grad_fn=<SelectBackward>)\n",
      "6 tensor(-11.4399, device='cuda:0', grad_fn=<SelectBackward>)\n",
      "7 tensor(-11.5413, device='cuda:0', grad_fn=<SelectBackward>)\n",
      "8 tensor(-11.2431, device='cuda:0', grad_fn=<SelectBackward>)\n",
      "9 tensor(-10.1065, device='cuda:0', grad_fn=<SelectBackward>)\n",
      "10 tensor(-10.4598, device='cuda:0', grad_fn=<SelectBackward>)\n",
      "11 tensor(-10.9918, device='cuda:0', grad_fn=<SelectBackward>)\n",
      "12 tensor(-10.6879, device='cuda:0', grad_fn=<SelectBackward>)\n",
      "13 tensor(-9.8635, device='cuda:0', grad_fn=<SelectBackward>)\n",
      "14 tensor(-10.0260, device='cuda:0', grad_fn=<SelectBackward>)\n",
      "15 tensor(-10.2711, device='cuda:0', grad_fn=<SelectBackward>)\n",
      "16 tensor(-10.0164, device='cuda:0', grad_fn=<SelectBackward>)\n",
      "17 tensor(-10.1382, device='cuda:0', grad_fn=<SelectBackward>)\n",
      "18 tensor(-9.6740, device='cuda:0', grad_fn=<SelectBackward>)\n",
      "19 tensor(-8.6607, device='cuda:0', grad_fn=<SelectBackward>)\n",
      "20 tensor(-9.5558, device='cuda:0', grad_fn=<SelectBackward>)\n",
      "21 tensor(-9.3792, device='cuda:0', grad_fn=<SelectBackward>)\n",
      "22 tensor(-9.6589, device='cuda:0', grad_fn=<SelectBackward>)\n",
      "23 tensor(-9.3690, device='cuda:0', grad_fn=<SelectBackward>)\n",
      "24 tensor(-10.0820, device='cuda:0', grad_fn=<SelectBackward>)\n"
     ]
    }
   ],
   "source": [
    "k = 0\n",
    "\n",
    "print(input_labels[k].item())\n",
    "for i in range(1, 25):\n",
    "    print(i, outputs.logits[k, 0, tok.encode(str(i))[0]])"
   ]
  },
  {
   "cell_type": "code",
   "execution_count": 268,
   "id": "92a18918-1b4c-4540-b6f1-9e06550778e4",
   "metadata": {},
   "outputs": [],
   "source": [
    "# for i, elem in enumerate(torch_labels[:, 0]):\n",
    "#     print(elem, outputs.logits[i, 0, elem])"
   ]
  },
  {
   "cell_type": "code",
   "execution_count": 317,
   "id": "d6ab7884-892f-446d-91f5-af63a8e40a3e",
   "metadata": {
    "collapsed": true,
    "jupyter": {
     "outputs_hidden": true
    },
    "tags": []
   },
   "outputs": [
    {
     "name": "stdout",
     "output_type": "stream",
     "text": [
      "1 2 209\n",
      "2 2 204\n",
      "3 2 220\n",
      "4 2 314\n",
      "5 2 305\n",
      "6 2 431\n",
      "7 2 489\n",
      "8 2 505\n",
      "9 2 668\n",
      "10 2 335\n",
      "11 2 850\n",
      "12 2 586\n",
      "13 2 1179\n",
      "14 2 968\n",
      "15 2 627\n",
      "16 2 898\n",
      "17 2 1003\n",
      "18 2 507\n",
      "19 2 957\n",
      "20 2 460\n",
      "21 2 1401\n",
      "22 2 1630\n",
      "23 2 1902\n",
      "24 2 997\n",
      "25 2 944\n",
      "26 2 2208\n",
      "27 2 2307\n",
      "28 2 2059\n",
      "29 2 2838\n",
      "30 2 604\n",
      "31 2 2664\n",
      "32 2 3538\n",
      "33 2 5400\n",
      "34 2 6154\n",
      "35 2 3097\n",
      "36 2 4475\n",
      "37 2 6862\n",
      "38 2 6654\n",
      "39 2 6352\n",
      "40 2 1283\n",
      "41 2 8798\n",
      "42 2 6426\n",
      "43 2 8838\n",
      "44 2 8537\n",
      "45 2 3479\n",
      "46 2 9668\n",
      "47 2 10635\n",
      "48 2 4678\n",
      "49 2 9526\n",
      "50 2 943\n",
      "51 2 11696\n",
      "52 2 9065\n",
      "53 2 12210\n",
      "54 2 10630\n",
      "55 2 6897\n",
      "56 2 11526\n",
      "57 3 3\n",
      "58 3 3\n",
      "59 3 3\n",
      "60 2 1640\n",
      "61 3 3\n",
      "62 3 3\n",
      "63 3 3\n",
      "64 2 6687\n",
      "65 2 7123\n",
      "66 3 3\n",
      "67 3 3\n",
      "68 3 3\n",
      "69 3 3\n",
      "70 2 2861\n",
      "71 3 3\n",
      "72 2 9455\n",
      "73 3 3\n",
      "74 3 3\n",
      "75 2 6374\n",
      "76 3 3\n",
      "77 3 3\n",
      "78 3 3\n",
      "79 3 3\n",
      "80 2 2775\n",
      "81 3 3\n",
      "82 3 3\n",
      "83 3 3\n",
      "84 3 3\n",
      "85 2 11989\n",
      "86 3 3\n",
      "87 3 3\n",
      "88 3 3\n",
      "89 3 3\n",
      "90 2 2777\n",
      "91 3 3\n",
      "92 3 3\n",
      "93 3 3\n",
      "94 3 3\n",
      "95 2 11923\n",
      "96 3 3\n",
      "97 3 3\n",
      "98 3 3\n",
      "99 2 12185\n"
     ]
    }
   ],
   "source": [
    "for i in range(1, 100):\n",
    "    print(i, len(tok.encode(str(i))),  tok.encode(str(i))[0])"
   ]
  },
  {
   "cell_type": "code",
   "execution_count": 518,
   "id": "ee6fdcbe-565d-4aca-b978-4db0d188c97e",
   "metadata": {},
   "outputs": [],
   "source": [
    "with torch.no_grad():\n",
    "    model.eval()\n",
    "    model_transaction.eval()\n",
    "    \n",
    "    batch_size = batch['mask'].shape[0]\n",
    "    \n",
    "    number_of_days = np.random.choice(train_days.numpy())\n",
    "    tokenized_days = tok.encode(str(number_of_days), return_tensors='pt').cuda()\n",
    "    day_prefix = model.encoder.embed_tokens(tokenized_days).repeat(batch_size, 1, 1)\n",
    "    \n",
    "    _, labels, _, padding_mask = make_time_batch(batch, number_days=30)\n",
    "    \n",
    "    padding_min = max(1, padding_mask.sum(1).min().item())\n",
    "        \n",
    "    out = linear_mapping(model_transaction.get_embs(batch)[0])\n",
    "    encoder_input =  out[:, :padding_min]\n",
    "\n",
    "    rly_encoder_input = torch.cat([encoder_input, day_prefix], dim=1).repeat(padding_min, 1, 1)  \n",
    "    torch_labels = torch.tensor(list(map(lambda x: pad_outputs(tok.encode(str(x.int().item())), tok), labels.int()[:, :padding_min].reshape(-1)))).cuda()\n",
    "    \n",
    "    attention_mask = torch.triu(torch.ones(padding_min, padding_min+2)).repeat(batch_size, 1).cuda()\n",
    "    \n",
    "    outputs = model(inputs_embeds=rly_encoder_input, labels=torch_labels)\n",
    "    loss = outputs.loss"
   ]
  },
  {
   "cell_type": "markdown",
   "id": "fded203e-9c2f-4e38-af4f-c1b01578aebb",
   "metadata": {
    "jp-MarkdownHeadingCollapsed": true,
    "tags": []
   },
   "source": [
    "### Full version"
   ]
  },
  {
   "cell_type": "code",
   "execution_count": 392,
   "id": "a0d73759-f06d-499e-a074-1c2b628cdb55",
   "metadata": {},
   "outputs": [
    {
     "name": "stdout",
     "output_type": "stream",
     "text": [
      "USING whisper\n"
     ]
    }
   ],
   "source": [
    "ckpt = torch.load('/home/jovyan/romashka/wandb/run-20230222_133923-dhkmskss/files/checkpoints/final_model.ckpt')\n",
    "\n",
    "model_transaction = TransactionsModel(cat_embedding_projections,\n",
    "                          cat_features_names,\n",
    "                          num_embedding_projections,\n",
    "                          num_features_names,\n",
    "                          meta_embedding_projections,\n",
    "                          meta_features_names,\n",
    "                          encoder_type='whisper/tiny',\n",
    "                          head_type='next',\n",
    "                          embedding_dropout=0.1\n",
    "                         )\n",
    "model_transaction.load_state_dict(ckpt)\n",
    "model_transaction.cuda();"
   ]
  },
  {
   "cell_type": "code",
   "execution_count": 393,
   "id": "23436af1-d127-40b4-8223-fb73bad18d44",
   "metadata": {},
   "outputs": [],
   "source": [
    "linear_mapping = nn.Linear(384, 512).cuda()"
   ]
  },
  {
   "cell_type": "code",
   "execution_count": 394,
   "id": "ef2a31e1-71bf-4d8e-a46f-58cc1c162246",
   "metadata": {},
   "outputs": [],
   "source": [
    "tok = AutoTokenizer.from_pretrained('google/flan-t5-small')\n",
    "model = AutoModelForSeq2SeqLM.from_pretrained('google/flan-t5-small').cuda()"
   ]
  },
  {
   "cell_type": "code",
   "execution_count": 395,
   "id": "ce7d6d61-7721-418c-aa02-1e61cc493648",
   "metadata": {},
   "outputs": [],
   "source": [
    "train_dataloader = batches_generator(dataset_train, batch_size=16, shuffle=True,\n",
    "                                            device=device, is_train=True, output_format='torch',  min_seq_len=100, max_seq_len=300)\n",
    "\n",
    "batch = next(iter(train_dataloader))"
   ]
  },
  {
   "cell_type": "code",
   "execution_count": 396,
   "id": "f13a2a6a-c04c-44f6-adcc-1d6b1b5f72ec",
   "metadata": {},
   "outputs": [],
   "source": [
    "# for param in model.parameters():\n",
    "#     param.requires_grad = False"
   ]
  },
  {
   "cell_type": "code",
   "execution_count": 397,
   "id": "848ef3fd-49ba-41da-b979-0859c9163f2c",
   "metadata": {},
   "outputs": [],
   "source": [
    "params = list(model.parameters()) + list(linear_mapping.parameters())  + list(model_transaction.parameters())"
   ]
  },
  {
   "cell_type": "code",
   "execution_count": 398,
   "id": "741d1ed7-dd4f-44ac-905f-07cca5806428",
   "metadata": {},
   "outputs": [],
   "source": [
    "optimizer = torch.optim.AdamW(params, lr=1e-5)"
   ]
  },
  {
   "cell_type": "code",
   "execution_count": 399,
   "id": "34cdd9ce-b459-4e9f-83c0-5796281d5428",
   "metadata": {},
   "outputs": [],
   "source": [
    "def pad_outputs(lst, tok):\n",
    "    if len(lst) == 2:\n",
    "        lst.append(tok.pad_token_id)\n",
    "    \n",
    "    return lst"
   ]
  },
  {
   "cell_type": "code",
   "execution_count": 415,
   "id": "29b5282f-f42f-48df-8db1-5261f000cc35",
   "metadata": {},
   "outputs": [],
   "source": [
    "# wandb.init(pembed_tokensect=\"romashka\", entity=\"serofade\", group='tqa')\n",
    "number_of_days = np.random.choice(train_days.numpy())\n",
    "\n",
    "starting = tok.encode(\"this is the client's transaction history\", return_tensors='pt').cuda()\n",
    "question = tok.encode(f\"how many transactions the client will make in the next {number_of_days} days\", return_tensors='pt').cuda()\n",
    "answer_ending = tok.encode('the client will make', return_tensors='pt')[:, :-1].cuda()"
   ]
  },
  {
   "cell_type": "code",
   "execution_count": 554,
   "id": "62064183-2354-44e7-9181-3713010f3142",
   "metadata": {},
   "outputs": [
    {
     "data": {
      "text/plain": [
       "tensor([ 9., 10.,  9., 11., 22., 39., 11., 31.], device='cuda:0')"
      ]
     },
     "execution_count": 554,
     "metadata": {},
     "output_type": "execute_result"
    }
   ],
   "source": [
    "input_labels"
   ]
  },
  {
   "cell_type": "code",
   "execution_count": 551,
   "id": "fc3c8ae4-f12a-47cf-a587-b7ac14b6562c",
   "metadata": {},
   "outputs": [
    {
     "data": {
      "text/plain": [
       "['the client will make 9 transactions</s>',\n",
       " 'the client will make 10 transactions</s>',\n",
       " 'the client will make 9 transactions</s>',\n",
       " 'the client will make 11 transactions</s>',\n",
       " 'the client will make 22 transactions</s>',\n",
       " 'the client will make 39 transactions</s>',\n",
       " 'the client will make 11 transactions</s>',\n",
       " 'the client will make 31 transactions</s>']"
      ]
     },
     "execution_count": 551,
     "metadata": {},
     "output_type": "execute_result"
    }
   ],
   "source": [
    "tok.batch_decode(answer)"
   ]
  },
  {
   "cell_type": "code",
   "execution_count": 420,
   "id": "4860fec6-36e6-448c-99dc-a972a9e49055",
   "metadata": {
    "collapsed": true,
    "jupyter": {
     "outputs_hidden": true
    },
    "tags": []
   },
   "outputs": [
    {
     "name": "stderr",
     "output_type": "stream",
     "text": [
      "  1%|          | 103/10000 [00:10<15:49, 10.42it/s]"
     ]
    },
    {
     "name": "stdout",
     "output_type": "stream",
     "text": [
      "['the client will make 22 transactions</s>', 'the client will make 48 transactions</s>', 'the client will make 60 transactions</s>', 'the client will make 8 transactions</s>', 'the client will make 23 transactions</s>', 'the client will make 27 transactions</s>', 'the client will make 36 transactions</s>', 'the client will make 12 transactions</s>', 'the client will make 10 transactions</s>', 'the client will make 21 transactions</s>', 'the client will make 17 transactions</s>', 'the client will make 8 transactions</s>', 'the client will make 12 transactions</s>', 'the client will make 19 transactions</s>', 'the client will make 65 transactions</s>', 'the client will make 38 transactions</s>']\n",
      "tensor([22., 48., 60.,  8., 23., 27., 36., 12., 10., 21., 17.,  8., 12., 19.,\n",
      "        65., 38.], device='cuda:0')\n",
      "0.021726472303271294\n"
     ]
    },
    {
     "name": "stderr",
     "output_type": "stream",
     "text": [
      "  2%|▏         | 174/10000 [00:18<17:09,  9.54it/s]\n"
     ]
    },
    {
     "ename": "KeyboardInterrupt",
     "evalue": "",
     "output_type": "error",
     "traceback": [
      "\u001b[0;31m---------------------------------------------------------------------------\u001b[0m",
      "\u001b[0;31mKeyboardInterrupt\u001b[0m                         Traceback (most recent call last)",
      "\u001b[0;32m/tmp/ipykernel_121/3472229911.py\u001b[0m in \u001b[0;36m<module>\u001b[0;34m\u001b[0m\n\u001b[1;32m     39\u001b[0m         \u001b[0mloss\u001b[0m \u001b[0;34m=\u001b[0m \u001b[0moutputs\u001b[0m\u001b[0;34m.\u001b[0m\u001b[0mloss\u001b[0m\u001b[0;34m\u001b[0m\u001b[0;34m\u001b[0m\u001b[0m\n\u001b[1;32m     40\u001b[0m \u001b[0;34m\u001b[0m\u001b[0m\n\u001b[0;32m---> 41\u001b[0;31m         \u001b[0mloss\u001b[0m\u001b[0;34m.\u001b[0m\u001b[0mbackward\u001b[0m\u001b[0;34m(\u001b[0m\u001b[0mretain_graph\u001b[0m\u001b[0;34m=\u001b[0m\u001b[0;32mTrue\u001b[0m\u001b[0;34m)\u001b[0m\u001b[0;34m\u001b[0m\u001b[0;34m\u001b[0m\u001b[0m\n\u001b[0m\u001b[1;32m     42\u001b[0m \u001b[0;34m\u001b[0m\u001b[0m\n\u001b[1;32m     43\u001b[0m         \u001b[0moptimizer\u001b[0m\u001b[0;34m.\u001b[0m\u001b[0mstep\u001b[0m\u001b[0;34m(\u001b[0m\u001b[0;34m)\u001b[0m\u001b[0;34m\u001b[0m\u001b[0;34m\u001b[0m\u001b[0m\n",
      "\u001b[0;32m/home/user/conda/lib/python3.7/site-packages/torch/tensor.py\u001b[0m in \u001b[0;36mbackward\u001b[0;34m(self, gradient, retain_graph, create_graph, inputs)\u001b[0m\n\u001b[1;32m    243\u001b[0m                 \u001b[0mcreate_graph\u001b[0m\u001b[0;34m=\u001b[0m\u001b[0mcreate_graph\u001b[0m\u001b[0;34m,\u001b[0m\u001b[0;34m\u001b[0m\u001b[0;34m\u001b[0m\u001b[0m\n\u001b[1;32m    244\u001b[0m                 inputs=inputs)\n\u001b[0;32m--> 245\u001b[0;31m         \u001b[0mtorch\u001b[0m\u001b[0;34m.\u001b[0m\u001b[0mautograd\u001b[0m\u001b[0;34m.\u001b[0m\u001b[0mbackward\u001b[0m\u001b[0;34m(\u001b[0m\u001b[0mself\u001b[0m\u001b[0;34m,\u001b[0m \u001b[0mgradient\u001b[0m\u001b[0;34m,\u001b[0m \u001b[0mretain_graph\u001b[0m\u001b[0;34m,\u001b[0m \u001b[0mcreate_graph\u001b[0m\u001b[0;34m,\u001b[0m \u001b[0minputs\u001b[0m\u001b[0;34m=\u001b[0m\u001b[0minputs\u001b[0m\u001b[0;34m)\u001b[0m\u001b[0;34m\u001b[0m\u001b[0;34m\u001b[0m\u001b[0m\n\u001b[0m\u001b[1;32m    246\u001b[0m \u001b[0;34m\u001b[0m\u001b[0m\n\u001b[1;32m    247\u001b[0m     \u001b[0;32mdef\u001b[0m \u001b[0mregister_hook\u001b[0m\u001b[0;34m(\u001b[0m\u001b[0mself\u001b[0m\u001b[0;34m,\u001b[0m \u001b[0mhook\u001b[0m\u001b[0;34m)\u001b[0m\u001b[0;34m:\u001b[0m\u001b[0;34m\u001b[0m\u001b[0;34m\u001b[0m\u001b[0m\n",
      "\u001b[0;32m/home/user/conda/lib/python3.7/site-packages/torch/autograd/__init__.py\u001b[0m in \u001b[0;36mbackward\u001b[0;34m(tensors, grad_tensors, retain_graph, create_graph, grad_variables, inputs)\u001b[0m\n\u001b[1;32m    145\u001b[0m     Variable._execution_engine.run_backward(\n\u001b[1;32m    146\u001b[0m         \u001b[0mtensors\u001b[0m\u001b[0;34m,\u001b[0m \u001b[0mgrad_tensors_\u001b[0m\u001b[0;34m,\u001b[0m \u001b[0mretain_graph\u001b[0m\u001b[0;34m,\u001b[0m \u001b[0mcreate_graph\u001b[0m\u001b[0;34m,\u001b[0m \u001b[0minputs\u001b[0m\u001b[0;34m,\u001b[0m\u001b[0;34m\u001b[0m\u001b[0;34m\u001b[0m\u001b[0m\n\u001b[0;32m--> 147\u001b[0;31m         allow_unreachable=True, accumulate_grad=True)  # allow_unreachable flag\n\u001b[0m\u001b[1;32m    148\u001b[0m \u001b[0;34m\u001b[0m\u001b[0m\n\u001b[1;32m    149\u001b[0m \u001b[0;34m\u001b[0m\u001b[0m\n",
      "\u001b[0;31mKeyboardInterrupt\u001b[0m: "
     ]
    }
   ],
   "source": [
    "for epoch in range(10):\n",
    "    for i, batch in tqdm.tqdm(enumerate(train_dataloader), position=0):\n",
    "# for _ in range(1):\n",
    "#     for i in tqdm.tqdm(range(10000), position=0):\n",
    "        number_of_days = np.random.choice(train_days.numpy())\n",
    "        question = tok.encode(f\"how many transactions the client will make in the next {number_of_days} days\", return_tensors='pt').cuda()\n",
    "        embedding_prefix = model.encoder.embed_tokens(starting)\n",
    "        embedding_question = model.encoder.embed_tokens(question)\n",
    "\n",
    "        batch_size = batch['mask'].shape[0]\n",
    "\n",
    "        batch_embedding_prefix = embedding_prefix.repeat(batch_size, 1, 1)\n",
    "        batch_embedding_question = embedding_question.repeat(batch_size, 1, 1)\n",
    "        batch_answer_ending = answer_ending.repeat(batch_size, 1)\n",
    "\n",
    "        answer_mask = torch.ones(batch_size, answer_ending.shape[1]).cuda()\n",
    "\n",
    "        _, labels, _, padding_mask = make_time_batch(batch, number_days=number_of_days)\n",
    "        padding_min = max(1, padding_mask.sum(1).min().item())\n",
    "\n",
    "        if padding_min == 1:\n",
    "            continue\n",
    "\n",
    "        out = linear_mapping(model_transaction.get_embs(batch)[0])\n",
    "        encoder_input = out[:, :padding_min]\n",
    "\n",
    "        rly_encoder_input = torch.cat([batch_embedding_prefix, encoder_input, batch_embedding_question], dim=1)\n",
    "\n",
    "        input_labels = labels[:, padding_min - 1]\n",
    "        target = tok.batch_encode_plus(list(map(lambda x: str(x.item()) + ' transactions', input_labels.int())), padding=True, return_tensors='pt')\n",
    "\n",
    "        torch_labels = target.input_ids.cuda()\n",
    "        attention_mask = target.attention_mask.cuda()\n",
    "\n",
    "        answer = torch.cat([batch_answer_ending, torch_labels], dim=1)\n",
    "        decoder_mask = torch.cat([answer_mask, attention_mask], dim=1)\n",
    "\n",
    "        outputs = model(inputs_embeds=rly_encoder_input, labels=answer, decoder_attention_mask=decoder_mask)\n",
    "        loss = outputs.loss\n",
    "\n",
    "        loss.backward(retain_graph=True)\n",
    "\n",
    "        optimizer.step()\n",
    "\n",
    "        if i % 100 == 0 and i != 0:\n",
    "            # wandb.log({'train_loss': loss.item()})\n",
    "            print(tok.batch_decode(outputs.logits.argmax(2)))\n",
    "            print(input_labels)\n",
    "            print(loss.item())\n",
    "\n",
    "    # wandb.finish()"
   ]
  },
  {
   "cell_type": "markdown",
   "id": "da018fcf-ee40-46cc-b166-07e2b25eab70",
   "metadata": {
    "jp-MarkdownHeadingCollapsed": true,
    "tags": []
   },
   "source": [
    "### Validation"
   ]
  },
  {
   "cell_type": "code",
   "execution_count": 542,
   "id": "5e141b14-f96a-410c-ae0f-59927f7cbbc4",
   "metadata": {},
   "outputs": [],
   "source": [
    "def transform_labels(label):\n",
    "    if label.isdigit():\n",
    "        return int(label)\n",
    "    return -10000"
   ]
  },
  {
   "cell_type": "code",
   "execution_count": 74,
   "id": "8b7016da-9034-40c3-9183-8111c162943e",
   "metadata": {},
   "outputs": [],
   "source": [
    "valpath_to_dataset = '/home/jovyan/data/alfa/val_buckets'\n",
    "\n",
    "valdir_with_datasets = os.listdir(valpath_to_dataset)\n",
    "dataset_val = sorted([os.path.join(valpath_to_dataset, x) for x in valdir_with_datasets])"
   ]
  },
  {
   "cell_type": "code",
   "execution_count": 545,
   "id": "329a4687-f719-4dad-b870-cb047b8cd334",
   "metadata": {},
   "outputs": [],
   "source": [
    "val_dataloader = batches_generator(dataset_val, batch_size=16, shuffle=True,\n",
    "                                            device=device, is_train=True, output_format='torch',  min_seq_len=50, max_seq_len=150)\n",
    "\n",
    "batch = next(iter(val_dataloader))"
   ]
  },
  {
   "cell_type": "code",
   "execution_count": 546,
   "id": "9bcd24ad-bc95-4dc2-9512-cd8c4fe2c7e8",
   "metadata": {},
   "outputs": [
    {
     "name": "stderr",
     "output_type": "stream",
     "text": [
      "2050it [01:22, 24.79it/s]\n"
     ]
    }
   ],
   "source": [
    "accuracies = 0.0\n",
    "num_elements = 0.0\n",
    "accuracies_baseline = 0.0\n",
    "\n",
    "for i, batch in tqdm.tqdm(enumerate(val_dataloader), position=0):\n",
    "# for _ in range(1):\n",
    "    model_transaction.eval()\n",
    "    model.eval()\n",
    "    with torch.no_grad():\n",
    "        number_of_days = np.random.choice(train_days.numpy())\n",
    "        question = tok.encode(f\"how many transactions the client will make in the next {number_of_days} days\", return_tensors='pt').cuda()\n",
    "        embedding_prefix = model.encoder.embed_tokens(starting)\n",
    "        embedding_question = model.encoder.embed_tokens(question)\n",
    "\n",
    "        batch_size = batch['mask'].shape[0]\n",
    "\n",
    "        batch_embedding_prefix = embedding_prefix.repeat(batch_size, 1, 1)\n",
    "        batch_embedding_question = embedding_question.repeat(batch_size, 1, 1)\n",
    "        batch_answer_ending = answer_ending.repeat(batch_size, 1)\n",
    "\n",
    "        answer_mask = torch.ones(batch_size, answer_ending.shape[1]).cuda()\n",
    "\n",
    "        _, labels, _, padding_mask = make_time_batch(batch, number_days=number_of_days)\n",
    "        padding_min = max(1, padding_mask.sum(1).min().item())\n",
    "\n",
    "        if padding_min == 1:\n",
    "            continue\n",
    "\n",
    "        out = linear_mapping(model_transaction.get_embs(batch)[0])\n",
    "        encoder_input = out[:, :padding_min]\n",
    "\n",
    "        rly_encoder_input = torch.cat([batch_embedding_prefix, encoder_input, batch_embedding_question], dim=1)\n",
    "\n",
    "        input_labels = labels[:, padding_min - 1]\n",
    "        target = tok.batch_encode_plus(list(map(lambda x: str(x.item()) + ' transactions', input_labels.int())), padding=True, return_tensors='pt')\n",
    "\n",
    "        torch_labels = target.input_ids.cuda()\n",
    "        attention_mask = target.attention_mask.cuda()\n",
    "\n",
    "        answer = torch.cat([batch_answer_ending, torch_labels], dim=1)\n",
    "        decoder_mask = torch.cat([answer_mask, attention_mask], dim=1)\n",
    "\n",
    "        outputs = model(inputs_embeds=rly_encoder_input, labels=answer, decoder_attention_mask=decoder_mask)\n",
    "        \n",
    "        tmp = tok.batch_decode(outputs.logits.argmax(2)[:, -4:])\n",
    "        new_tmp = [i.split(' ')[0] for i in tmp] \n",
    "        accuracy3 = (abs(torch.tensor(list(map(lambda x: transform_labels(x), new_tmp)), device='cuda') - input_labels) < 3).sum().item()\n",
    "        accuracy_baseline = (abs(mean_value[number_of_days.item()] - input_labels) < 3).sum().item()\n",
    "        \n",
    "        num_elements += batch_size\n",
    "        accuracies += accuracy3\n",
    "        accuracies_baseline += accuracy_baseline"
   ]
  },
  {
   "cell_type": "code",
   "execution_count": 548,
   "id": "c2879403-5d28-4ac1-939b-63e6c5a5e96d",
   "metadata": {},
   "outputs": [
    {
     "data": {
      "text/plain": [
       "0.0987206957398538"
      ]
     },
     "execution_count": 548,
     "metadata": {},
     "output_type": "execute_result"
    }
   ],
   "source": [
    "accuracies / num_elements"
   ]
  },
  {
   "cell_type": "code",
   "execution_count": 549,
   "id": "11c8a490-7db1-4750-b101-f300fb012b78",
   "metadata": {},
   "outputs": [
    {
     "data": {
      "text/plain": [
       "0.25932694731535166"
      ]
     },
     "execution_count": 549,
     "metadata": {},
     "output_type": "execute_result"
    }
   ],
   "source": [
    "accuracies_baseline / num_elements"
   ]
  },
  {
   "cell_type": "markdown",
   "id": "27030f6a-cbe8-45ef-a7ed-4861fd641bce",
   "metadata": {
    "jp-MarkdownHeadingCollapsed": true,
    "tags": []
   },
   "source": [
    "### Baseline"
   ]
  },
  {
   "cell_type": "code",
   "execution_count": 151,
   "id": "c5b753c4-a441-4347-9a01-8a43090546e5",
   "metadata": {},
   "outputs": [],
   "source": [
    "val_dataloader = batches_generator(dataset_val, batch_size=16, shuffle=False,\n",
    "                                            device=device, is_train=True, output_format='torch',  min_seq_len=50, max_seq_len=150)\n",
    "\n",
    "get_val_dataloader = lambda: batches_generator(dataset_val, batch_size=16, shuffle=False,\n",
    "                                            device=device, is_train=True, output_format='torch',  min_seq_len=50, max_seq_len=150)"
   ]
  },
  {
   "cell_type": "code",
   "execution_count": 152,
   "id": "4c7ce264-fc11-41eb-8381-6d558f683db6",
   "metadata": {},
   "outputs": [],
   "source": [
    "from collections import defaultdict"
   ]
  },
  {
   "cell_type": "code",
   "execution_count": 153,
   "id": "aaa67e51-6ab4-4a55-814d-291b3ddaf472",
   "metadata": {},
   "outputs": [
    {
     "name": "stderr",
     "output_type": "stream",
     "text": [
      "1654it [00:05, 276.51it/s]\n"
     ]
    }
   ],
   "source": [
    "mean_value = defaultdict(lambda: 0.0)\n",
    "num_elems = defaultdict(lambda: 0.0)\n",
    "\n",
    "for i, batch in tqdm.tqdm(enumerate(val_dataloader), position=0):\n",
    "    for number_of_days in [7]:  \n",
    "    # for number_of_days in val_days:  \n",
    "        _, labels, _, padding_mask = make_time_batch(batch, number_days=number_of_days)\n",
    "        padding_min = max(1, padding_mask.sum(1).min().item())\n",
    "        \n",
    "        prev_labels = labels[:, padding_min - 1]\n",
    "        \n",
    "        if padding_min == 1:\n",
    "            continue\n",
    "\n",
    "        mean_value[number_of_days] += input_labels.sum().item()\n",
    "        num_elems[number_of_days] += batch['mask'].shape[0]"
   ]
  },
  {
   "cell_type": "code",
   "execution_count": null,
   "id": "48d14b9c-5b8a-48cb-b6d1-725d96f667b6",
   "metadata": {},
   "outputs": [],
   "source": []
  },
  {
   "cell_type": "code",
   "execution_count": 154,
   "id": "c01f8e3c-fa31-4494-ab04-da6f6b85958e",
   "metadata": {},
   "outputs": [],
   "source": [
    "for key in mean_value:\n",
    "    mean_value[key] /= num_elems[key]"
   ]
  },
  {
   "cell_type": "code",
   "execution_count": 155,
   "id": "051a2257-1640-41da-9993-1034adc1f02e",
   "metadata": {},
   "outputs": [
    {
     "data": {
      "text/plain": [
       "defaultdict(<function __main__.<lambda>()>, {7: 14.208636696328826})"
      ]
     },
     "execution_count": 155,
     "metadata": {},
     "output_type": "execute_result"
    }
   ],
   "source": [
    "mean_value"
   ]
  },
  {
   "cell_type": "code",
   "execution_count": 156,
   "id": "f89a67f8-5ae3-49b3-964a-8a5b93105293",
   "metadata": {},
   "outputs": [
    {
     "name": "stderr",
     "output_type": "stream",
     "text": [
      "1654it [00:06, 261.50it/s]\n"
     ]
    }
   ],
   "source": [
    "accuracies_baseline = 0.0\n",
    "num_elements = 0.0\n",
    "number_of_days = 7\n",
    "for i, batch in tqdm.tqdm(enumerate(get_val_dataloader()), position=0):\n",
    "    batch_size = batch['mask'].shape[0]\n",
    "    _, labels, _, padding_mask = make_time_batch(batch, number_days=number_of_days)\n",
    "    padding_min = max(1, padding_mask.sum(1).min().item())\n",
    "    \n",
    "    input_labels = labels[:, padding_min - 1]\n",
    "    if padding_min == 1:\n",
    "        continue\n",
    "        \n",
    "    accuracy_baseline = (abs(2 - input_labels) < 3).sum().item()\n",
    "\n",
    "    num_elements += batch_size\n",
    "    accuracies_baseline += accuracy_baseline"
   ]
  },
  {
   "cell_type": "code",
   "execution_count": 157,
   "id": "bc739094-0140-42bd-be4f-b8c8a37b587b",
   "metadata": {},
   "outputs": [
    {
     "data": {
      "text/plain": [
       "0.6462498555414307"
      ]
     },
     "execution_count": 157,
     "metadata": {},
     "output_type": "execute_result"
    }
   ],
   "source": [
    "accuracies_baseline / num_elements"
   ]
  },
  {
   "cell_type": "code",
   "execution_count": 158,
   "id": "0cd5a8d8-cf6b-44aa-bcc0-2c8c911ef90b",
   "metadata": {},
   "outputs": [
    {
     "data": {
      "text/plain": [
       "16776.0"
      ]
     },
     "execution_count": 158,
     "metadata": {},
     "output_type": "execute_result"
    }
   ],
   "source": [
    "accuracies_baseline"
   ]
  },
  {
   "cell_type": "code",
   "execution_count": 131,
   "id": "cebbb738-34da-4419-a54a-d2acd72f5a93",
   "metadata": {},
   "outputs": [],
   "source": [
    "for key in mean_value:\n",
    "    mean_value[key] /= num_elems[key]"
   ]
  },
  {
   "cell_type": "code",
   "execution_count": 529,
   "id": "807cc1d1-5bba-41f9-afec-e457618ab726",
   "metadata": {},
   "outputs": [],
   "source": [
    "# list(map(lambda x: tok.encode(str(x.int().item())), labels.reshape(-1)))"
   ]
  },
  {
   "cell_type": "code",
   "execution_count": 223,
   "id": "b52ad368-2876-40cf-8b2f-21f36398ed85",
   "metadata": {},
   "outputs": [],
   "source": [
    "# import inflect\n",
    "# p = inflect.engine()\n",
    "\n",
    "\n",
    "# for i in range(20):\n",
    "#     print(i, tok.encode(p.number_to_words(i)))"
   ]
  },
  {
   "cell_type": "code",
   "execution_count": 159,
   "id": "22ef91de-61a7-469c-8c68-ed31aadaec98",
   "metadata": {},
   "outputs": [
    {
     "data": {
      "application/vnd.jupyter.widget-view+json": {
       "model_id": "b0e9a39b8ae144a3a1ca9eb33f006f40",
       "version_major": 2,
       "version_minor": 0
      },
      "text/plain": [
       "Downloading (…)lve/main/config.json:   0%|          | 0.00/1.40k [00:00<?, ?B/s]"
      ]
     },
     "metadata": {},
     "output_type": "display_data"
    },
    {
     "data": {
      "application/vnd.jupyter.widget-view+json": {
       "model_id": "707dbb56e6cf4ecaaa5477ca7cc58477",
       "version_major": 2,
       "version_minor": 0
      },
      "text/plain": [
       "Downloading (…)\"pytorch_model.bin\";:   0%|          | 0.00/990M [00:00<?, ?B/s]"
      ]
     },
     "metadata": {},
     "output_type": "display_data"
    },
    {
     "data": {
      "application/vnd.jupyter.widget-view+json": {
       "model_id": "62feae9271374f09bdcbc89f6500d7c5",
       "version_major": 2,
       "version_minor": 0
      },
      "text/plain": [
       "Downloading (…)neration_config.json:   0%|          | 0.00/147 [00:00<?, ?B/s]"
      ]
     },
     "metadata": {},
     "output_type": "display_data"
    }
   ],
   "source": [
    "from transformers import AutoTokenizer, AutoModelForSeq2SeqLM\n",
    "\n",
    "# tokenizer = AutoTokenizer.from_pretrained(\"bigscience/T0_3B\")\n",
    "# model = AutoModelForSeq2SeqLM.from_pretrained(\"bigscience/T0_3B\")\n",
    "\n",
    "tokenizer = AutoTokenizer.from_pretrained(\"google/flan-t5-xxl\")\n",
    "model = AutoModelForSeq2SeqLM.from_pretrained(\"google/flan-t5-base\")\n"
   ]
  },
  {
   "cell_type": "code",
   "execution_count": 162,
   "id": "4f1a85dd-9e8e-47ed-9788-6e6a1c8de525",
   "metadata": {},
   "outputs": [],
   "source": [
    "# inputs = tokenizer.encode(f\"client bought coffee, tea and beer. Will he buy a wine?\", return_tensors=\"pt\")\n",
    "# outputs = model.generate(inputs)\n",
    "# print(tokenizer.decode(outputs[0]))"
   ]
  },
  {
   "cell_type": "code",
   "execution_count": 209,
   "id": "429e0fa9-db8c-4344-a3c4-41c34c1df476",
   "metadata": {},
   "outputs": [
    {
     "name": "stdout",
     "output_type": "stream",
     "text": [
      "<pad> France, a country that has been a slumber party since the French Revolution, has been a slumber party since the French Revolution.</s>\n"
     ]
    }
   ],
   "source": [
    "inputs = tokenizer.encode(f\"France\", return_tensors=\"pt\")\n",
    "outputs = model.generate(inputs, max_new_tokens=256)\n",
    "print(tokenizer.decode(outputs[0]))"
   ]
  },
  {
   "cell_type": "code",
   "execution_count": null,
   "id": "a7d13337-cce8-42ef-9a2c-f6cc3ee63d8a",
   "metadata": {},
   "outputs": [],
   "source": []
  },
  {
   "cell_type": "code",
   "execution_count": null,
   "id": "f399efeb-e556-485a-9e07-1e1ec574d351",
   "metadata": {},
   "outputs": [],
   "source": []
  },
  {
   "cell_type": "code",
   "execution_count": 62,
   "id": "ebf669cc-76cf-4ddd-97a8-978b9a5e0adc",
   "metadata": {},
   "outputs": [],
   "source": [
    "from pl_models import TransactionQAModel\n",
    "from pl_dataloader import TransactionQADataset"
   ]
  },
  {
   "cell_type": "code",
   "execution_count": 64,
   "id": "2132cc1f-2d24-411b-984f-acb0ffb155d1",
   "metadata": {},
   "outputs": [],
   "source": [
    "path_to_dataset = '/home/jovyan/data/alfa/train_buckets'\n",
    "valpath_to_dataset = '/home/jovyan/data/alfa/val_buckets'\n",
    "\n",
    "dir_with_datasets = os.listdir(path_to_dataset)\n",
    "dataset_train = sorted([os.path.join(path_to_dataset, x) for x in dir_with_datasets])[0:1]\n",
    "\n",
    "valdir_with_datasets = os.listdir(valpath_to_dataset)\n",
    "dataset_val = sorted([os.path.join(valpath_to_dataset, x) for x in valdir_with_datasets])[0:1]"
   ]
  },
  {
   "cell_type": "code",
   "execution_count": 65,
   "id": "0c7b3f44-9960-442b-bbd5-2169e8e06825",
   "metadata": {},
   "outputs": [],
   "source": [
    "tqa = TransactionQAModel(model, model_transaction, linear_mapping, tok)"
   ]
  },
  {
   "cell_type": "code",
   "execution_count": 66,
   "id": "0f746580-073e-4268-8741-0fcdd06a279c",
   "metadata": {},
   "outputs": [],
   "source": [
    "out, answer = tqa.get_predictions(batch)"
   ]
  },
  {
   "cell_type": "code",
   "execution_count": 76,
   "id": "03c95594-92fd-4ecc-b779-72ec7d65fbee",
   "metadata": {},
   "outputs": [
    {
     "data": {
      "text/plain": [
       "['the client will make 3 transactions</s>',\n",
       " 'the client will make 3 transactions</s>',\n",
       " 'the client will make 2 transactions</s>',\n",
       " 'the client will make 3 transactions</s>',\n",
       " 'the client will make 2 transactions</s>',\n",
       " 'the client will make 3 transactions</s>',\n",
       " 'the client will make 2 transactions</s>',\n",
       " 'the client will make 3 transactions</s>',\n",
       " 'the client will make 3 transactions</s>',\n",
       " 'the client will make 3 transactions</s>',\n",
       " 'the client will make 3 transactions</s>',\n",
       " 'the client will make 3 transactions</s>',\n",
       " 'the client will make 3 transactions</s>',\n",
       " 'the client will make 2 transactions</s>',\n",
       " 'the client will make 2 transactions</s>',\n",
       " 'the client will make 3 transactions</s>']"
      ]
     },
     "execution_count": 76,
     "metadata": {},
     "output_type": "execute_result"
    }
   ],
   "source": [
    "tqa.tok.batch_decode(out.logits.argmax(2))"
   ]
  },
  {
   "cell_type": "code",
   "execution_count": null,
   "id": "23570bd5-d79c-4bbb-9b1e-2bd2bab47d6c",
   "metadata": {},
   "outputs": [],
   "source": []
  },
  {
   "cell_type": "code",
   "execution_count": 68,
   "id": "1e5a1a80-b6f5-4e8c-bb06-b00532aae46a",
   "metadata": {},
   "outputs": [
    {
     "data": {
      "text/plain": [
       "tensor([ 4.,  4., 11.,  8.,  7.,  5.,  8., 11., 11., 12.,  3.,  5.,  9.,  1.,\n",
       "         5.,  8.], device='cuda:0')"
      ]
     },
     "execution_count": 68,
     "metadata": {},
     "output_type": "execute_result"
    }
   ],
   "source": [
    "answer"
   ]
  },
  {
   "cell_type": "code",
   "execution_count": 72,
   "id": "5c03e0b6-f1ae-4c6e-a1cf-0de1a4cd3be3",
   "metadata": {},
   "outputs": [],
   "source": [
    "train_dataloader = TransactionQADataset(dataset_train, batch_size=16)\n",
    "val_dataloader = TransactionQADataset(dataset_val, batch_size=16)"
   ]
  },
  {
   "cell_type": "code",
   "execution_count": 75,
   "id": "e092926b-d310-4367-8540-de795a1bf6d4",
   "metadata": {},
   "outputs": [
    {
     "name": "stderr",
     "output_type": "stream",
     "text": [
      "GPU available: True, used: True\n",
      "TPU available: False, using: 0 TPU cores\n",
      "IPU available: False, using: 0 IPUs\n",
      "HPU available: False, using: 0 HPUs\n",
      "Running in fast_dev_run mode: will run a full train, val, test and prediction loop using 1 batch(es).\n",
      "`Trainer(limit_train_batches=1)` was configured so 1 batch per epoch will be used.\n",
      "`Trainer(limit_val_batches=1)` was configured so 1 batch will be used.\n",
      "`Trainer(limit_test_batches=1)` was configured so 1 batch will be used.\n",
      "`Trainer(limit_predict_batches=1)` was configured so 1 batch will be used.\n",
      "`Trainer(val_check_interval=1.0)` was configured so validation will run at the end of the training epoch..\n",
      "LOCAL_RANK: 0 - CUDA_VISIBLE_DEVICES: [0]\n",
      "\n",
      "  | Name      | Type                       | Params\n",
      "---------------------------------------------------------\n",
      "0 | lm_model  | T5ForConditionalGeneration | 77.0 M\n",
      "1 | trx_model | TransactionsModel          | 29.7 M\n",
      "2 | connector | Linear                     | 197 K \n",
      "---------------------------------------------------------\n",
      "106 M     Trainable params\n",
      "0         Non-trainable params\n",
      "106 M     Total params\n",
      "427.511   Total estimated model params size (MB)\n"
     ]
    },
    {
     "data": {
      "application/vnd.jupyter.widget-view+json": {
       "model_id": "d88b5e184e414663b98b7b1a53f7dc1b",
       "version_major": 2,
       "version_minor": 0
      },
      "text/plain": [
       "Training: 0it [00:00, ?it/s]"
      ]
     },
     "metadata": {},
     "output_type": "display_data"
    },
    {
     "data": {
      "application/vnd.jupyter.widget-view+json": {
       "model_id": "",
       "version_major": 2,
       "version_minor": 0
      },
      "text/plain": [
       "Validation: 0it [00:00, ?it/s]"
      ]
     },
     "metadata": {},
     "output_type": "display_data"
    }
   ],
   "source": [
    "trainer = pl.Trainer(limit_train_batches=1000, max_epochs=10, gpus=1, fast_dev_run=True)\n",
    "trainer.fit(model=tqa, train_dataloaders=train_dataloader, val_dataloaders=val_dataloader)"
   ]
  },
  {
   "cell_type": "code",
   "execution_count": null,
   "id": "6aff973f-344a-4e49-a2a1-c1cb89b914a7",
   "metadata": {},
   "outputs": [],
   "source": []
  },
  {
   "cell_type": "markdown",
   "id": "161a5975-294d-4410-914b-81710e217fe7",
   "metadata": {
    "jp-MarkdownHeadingCollapsed": true,
    "tags": []
   },
   "source": [
    "### Other experiment"
   ]
  },
  {
   "cell_type": "code",
   "execution_count": 36,
   "id": "264f815d-3a05-4576-8fb8-639dd1e2e1f2",
   "metadata": {},
   "outputs": [],
   "source": [
    "from pl_dataloader import TransactionQADataset\n",
    "import random"
   ]
  },
  {
   "cell_type": "code",
   "execution_count": 15,
   "id": "02c7d807-c975-4a8d-bb7d-e6d2dee17e50",
   "metadata": {},
   "outputs": [],
   "source": [
    "path_to_dataset = '/home/jovyan/data/alfa/train_buckets'\n",
    "\n",
    "\n",
    "dir_with_datasets = os.listdir(path_to_dataset)\n",
    "dataset_train = sorted([os.path.join(path_to_dataset, x) for x in dir_with_datasets])\n",
    "\n",
    "device = torch.device('cuda' if torch.cuda.is_available() else 'cpu')"
   ]
  },
  {
   "cell_type": "code",
   "execution_count": 16,
   "id": "d7a9db80-f859-41aa-aaa7-93a7dadeda47",
   "metadata": {},
   "outputs": [],
   "source": [
    "d = TransactionQADataset(dataset_train, batch_size=16)"
   ]
  },
  {
   "cell_type": "code",
   "execution_count": 20,
   "id": "d7229a40-6a10-4672-822c-9e04b8d6318b",
   "metadata": {},
   "outputs": [],
   "source": [
    "batch = next(iter(d))"
   ]
  },
  {
   "cell_type": "code",
   "execution_count": 26,
   "id": "d5356e65-d18e-4614-9681-7049c959062c",
   "metadata": {},
   "outputs": [],
   "source": [
    "def wrap_batches_generator(generator):\n",
    "    for batch in generator:\n",
    "        batch['question'] = 'how many transactions the client will make in the next 7 days'\n",
    "        batch['answer'] = 'the client will make'\n",
    "        \n",
    "        yield batch"
   ]
  },
  {
   "cell_type": "code",
   "execution_count": 27,
   "id": "738e6f40-9993-4420-9b74-617c000ce71e",
   "metadata": {},
   "outputs": [],
   "source": [
    "train_dataloader = batches_generator(dataset_train, batch_size=16, shuffle=True,\n",
    "                                            device=device, is_train=True, output_format='torch',  min_seq_len=100, max_seq_len=300)\n"
   ]
  },
  {
   "cell_type": "code",
   "execution_count": 31,
   "id": "2fe6ca91-1a2b-4f65-9470-45c0e0ad0172",
   "metadata": {},
   "outputs": [],
   "source": [
    "new_dataloader = wrap_batches_generator(train_dataloader)"
   ]
  },
  {
   "cell_type": "code",
   "execution_count": 40,
   "id": "59383d4c-5987-43b0-aa11-dbb94cae21e7",
   "metadata": {},
   "outputs": [],
   "source": [
    "qa_pool = [('What merchant category code will the next transactions have? Try to select one from the following candidates: 0, 1, 2, 3, 4, 5, 6, 7, 8, 9, 10, 11, 12, 13, 14, 15, 16, 17, 18, 19, 20, 21, 22, 23, 24, 25, 26, 27', 'Merchant category of the next transaction is ')]\n",
    "        "
   ]
  },
  {
   "cell_type": "code",
   "execution_count": 41,
   "id": "64251aed-78af-44d2-823a-232a79a76303",
   "metadata": {},
   "outputs": [],
   "source": [
    "question, answer  = random.choice(qa_pool)"
   ]
  },
  {
   "cell_type": "code",
   "execution_count": 42,
   "id": "ed329b52-a0fa-4849-a248-15e521dd1537",
   "metadata": {},
   "outputs": [
    {
     "data": {
      "text/plain": [
       "'What merchant category code will the next transactions have? Try to select one from the following candidates: 0, 1, 2, 3, 4, 5, 6, 7, 8, 9, 10, 11, 12, 13, 14, 15, 16, 17, 18, 19, 20, 21, 22, 23, 24, 25, 26, 27'"
      ]
     },
     "execution_count": 42,
     "metadata": {},
     "output_type": "execute_result"
    }
   ],
   "source": [
    "question"
   ]
  },
  {
   "cell_type": "markdown",
   "id": "d93dca87-b871-4fd8-9a16-0cc906ba9388",
   "metadata": {
    "jp-MarkdownHeadingCollapsed": true,
    "tags": []
   },
   "source": [
    "### Prediction questions debugging"
   ]
  },
  {
   "cell_type": "markdown",
   "id": "1977c59b",
   "metadata": {},
   "source": [
    "#### Imports"
   ]
  },
  {
   "cell_type": "code",
   "execution_count": 7,
   "id": "cca5a27e-3293-40eb-a1c1-587332db18cb",
   "metadata": {
    "tags": []
   },
   "outputs": [],
   "source": [
    "import os\n",
    "import numpy as np\n",
    "import torch\n",
    "import torch.nn as nn\n",
    "import wandb\n",
    "\n",
    "import tqdm\n",
    "import pickle\n",
    "import pytorch_lightning as pl\n",
    "import random\n",
    "\n",
    "from torch.utils.data import IterableDataset, DataLoader\n",
    "from pytorch_lightning.loggers import WandbLogger\n",
    "from pytorch_lightning.callbacks import ModelCheckpoint\n",
    "from models import TransactionsModel\n",
    "from data_generators import batches_generator, cat_features_names, num_features_names, meta_features_names\n",
    "\n",
    "from functools import partial\n",
    "from collections import namedtuple\n",
    "from tools import make_time_batch, calculate_embedding_size\n",
    "\n",
    "from pl_models import TransactionQAModel\n",
    "from pl_dataloader import TransactionQADataset\n",
    "from transformers import AutoModelForSeq2SeqLM, AutoTokenizer"
   ]
  },
  {
   "cell_type": "code",
   "execution_count": 8,
   "id": "5f4441a6-0d53-4687-a99f-ddf2e29dde35",
   "metadata": {},
   "outputs": [],
   "source": [
    "with open('./assets/num_embedding_projections.pkl', 'rb') as f:\n",
    "    num_embedding_projections = pickle.load(f)\n",
    "    \n",
    "with open('./assets/cat_embedding_projections.pkl', 'rb') as f:\n",
    "    cat_embedding_projections = pickle.load(f)\n",
    "\n",
    "with open('./assets/meta_embedding_projections.pkl', 'rb') as f:\n",
    "    meta_embedding_projections = pickle.load(f)\n",
    "    \n",
    "path_to_dataset = '/home/jovyan/data/alfa/train_buckets'\n",
    "\n",
    "dir_with_datasets = os.listdir(path_to_dataset)\n",
    "dataset_train = sorted([os.path.join(path_to_dataset, x) for x in dir_with_datasets])\n",
    "\n",
    "device = torch.device('cuda' if torch.cuda.is_available() else 'cpu')\n",
    "\n",
    "valpath_to_dataset = '/home/jovyan/data/alfa/val_buckets'\n",
    "\n",
    "valdir_with_datasets = os.listdir(valpath_to_dataset)\n",
    "dataset_val = sorted([os.path.join(valpath_to_dataset, x) for x in valdir_with_datasets])"
   ]
  },
  {
   "cell_type": "code",
   "execution_count": 11,
   "id": "d694c397-2dc7-4953-b92f-020a3943ba29",
   "metadata": {},
   "outputs": [
    {
     "name": "stdout",
     "output_type": "stream",
     "text": [
      "USING whisper\n"
     ]
    }
   ],
   "source": [
    "ckpt = torch.load('/home/jovyan/final_model.ckpt')\n",
    "\n",
    "checkpoint_callback = ModelCheckpoint(\n",
    "    monitor='accuracy3',\n",
    "    dirpath='/home/jovyan/romashka/checkpoints/',\n",
    "    filename='tqa-{epoch:02d}-{accuracy3:.2f}',\n",
    "    save_weights_only=True,\n",
    "    every_n_epochs=1,\n",
    "    save_last=True,\n",
    "    mode='max',\n",
    ")\n",
    "\n",
    "model_transaction = TransactionsModel(cat_embedding_projections,\n",
    "                          cat_features_names,\n",
    "                          num_embedding_projections,\n",
    "                          num_features_names,\n",
    "                          meta_embedding_projections,\n",
    "                          meta_features_names,\n",
    "                          encoder_type='whisper/tiny',\n",
    "                          head_type='next',\n",
    "                          embedding_dropout=0.1\n",
    "                         )\n",
    "model_transaction.load_state_dict(ckpt)\n",
    "model_transaction.to(device)\n",
    "\n",
    "linear_mapping = nn.Linear(384, 512).to(device)\n",
    "\n",
    "tok = AutoTokenizer.from_pretrained('google/flan-t5-small')\n",
    "model = AutoModelForSeq2SeqLM.from_pretrained('google/flan-t5-small').to(device)\n",
    "\n",
    "new_tokens = ['<trx>', '</trx>']\n",
    "tok.add_tokens(new_tokens)\n",
    "\n",
    "model.resize_token_embeddings(len(tok));"
   ]
  },
  {
   "cell_type": "code",
   "execution_count": 12,
   "id": "ba7cc6a1-c0ae-40ab-b0d3-b28be9515844",
   "metadata": {},
   "outputs": [],
   "source": [
    "qa_pool = {\n",
    "                'next_mcc_2': ('</trx> Will the next transactions have merchant category code 2? Yes or No?', ''),\n",
    "                # 'default': ('</trx> Will the client have a credit default? Yes or No?', '')\n",
    "}\n",
    "\n",
    "starting = tok.encode(\"This is the client's transaction history <trx>\", return_tensors='pt').cuda()"
   ]
  },
  {
   "cell_type": "code",
   "execution_count": 13,
   "id": "f8a25dda-5a0b-4c6e-83f9-1da61e8acfce",
   "metadata": {},
   "outputs": [],
   "source": [
    "tqa = TransactionQAModel(model, model_transaction, linear_mapping, tok, qa_pool)"
   ]
  },
  {
   "cell_type": "code",
   "execution_count": 14,
   "id": "2a1aa197-7919-4e93-b72b-1343c06144c3",
   "metadata": {},
   "outputs": [],
   "source": [
    "train_dataloader = TransactionQADataset(dataset_train, batch_size=16, min_seq_len=0, max_seq_len=250)\n",
    "val_dataloader = TransactionQADataset(dataset_val, batch_size=16, shuffle=False, min_seq_len=0, max_seq_len=250)"
   ]
  },
  {
   "cell_type": "code",
   "execution_count": 15,
   "id": "4f357af7-134c-433d-a676-ddf7d9f973b7",
   "metadata": {},
   "outputs": [],
   "source": [
    "def add_qa2transactions(batch):\n",
    "    task, (question, answer) = random.choice(list(qa_pool.items()))\n",
    "    batch['question'] = question\n",
    "    batch['answer'] = answer\n",
    "    batch['task'] = task\n",
    "\n",
    "    return batch"
   ]
  },
  {
   "cell_type": "code",
   "execution_count": 16,
   "id": "4641a791-4ca5-4fc7-9cbe-3ba7e26f70d6",
   "metadata": {},
   "outputs": [],
   "source": [
    "def prepare_tokens(batch):\n",
    "    device = batch['mask'].device\n",
    "    batch_size = batch['mask'].shape[0]\n",
    "    \n",
    "    question_notok = batch['question']\n",
    "    answer_notok = batch['answer']\n",
    "    task = batch['task']\n",
    "\n",
    "    question = tok.encode(question_notok, return_tensors='pt').to(device)\n",
    "    answer = tok.encode(answer_notok, return_tensors='pt')[:, :-1].to(device)\n",
    "\n",
    "    embedding_prefix = model.encoder.embed_tokens(starting)\n",
    "    embedding_question = model.encoder.embed_tokens(question)\n",
    "\n",
    "    batch_embedding_prefix = embedding_prefix.repeat(batch_size, 1, 1)\n",
    "    batch_embedding_question = embedding_question.repeat(batch_size, 1, 1)\n",
    "    batch_answer_ending = answer.repeat(batch_size, 1)\n",
    "\n",
    "    answer_mask = torch.ones(batch_size, answer.shape[1]).to(device)\n",
    "    \n",
    "    return batch_embedding_prefix, batch_embedding_question, batch_answer_ending"
   ]
  },
  {
   "cell_type": "code",
   "execution_count": 17,
   "id": "7216e7eb-19f0-4750-9f51-ba313310aba0",
   "metadata": {},
   "outputs": [],
   "source": [
    "def get_predictions(batch, batch_idx=None):\n",
    "    ### Preparing input\n",
    "    batch_embedding_prefix, batch_embedding_question, batch_answer_ending = prepare_tokens(batch)\n",
    "    answer_mask = torch.ones(batch_answer_ending.shape[1]).cuda()\n",
    "    \n",
    "    target, index = get_task_label(batch)\n",
    "    \n",
    "    if target == None:\n",
    "        return None, None\n",
    "\n",
    "    out = linear_mapping(model_transaction.get_embs(batch)[0])\n",
    "    encoder_input = out[:, :index-1]\n",
    "\n",
    "    rly_encoder_input = torch.cat([batch_embedding_prefix, encoder_input, batch_embedding_question], dim=1)\n",
    "    torch_labels = target.input_ids.cuda()\n",
    "    attention_mask = target.attention_mask.cuda()\n",
    "\n",
    "    answer = torch.cat([batch_answer_ending, torch_labels], dim=1)\n",
    "    decoder_mask = torch.cat([answer_mask, attention_mask], dim=1)\n",
    "\n",
    "    outputs = model(inputs_embeds=rly_encoder_input, labels=answer, decoder_attention_mask=decoder_mask)\n",
    "\n",
    "    return outputs, input_labels"
   ]
  },
  {
   "cell_type": "code",
   "execution_count": 18,
   "id": "c2c69e00-693f-403a-a2f8-af867aa15dae",
   "metadata": {},
   "outputs": [],
   "source": [
    "def get_task_label(batch):\n",
    "    task = batch['task']\n",
    "    \n",
    "    if task == 'next_mcc_2':\n",
    "        trx_index = batch['mask'].sum(1, keepdim=True) - 1\n",
    "        input_labels = torch.gather(batch['cat_features'][map_index['mcc_category']], 1, trx_index)\n",
    "        text_answer = list(map(lambda x: 'Yes' if x else 'No', (input_labels == 2)))\n",
    "\n",
    "        target = tok.batch_encode_plus(text_answer, padding=True, return_tensors='pt')\n",
    "        \n",
    "    elif task == 'next_amnt':\n",
    "        trx_index = batch['mask'].sum(1, keepdim=True) - 1\n",
    "        input_labels = torch.gather(batch['cat_features'][map_index['mcc_category']], 1, trx_index)\n",
    "        text_answer = list(map(lambda x: 'Yes' if x else 'No', (input_labels == 2)))\n",
    "\n",
    "        target = tok.batch_encode_plus(text_answer, padding=True, return_tensors='pt')\n",
    "    \n",
    "    elif task == 'default':\n",
    "        trx_index = batch['mask'].shape[1]\n",
    "        input_labels = batch['label']\n",
    "        text_answer = list(map(lambda x: 'Yes' if x else 'No', (input_labels == 1)))\n",
    "        target = tok.batch_encode_plus(text_answer, padding=True, return_tensors='pt')\n",
    "        \n",
    "        \n",
    "    elif task == 'next7_num':\n",
    "        _, labels, _, padding_mask = make_time_batch(batch, number_days=number_of_days)\n",
    "        trx_index = max(1, padding_mask.sum(1).min().item())\n",
    "\n",
    "        input_labels = labels[:, trx_index - 1]\n",
    "        target = tok.batch_encode_plus(list(map(lambda x: str(x.item()) + ' transactions', input_labels.int())), padding=True, return_tensors='pt')\n",
    "\n",
    "        if trx_index == 1:\n",
    "            return None, None\n",
    "    \n",
    "    return target, trx_index"
   ]
  },
  {
   "cell_type": "code",
   "execution_count": 52,
   "id": "4bc9d682-0b94-4cdd-83c7-31e96d7e1caf",
   "metadata": {},
   "outputs": [],
   "source": [
    "batch = next(iter(train_dataloader))\n",
    "qa_batch = add_qa2transactions(batch)"
   ]
  },
  {
   "cell_type": "markdown",
   "id": "3096cace-0270-447f-8d71-47959533c01c",
   "metadata": {},
   "source": [
    "#### Default"
   ]
  },
  {
   "cell_type": "markdown",
   "id": "bd020c4a-1002-4fbf-b0f4-139cbd88caeb",
   "metadata": {
    "jp-MarkdownHeadingCollapsed": true,
    "tags": []
   },
   "source": [
    "#### Next MCC"
   ]
  },
  {
   "cell_type": "code",
   "execution_count": 27,
   "id": "5e890a09-36e5-40b5-b76f-56bf2a28f2ee",
   "metadata": {},
   "outputs": [],
   "source": [
    "from data_generators import cat_features_names, cat_features_indices\n",
    "\n",
    "map_index = dict(zip(cat_features_names, cat_features_indices))"
   ]
  },
  {
   "cell_type": "code",
   "execution_count": 28,
   "id": "f426b6a0-1ece-401b-b0bb-493dfbfa0adc",
   "metadata": {},
   "outputs": [],
   "source": [
    "trx_index = batch['mask'].sum(1, keepdim=True) - 1\n",
    "input_labels = torch.gather(batch['cat_features'][map_index['mcc_category']], 1, trx_index)\n",
    "text_answer = list(map(lambda x: 'Yes' if x else 'No', (input_labels == 2)))"
   ]
  },
  {
   "cell_type": "code",
   "execution_count": 40,
   "id": "f8769693-6d57-438e-bbc4-8a2466ac40e3",
   "metadata": {},
   "outputs": [],
   "source": [
    "mask_cpu = batch['mask'].cpu()\n",
    "indices = trx_index.cpu()"
   ]
  },
  {
   "cell_type": "code",
   "execution_count": 38,
   "id": "b7d3d564-4389-4a10-a7e0-843081d9fe60",
   "metadata": {},
   "outputs": [],
   "source": [
    "mask_cpu[:, indices.flatten()] = 0"
   ]
  },
  {
   "cell_type": "code",
   "execution_count": 97,
   "id": "78d9faa1-385f-4599-b735-e2c775a8bae6",
   "metadata": {},
   "outputs": [
    {
     "ename": "RuntimeError",
     "evalue": "CUDA error: device-side assert triggered",
     "output_type": "error",
     "traceback": [
      "\u001b[0;31m---------------------------------------------------------------------------\u001b[0m",
      "\u001b[0;31mRuntimeError\u001b[0m                              Traceback (most recent call last)",
      "\u001b[0;32m/tmp/ipykernel_1573/3965008381.py\u001b[0m in \u001b[0;36m<module>\u001b[0;34m\u001b[0m\n\u001b[0;32m----> 1\u001b[0;31m \u001b[0mbatch\u001b[0m\u001b[0;34m[\u001b[0m\u001b[0;34m'cat_features'\u001b[0m\u001b[0;34m]\u001b[0m\u001b[0;34m[\u001b[0m\u001b[0mmap_index\u001b[0m\u001b[0;34m[\u001b[0m\u001b[0;34m'mcc_category'\u001b[0m\u001b[0;34m]\u001b[0m\u001b[0;34m]\u001b[0m\u001b[0;34m[\u001b[0m\u001b[0;34m:\u001b[0m\u001b[0;34m,\u001b[0m \u001b[0mtrx_index\u001b[0m\u001b[0;34m]\u001b[0m\u001b[0;34m\u001b[0m\u001b[0;34m\u001b[0m\u001b[0m\n\u001b[0m",
      "\u001b[0;31mRuntimeError\u001b[0m: CUDA error: device-side assert triggered"
     ]
    }
   ],
   "source": [
    "batch['cat_features'][map_index['mcc_category']][:, trx_index]"
   ]
  },
  {
   "cell_type": "code",
   "execution_count": 80,
   "id": "4d02bd31-e5d5-44f9-a8c6-896417b4140c",
   "metadata": {},
   "outputs": [
    {
     "ename": "IndexError",
     "evalue": "Dimension out of range (expected to be in range of [-1, 0], but got 1)",
     "output_type": "error",
     "traceback": [
      "\u001b[0;31m---------------------------------------------------------------------------\u001b[0m",
      "\u001b[0;31mIndexError\u001b[0m                                Traceback (most recent call last)",
      "\u001b[0;32m/tmp/ipykernel_1573/1455522978.py\u001b[0m in \u001b[0;36m<module>\u001b[0;34m\u001b[0m\n\u001b[0;32m----> 1\u001b[0;31m \u001b[0mtorch\u001b[0m\u001b[0;34m.\u001b[0m\u001b[0mgather\u001b[0m\u001b[0;34m(\u001b[0m\u001b[0mbatch\u001b[0m\u001b[0;34m[\u001b[0m\u001b[0;34m'cat_features'\u001b[0m\u001b[0;34m]\u001b[0m\u001b[0;34m[\u001b[0m\u001b[0mmap_index\u001b[0m\u001b[0;34m[\u001b[0m\u001b[0;34m'mcc_category'\u001b[0m\u001b[0;34m]\u001b[0m\u001b[0;34m]\u001b[0m\u001b[0;34m,\u001b[0m \u001b[0;36m1\u001b[0m\u001b[0;34m,\u001b[0m \u001b[0mtrx_index\u001b[0m\u001b[0;34m)\u001b[0m\u001b[0;34m\u001b[0m\u001b[0;34m\u001b[0m\u001b[0m\n\u001b[0m",
      "\u001b[0;31mIndexError\u001b[0m: Dimension out of range (expected to be in range of [-1, 0], but got 1)"
     ]
    }
   ],
   "source": [
    "torch.gather(batch['cat_features'][map_index['mcc_category']], 1, trx_index)"
   ]
  },
  {
   "cell_type": "code",
   "execution_count": 12,
   "id": "f7a33739-c43b-4d66-995e-49d4110770c5",
   "metadata": {},
   "outputs": [],
   "source": []
  },
  {
   "cell_type": "code",
   "execution_count": 14,
   "id": "1d2e3517-19fd-49c9-b704-0e3f5a598f92",
   "metadata": {},
   "outputs": [],
   "source": [
    "map_index = dict(zip(cat_features_names, cat_features_indices))"
   ]
  },
  {
   "cell_type": "code",
   "execution_count": 82,
   "id": "90820f99-9b04-4a69-9015-dc2071238cfe",
   "metadata": {},
   "outputs": [],
   "source": [
    "input_labels = batch['cat_features'][map_index['mcc_category']].cpu()"
   ]
  },
  {
   "cell_type": "code",
   "execution_count": 83,
   "id": "c4654dc6-5e53-42e2-a88e-c4c53ff35813",
   "metadata": {},
   "outputs": [],
   "source": [
    "indices = batch['mask'].sum(1, keepdim=True).cpu() - 1"
   ]
  },
  {
   "cell_type": "code",
   "execution_count": 84,
   "id": "fe53cf71-51ed-4daf-82ae-73ee262c8467",
   "metadata": {},
   "outputs": [
    {
     "data": {
      "text/plain": [
       "tensor([[2],\n",
       "        [2],\n",
       "        [4],\n",
       "        [2],\n",
       "        [8],\n",
       "        [2],\n",
       "        [4],\n",
       "        [8],\n",
       "        [2],\n",
       "        [8],\n",
       "        [2],\n",
       "        [2],\n",
       "        [2],\n",
       "        [2],\n",
       "        [2],\n",
       "        [2]])"
      ]
     },
     "execution_count": 84,
     "metadata": {},
     "output_type": "execute_result"
    }
   ],
   "source": [
    "torch.gather(input_labels, 1, indices)"
   ]
  },
  {
   "cell_type": "code",
   "execution_count": 169,
   "id": "76f3633d-08a6-4261-9db2-3550ae902586",
   "metadata": {},
   "outputs": [
    {
     "name": "stderr",
     "output_type": "stream",
     "text": [
      "32768it [01:38, 333.69it/s]\n"
     ]
    }
   ],
   "source": [
    "from collections import defaultdict\n",
    "\n",
    "num = 0.0\n",
    "num_dict = defaultdict(lambda: 0.0)\n",
    "\n",
    "for batch in tqdm.tqdm(train_dataloader):\n",
    "    num += batch['mask'].shape[0]\n",
    "    trx_index = max(1, batch['mask'].sum(1).min().item()) - 1\n",
    "    input_labels = batch['cat_features'][map_index['mcc_category']][:, trx_index]\n",
    "    \n",
    "    for i in range(1, 28):  \n",
    "        num_dict[i] += (input_labels == i).float().sum().item()"
   ]
  },
  {
   "cell_type": "code",
   "execution_count": 170,
   "id": "9dc1c371-c618-4d8f-b2ed-7dae9a6a16c2",
   "metadata": {},
   "outputs": [],
   "source": [
    "summa = 0.0\n",
    "for key in num_dict:\n",
    "    summa += num_dict[key]"
   ]
  },
  {
   "cell_type": "code",
   "execution_count": 173,
   "id": "b78f5d41-84ad-4761-b3e4-f3c90047a9a7",
   "metadata": {
    "collapsed": true,
    "jupyter": {
     "outputs_hidden": true
    },
    "tags": []
   },
   "outputs": [
    {
     "name": "stdout",
     "output_type": "stream",
     "text": [
      "0.19601307264667456\n",
      "0.42629011927065974\n",
      "0.06598774726727279\n",
      "0.04464891208147033\n",
      "0.041491860246817086\n",
      "0.03451301326038398\n",
      "0.02943261188568714\n",
      "0.05089788239981916\n",
      "0.02429473990720413\n",
      "0.011683773749727015\n",
      "0.01655919663758654\n",
      "0.007896460960218848\n",
      "0.010229767473937081\n",
      "0.008936678888748405\n",
      "0.006327513476856588\n",
      "0.002944410600644437\n",
      "0.0028122282119362615\n",
      "0.00360915391777106\n",
      "0.0026628046420922365\n",
      "0.0030210380723593214\n",
      "0.0027988184043861563\n",
      "0.0014520905889970613\n",
      "0.0011858101247878376\n",
      "0.0016187553399769352\n",
      "0.0015670317965693881\n",
      "0.0007624433435631008\n",
      "0.0003620648038528293\n"
     ]
    }
   ],
   "source": [
    "for key in num_dict:\n",
    "    print(num_dict[key] / summa)"
   ]
  },
  {
   "cell_type": "code",
   "execution_count": 180,
   "id": "3a5f4e26-9eea-4016-82f8-d19a5a70bac3",
   "metadata": {
    "tags": []
   },
   "outputs": [],
   "source": [
    "key, (question, answer) = random.choice(list(tqa_pool.items()))"
   ]
  },
  {
   "cell_type": "code",
   "execution_count": 181,
   "id": "82e8bc58-65a0-4755-b336-f0a1c83c21c9",
   "metadata": {},
   "outputs": [
    {
     "data": {
      "text/plain": [
       "'next_mcc'"
      ]
     },
     "execution_count": 181,
     "metadata": {},
     "output_type": "execute_result"
    }
   ],
   "source": [
    "key"
   ]
  },
  {
   "cell_type": "markdown",
   "id": "818cea9e-2181-42f7-8352-996019022985",
   "metadata": {
    "jp-MarkdownHeadingCollapsed": true,
    "tags": []
   },
   "source": [
    "#### Next amnt"
   ]
  },
  {
   "cell_type": "code",
   "execution_count": 98,
   "id": "c944fec4-c572-4daa-a1d3-7a0e5e79bca9",
   "metadata": {},
   "outputs": [],
   "source": [
    "from data_generators import num_features_names, num_features_indices\n",
    "from matplotlib import pyplot as plt"
   ]
  },
  {
   "cell_type": "code",
   "execution_count": 100,
   "id": "6c32bad2-82bf-454a-901e-c5288226d312",
   "metadata": {},
   "outputs": [],
   "source": [
    "num_map_index = dict(zip(num_features_names, range(len(num_features_names))))"
   ]
  },
  {
   "cell_type": "code",
   "execution_count": 99,
   "id": "fb9e22bb-e5ef-4d2f-a2ed-765ed779f009",
   "metadata": {},
   "outputs": [
    {
     "name": "stderr",
     "output_type": "stream",
     "text": [
      "0it [00:03, ?it/s]\n"
     ]
    },
    {
     "ename": "NameError",
     "evalue": "name 'num_map_index' is not defined",
     "output_type": "error",
     "traceback": [
      "\u001b[0;31m---------------------------------------------------------------------------\u001b[0m",
      "\u001b[0;31mNameError\u001b[0m                                 Traceback (most recent call last)",
      "\u001b[0;32m/tmp/ipykernel_82/1206533832.py\u001b[0m in \u001b[0;36m<module>\u001b[0;34m\u001b[0m\n\u001b[1;32m      3\u001b[0m \u001b[0;32mfor\u001b[0m \u001b[0mbatch\u001b[0m \u001b[0;32min\u001b[0m \u001b[0mtqdm\u001b[0m\u001b[0;34m.\u001b[0m\u001b[0mtqdm\u001b[0m\u001b[0;34m(\u001b[0m\u001b[0mtrain_dataloader\u001b[0m\u001b[0;34m)\u001b[0m\u001b[0;34m:\u001b[0m\u001b[0;34m\u001b[0m\u001b[0;34m\u001b[0m\u001b[0m\n\u001b[1;32m      4\u001b[0m     \u001b[0mtrx_index\u001b[0m \u001b[0;34m=\u001b[0m \u001b[0mbatch\u001b[0m\u001b[0;34m[\u001b[0m\u001b[0;34m'mask'\u001b[0m\u001b[0;34m]\u001b[0m\u001b[0;34m.\u001b[0m\u001b[0msum\u001b[0m\u001b[0;34m(\u001b[0m\u001b[0;36m1\u001b[0m\u001b[0;34m,\u001b[0m \u001b[0mkeepdim\u001b[0m\u001b[0;34m=\u001b[0m\u001b[0;32mTrue\u001b[0m\u001b[0;34m)\u001b[0m \u001b[0;34m-\u001b[0m \u001b[0;36m1\u001b[0m\u001b[0;34m\u001b[0m\u001b[0;34m\u001b[0m\u001b[0m\n\u001b[0;32m----> 5\u001b[0;31m     \u001b[0minput_labels\u001b[0m \u001b[0;34m=\u001b[0m \u001b[0mtorch\u001b[0m\u001b[0;34m.\u001b[0m\u001b[0mgather\u001b[0m\u001b[0;34m(\u001b[0m\u001b[0mbatch\u001b[0m\u001b[0;34m[\u001b[0m\u001b[0;34m'num_features'\u001b[0m\u001b[0;34m]\u001b[0m\u001b[0;34m[\u001b[0m\u001b[0mnum_map_index\u001b[0m\u001b[0;34m[\u001b[0m\u001b[0;34m'amnt'\u001b[0m\u001b[0;34m]\u001b[0m\u001b[0;34m]\u001b[0m\u001b[0;34m,\u001b[0m \u001b[0;36m1\u001b[0m\u001b[0;34m,\u001b[0m \u001b[0mtrx_index\u001b[0m\u001b[0;34m)\u001b[0m\u001b[0;34m\u001b[0m\u001b[0;34m\u001b[0m\u001b[0m\n\u001b[0m\u001b[1;32m      6\u001b[0m \u001b[0;34m\u001b[0m\u001b[0m\n\u001b[1;32m      7\u001b[0m     \u001b[0mamnts\u001b[0m\u001b[0;34m.\u001b[0m\u001b[0mextend\u001b[0m\u001b[0;34m(\u001b[0m\u001b[0minput_labels\u001b[0m\u001b[0;34m.\u001b[0m\u001b[0mflatten\u001b[0m\u001b[0;34m(\u001b[0m\u001b[0;34m)\u001b[0m\u001b[0;34m.\u001b[0m\u001b[0mcpu\u001b[0m\u001b[0;34m(\u001b[0m\u001b[0;34m)\u001b[0m\u001b[0;34m.\u001b[0m\u001b[0mtolist\u001b[0m\u001b[0;34m(\u001b[0m\u001b[0;34m)\u001b[0m\u001b[0;34m)\u001b[0m\u001b[0;34m\u001b[0m\u001b[0;34m\u001b[0m\u001b[0m\n",
      "\u001b[0;31mNameError\u001b[0m: name 'num_map_index' is not defined"
     ]
    }
   ],
   "source": [
    "amnts = []\n",
    "\n",
    "for batch in tqdm.tqdm(train_dataloader):\n",
    "    trx_index = batch['mask'].sum(1, keepdim=True) - 1\n",
    "    input_labels = torch.gather(batch['num_features'][num_map_index['amnt']], 1, trx_index)\n",
    "    \n",
    "    amnts.extend(input_labels.flatten().cpu().tolist())\n",
    "    "
   ]
  },
  {
   "cell_type": "code",
   "execution_count": 81,
   "id": "5c0f5ccd-92e9-4800-85ac-ae50343e8305",
   "metadata": {},
   "outputs": [
    {
     "data": {
      "image/png": "[encoded data removed]",
      "text/plain": [
       "<Figure size 1800x1200 with 1 Axes>"
      ]
     },
     "metadata": {},
     "output_type": "display_data"
    }
   ],
   "source": [
    "plt.hist(amnts, bins=20)\n",
    "plt.xlabel('Amount')\n",
    "plt.ylabel('Density')\n",
    "plt.grid()\n",
    "plt.show()"
   ]
  },
  {
   "cell_type": "code",
   "execution_count": 77,
   "id": "78d8fc75-e54e-4c26-90bf-4141ce10e6cf",
   "metadata": {},
   "outputs": [
    {
     "data": {
      "text/plain": [
       "0.4138191342353821"
      ]
     },
     "execution_count": 77,
     "metadata": {},
     "output_type": "execute_result"
    }
   ],
   "source": [
    "np.median(amnts)"
   ]
  },
  {
   "cell_type": "code",
   "execution_count": 83,
   "id": "8c4ee748-c78b-402d-8252-96d23d3f2e7c",
   "metadata": {},
   "outputs": [],
   "source": [
    "num_map_index = dict(zip(num_features_names, range(len(num_features_names))))"
   ]
  },
  {
   "cell_type": "markdown",
   "id": "7b4bc744-2808-4e8e-80cf-1b5c788252b4",
   "metadata": {
    "jp-MarkdownHeadingCollapsed": true,
    "tags": []
   },
   "source": [
    "#### Next hour"
   ]
  },
  {
   "cell_type": "code",
   "execution_count": 97,
   "id": "0fa0113f-df9e-4304-b8d4-458b7adad56e",
   "metadata": {},
   "outputs": [],
   "source": [
    "from data_generators import num_features_names, num_features_indices\n",
    "from matplotlib import pyplot as plt"
   ]
  },
  {
   "cell_type": "code",
   "execution_count": 70,
   "id": "d5bf96dc-b798-4537-a4ff-607c7dcc985d",
   "metadata": {},
   "outputs": [],
   "source": [
    "num_map_index = dict(zip(num_features_names, range(len(num_features_names))))"
   ]
  },
  {
   "cell_type": "code",
   "execution_count": 102,
   "id": "c12e1a02-e0e1-438b-9203-c6e4bff04548",
   "metadata": {},
   "outputs": [
    {
     "name": "stderr",
     "output_type": "stream",
     "text": [
      "32768it [00:59, 549.57it/s] \n"
     ]
    }
   ],
   "source": [
    "hours = []\n",
    "\n",
    "for batch in tqdm.tqdm(train_dataloader):\n",
    "    trx_index = batch['mask'].sum(1, keepdim=True) - 1\n",
    "    input_labels = torch.gather(batch['num_features'][num_map_index['hour_diff']], 1, trx_index)\n",
    "    \n",
    "    hours.extend(input_labels.flatten().cpu().tolist())\n",
    "    "
   ]
  },
  {
   "cell_type": "code",
   "execution_count": 104,
   "id": "aba7e470-0360-40e4-b1b4-a471056bb5d9",
   "metadata": {},
   "outputs": [
    {
     "data": {
      "image/png": "[encoded data removed]",
      "text/plain": [
       "<Figure size 1800x1200 with 1 Axes>"
      ]
     },
     "metadata": {},
     "output_type": "display_data"
    }
   ],
   "source": [
    "plt.hist(hours, bins=100)\n",
    "plt.xlabel('Hours')\n",
    "plt.ylabel('Density')\n",
    "plt.grid()\n",
    "plt.show()"
   ]
  },
  {
   "cell_type": "code",
   "execution_count": 107,
   "id": "e505488e-1bd1-4a5c-8c10-a6592bf5dad1",
   "metadata": {},
   "outputs": [
    {
     "data": {
      "text/plain": [
       "36.00000083446503"
      ]
     },
     "execution_count": 107,
     "metadata": {},
     "output_type": "execute_result"
    }
   ],
   "source": [
    "np.median(hours) * 95"
   ]
  },
  {
   "cell_type": "code",
   "execution_count": 83,
   "id": "9eadf378-92a0-4ba5-8506-1d14c1cda0a6",
   "metadata": {},
   "outputs": [],
   "source": []
  },
  {
   "cell_type": "markdown",
   "id": "0cc5d392-0b3a-4812-b3fc-55e7e341aa19",
   "metadata": {},
   "source": [
    "#### Next amnt 7 days"
   ]
  },
  {
   "cell_type": "code",
   "execution_count": 24,
   "id": "0b2e635d",
   "metadata": {},
   "outputs": [],
   "source": [
    "from data_generators import num_features_names, num_features_indices\n",
    "from matplotlib import pyplot as plt"
   ]
  },
  {
   "cell_type": "code",
   "execution_count": 21,
   "id": "e5d25a8c",
   "metadata": {},
   "outputs": [
    {
     "name": "stderr",
     "output_type": "stream",
     "text": [
      "32768it [01:50, 295.55it/s]\n"
     ]
    }
   ],
   "source": [
    "amount = []\n",
    "\n",
    "for batch in tqdm.tqdm(train_dataloader):\n",
    "    labels, _, _, padding_mask = make_time_batch(batch, number_days=7)\n",
    "    trx_index = padding_mask.sum(1, keepdim=True) - 1\n",
    "    \n",
    "    if any(trx_index == -1):\n",
    "        continue\n",
    "\n",
    "    input_labels = torch.gather(labels, 1, trx_index)\n",
    "    amount.extend(input_labels.flatten().cpu().tolist())"
   ]
  },
  {
   "cell_type": "code",
   "execution_count": 22,
   "id": "da6337dc",
   "metadata": {},
   "outputs": [
    {
     "data": {
      "image/png": "[encoded data removed]",
      "text/plain": [
       "<Figure size 1800x1200 with 1 Axes>"
      ]
     },
     "metadata": {},
     "output_type": "display_data"
    }
   ],
   "source": [
    "plt.hist(amount, bins=100)\n",
    "plt.xlabel('Amnt')\n",
    "plt.ylabel('Density')\n",
    "plt.grid()\n",
    "plt.show()"
   ]
  },
  {
   "cell_type": "code",
   "execution_count": 23,
   "id": "cd7389cc",
   "metadata": {},
   "outputs": [
    {
     "data": {
      "text/plain": [
       "0.33634451031684875"
      ]
     },
     "execution_count": 23,
     "metadata": {},
     "output_type": "execute_result"
    }
   ],
   "source": [
    "np.quantile(amount, 0.65)"
   ]
  },
  {
   "cell_type": "markdown",
   "id": "2450da43-9334-434e-bd49-59c1efe5fd75",
   "metadata": {},
   "source": [
    "#### Next num 7 days"
   ]
  },
  {
   "cell_type": "code",
   "execution_count": 28,
   "id": "caf0fcc0",
   "metadata": {},
   "outputs": [
    {
     "name": "stderr",
     "output_type": "stream",
     "text": [
      "6125it [00:20, 480.25it/s]"
     ]
    }
   ],
   "source": [
    "nums = []\n",
    "\n",
    "for batch in tqdm.tqdm(train_dataloader):\n",
    "    _, labels, _, padding_mask = make_time_batch(batch, number_days=7)\n",
    "    trx_index = padding_mask.sum(1, keepdim=True) - 1\n",
    "    \n",
    "    if any(trx_index == -1):\n",
    "        continue\n",
    "\n",
    "    input_labels = torch.gather(labels, 1, trx_index)\n",
    "    nums.extend(input_labels.flatten().cpu().tolist())"
   ]
  },
  {
   "cell_type": "code",
   "execution_count": null,
   "id": "a66c44bd",
   "metadata": {},
   "outputs": [
    {
     "data": {
      "image/png": "[encoded data removed]",
      "text/plain": [
       "<Figure size 1800x1200 with 1 Axes>"
      ]
     },
     "metadata": {},
     "output_type": "display_data"
    }
   ],
   "source": [
    "plt.hist(amount, bins=100)\n",
    "plt.xlabel('Num transaction')\n",
    "plt.ylabel('Density')\n",
    "plt.grid()\n",
    "plt.show()"
   ]
  },
  {
   "cell_type": "code",
   "execution_count": 27,
   "id": "56e2c1fb",
   "metadata": {},
   "outputs": [
    {
     "data": {
      "text/plain": [
       "0.41596387326717393"
      ]
     },
     "execution_count": 27,
     "metadata": {},
     "output_type": "execute_result"
    }
   ],
   "source": [
    "np.quantile(nums, 0.65)"
   ]
  },
  {
   "cell_type": "markdown",
   "id": "b673717c-e382-45a4-ba41-792644b7244a",
   "metadata": {
    "jp-MarkdownHeadingCollapsed": true,
    "tags": []
   },
   "source": [
    "### Loading model"
   ]
  },
  {
   "cell_type": "code",
   "execution_count": 14,
   "id": "0ce05434",
   "metadata": {},
   "outputs": [
    {
     "name": "stdout",
     "output_type": "stream",
     "text": [
      "The autoreload extension is already loaded. To reload it, use:\n",
      "  %reload_ext autoreload\n",
      "['/home/jovyan/romashka', '/home/jovyan/abdullaeva/transactionsQA', '', '/home/jovyan/.imgenv-afilatov-dev-6-0/lib/python3.7/site-packages', '/home/jovyan/romashka', '/home/user/conda/lib/python37.zip', '/home/user/conda/lib/python3.7', '/home/user/conda/lib/python3.7/lib-dynload', '/home/user/conda/lib/python3.7/site-packages', '/tmp/.jupyter/plugins/nb_empty_trash', '/home/user/conda/lib/python3.7/site-packages/IPython/extensions', '/home/jovyan/.ipython', '../', '..']\n"
     ]
    }
   ],
   "source": [
    "%load_ext autoreload\n",
    "%autoreload 2\n",
    "\n",
    "import os\n",
    "import sys\n",
    "import pickle\n",
    "import random\n",
    "import numpy as np\n",
    "import pandas as pd\n",
    "import dataclasses\n",
    "from pathlib import Path\n",
    "from pprint import pprint\n",
    "\n",
    "import torch\n",
    "import transformers\n",
    "import torch.nn as nn\n",
    "import pytorch_lightning as pl\n",
    "\n",
    "from torch.utils.data import IterableDataset, DataLoader\n",
    "\n",
    "from transformers import AutoModelForSeq2SeqLM, AutoTokenizer, AutoConfig\n",
    "\n",
    "import tqdm \n",
    "from tqdm.notebook import tqdm\n",
    "\n",
    "from typing import Dict, List, Optional\n",
    "\n",
    "os.environ[\"CUDA_VISIBLE_DEVICES\"] = '0'\n",
    "pd.set_option('display.max_columns', None)\n",
    "\n",
    "# добавим корневую папку\n",
    "sys.path.insert(1, '/home/jovyan/abdullaeva/transactionsQA')\n",
    "# /Users/abdullaeva/Documents/Projects/TransactionsQA\n",
    "# /home/jovyan/abdullaeva/transactionsQA\n",
    "# C:/Users/airen/Documents/Projects/TransactionsQA\n",
    "print(sys.path)"
   ]
  },
  {
   "cell_type": "code",
   "execution_count": 17,
   "id": "d7ffa227",
   "metadata": {},
   "outputs": [],
   "source": [
    "from romashka.models import TransactionsModel\n",
    "from romashka.tools import (make_time_batch, \n",
    "                   calculate_embedding_size)\n",
    "\n",
    "from romashka.data_generators import (batches_generator, \n",
    "                             cat_features_names, \n",
    "                             num_features_names, \n",
    "                             meta_features_names)\n",
    "\n",
    "from romashka.pl_dataloader import TransactionQADataset\n",
    "from romashka.transactions_qa.tqa_model import TransactionQAModel\n",
    "from romashka.transactions_qa.utils import get_projections_maps\n",
    "from romashka.transactions_qa.tasks import AbstractTask, AutoTask"
   ]
  },
  {
   "cell_type": "code",
   "execution_count": null,
   "id": "2d2f1385",
   "metadata": {},
   "outputs": [],
   "source": [
    "projections_maps = get_projections_maps(relative_folder=\"../romashka\")\n",
    "\n",
    "print(f\"\\nCategorical embeddings projections:\")   \n",
    "pprint(projections_maps['cat_embedding_projections'])\n",
    "\n",
    "print(f\"\\nNumeric embeddings projections:\")   \n",
    "pprint(projections_maps['num_embedding_projections'])\n",
    "\n",
    "print(f\"\\nMeta embeddings projections:\")   \n",
    "pprint(projections_maps['meta_embedding_projections'])"
   ]
  },
  {
   "cell_type": "code",
   "execution_count": 19,
   "id": "1e8917ad",
   "metadata": {},
   "outputs": [
    {
     "name": "stdout",
     "output_type": "stream",
     "text": [
      "Using device: cuda\n"
     ]
    }
   ],
   "source": [
    "device = torch.device('cuda' if torch.cuda.is_available() else 'cpu')\n",
    "# device = torch.device('cpu')\n",
    "print('Using device:', device)"
   ]
  },
  {
   "cell_type": "code",
   "execution_count": 44,
   "id": "1ff285ef-a7ea-4f98-9436-0a7908d1668e",
   "metadata": {},
   "outputs": [],
   "source": [
    "ckpt = torch.load('/home/jovyan/checkpoints/checkpoints/debug-tqa_flan-t5-small_100k-steps_multichoice-6-def/last.ckpt')\n"
   ]
  },
  {
   "cell_type": "code",
   "execution_count": 45,
   "id": "91e98109",
   "metadata": {},
   "outputs": [
    {
     "name": "stdout",
     "output_type": "stream",
     "text": [
      "Loading Transactions model...\n",
      "USING whisper\n"
     ]
    }
   ],
   "source": [
    "# Loading Transactions model & weights\n",
    "print(f\"Loading Transactions model...\")\n",
    "\n",
    "transactions_model_encoder_type = \"whisper/tiny\"\n",
    "transactions_model_head_type = \"next\"\n",
    "\n",
    "\n",
    "transactions_model_config = {\n",
    "    \"cat_features\": cat_features_names,\n",
    "    \"cat_embedding_projections\": projections_maps.get('cat_embedding_projections'),\n",
    "    \"num_features\": num_features_names,\n",
    "    \"num_embedding_projections\": projections_maps.get('num_embedding_projections'),\n",
    "    \"meta_features\": meta_features_names,\n",
    "    \"meta_embedding_projections\": projections_maps.get('meta_embedding_projections'),\n",
    "    \"encoder_type\": transactions_model_encoder_type,\n",
    "    \"head_type\": transactions_model_head_type,\n",
    "    \"embedding_dropout\": 0.1\n",
    "}\n",
    "transactions_model = TransactionsModel(**transactions_model_config)"
   ]
  },
  {
   "cell_type": "code",
   "execution_count": 46,
   "id": "204b273c",
   "metadata": {},
   "outputs": [
    {
     "name": "stdout",
     "output_type": "stream",
     "text": [
      "Loading Language model: `google/flan-t5-small`...\n"
     ]
    }
   ],
   "source": [
    "# Configure and load from HF hub LM model\n",
    "language_model_name_or_path = \"google/flan-t5-small\"\n",
    "use_fast_tokenizer = True\n",
    "\n",
    "print(f\"Loading Language model: `{language_model_name_or_path}`...\")\n",
    "config_kwargs = {\n",
    "    \"use_auth_token\": None,\n",
    "    \"return_unused_kwargs\": True\n",
    "}\n",
    "\n",
    "tokenizer_kwargs = {\n",
    "    \"use_fast\": use_fast_tokenizer,\n",
    "    \"use_auth_token\": None,\n",
    "    \"do_lowercase\": False\n",
    "}\n",
    "\n",
    "config, unused_kwargs = AutoConfig.from_pretrained(\n",
    "    language_model_name_or_path, **config_kwargs\n",
    ")\n",
    "# Download vocabulary from huggingface.co and define model-specific arguments\n",
    "tokenizer = AutoTokenizer.from_pretrained(language_model_name_or_path, **tokenizer_kwargs)\n",
    "\n",
    "# Download model from huggingface.co and cache.\n",
    "lm_model = AutoModelForSeq2SeqLM.from_pretrained(\n",
    "    language_model_name_or_path,\n",
    "    config=config\n",
    ")"
   ]
  },
  {
   "cell_type": "code",
   "execution_count": 47,
   "id": "289dd9f4",
   "metadata": {},
   "outputs": [
    {
     "name": "stderr",
     "output_type": "stream",
     "text": [
      "2023-04-03 00:19:44,947 - [INFO] - Tasks - (task_abstract.py).extend_vocabulary(123) - Added to tokenizer: 2 tokens.\n",
      "2023-04-03 00:19:44,948 - [INFO] - Tasks - (task_abstract.py).extend_vocabulary(129) - Notice: resize_token_embeddings of a model to adapt to the size of the new vocabulary!\n"
     ]
    },
    {
     "name": "stdout",
     "output_type": "stream",
     "text": [
      "Got task_names: ['default'] with task_kwargs: [{'num_options': 6}]\n",
      "Created 1 tasks.\n"
     ]
    }
   ],
   "source": [
    "# Create tasks\n",
    "tasks = []\n",
    "task_names = ['default']\n",
    "task_kwargs = [{\"num_options\": 6 }] # ground truth + 5 additional options\n",
    "\n",
    "if isinstance(task_names, str):\n",
    "    task_names = eval(task_names)\n",
    "task_kwargs = task_kwargs\n",
    "if isinstance(task_kwargs, str):\n",
    "    task_kwargs = eval(task_kwargs)\n",
    "print(f\"Got task_names: {task_names} with task_kwargs: {task_kwargs}\")\n",
    "\n",
    "for task_i, task_name in enumerate(task_names):\n",
    "    task_kwargs = task_kwargs[task_i] if task_i < len(task_kwargs) else {}\n",
    "    if \"tokenizer\" not in task_kwargs:\n",
    "        task_kwargs['tokenizer'] = tokenizer\n",
    "    task = AutoTask.get(task_name=task_name, **task_kwargs)\n",
    "    tasks.append(task)\n",
    "print(f\"Created {len(tasks)} tasks.\")"
   ]
  },
  {
   "cell_type": "code",
   "execution_count": 48,
   "id": "b50f6d38-f458-462e-82b8-cbdec3e97e4b",
   "metadata": {},
   "outputs": [
    {
     "name": "stderr",
     "output_type": "stream",
     "text": [
      "2023-04-03 00:19:49,061 - [INFO] - TransactionQAModel - (tqa_model.py)._prepare_model(116) - Running in `single task` settingwith a single task: default provided.\n",
      "2023-04-03 00:19:49,061 - [INFO] - TransactionQAModel - (tqa_model.py)._prepare_model(116) - Running in `single task` settingwith a single task: default provided.\n",
      "2023-04-03 00:19:49,062 - [INFO] - TransactionQAModel - (tqa_model.py)._set_model_type(151) - Language model type: `encoder-decoder`\n",
      "2023-04-03 00:19:49,062 - [INFO] - TransactionQAModel - (tqa_model.py)._set_model_type(151) - Language model type: `encoder-decoder`\n",
      "2023-04-03 00:19:49,063 - [INFO] - TransactionQAModel - (tqa_model.py)._resize_text_embeddings(161) - LM initial `num_embeddings`: 32128, `embedding_dim`: 512\n",
      "2023-04-03 00:19:49,063 - [INFO] - TransactionQAModel - (tqa_model.py)._resize_text_embeddings(161) - LM initial `num_embeddings`: 32128, `embedding_dim`: 512\n",
      "2023-04-03 00:19:49,244 - [INFO] - TransactionQAModel - (tqa_model.py)._resize_text_embeddings(173) - LM resized `num_embeddings`: 32102, `embedding_dim`: 512\n",
      "2023-04-03 00:19:49,244 - [INFO] - TransactionQAModel - (tqa_model.py)._resize_text_embeddings(173) - LM resized `num_embeddings`: 32102, `embedding_dim`: 512\n",
      "2023-04-03 00:19:49,246 - [INFO] - TransactionQAModel - (tqa_model.py)._prepare_model(127) - Freezing transaction model's parameters...\n",
      "2023-04-03 00:19:49,246 - [INFO] - TransactionQAModel - (tqa_model.py)._prepare_model(127) - Freezing transaction model's parameters...\n",
      "2023-04-03 00:19:49,247 - [INFO] - TransactionQAModel - (tqa_model.py)._prepare_model(132) - Freezing language model's parameters...\n",
      "2023-04-03 00:19:49,247 - [INFO] - TransactionQAModel - (tqa_model.py)._prepare_model(132) - Freezing language model's parameters...\n"
     ]
    },
    {
     "name": "stdout",
     "output_type": "stream",
     "text": [
      "Output dimension of embedding model: 384\n",
      "Input dimension of autoregressive model: 512\n",
      "Creating linear connector from 384 to 512 and move to device: cpu.\n"
     ]
    }
   ],
   "source": [
    "from transactions_qa.tqa_model import TransactionQAModel\n",
    "\n",
    "# Create general Tranactions QA model\n",
    "max_steps = 100_000\n",
    "warmup_steps = 1000\n",
    "do_freeze_transactions_model = True\n",
    "do_freeze_language_model = True\n",
    "do_freeze_connector = False\n",
    "\n",
    "transactionsQA_model_config = {\n",
    "    \"warmup_steps\": warmup_steps,\n",
    "    \"training_steps\": max_steps,\n",
    "    \"do_freeze_tm\": do_freeze_transactions_model,\n",
    "    \"do_freeze_lm\": do_freeze_language_model,\n",
    "    \"do_freeze_connector\": do_freeze_connector,\n",
    "    \"connector_input_size\": 384,\n",
    "}\n",
    "model = TransactionQAModel(\n",
    "    language_model=lm_model,\n",
    "    transaction_model=transactions_model,\n",
    "    tokenizer=tokenizer,\n",
    "    tasks=tasks,\n",
    "    **transactionsQA_model_config\n",
    ")"
   ]
  },
  {
   "cell_type": "code",
   "execution_count": 49,
   "id": "6aded731",
   "metadata": {},
   "outputs": [
    {
     "name": "stdout",
     "output_type": "stream",
     "text": [
      "Train contains files: 10 \n",
      "Validation contains files: 5 \n"
     ]
    }
   ],
   "source": [
    "DATA_PATH = Path(\"../data\").resolve()\n",
    "\n",
    "TRAIN_BUCKETS_PATH = DATA_PATH / \"train_buckets\"\n",
    "VAL_BUCKETS_PATH = DATA_PATH / \"val_buckets\"\n",
    "\n",
    "n_train_files = len(list(TRAIN_BUCKETS_PATH.glob(\"*.pkl\")))\n",
    "print(f\"Train contains files: {n_train_files} \")\n",
    "\n",
    "n_val_files = len(list(VAL_BUCKETS_PATH.glob(\"*.pkl\")))\n",
    "print(f\"Validation contains files: {n_val_files} \")\n",
    "\n",
    "TRAIN_METAFILE_PATH = str(DATA_PATH / 'train.csv')\n",
    "VAL_METAFILE_PATH = str(DATA_PATH / 'val.csv')"
   ]
  },
  {
   "cell_type": "code",
   "execution_count": 50,
   "id": "adaad596",
   "metadata": {},
   "outputs": [
    {
     "name": "stdout",
     "output_type": "stream",
     "text": [
      "Train contains files: 10\n",
      "\t /home/jovyan/data/train_buckets/processed_chunk_000.pkl\n",
      "\t /home/jovyan/data/train_buckets/processed_chunk_001.pkl\n",
      "\t /home/jovyan/data/train_buckets/processed_chunk_002.pkl\n",
      "\t /home/jovyan/data/train_buckets/processed_chunk_003.pkl\n",
      "\t /home/jovyan/data/train_buckets/processed_chunk_004.pkl\n",
      "\t /home/jovyan/data/train_buckets/processed_chunk_005.pkl\n",
      "\t /home/jovyan/data/train_buckets/processed_chunk_006.pkl\n",
      "\t /home/jovyan/data/train_buckets/processed_chunk_007.pkl\n",
      "\t /home/jovyan/data/train_buckets/processed_chunk_008.pkl\n",
      "\t /home/jovyan/data/train_buckets/processed_chunk_009.pkl\n",
      "\n",
      "Val contains files: 5\n",
      "\t /home/jovyan/data/val_buckets/processed_chunk_000.pkl\n",
      "\t /home/jovyan/data/val_buckets/processed_chunk_001.pkl\n",
      "\t /home/jovyan/data/val_buckets/processed_chunk_002.pkl\n",
      "\t /home/jovyan/data/val_buckets/processed_chunk_003.pkl\n",
      "\t /home/jovyan/data/val_buckets/processed_chunk_004.pkl\n"
     ]
    }
   ],
   "source": [
    "data_files = {}\n",
    "\n",
    "train_dataset_files = os.listdir(str(TRAIN_BUCKETS_PATH))\n",
    "n_train_files = len(train_dataset_files)\n",
    "print(f\"Train contains files: {n_train_files}\")\n",
    "train_dataset_files = sorted([os.path.join(str(TRAIN_BUCKETS_PATH), x) for x in train_dataset_files])\n",
    "data_files[\"train\"] = train_dataset_files\n",
    "\n",
    "for fn in train_dataset_files:\n",
    "    print(\"\\t\", fn)\n",
    "\n",
    "val_dataset_files = os.listdir(str(VAL_BUCKETS_PATH))\n",
    "n_val_files = len(val_dataset_files)\n",
    "print(f\"\\nVal contains files: {n_val_files}\")\n",
    "val_dataset_files = sorted([os.path.join(str(VAL_BUCKETS_PATH), x) for x in val_dataset_files])\n",
    "data_files[\"validation\"] = val_dataset_files\n",
    "\n",
    "for fn in val_dataset_files:\n",
    "    print(\"\\t\", fn)"
   ]
  },
  {
   "cell_type": "code",
   "execution_count": 51,
   "id": "2054b191",
   "metadata": {},
   "outputs": [],
   "source": [
    "train_dataset_config = {\n",
    "    'dataset': data_files['validation'],\n",
    "    'min_seq_len': 0,\n",
    "    'max_seq_len': 250,\n",
    "    'seed': 42, \n",
    "    'buffer_size': 10_000,\n",
    "}\n",
    "train_ds = TransactionQADataset(**train_dataset_config).build_dataset()                                      \n",
    "\n",
    "train_dataloader = DataLoader(train_ds, \n",
    "                                batch_size=32,\n",
    "                                num_workers=4, \n",
    "                                collate_fn=TransactionQADataset.collate_fn,\n",
    "                                )"
   ]
  },
  {
   "cell_type": "code",
   "execution_count": 52,
   "id": "2db988bc",
   "metadata": {},
   "outputs": [],
   "source": [
    "val_dataset_config = {\n",
    "    'dataset': data_files['validation'],\n",
    "    'min_seq_len': 0,\n",
    "    'max_seq_len': 250,\n",
    "    'seed': 42, \n",
    "    'buffer_size': 0,\n",
    "}\n",
    "\n",
    "val_ds = TransactionQADataset(**val_dataset_config).build_dataset()\n",
    "\n",
    "val_dataloader = DataLoader(val_ds, \n",
    "                                batch_size=32,\n",
    "                                num_workers=4, \n",
    "                                collate_fn=TransactionQADataset.collate_fn,\n",
    "                    )"
   ]
  },
  {
   "cell_type": "code",
   "execution_count": 53,
   "id": "4640fe91-17cd-4640-a20a-096b577c9fd4",
   "metadata": {},
   "outputs": [
    {
     "data": {
      "text/plain": [
       "<All keys matched successfully>"
      ]
     },
     "execution_count": 53,
     "metadata": {},
     "output_type": "execute_result"
    }
   ],
   "source": [
    "model.load_state_dict(ckpt['state_dict'])"
   ]
  },
  {
   "cell_type": "code",
   "execution_count": 54,
   "id": "ef564971-d081-4c20-991e-7dd4acb66b43",
   "metadata": {},
   "outputs": [],
   "source": [
    "ind_pos = model.tokenizer(\"Yes\").input_ids[0]\n",
    "ind_neg = model.tokenizer(\"No\").input_ids[0]\n",
    "\n",
    "list_targets = []\n",
    "list_preds = [] \n",
    "\n",
    "with torch.no_grad():\n",
    "    for batch in val_dataloader:\n",
    "        model.eval()\n",
    "        outputs, answers = model.model_step(batch)\n",
    "\n",
    "        targets = (answers[:, -2] == ind_pos).long()\n",
    "        preds = torch.sigmoid(outputs.logits[:, 0, ind_pos] - outputs.logits[:, 0, ind_neg])\n",
    "\n",
    "        list_targets.extend(targets.tolist())\n",
    "        list_preds.extend(preds.tolist())"
   ]
  },
  {
   "cell_type": "code",
   "execution_count": 61,
   "id": "c8ec3e86",
   "metadata": {},
   "outputs": [],
   "source": []
  },
  {
   "cell_type": "code",
   "execution_count": 62,
   "id": "39f92b5e",
   "metadata": {},
   "outputs": [],
   "source": []
  },
  {
   "cell_type": "code",
   "execution_count": 63,
   "id": "b2ba979a",
   "metadata": {},
   "outputs": [],
   "source": []
  },
  {
   "cell_type": "code",
   "execution_count": 65,
   "id": "2128d69f",
   "metadata": {},
   "outputs": [
    {
     "data": {
      "text/plain": [
       "[0,\n",
       " 0,\n",
       " 0,\n",
       " 0,\n",
       " 0,\n",
       " 0,\n",
       " 0,\n",
       " 0,\n",
       " 0,\n",
       " 0,\n",
       " 0,\n",
       " 0,\n",
       " 0,\n",
       " 0,\n",
       " 0,\n",
       " 0,\n",
       " 0,\n",
       " 0,\n",
       " 0,\n",
       " 0,\n",
       " 0,\n",
       " 0,\n",
       " 0,\n",
       " 0,\n",
       " 0,\n",
       " 0,\n",
       " 1,\n",
       " 0,\n",
       " 0,\n",
       " 0,\n",
       " 0,\n",
       " 0]"
      ]
     },
     "execution_count": 65,
     "metadata": {},
     "output_type": "execute_result"
    }
   ],
   "source": [
    "targets.tolist()"
   ]
  },
  {
   "cell_type": "code",
   "execution_count": 40,
   "id": "cca40599-5bb7-4d4e-82f3-6aeff858b102",
   "metadata": {},
   "outputs": [],
   "source": [
    "qa_batch = tqa.add_qa2transactions(batch, 'next_amnt')\n",
    "target, trx_index = tqa.get_task_label(batch)"
   ]
  },
  {
   "cell_type": "code",
   "execution_count": 31,
   "id": "eb9a1fd7-6795-403e-a1d4-a2c811e42131",
   "metadata": {},
   "outputs": [
    {
     "name": "stderr",
     "output_type": "stream",
     "text": [
      "32768it [01:23, 390.13it/s]\n"
     ]
    }
   ],
   "source": [
    "targets = []\n",
    "for batch in tqdm.tqdm(train_dataloader):\n",
    "    qa_batch = tqa.add_qa2transactions(batch, 'next_amnt')\n",
    "    target, trx_index = tqa.get_task_label(batch)\n",
    "    targets.extend((target.input_ids[:, -2] == 2163).long().tolist())"
   ]
  },
  {
   "cell_type": "code",
   "execution_count": 32,
   "id": "aa71c93c-a80f-4f90-b830-ae36dca5a403",
   "metadata": {},
   "outputs": [
    {
     "data": {
      "text/plain": [
       "1.0"
      ]
     },
     "execution_count": 32,
     "metadata": {},
     "output_type": "execute_result"
    }
   ],
   "source": [
    "np.mean(targets)"
   ]
  },
  {
   "cell_type": "code",
   "execution_count": 25,
   "id": "ec3436ff-3d0b-4ade-b28a-88358e8b1d82",
   "metadata": {},
   "outputs": [
    {
     "data": {
      "text/plain": [
       "['No</s>',\n",
       " 'Yes</s>',\n",
       " 'Yes</s>',\n",
       " 'Yes</s>',\n",
       " 'Yes</s>',\n",
       " 'Yes</s>',\n",
       " 'Yes</s>',\n",
       " 'No</s>',\n",
       " 'Yes</s>',\n",
       " 'No</s>',\n",
       " 'No</s>',\n",
       " 'Yes</s>',\n",
       " 'Yes</s>',\n",
       " 'Yes</s>',\n",
       " 'Yes</s>',\n",
       " 'No</s>']"
      ]
     },
     "execution_count": 25,
     "metadata": {},
     "output_type": "execute_result"
    }
   ],
   "source": [
    "tok.batch_decode(target.input_ids)"
   ]
  },
  {
   "cell_type": "code",
   "execution_count": 42,
   "id": "cd438a0d-e6e9-4ede-a01f-ebbf73e451c4",
   "metadata": {},
   "outputs": [],
   "source": [
    "def validate_task(model, val_dataloader, task='default'):\n",
    "    list_preds = []\n",
    "    list_targets = []\n",
    "    list_preds_labels = []\n",
    "    \n",
    "    model.eval()\n",
    "    with torch.no_grad():\n",
    "        for batch in tqdm.tqdm(val_dataloader):\n",
    "            qa_batch = tqa.add_qa2transactions(batch, task)\n",
    "            outputs, answer = tqa.get_predictions(qa_batch)\n",
    "\n",
    "            targets = (answer[:, -2] == 2163).long()\n",
    "            preds = torch.sigmoid(outputs.logits[:, 0, 2163] - outputs.logits[:, 0, 465])\n",
    "\n",
    "            list_targets.extend(batch['label'].cpu().numpy().flatten())\n",
    "            list_preds.extend(preds.cpu().numpy().flatten())\n",
    "            list_preds_labels.extend((preds > 0.5).long().cpu().numpy().flatten())    \n",
    "            \n",
    "    return list_preds, list_targets"
   ]
  },
  {
   "cell_type": "code",
   "execution_count": 43,
   "id": "6912875c-12d4-435f-821a-b05ca77009c8",
   "metadata": {},
   "outputs": [],
   "source": [
    "from sklearn.metrics import roc_auc_score, accuracy_score"
   ]
  },
  {
   "cell_type": "code",
   "execution_count": 44,
   "id": "b8f6e5d5-77b9-45d7-9476-e2b72557a577",
   "metadata": {},
   "outputs": [
    {
     "name": "stderr",
     "output_type": "stream",
     "text": [
      "3688it [02:49, 21.81it/s]\n"
     ]
    }
   ],
   "source": [
    "res = validate_task(model, val_dataloader, 'default')"
   ]
  },
  {
   "cell_type": "code",
   "execution_count": 28,
   "id": "fbf432c0-3de3-4ee7-a67b-f0e544a06134",
   "metadata": {},
   "outputs": [
    {
     "data": {
      "text/plain": [
       "0.5000976840011366"
      ]
     },
     "execution_count": 28,
     "metadata": {},
     "output_type": "execute_result"
    }
   ],
   "source": [
    "roc_auc_score(res[1], res[0])"
   ]
  },
  {
   "cell_type": "code",
   "execution_count": 45,
   "id": "3971a6e2-d5ed-4d0f-b052-63b61e206a37",
   "metadata": {},
   "outputs": [],
   "source": [
    "import torch.nn as nn"
   ]
  },
  {
   "cell_type": "code",
   "execution_count": 50,
   "id": "1abf619b-7610-4942-baa1-93493e1dc17e",
   "metadata": {},
   "outputs": [],
   "source": [
    "tmp = nn.ModuleDict()"
   ]
  },
  {
   "cell_type": "code",
   "execution_count": 51,
   "id": "09347a20-43ce-40a5-954b-16d09f7e332c",
   "metadata": {},
   "outputs": [],
   "source": [
    "tmp['key'] = nn.Linear(1, 1)"
   ]
  },
  {
   "cell_type": "code",
   "execution_count": 52,
   "id": "78389af7-63ea-447f-95a3-f3665ef7a869",
   "metadata": {},
   "outputs": [
    {
     "data": {
      "text/plain": [
       "ModuleDict(\n",
       "  (key): Linear(in_features=1, out_features=1, bias=True)\n",
       ")"
      ]
     },
     "execution_count": 52,
     "metadata": {},
     "output_type": "execute_result"
    }
   ],
   "source": [
    "tmp"
   ]
  },
  {
   "cell_type": "markdown",
   "id": "ee9111b3",
   "metadata": {},
   "source": [
    "### Distributed DataLoader"
   ]
  },
  {
   "cell_type": "markdown",
   "id": "aea79ff4",
   "metadata": {},
   "source": [
    "Короче нужно вернуть старый итератор и сравнить сколько это по скорости работает?"
   ]
  },
  {
   "cell_type": "code",
   "execution_count": 11,
   "id": "6265261d",
   "metadata": {},
   "outputs": [],
   "source": [
    "from data_generators import batches_generator, old_batches_generator\n",
    "from datasets import IterableDataset as HFIterableDataset\n",
    "from pl_dataloader import TransactionQADataset\n",
    "from torch.nn.utils.rnn import pad_sequence"
   ]
  },
  {
   "cell_type": "code",
   "execution_count": 6,
   "id": "416a3481",
   "metadata": {},
   "outputs": [
    {
     "name": "stderr",
     "output_type": "stream",
     "text": [
      "7392it [01:23, 89.03it/s] "
     ]
    },
    {
     "name": "stdout",
     "output_type": "stream",
     "text": [
      "CPU times: user 16.1 s, sys: 39.2 s, total: 55.2 s\n",
      "Wall time: 1min 23s\n"
     ]
    },
    {
     "name": "stderr",
     "output_type": "stream",
     "text": [
      "\n"
     ]
    }
   ],
   "source": [
    "%%time\n",
    "for elem in tqdm.tqdm(old_batches_generator(dataset_train, batch_size=32, min_seq_len=50, max_seq_len=150)):\n",
    "    pass"
   ]
  },
  {
   "cell_type": "code",
   "execution_count": 7,
   "id": "a3adc212",
   "metadata": {},
   "outputs": [],
   "source": [
    "ds = TransactionQADataset(dataset_train, batch_size=1, max_seq_len=150, min_seq_len=50).build_dataset(buffer_size=None)\n",
    "ds2 = TransactionQADataset(dataset_train, batch_size=2, max_seq_len=150, min_seq_len=50).build_dataset(buffer_size=None)"
   ]
  },
  {
   "cell_type": "code",
   "execution_count": 12,
   "id": "670894be",
   "metadata": {},
   "outputs": [],
   "source": [
    "def collate_fn(batch):\n",
    "    output = {}\n",
    "\n",
    "    output['num_features'] = pad_sequence([d['num_features'].transpose(0, -1) for d in batch], batch_first=True).squeeze(2).permute(-1, 0, 1)\n",
    "    output['cat_features'] = pad_sequence([d['cat_features'].transpose(0, -1) for d in batch], batch_first=True).squeeze(2).permute(-1, 0, 1)\n",
    "    output['meta_features'] = torch.cat([d['meta_features'] for d in batch], dim=1)\n",
    "\n",
    "    output['mask'] = pad_sequence([d['mask'].transpose(0, -1) for d in batch], batch_first=True).squeeze(2)\n",
    "    output['app_id'] = torch.cat([d['app_id'] for d in batch])\n",
    "    output['label'] = torch.cat([d['label'] for d in batch])\n",
    "\n",
    "    return output"
   ]
  },
  {
   "cell_type": "code",
   "execution_count": 13,
   "id": "1fc504c0",
   "metadata": {},
   "outputs": [],
   "source": [
    "my_dl = DataLoader(ds, batch_size=32, num_workers=10, collate_fn=collate_fn)\n",
    "my_dl2 = DataLoader(ds, batch_size=32, num_workers=1, collate_fn=collate_fn)\n",
    "my_dl3 = DataLoader(ds2, batch_size=16, num_workers=10, collate_fn=collate_fn)"
   ]
  },
  {
   "cell_type": "code",
   "execution_count": 14,
   "id": "51dbfd5a",
   "metadata": {},
   "outputs": [
    {
     "name": "stderr",
     "output_type": "stream",
     "text": [
      "7336it [00:28, 257.34it/s]"
     ]
    },
    {
     "name": "stdout",
     "output_type": "stream",
     "text": [
      "CPU times: user 10.1 s, sys: 5.59 s, total: 15.7 s\n",
      "Wall time: 28.5 s\n"
     ]
    },
    {
     "name": "stderr",
     "output_type": "stream",
     "text": [
      "\n"
     ]
    }
   ],
   "source": [
    "%%time\n",
    "for elem in tqdm.tqdm(my_dl):\n",
    "    pass"
   ]
  },
  {
   "cell_type": "code",
   "execution_count": 23,
   "id": "23132c1c",
   "metadata": {},
   "outputs": [],
   "source": [
    "# Download vocabulary from huggingface.co and define model-specific arguments\n",
    "tokenizer = AutoTokenizer.from_pretrained('google/flan-t5-small')\n",
    "\n",
    "config = AutoConfig.from_pretrained(\n",
    "    'google/flan-t5-small',\n",
    ")\n",
    "\n",
    "# Download model from huggingface.co and cache.\n",
    "lm_model = AutoModelForSeq2SeqLM.from_pretrained(\n",
    "    'google/flan-t5-small',\n",
    "    config=config\n",
    ")"
   ]
  },
  {
   "cell_type": "code",
   "execution_count": null,
   "id": "1095077b",
   "metadata": {},
   "outputs": [],
   "source": [
    "transactions_model_config = {\n",
    "    \"cat_features\": cat_features_names,\n",
    "    \"cat_embedding_projections\": projections_maps.get('cat_embedding_projections'),\n",
    "    \"num_features\": num_features_names,\n",
    "    \"num_embedding_projections\": projections_maps.get('num_embedding_projections'),\n",
    "    \"meta_features\": meta_features_names,\n",
    "    \"meta_embedding_projections\": projections_maps.get('meta_embedding_projections'),\n",
    "    \"encoder_type\": model_args.transactions_model_encoder_type,\n",
    "    \"head_type\": model_args.transactions_model_head_type,\n",
    "    \"embedding_dropout\": 0.1\n",
    "}\n",
    "transactions_model = TransactionsModel(**transactions_model_config)"
   ]
  },
  {
   "cell_type": "code",
   "execution_count": null,
   "id": "3be0ece5",
   "metadata": {},
   "outputs": [],
   "source": [
    "# Create general Tranactions QA model\n",
    "transactionsQA_model_config = {\n",
    "    \"warmup_steps\": 10,\n",
    "    \"training_steps\": 1000,\n",
    "    \"do_freeze_tm\": False,\n",
    "    \"do_freeze_lm\": False,\n",
    "    \"do_freeze_connector\": False,\n",
    "    \"connector_input_size\": 384,\n",
    "}\n",
    "model = TransactionQAModel(\n",
    "    language_model=lm_model,\n",
    "    transaction_model=transactions_model,\n",
    "    tokenizer=tokenizer,\n",
    "    tasks=tasks,\n",
    "    **transactionsQA_model_config\n",
    ")"
   ]
  },
  {
   "cell_type": "code",
   "execution_count": null,
   "id": "0ae4042f",
   "metadata": {},
   "outputs": [],
   "source": []
  },
  {
   "cell_type": "markdown",
   "id": "4d0eaf4c",
   "metadata": {},
   "source": [
    "### Saving new data format"
   ]
  },
  {
   "cell_type": "code",
   "execution_count": null,
   "id": "6f956aca",
   "metadata": {},
   "outputs": [],
   "source": [
    "path = dataset_train[0]\n",
    "\n",
    "gc.disable()\n",
    "with open(path, 'rb') as f:\n",
    "    data = pickle.load(f)\n",
    "\n",
    "gc.enable()\n",
    "\n",
    "padded_sequences, targets, products = data['padded_sequences'], data['targets'], data[\n",
    "    'products']\n",
    "app_ids = data['app_id']\n",
    "indices = np.arange(len(products))\n",
    "\n",
    "transaction_features = ['currency', 'operation_kind', 'card_type', 'operation_type',\n",
    "                        'operation_type_group', 'ecommerce_flag', 'payment_system',\n",
    "                        'income_flag', 'mcc', 'country', 'city', 'mcc_category',\n",
    "                        'day_of_week', 'hour', 'weekofyear', 'amnt', 'days_before', 'hour_diff']\n",
    "\n",
    "num_features_names = ['amnt', 'days_before', 'hour_diff']\n",
    "cat_features_names = [x for x in transaction_features if x not in num_features_names]\n",
    "meta_features_names = ['product']\n",
    "\n",
    "num_features_indices = [transaction_features.index(x) for x in num_features_names]\n",
    "cat_features_indices = [transaction_features.index(x) for x in cat_features_names]\n",
    "\n",
    "\n",
    "bucket = padded_sequences[0]\n",
    "batch_sequences = bucket[0: 0 + 1]\n",
    "\n",
    "new_data = {}\n",
    "\n",
    "for key in data:\n",
    "    for elem in data[key]:\n",
    "        new_data[key] = to\n",
    "\n",
    "                        ret = dict(num_features=[torch.FloatTensor(batch_sequences[:, i]) for i in num_features_indices],\n",
    "                            cat_features=[torch.LongTensor(batch_sequences[:, i]) for i in cat_features_indices],\n",
    "                            mask=torch.BoolTensor(mask),\n",
    "                            meta_features=[torch.LongTensor(batch_products)],\n",
    "                            app_id=torch.LongTensor(batch_app_ids)\n",
    "                )"
   ]
  },
  {
   "cell_type": "markdown",
   "id": "c6eb2aa1",
   "metadata": {},
   "source": [
    "### Chill"
   ]
  },
  {
   "cell_type": "code",
   "execution_count": 10,
   "id": "cabef916",
   "metadata": {},
   "outputs": [],
   "source": [
    "from pl_dataloader import TransactionQADataset"
   ]
  },
  {
   "cell_type": "code",
   "execution_count": 11,
   "id": "7c24db98",
   "metadata": {},
   "outputs": [],
   "source": [
    "val_ds = TransactionQADataset(dataset_val)\n",
    "\n",
    "val_dataloader = DataLoader(val_ds, \n",
    "                                batch_size=32,\n",
    "                                num_workers=8, \n",
    "                                shuffle=False,\n",
    "                                collate_fn=TransactionQADataset.collate_fn\n",
    "                            )"
   ]
  },
  {
   "cell_type": "code",
   "execution_count": null,
   "id": "d45b37be",
   "metadata": {},
   "outputs": [],
   "source": []
  },
  {
   "cell_type": "code",
   "execution_count": 12,
   "id": "f654ad4a",
   "metadata": {},
   "outputs": [],
   "source": [
    "#  def __iter__(self):\n",
    "#         worker_total_num = torch.utils.data.get_worker_info().num_workers\n",
    "#         worker_id = torch.utils.data.get_worker_info().id\n",
    "#         #Create an iterator\n",
    "#         file_itr = open(self.filename)\n",
    "\n",
    "#         #Map each element using the line_mapper\n",
    "#         mapped_itr = map(self.line_mapper, file_itr)\n",
    "        \n",
    "#         #Add multiworker functionality\n",
    "#         mapped_itr = islice(mapped_itr, worker_id, None, worker_total_num)\n",
    "\n",
    "#         return mapped_itr"
   ]
  },
  {
   "cell_type": "code",
   "execution_count": 13,
   "id": "efe4ca2a",
   "metadata": {},
   "outputs": [],
   "source": [
    "# from itertools import islice\n",
    "\n",
    "# it = range(1, 10)\n",
    "\n",
    "# for elem in islice(it, 0, None, 2):\n",
    "#     print(elem)"
   ]
  }
 ],
 "metadata": {
  "kernelspec": {
   "display_name": "Python 3 (ipykernel)",
   "language": "python",
   "name": "python3"
  },
  "language_info": {
   "codemirror_mode": {
    "name": "ipython",
    "version": 3
   },
   "file_extension": ".py",
   "mimetype": "text/x-python",
   "name": "python",
   "nbconvert_exporter": "python",
   "pygments_lexer": "ipython3",
   "version": "3.7.12"
  },
  "vscode": {
   "interpreter": {
    "hash": "4ff2a09b934b25be9a8b176e9d1e80ece927d491d3847c62b1a0ae23e4142515"
   }
  }
 },
 "nbformat": 4,
 "nbformat_minor": 5
}
