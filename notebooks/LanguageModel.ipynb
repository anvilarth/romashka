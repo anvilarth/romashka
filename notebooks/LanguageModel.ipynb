{
 "cells": [
  {
   "cell_type": "code",
   "execution_count": 2,
   "id": "8d47bd38-baf2-41c4-8b0d-f6a66c4bdf44",
   "metadata": {},
   "outputs": [],
   "source": [
    "import sys \n",
    "sys.path.append('../')"
   ]
  },
  {
   "cell_type": "code",
   "execution_count": 1,
   "id": "8da87289-e8e4-4de5-b1c4-1f278683bc58",
   "metadata": {},
   "outputs": [],
   "source": [
    "%load_ext autoreload\n",
    "%autoreload 2\n",
    "\n",
    "import matplotlib as mpl\n",
    "import seaborn as sns\n",
    "import tqdm\n",
    "from matplotlib import pyplot as plt\n",
    "\n",
    "%matplotlib inline\n",
    "\n",
    "sns.set(style='whitegrid')\n",
    "import matplotlib\n",
    "matplotlib.rcParams[\"figure.dpi\"] = 300\n",
    "plt.rcParams['axes.facecolor'] = 'white'\n",
    "plt.rcParams['figure.facecolor'] = 'white'\n",
    "plt.rcParams['savefig.facecolor'] = 'white'\n",
    "plt.rcParams['savefig.facecolor'] = 'white'"
   ]
  },
  {
   "cell_type": "markdown",
   "id": "1977c59b",
   "metadata": {},
   "source": [
    "#### Imports"
   ]
  },
  {
   "cell_type": "code",
   "execution_count": 3,
   "id": "cca5a27e-3293-40eb-a1c1-587332db18cb",
   "metadata": {
    "tags": []
   },
   "outputs": [],
   "source": [
    "import os\n",
    "import numpy as np\n",
    "import torch\n",
    "import torch.nn as nn\n",
    "import wandb\n",
    "\n",
    "import tqdm\n",
    "import pickle\n",
    "import pytorch_lightning as pl\n",
    "import random\n",
    "\n",
    "from torch.utils.data import IterableDataset, DataLoader\n",
    "from pytorch_lightning.loggers import WandbLogger\n",
    "from pytorch_lightning.callbacks import ModelCheckpoint\n",
    "\n",
    "from functools import partial\n",
    "from collections import namedtuple\n",
    "from transformers import AutoModelForSeq2SeqLM, AutoTokenizer"
   ]
  },
  {
   "cell_type": "code",
   "execution_count": 4,
   "id": "0d1654ee",
   "metadata": {},
   "outputs": [],
   "source": [
    "from src.transactions_qa.tqa_model import TransactionQAModel\n",
    "from src.models.components.models import TransactionsModel\n",
    "from src.utils.tools import (make_time_batch, \n",
    "                   calculate_embedding_size)\n",
    "\n",
    "from src.data.alfa.components import ( \n",
    "                             cat_features_names, \n",
    "                             num_features_names, \n",
    "                             meta_features_names)\n",
    "\n",
    "from src.data import AlfaDataModule \n",
    "from src.transactions_qa.tqa_model import TransactionQAModel\n",
    "from src.transactions_qa.utils import get_projections_maps, get_exponent_number, get_mantissa_number\n",
    "from src.tasks import AbstractTask, AutoTask\n",
    "from src.transactions_qa.utils import get_split_indices,  prepare_splitted_batch, collate_batch_dict"
   ]
  },
  {
   "cell_type": "code",
   "execution_count": 5,
   "id": "7024fcfa",
   "metadata": {},
   "outputs": [],
   "source": [
    "from transformers import AutoModelForSeq2SeqLM, AutoTokenizer, AutoConfig"
   ]
  },
  {
   "cell_type": "code",
   "execution_count": 6,
   "id": "91ebf7d9",
   "metadata": {},
   "outputs": [],
   "source": [
    "os.environ['TOKENIZERS_PARALLELISM'] = 'false'"
   ]
  },
  {
   "cell_type": "code",
   "execution_count": 7,
   "id": "780f1a7d",
   "metadata": {},
   "outputs": [],
   "source": [
    "def load_transaction_model(encoder_type='whisper/tiny', head_type='next'):\n",
    "    projections_maps = get_projections_maps(relative_folder=\"..\")\n",
    "    # Loading Transactions model & weights\n",
    "    print(f\"Loading Transactions model...\")\n",
    "\n",
    "    transactions_model_encoder_type = encoder_type\n",
    "    transactions_model_head_type = head_type\n",
    "\n",
    "\n",
    "    transactions_model_config = {\n",
    "        \"cat_features\": cat_features_names,\n",
    "        \"cat_embedding_projections\": projections_maps.get('cat_embedding_projections'),\n",
    "        \"num_features\": num_features_names,\n",
    "        \"num_embedding_projections\": projections_maps.get('num_embedding_projections'),\n",
    "        \"meta_features\": meta_features_names,\n",
    "        \"meta_embedding_projections\": projections_maps.get('meta_embedding_projections'),\n",
    "        \"encoder_type\": transactions_model_encoder_type,\n",
    "        \"head_type\": transactions_model_head_type,\n",
    "        \"embedding_dropout\": 0.1\n",
    "    }\n",
    "    transactions_model = TransactionsModel(**transactions_model_config)\n",
    "\n",
    "    return transactions_model, projections_maps"
   ]
  },
  {
   "cell_type": "code",
   "execution_count": 8,
   "id": "6c32bad2-82bf-454a-901e-c5288226d312",
   "metadata": {},
   "outputs": [],
   "source": [
    "def load_language_model(language_model_name_or_path=\"google/flan-t5-small\"):\n",
    "    use_fast_tokenizer = True\n",
    "\n",
    "    print(f\"Loading Language model: `{language_model_name_or_path}`...\")\n",
    "    config_kwargs = {\n",
    "        \"use_auth_token\": None,\n",
    "        \"return_unused_kwargs\": True\n",
    "    }\n",
    "\n",
    "    tokenizer_kwargs = {\n",
    "        \"use_fast\": use_fast_tokenizer,\n",
    "        \"use_auth_token\": None,\n",
    "        \"do_lowercase\": False\n",
    "    }\n",
    "\n",
    "    config, unused_kwargs = AutoConfig.from_pretrained(\n",
    "        language_model_name_or_path, **config_kwargs\n",
    "    )\n",
    "    # Download vocabulary from huggingface.co and define model-specific arguments\n",
    "    tokenizer = AutoTokenizer.from_pretrained(language_model_name_or_path, **tokenizer_kwargs)\n",
    "\n",
    "    # Download model from huggingface.co and cache.\n",
    "    lm_model = AutoModelForSeq2SeqLM.from_pretrained(\n",
    "        language_model_name_or_path,\n",
    "        config=config\n",
    "    )\n",
    "    return lm_model, tokenizer"
   ]
  },
  {
   "cell_type": "code",
   "execution_count": 9,
   "id": "1e61bc73",
   "metadata": {},
   "outputs": [],
   "source": [
    "def load_datamodule():\n",
    "    DATA_PATH = '/home/jovyan/romashka/data' \n",
    "    dataset_config = {\n",
    "                'data_dir': DATA_PATH,\n",
    "                'batch_size': 32,\n",
    "                'min_seq_len': 0,\n",
    "                'max_seq_len': 250,\n",
    "                'shuffle': True,\n",
    "                'num_workers': 5,\n",
    "                'pin_memory': True,\n",
    "                'seed': 42\n",
    "    }    \n",
    "\n",
    "    dm = AlfaDataModule(**dataset_config)\n",
    "    return dm"
   ]
  },
  {
   "cell_type": "code",
   "execution_count": 34,
   "id": "35580e84",
   "metadata": {},
   "outputs": [],
   "source": [
    "def load_tasks(task_names, tokenizer):\n",
    "    # Create tasks\n",
    "    tasks = []\n",
    "    tasks_kwargs = [{\"num_options\": 6, \"floating_threshold\": False, 'answer2text': True, 'use_numerical_output': False}, \n",
    "    {\"num_options\": 6, \"floating_threshold\": False, 'use_numerical_output': False}] # ground truth + 5 additional options\n",
    "    if isinstance(task_names, str):\n",
    "        task_names = eval(task_names)\n",
    "    if isinstance(tasks_kwargs, str):\n",
    "        tasks_kwargs = eval(tasks_kwargs)\n",
    "    print(f\"Got task_names: {task_names} with task_kwargs: {tasks_kwargs}\")\n",
    "\n",
    "    for task_i, task_name in enumerate(task_names):\n",
    "        task_kwargs = tasks_kwargs[task_i] if task_i < len(tasks_kwargs) else {}\n",
    "        if \"tokenizer\" not in task_kwargs:\n",
    "            task_kwargs['tokenizer'] = tokenizer\n",
    "        task = AutoTask.get(task_name=task_name, **task_kwargs)\n",
    "        tasks.append(task)\n",
    "    print(f\"Created {len(tasks)} tasks.\")\n",
    "    return tasks"
   ]
  },
  {
   "cell_type": "code",
   "execution_count": 35,
   "id": "83d834e2",
   "metadata": {},
   "outputs": [],
   "source": [
    "def make_tqa_model(lm_model, transactions_model, tokenizer, tasks):\n",
    "    # Create general Tranactions QA model\n",
    "    max_steps = 100_000\n",
    "    warmup_steps = 1000\n",
    "    do_freeze_transactions_model = True\n",
    "    do_freeze_language_model = True\n",
    "    do_freeze_connector = False\n",
    "\n",
    "    transactionsQA_model_config = {\n",
    "        \"warmup_steps\": warmup_steps,\n",
    "        \"training_steps\": max_steps,\n",
    "        \"do_freeze_tm\": do_freeze_transactions_model,\n",
    "        \"do_freeze_lm\": do_freeze_language_model,\n",
    "        \"do_freeze_connector\": do_freeze_connector,\n",
    "        \"connector_input_size\": 384,\n",
    "        \"use_numerical_input\": False,\n",
    "        \"use_numerical_output\": False,\n",
    "        \"numerical_context\": \"context\",\n",
    "    }\n",
    "\n",
    "    model = TransactionQAModel(\n",
    "        language_model=lm_model,\n",
    "        transaction_model=transactions_model,\n",
    "        tokenizer=tokenizer,\n",
    "        tasks=tasks,\n",
    "        **transactionsQA_model_config\n",
    "    )\n",
    "    return model"
   ]
  },
  {
   "cell_type": "code",
   "execution_count": 36,
   "id": "f61b93c0",
   "metadata": {},
   "outputs": [
    {
     "name": "stdout",
     "output_type": "stream",
     "text": [
      "Loading Language model: `google/flan-t5-small`...\n",
      "Loading Transactions model...\n"
     ]
    },
    {
     "name": "stderr",
     "output_type": "stream",
     "text": [
      "2023-06-15 15:46:32,637 - [INFO] - Tasks - (task_abstract.py).generate_question_templates(206) - Given 5 starting options and 1 ending options results in 5 total combinations.\n",
      "2023-06-15 15:46:32,639 - [INFO] - Tasks - (task_abstract.py).extend_vocabulary(173) - Added to tokenizer: 2 tokens.\n",
      "2023-06-15 15:46:32,640 - [INFO] - Tasks - (task_abstract.py).extend_vocabulary(179) - Notice: resize_token_embeddings of a model to adapt to the size of the new vocabulary!\n",
      "2023-06-15 15:46:32,659 - [INFO] - TransactionQAModel - (tqa_model.py).__init__(113) - Setuping metrics.\n",
      "2023-06-15 15:46:32,659 - [INFO] - TransactionQAModel - (tqa_model.py).__init__(113) - Setuping metrics.\n",
      "2023-06-15 15:46:32,659 - [INFO] - TransactionQAModel - (tqa_model.py).__init__(113) - Setuping metrics.\n",
      "2023-06-15 15:46:32,664 - [INFO] - TransactionQAModel - (tqa_model.py)._prepare_model(206) - Running in `single task` settingwith a single task: next_amnt_open_ended provided.\n",
      "2023-06-15 15:46:32,664 - [INFO] - TransactionQAModel - (tqa_model.py)._prepare_model(206) - Running in `single task` settingwith a single task: next_amnt_open_ended provided.\n",
      "2023-06-15 15:46:32,664 - [INFO] - TransactionQAModel - (tqa_model.py)._prepare_model(206) - Running in `single task` settingwith a single task: next_amnt_open_ended provided.\n",
      "2023-06-15 15:46:32,666 - [INFO] - TransactionQAModel - (tqa_model.py)._set_model_type(241) - Language model type: `encoder-decoder`\n",
      "2023-06-15 15:46:32,666 - [INFO] - TransactionQAModel - (tqa_model.py)._set_model_type(241) - Language model type: `encoder-decoder`\n",
      "2023-06-15 15:46:32,666 - [INFO] - TransactionQAModel - (tqa_model.py)._set_model_type(241) - Language model type: `encoder-decoder`\n",
      "2023-06-15 15:46:32,668 - [INFO] - TransactionQAModel - (tqa_model.py)._resize_text_embeddings(251) - LM initial `num_embeddings`: 32128, `embedding_dim`: 512\n",
      "2023-06-15 15:46:32,668 - [INFO] - TransactionQAModel - (tqa_model.py)._resize_text_embeddings(251) - LM initial `num_embeddings`: 32128, `embedding_dim`: 512\n",
      "2023-06-15 15:46:32,668 - [INFO] - TransactionQAModel - (tqa_model.py)._resize_text_embeddings(251) - LM initial `num_embeddings`: 32128, `embedding_dim`: 512\n"
     ]
    },
    {
     "name": "stdout",
     "output_type": "stream",
     "text": [
      "USING whisper\n",
      "Got task_names: ['next_amnt_open_ended'] with task_kwargs: [{'num_options': 6, 'floating_threshold': False, 'answer2text': True, 'use_numerical_output': False}, {'num_options': 6, 'floating_threshold': False, 'use_numerical_output': False}]\n",
      "Created 1 tasks.\n",
      "Output dimension of embedding model: 384\n",
      "Input dimension of autoregressive model: 512\n",
      "Creating linear connector from 384 to 512 and move to device: cpu.\n",
      "ModuleDict(\n",
      "  (next_amnt_open_ended): ModuleDict(\n",
      "    (mae): MeanAbsoluteError()\n",
      "    (mape): MeanAbsolutePercentageError()\n",
      "    (rouge): ROUGEScore()\n",
      "  )\n",
      ")\n"
     ]
    },
    {
     "name": "stderr",
     "output_type": "stream",
     "text": [
      "2023-06-15 15:46:32,968 - [INFO] - TransactionQAModel - (tqa_model.py)._resize_text_embeddings(263) - LM resized `num_embeddings`: 32102, `embedding_dim`: 512\n",
      "2023-06-15 15:46:32,968 - [INFO] - TransactionQAModel - (tqa_model.py)._resize_text_embeddings(263) - LM resized `num_embeddings`: 32102, `embedding_dim`: 512\n",
      "2023-06-15 15:46:32,968 - [INFO] - TransactionQAModel - (tqa_model.py)._resize_text_embeddings(263) - LM resized `num_embeddings`: 32102, `embedding_dim`: 512\n",
      "2023-06-15 15:46:32,974 - [INFO] - TransactionQAModel - (tqa_model.py)._prepare_model(217) - Freezing transaction model's parameters...\n",
      "2023-06-15 15:46:32,974 - [INFO] - TransactionQAModel - (tqa_model.py)._prepare_model(217) - Freezing transaction model's parameters...\n",
      "2023-06-15 15:46:32,974 - [INFO] - TransactionQAModel - (tqa_model.py)._prepare_model(217) - Freezing transaction model's parameters...\n",
      "2023-06-15 15:46:32,977 - [INFO] - TransactionQAModel - (tqa_model.py)._prepare_model(222) - Freezing language model's parameters...\n",
      "2023-06-15 15:46:32,977 - [INFO] - TransactionQAModel - (tqa_model.py)._prepare_model(222) - Freezing language model's parameters...\n",
      "2023-06-15 15:46:32,977 - [INFO] - TransactionQAModel - (tqa_model.py)._prepare_model(222) - Freezing language model's parameters...\n"
     ]
    }
   ],
   "source": [
    "# task_names = ['next_transactions_30_days_binary', 'default', 'next_mcc_binary', 'next_mcc_open_ended']\n",
    "task_names = ['next_amnt_open_ended']\n",
    "LM_NAME = 'google/flan-t5-small'\n",
    "\n",
    "lm_model, tokenizer = load_language_model(language_model_name_or_path=LM_NAME)\n",
    "transactions_model, projections_maps = load_transaction_model()\n",
    "\n",
    "tasks = load_tasks(task_names, tokenizer)\n",
    "dm = load_datamodule()\n",
    "\n",
    "tqa_model = make_tqa_model(lm_model, transactions_model, tokenizer, tasks)"
   ]
  },
  {
   "cell_type": "code",
   "execution_count": 37,
   "id": "529923c6",
   "metadata": {},
   "outputs": [],
   "source": [
    "# ckpt = torch.load('/home/jovyan/romashka/checkpoints/checkpoints/tqa_200k-steps_ft=all_numerical_v5/last.ckpt')['state_dict']\n",
    "\n",
    "# tqa_model.load_state_dict(ckpt, strict=False)\n",
    "# tqa_model.cuda();"
   ]
  },
  {
   "cell_type": "markdown",
   "id": "c34e986c",
   "metadata": {},
   "source": [
    "### Numerical Input"
   ]
  },
  {
   "cell_type": "code",
   "execution_count": 44,
   "id": "066d09ef",
   "metadata": {},
   "outputs": [],
   "source": [
    "import re\n",
    "from src.models.components.embedding import NumEmbedding"
   ]
  },
  {
   "cell_type": "code",
   "execution_count": 45,
   "id": "be2549a3",
   "metadata": {},
   "outputs": [],
   "source": [
    "batch = next(iter(dm.val_dataloader()))"
   ]
  },
  {
   "cell_type": "code",
   "execution_count": 46,
   "id": "d885f3ce",
   "metadata": {},
   "outputs": [],
   "source": [
    "pred = tqa_model.model_step(batch)"
   ]
  },
  {
   "cell_type": "code",
   "execution_count": 50,
   "id": "f26132db",
   "metadata": {},
   "outputs": [
    {
     "data": {
      "text/plain": [
       "tensor([0.4800, 0.4700, 0.6500, 0.4800, 0.5200, 0.4400, 0.5400, 0.5300, 0.2600,\n",
       "        0.5200, 0.4400, 0.5400, 0.4800, 0.5000, 0.5200, 0.4900, 0.5300, 0.3500,\n",
       "        0.5000, 0.4500, 0.4400, 0.3200, 0.4100, 0.4800, 0.4700, 0.3800, 0.4900,\n",
       "        0.5200, 0.4100, 0.2600, 0.5500, 0.4500])"
      ]
     },
     "execution_count": 50,
     "metadata": {},
     "output_type": "execute_result"
    }
   ],
   "source": [
    "pred[0]['label']"
   ]
  },
  {
   "cell_type": "code",
   "execution_count": 40,
   "id": "8ff81ded",
   "metadata": {},
   "outputs": [
    {
     "name": "stdout",
     "output_type": "stream",
     "text": [
      "Validation predictions vs. answers, batch #0:\n",
      "\t#0:\tpredicted: 1 not transactions, answer: zero dot four eight\n",
      "\t#1:\tpredicted:  not transactions, answer: zero dot four seven\n",
      "\t#2:\tpredicted: 1 not  transactions, answer: zero dot six five\n",
      "\t#3:\tpredicted: 1 not transactions, answer: zero dot four eight\n",
      "\t#4:\tpredicted: 1 not transactions, answer: zero dot five two\n",
      "\t#5:\tpredicted: 1 not transactions, answer: zero dot four four\n",
      "\t#6:\tpredicted: 1 not transactions, answer: zero dot five four\n",
      "\t#7:\tpredicted: 1 not transactions, answer: zero dot five three\n",
      "\t#8:\tpredicted: 1 not  transactions, answer: zero dot two six\n",
      "\t#9:\tpredicted: 1 not transactions, answer: zero dot five two\n",
      "\t#10:\tpredicted: 1 not  transactions, answer: zero dot four four\n",
      "\t#11:\tpredicted: 1 not  transactions, answer: zero dot five four\n",
      "\t#12:\tpredicted: 1 nots transactions, answer: zero dot four eight\n",
      "\t#13:\tpredicted: 1 not transactions, answer: zero dot five\n",
      "\t#14:\tpredicted: 1 not transactions, answer: zero dot five two\n",
      "\t#15:\tpredicted: 1 not transactions, answer: zero dot four nine\n",
      "\t#16:\tpredicted: 1 not  transactions, answer: zero dot five three\n",
      "\t#17:\tpredicted: 1 not transactions, answer: zero dot three five\n",
      "\t#18:\tpredicted: 1 not transactions, answer: zero dot five\n",
      "\t#19:\tpredicted: 1 not transactions, answer: zero dot four five\n",
      "\t#20:\tpredicted: 1 not transactions, answer: zero dot four four\n",
      "\t#21:\tpredicted: 1 not transactions, answer: zero dot three two\n",
      "\t#22:\tpredicted: 1 not transactions, answer: zero dot four one\n",
      "\t#23:\tpredicted:  not, answer: zero dot four eight\n",
      "\t#24:\tpredicted: 1 not transactions, answer: zero dot four seven\n",
      "\t#25:\tpredicted: 1 not transactions, answer: zero dot three eight\n",
      "\t#26:\tpredicted: 1 not transactions, answer: zero dot four nine\n",
      "\t#27:\tpredicted: 1 not transactions, answer: zero dot five two\n",
      "\t#28:\tpredicted: 1 not transactions, answer: zero dot four one\n",
      "\t#29:\tpredicted: 1 not transactions, answer: zero dot two six\n",
      "\t#30:\tpredicted: 1 not transactions, answer: zero dot five five\n",
      "\t#31:\tpredicted: 1 not transactions, answer: zero dot four five\n"
     ]
    },
    {
     "name": "stderr",
     "output_type": "stream",
     "text": [
      "/home/jovyan/.imgenv-afilatov-dev-19-0/lib/python3.7/site-packages/pytorch_lightning/core/module.py:417: UserWarning: You are trying to `self.log()` but the `self.trainer` reference is not registered on the model yet. This is most likely because the model hasn't been passed to the `Trainer`\n",
      "  \"You are trying to `self.log()` but the `self.trainer` reference is not registered on the model yet.\"\n"
     ]
    },
    {
     "data": {
      "text/plain": [
       "tensor(9.9947, grad_fn=<NllLossBackward0>)"
      ]
     },
     "execution_count": 40,
     "metadata": {},
     "output_type": "execute_result"
    }
   ],
   "source": [
    "# tqa_model.validation_step(batch, 0)"
   ]
  },
  {
   "cell_type": "code",
   "execution_count": 19,
   "id": "329c2910",
   "metadata": {},
   "outputs": [],
   "source": [
    "tmp = tqa_model.tasks[0].prepare_task_batch(batch)\n",
    "# tmp2 = tqa_model.tasks[0].process_input_batch(batch)"
   ]
  },
  {
   "cell_type": "code",
   "execution_count": 21,
   "id": "e6b0e1a0",
   "metadata": {},
   "outputs": [
    {
     "data": {
      "text/plain": [
       "tensor([0.5200, 0.4700, 0.5200, 0.4000, 0.5000, 0.4300, 0.5100, 0.5400, 0.4600,\n",
       "        0.5200, 0.3600, 0.5500, 0.4500, 0.5000, 0.2800, 0.4800, 0.5200, 0.5000,\n",
       "        0.5000, 0.4500, 0.4400, 0.2600, 0.4600, 0.4600, 0.4200, 0.2600, 0.4900,\n",
       "        0.3700, 0.4400, 0.4500, 0.5500, 0.4500])"
      ]
     },
     "execution_count": 21,
     "metadata": {},
     "output_type": "execute_result"
    }
   ],
   "source": [
    "tmp['label']"
   ]
  },
  {
   "cell_type": "code",
   "execution_count": 47,
   "id": "3adeef5e",
   "metadata": {},
   "outputs": [
    {
     "data": {
      "text/plain": [
       "tensor(0.8523)"
      ]
     },
     "execution_count": 47,
     "metadata": {},
     "output_type": "execute_result"
    }
   ],
   "source": [
    "torch.randn(10)[0]"
   ]
  },
  {
   "cell_type": "code",
   "execution_count": 33,
   "id": "e92869a3",
   "metadata": {},
   "outputs": [
    {
     "data": {
      "text/plain": [
       "tensor([[0.3600],\n",
       "        [0.5700],\n",
       "        [0.5800],\n",
       "        [0.0400],\n",
       "        [0.7900],\n",
       "        [0.8800],\n",
       "        [0.4900],\n",
       "        [0.3300],\n",
       "        [0.4900],\n",
       "        [0.1000],\n",
       "        [0.6900],\n",
       "        [0.8600],\n",
       "        [0.8400],\n",
       "        [0.0700],\n",
       "        [0.7500],\n",
       "        [0.2400],\n",
       "        [0.4700],\n",
       "        [0.6400],\n",
       "        [0.9800],\n",
       "        [0.6600],\n",
       "        [0.0800],\n",
       "        [0.5000],\n",
       "        [0.6800],\n",
       "        [0.7600],\n",
       "        [0.3600],\n",
       "        [0.3200],\n",
       "        [0.4300],\n",
       "        [0.4800],\n",
       "        [0.3700],\n",
       "        [0.2600],\n",
       "        [0.1300],\n",
       "        [0.0900]])"
      ]
     },
     "execution_count": 33,
     "metadata": {},
     "output_type": "execute_result"
    }
   ],
   "source": [
    "tmp['threshold']"
   ]
  },
  {
   "cell_type": "code",
   "execution_count": 17,
   "id": "68efa2c0",
   "metadata": {},
   "outputs": [],
   "source": [
    "trx_index = batch['mask'].sum(1, keepdim=True) - 1\n",
    "t = batch['num_features'][0]"
   ]
  },
  {
   "cell_type": "code",
   "execution_count": 20,
   "id": "437a7e10",
   "metadata": {},
   "outputs": [],
   "source": [
    "outputs, batch_answers = tqa_model.model_step(batch, task_idx=0)"
   ]
  },
  {
   "cell_type": "code",
   "execution_count": 21,
   "id": "ae3f98a7",
   "metadata": {},
   "outputs": [
    {
     "data": {
      "text/plain": [
       "torch.Size([32])"
      ]
     },
     "execution_count": 21,
     "metadata": {},
     "output_type": "execute_result"
    }
   ],
   "source": [
    "tqa_model.tasks[0].process_outputs(outputs, batch_answers)[1].shape"
   ]
  },
  {
   "cell_type": "code",
   "execution_count": 22,
   "id": "ee065c31",
   "metadata": {},
   "outputs": [],
   "source": [
    "metrics_scores = tqa_model.tasks[0].calculate_metrics(outputs, batch_answers, tqa_model.val_metrics[tqa_model.tasks[0].task_name], stage='val_')"
   ]
  },
  {
   "cell_type": "markdown",
   "id": "e0d96dec",
   "metadata": {},
   "source": [
    "#### Transform numbers to text"
   ]
  },
  {
   "cell_type": "code",
   "execution_count": 46,
   "id": "46ff1f5e",
   "metadata": {},
   "outputs": [],
   "source": [
    "import inflect"
   ]
  },
  {
   "cell_type": "code",
   "execution_count": 47,
   "id": "2f3c6fd1",
   "metadata": {},
   "outputs": [],
   "source": [
    "p = inflect.engine()"
   ]
  },
  {
   "cell_type": "code",
   "execution_count": 48,
   "id": "d06b016e",
   "metadata": {},
   "outputs": [],
   "source": [
    "words = p.number_to_words(123.456,  decimal=\"dot\")"
   ]
  },
  {
   "cell_type": "code",
   "execution_count": 49,
   "id": "936024a6",
   "metadata": {},
   "outputs": [],
   "source": [
    "new_batch = tqa_model.tasks[0].process_input_batch(batch)\n",
    "qa_batch = tqa_model.tokenize_texts(new_batch)"
   ]
  },
  {
   "cell_type": "code",
   "execution_count": 52,
   "id": "026a286b",
   "metadata": {},
   "outputs": [],
   "source": [
    "# new_batch['question_end_string']"
   ]
  },
  {
   "cell_type": "code",
   "execution_count": 57,
   "id": "0171a002",
   "metadata": {},
   "outputs": [
    {
     "name": "stderr",
     "output_type": "stream",
     "text": [
      "<>:1: DeprecationWarning: invalid escape sequence \\d\n",
      "<>:1: DeprecationWarning: invalid escape sequence \\d\n",
      "<>:1: DeprecationWarning: invalid escape sequence \\d\n",
      "/tmp/ipykernel_35565/1405876172.py:1: DeprecationWarning: invalid escape sequence \\d\n",
      "  num_values = [re.findall(\"\\d+\\.\\d+\", question) for question in new_batch['question_end_string']]\n"
     ]
    }
   ],
   "source": [
    "num_values = [re.findall(\"\\d+\\.\\d+\", question) for question in new_batch['question_end_string']]\n",
    "\n",
    "text_arrays = []\n",
    "for numbers in num_values:\n",
    "    text_rows = []\n",
    "    for number in numbers:\n",
    "        text_rows.append(p.number_to_words(number, decimal=\"dot\"))\n",
    "    \n",
    "    text_arrays.append(text_rows)"
   ]
  },
  {
   "cell_type": "code",
   "execution_count": 70,
   "id": "3a78cfee",
   "metadata": {},
   "outputs": [
    {
     "name": "stderr",
     "output_type": "stream",
     "text": [
      "<>:1: DeprecationWarning: invalid escape sequence \\d\n",
      "<>:1: DeprecationWarning: invalid escape sequence \\d\n",
      "<>:1: DeprecationWarning: invalid escape sequence \\d\n",
      "/tmp/ipykernel_35565/3848032820.py:1: DeprecationWarning: invalid escape sequence \\d\n",
      "  numerics = [re.sub(\"\\d+\\.\\d+\", lambda x: p.number_to_words(x.string[x.start():x.end()], decimal='dot'), string) for string in new_batch['question_end_string']]\n"
     ]
    }
   ],
   "source": [
    "numerics = [re.sub(\"\\d+\\.\\d+\", lambda x: p.number_to_words(x.string[x.start():x.end()], decimal='dot'), string) for string in new_batch['question_end_string']]"
   ]
  },
  {
   "cell_type": "code",
   "execution_count": 71,
   "id": "fe46343c",
   "metadata": {},
   "outputs": [
    {
     "data": {
      "text/plain": [
       "['[/trx]. Will the next transactions have amount more than zero dot four one? Yes or No?',\n",
       " '[/trx]. Will the next transactions have amount more than zero dot four one? Yes or No?',\n",
       " '[/trx]. Will the next transactions have amount more than zero dot four one? Yes or No?',\n",
       " '[/trx]. Will the next transactions have amount more than zero dot four one? Yes or No?',\n",
       " '[/trx]. Will the next transactions have amount more than zero dot four one? Yes or No?',\n",
       " '[/trx]. Will the next transactions have amount more than zero dot four one? Yes or No?',\n",
       " '[/trx]. Will the next transactions have amount more than zero dot four one? Yes or No?',\n",
       " '[/trx]. Will the next transactions have amount more than zero dot four one? Yes or No?',\n",
       " '[/trx]. Will the next transactions have amount more than zero dot four one? Yes or No?',\n",
       " '[/trx]. Will the next transactions have amount more than zero dot four one? Yes or No?',\n",
       " '[/trx]. Will the next transactions have amount more than zero dot four one? Yes or No?',\n",
       " '[/trx]. Will the next transactions have amount more than zero dot four one? Yes or No?',\n",
       " '[/trx]. Will the next transactions have amount more than zero dot four one? Yes or No?',\n",
       " '[/trx]. Will the next transactions have amount more than zero dot four one? Yes or No?',\n",
       " '[/trx]. Will the next transactions have amount more than zero dot four one? Yes or No?',\n",
       " '[/trx]. Will the next transactions have amount more than zero dot four one? Yes or No?',\n",
       " '[/trx]. Will the next transactions have amount more than zero dot four one? Yes or No?',\n",
       " '[/trx]. Will the next transactions have amount more than zero dot four one? Yes or No?',\n",
       " '[/trx]. Will the next transactions have amount more than zero dot four one? Yes or No?',\n",
       " '[/trx]. Will the next transactions have amount more than zero dot four one? Yes or No?',\n",
       " '[/trx]. Will the next transactions have amount more than zero dot four one? Yes or No?',\n",
       " '[/trx]. Will the next transactions have amount more than zero dot four one? Yes or No?',\n",
       " '[/trx]. Will the next transactions have amount more than zero dot four one? Yes or No?',\n",
       " '[/trx]. Will the next transactions have amount more than zero dot four one? Yes or No?',\n",
       " '[/trx]. Will the next transactions have amount more than zero dot four one? Yes or No?',\n",
       " '[/trx]. Will the next transactions have amount more than zero dot four one? Yes or No?',\n",
       " '[/trx]. Will the next transactions have amount more than zero dot four one? Yes or No?',\n",
       " '[/trx]. Will the next transactions have amount more than zero dot four one? Yes or No?',\n",
       " '[/trx]. Will the next transactions have amount more than zero dot four one? Yes or No?',\n",
       " '[/trx]. Will the next transactions have amount more than zero dot four one? Yes or No?',\n",
       " '[/trx]. Will the next transactions have amount more than zero dot four one? Yes or No?',\n",
       " '[/trx]. Will the next transactions have amount more than zero dot four one? Yes or No?']"
      ]
     },
     "execution_count": 71,
     "metadata": {},
     "output_type": "execute_result"
    }
   ],
   "source": [
    "numerics"
   ]
  },
  {
   "cell_type": "code",
   "execution_count": 51,
   "id": "f15818cb",
   "metadata": {},
   "outputs": [],
   "source": [
    "# qa_batch['question_end_tokens'] == tqa_model.input_num_token"
   ]
  },
  {
   "cell_type": "code",
   "execution_count": 129,
   "id": "14e25360",
   "metadata": {},
   "outputs": [
    {
     "name": "stderr",
     "output_type": "stream",
     "text": [
      "<>:1: DeprecationWarning: invalid escape sequence \\d\n",
      "<>:2: DeprecationWarning: invalid escape sequence \\d\n",
      "<>:1: DeprecationWarning: invalid escape sequence \\d\n",
      "<>:2: DeprecationWarning: invalid escape sequence \\d\n",
      "<>:1: DeprecationWarning: invalid escape sequence \\d\n",
      "<>:2: DeprecationWarning: invalid escape sequence \\d\n",
      "/tmp/ipykernel_29241/3952724340.py:1: DeprecationWarning: invalid escape sequence \\d\n",
      "  num_values = [re.findall(\"\\d+\\.\\d+\", question) for question in new_batch['question_end_string']]\n",
      "/tmp/ipykernel_29241/3952724340.py:2: DeprecationWarning: invalid escape sequence \\d\n",
      "  numerics = [re.sub(\"\\d+\\.\\d+\", '<extra_id_0>', string) for string in new_batch['question_end_string']]\n"
     ]
    }
   ],
   "source": [
    "num_values = [re.findall(\"\\d+\\.\\d+\", question) for question in new_batch['question_end_string']]\n",
    "numerics = [re.sub(\"\\d+\\.\\d+\", '<extra_id_0>', string) for string in new_batch['question_end_string']]\n",
    "\n",
    "# numerical_mask = (question_end_embeddings_batch['question_end_tokens'] == self.input_num_token)\n",
    "\n",
    "values = []\n",
    "for value_list in num_values:\n",
    "    for value in value_list:\n",
    "        values.append(float(value))\n",
    "\n",
    "# values = torch.tensor(values)\n",
    "values = torch.randn(32)"
   ]
  },
  {
   "cell_type": "code",
   "execution_count": 120,
   "id": "b759b9dd",
   "metadata": {},
   "outputs": [],
   "source": [
    "numerical_mask = (qa_batch['question_end_tokens'] == tqa_model.input_num_token)"
   ]
  },
  {
   "cell_type": "code",
   "execution_count": 115,
   "id": "46f20d4c",
   "metadata": {},
   "outputs": [],
   "source": [
    "buckets = torch.linspace(1, 10, steps=20)\n",
    "numemb = NumEmbedding(512, buckets)"
   ]
  },
  {
   "cell_type": "code",
   "execution_count": 116,
   "id": "ba5df782",
   "metadata": {},
   "outputs": [],
   "source": [
    "res = tqa_model.language_model.encoder.embed_tokens(qa_batch['question_end_tokens']) "
   ]
  },
  {
   "cell_type": "code",
   "execution_count": 123,
   "id": "7ae75b02",
   "metadata": {},
   "outputs": [],
   "source": [
    "res[numerical_mask] += numemb(values)"
   ]
  },
  {
   "cell_type": "code",
   "execution_count": null,
   "id": "36ceff3d",
   "metadata": {},
   "outputs": [],
   "source": []
  },
  {
   "cell_type": "code",
   "execution_count": 112,
   "id": "ce58eb9f",
   "metadata": {},
   "outputs": [],
   "source": [
    "# tqa_model.test_metrics.cuda();"
   ]
  },
  {
   "cell_type": "code",
   "execution_count": 113,
   "id": "6e2930c1",
   "metadata": {},
   "outputs": [
    {
     "name": "stderr",
     "output_type": "stream",
     "text": [
      "1811it [01:14, 24.40it/s]\n"
     ]
    }
   ],
   "source": [
    "diffs = []\n",
    "with torch.no_grad():\n",
    "    for batch in tqdm.tqdm(dm.val_dataloader()):\n",
    "        tqa_model.eval()\n",
    "        new_batch = {}\n",
    "        for key, value in batch.items():\n",
    "            new_batch[key] = batch[key].to('cuda')\n",
    "        res = tqa_model.model_step(new_batch)\n",
    "        diffs.extend(torch.abs(res[0]['preds'] - res[0]['label']).tolist())\n",
    "        metrics_scores = tqa_model.tasks[0].calculate_metrics(res[0], res[1], tqa_model.test_metrics[tasks[0].task_name], stage='test_')"
   ]
  },
  {
   "cell_type": "markdown",
   "id": "ba3e25bf",
   "metadata": {},
   "source": [
    "### Resaving"
   ]
  },
  {
   "cell_type": "code",
   "execution_count": null,
   "id": "43d4912c",
   "metadata": {},
   "outputs": [],
   "source": [
    "ckpt = torch.load('/home/jovyan/romashka/logs/train/runs/2023-05-16_16-42-51/checkpoints/epoch_013.ckpt')['state_dict']new_dict = {}\n",
    "for key in ckpt:\n",
    "    filter_start = len('_seq_encoder.full_model.')\n",
    "    if 'full_model'in key:\n",
    "        new_dict[key[filter_start:]] = ckpt[key]\n",
    "# torch.save(new_dict, 'coles_whisper_tiny.ckpt')\n",
    "# transactions_model.load_state_dict(new_dict, strict=False)"
   ]
  },
  {
   "cell_type": "markdown",
   "id": "d5366170",
   "metadata": {},
   "source": [
    "### Debugging numerical context"
   ]
  },
  {
   "cell_type": "code",
   "execution_count": 89,
   "id": "d2ab4907",
   "metadata": {},
   "outputs": [],
   "source": [
    "batch = next(iter(dm.train_dataloader()))"
   ]
  },
  {
   "cell_type": "code",
   "execution_count": 90,
   "id": "b2eeddcb",
   "metadata": {},
   "outputs": [],
   "source": [
    "# transactions_model"
   ]
  },
  {
   "cell_type": "code",
   "execution_count": 91,
   "id": "d9b42f1f",
   "metadata": {},
   "outputs": [],
   "source": [
    "# outputs, answers = tqa_model.model_step(batch)\n",
    "output, answer = tqa_model.model_step(batch)"
   ]
  },
  {
   "cell_type": "code",
   "execution_count": 92,
   "id": "9ee55678",
   "metadata": {},
   "outputs": [],
   "source": [
    "from einops import einsum, rearrange, repeat\n",
    "\n",
    "def exists(val):\n",
    "    return val is not None\n",
    "\n",
    "def default(val, d):\n",
    "    return val if exists(val) else d\n",
    "\n",
    "class Attention(nn.Module):\n",
    "    def __init__(self, query_dim, context_dim = None, heads = 8, dim_head = 64, dropout = 0.):\n",
    "        super().__init__()\n",
    "        inner_dim = dim_head * heads\n",
    "        context_dim = default(context_dim, query_dim)\n",
    "\n",
    "        self.scale = dim_head ** -0.5\n",
    "        self.heads = heads\n",
    "\n",
    "        self.to_q = nn.Linear(query_dim, inner_dim, bias = False)\n",
    "        self.to_kv = nn.Linear(context_dim, inner_dim * 2, bias = False)\n",
    "\n",
    "        self.dropout = nn.Dropout(dropout)\n",
    "        self.to_out = nn.Linear(inner_dim, query_dim)\n",
    "\n",
    "    def forward(self, x, context = None, mask = None):\n",
    "        h = self.heads\n",
    "\n",
    "        q = self.to_q(x)\n",
    "        context = default(context, x)\n",
    "        k, v = self.to_kv(context).chunk(2, dim = -1)\n",
    "\n",
    "        q, k, v = map(lambda t: rearrange(t, 'b n (h d) -> (b h) n d', h = h), (q, k, v))\n",
    "\n",
    "        sim = einsum(q, k, 'b i d, b j d -> b i j') * self.scale\n",
    "\n",
    "        if exists(mask):\n",
    "            mask = rearrange(mask, 'b ... -> b (...)')\n",
    "            max_neg_value = -torch.finfo(sim.dtype).max\n",
    "            mask = repeat(mask, 'b j -> (b h) () j', h = h)\n",
    "            sim.masked_fill_(mask==0, max_neg_value)\n",
    "\n",
    "        # attention, what we cannot get enough of\n",
    "        attn = sim.softmax(dim = -1)\n",
    "        attn = self.dropout(attn)\n",
    "\n",
    "        out = einsum(attn, v, 'b i j, b j d -> b i d')\n",
    "        out = rearrange(out, '(b h) n d -> b n (h d)', h = h)\n",
    "        return self.to_out(out)"
   ]
  },
  {
   "cell_type": "code",
   "execution_count": 128,
   "id": "8e386e50",
   "metadata": {},
   "outputs": [],
   "source": [
    "num_context = Attention(512, 512, 1, 512)"
   ]
  },
  {
   "cell_type": "code",
   "execution_count": 94,
   "id": "9177b7fc",
   "metadata": {},
   "outputs": [],
   "source": [
    "context = output.encoder_last_hidden_state\n",
    "x = output.decoder_hidden_states[-1]"
   ]
  },
  {
   "cell_type": "code",
   "execution_count": 130,
   "id": "97bf0ec2",
   "metadata": {},
   "outputs": [],
   "source": [
    "num_token_mask = (answer == tqa_model.tokenizer.convert_tokens_to_ids('<NUM>')).any(dim=1)\n",
    "embedding = output['decoder_hidden_states'][-1][num_token_mask]\n",
    "\n",
    "context = output.encoder_last_hidden_state\n",
    "embedding = num_context(embedding, context)\n",
    "\n",
    "exponent = tqa_model.exponent_head(embedding)\n",
    "mantissa = tqa_model.mantissa_head(embedding).squeeze(1)"
   ]
  },
  {
   "cell_type": "code",
   "execution_count": 127,
   "id": "b5627b4e",
   "metadata": {},
   "outputs": [
    {
     "data": {
      "text/plain": [
       "torch.Size([32, 1, 512])"
      ]
     },
     "execution_count": 127,
     "metadata": {},
     "output_type": "execute_result"
    }
   ],
   "source": [
    "lm_outputs['exponent'] = exponent\n",
    "lm_outputs['mantissa'] = mantissa\n",
    "\n",
    "# On our torch version torch.pow(10, 0) = 0, but torch.pow(10, 0.0) = 1 WTF\n",
    "lm_outputs['preds'] = 10 ** (exponent.argmax(1).float() - 8) * mantissa\n",
    "print(lm_outputs['preds'])\n",
    "print('\\n\\n\\n\\n\\n')"
   ]
  },
  {
   "cell_type": "code",
   "execution_count": 63,
   "id": "1b985a33",
   "metadata": {},
   "outputs": [],
   "source": [
    "result = m(x, context, mask=out.attention_mask)"
   ]
  },
  {
   "cell_type": "code",
   "execution_count": 65,
   "id": "9b8ebbbf",
   "metadata": {},
   "outputs": [
    {
     "data": {
      "text/plain": [
       "torch.Size([32, 1, 512])"
      ]
     },
     "execution_count": 65,
     "metadata": {},
     "output_type": "execute_result"
    }
   ],
   "source": [
    "result.shape"
   ]
  },
  {
   "cell_type": "code",
   "execution_count": null,
   "id": "d2bbb277",
   "metadata": {},
   "outputs": [],
   "source": []
  },
  {
   "cell_type": "code",
   "execution_count": 17,
   "id": "b5c6ce27",
   "metadata": {},
   "outputs": [],
   "source": [
    "outputs, answer = tqa_model.model_step(batch, task_idx=0)\n",
    "\n",
    "loss = outputs.loss\n",
    "\n",
    "if tqa_model.use_numerical:\n",
    "    num_token_mask = (answer == tqa_model.tokenizer.convert_tokens_to_ids('<NUM>'))\n",
    "    embedding = outputs['decoder_hidden_states'][-1][num_token_mask]\n",
    "\n",
    "    exponent = tqa_model.exponent_head(embedding)\n",
    "    mantissa = tqa_model.mantissa_head(embedding).squeeze(1)\n",
    "\n",
    "    true_exponent = get_exponent_number(batch['label']).long() + 8\n",
    "    true_mantissa = get_mantissa_number(batch['label'])\n",
    "\n",
    "    mantissa_loss = tqa_model.mantissa_loss(mantissa / 10, true_mantissa / 10)\n",
    "    exponent_loss = tqa_model.exponent_loss(exponent, true_exponent)\n",
    "    loss += mantissa_loss + exponent_loss"
   ]
  },
  {
   "cell_type": "code",
   "execution_count": 29,
   "id": "9a072816",
   "metadata": {},
   "outputs": [],
   "source": [
    "true_number = 10 ** (true_exponent - 8) * true_mantissa\n"
   ]
  },
  {
   "cell_type": "code",
   "execution_count": 36,
   "id": "aaaa26f4",
   "metadata": {},
   "outputs": [],
   "source": [
    "number = 10 ** (exponent.argmax(1) - 8) * mantissa"
   ]
  },
  {
   "cell_type": "code",
   "execution_count": 37,
   "id": "505ddd12",
   "metadata": {},
   "outputs": [
    {
     "data": {
      "text/plain": [
       "tensor([6.9237e-01, 1.0583e+07, 9.7010e+06, 9.1284e+06, 9.5233e+06, 8.7283e+06,\n",
       "        7.1077e+06, 7.4372e-01, 8.6465e-01, 8.0990e+06, 7.5577e-01, 9.1483e+06,\n",
       "        9.1172e+06, 8.3329e+06, 6.8024e+06, 8.1727e-01, 8.5900e+06, 1.0009e+07,\n",
       "        8.7122e+06, 9.3413e+06, 9.2316e+06, 7.8789e+06, 6.3921e-01, 7.0747e+06,\n",
       "        8.6757e-01, 8.4536e+06, 8.9018e+06, 8.2242e-01, 5.0791e-01, 9.8389e+06,\n",
       "        8.8385e+06, 7.0208e-01], grad_fn=<MulBackward0>)"
      ]
     },
     "execution_count": 37,
     "metadata": {},
     "output_type": "execute_result"
    }
   ],
   "source": [
    "number"
   ]
  },
  {
   "cell_type": "markdown",
   "id": "f3645574",
   "metadata": {},
   "source": [
    "### Next 30 days transactions"
   ]
  },
  {
   "cell_type": "code",
   "execution_count": 17,
   "id": "fb9e22bb-e5ef-4d2f-a2ed-765ed779f009",
   "metadata": {},
   "outputs": [
    {
     "name": "stderr",
     "output_type": "stream",
     "text": [
      "5322it [00:36, 145.20it/s]\n"
     ]
    },
    {
     "ename": "KeyboardInterrupt",
     "evalue": "",
     "output_type": "error",
     "traceback": [
      "\u001b[0;31m---------------------------------------------------------------------------\u001b[0m",
      "\u001b[0;31mKeyboardInterrupt\u001b[0m                         Traceback (most recent call last)",
      "\u001b[0;32m/tmp/ipykernel_205662/1286335455.py\u001b[0m in \u001b[0;36m<module>\u001b[0;34m\u001b[0m\n\u001b[1;32m      2\u001b[0m \u001b[0;34m\u001b[0m\u001b[0m\n\u001b[1;32m      3\u001b[0m \u001b[0;32mfor\u001b[0m \u001b[0mbatch\u001b[0m \u001b[0;32min\u001b[0m \u001b[0mtqdm\u001b[0m\u001b[0;34m.\u001b[0m\u001b[0mtqdm\u001b[0m\u001b[0;34m(\u001b[0m\u001b[0mdm\u001b[0m\u001b[0;34m.\u001b[0m\u001b[0mtrain_dataloader\u001b[0m\u001b[0;34m(\u001b[0m\u001b[0mpl_training\u001b[0m\u001b[0;34m=\u001b[0m\u001b[0;32mFalse\u001b[0m\u001b[0;34m)\u001b[0m\u001b[0;34m)\u001b[0m\u001b[0;34m:\u001b[0m\u001b[0;34m\u001b[0m\u001b[0;34m\u001b[0m\u001b[0m\n\u001b[0;32m----> 4\u001b[0;31m     \u001b[0m_\u001b[0m\u001b[0;34m,\u001b[0m \u001b[0mlabels\u001b[0m\u001b[0;34m,\u001b[0m \u001b[0m_\u001b[0m\u001b[0;34m,\u001b[0m \u001b[0mpadding_mask\u001b[0m \u001b[0;34m=\u001b[0m \u001b[0mmake_time_batch\u001b[0m\u001b[0;34m(\u001b[0m\u001b[0mbatch\u001b[0m\u001b[0;34m,\u001b[0m \u001b[0mnumber_days\u001b[0m\u001b[0;34m=\u001b[0m\u001b[0;36m30\u001b[0m\u001b[0;34m)\u001b[0m\u001b[0;34m\u001b[0m\u001b[0;34m\u001b[0m\u001b[0m\n\u001b[0m\u001b[1;32m      5\u001b[0m     \u001b[0mtrx_index\u001b[0m \u001b[0;34m=\u001b[0m \u001b[0mpadding_mask\u001b[0m\u001b[0;34m.\u001b[0m\u001b[0msum\u001b[0m\u001b[0;34m(\u001b[0m\u001b[0;36m1\u001b[0m\u001b[0;34m,\u001b[0m \u001b[0mkeepdim\u001b[0m\u001b[0;34m=\u001b[0m\u001b[0;32mTrue\u001b[0m\u001b[0;34m)\u001b[0m \u001b[0;34m-\u001b[0m \u001b[0;36m1\u001b[0m\u001b[0;34m\u001b[0m\u001b[0;34m\u001b[0m\u001b[0m\n\u001b[1;32m      6\u001b[0m \u001b[0;34m\u001b[0m\u001b[0m\n",
      "\u001b[0;32m~/romashka/src/utils/tools.py\u001b[0m in \u001b[0;36mmake_time_batch\u001b[0;34m(batch, number_days)\u001b[0m\n\u001b[1;32m    145\u001b[0m     \u001b[0mres\u001b[0m \u001b[0;34m=\u001b[0m \u001b[0;34m[\u001b[0m\u001b[0;34m]\u001b[0m\u001b[0;34m\u001b[0m\u001b[0;34m\u001b[0m\u001b[0m\n\u001b[1;32m    146\u001b[0m     \u001b[0;32mfor\u001b[0m \u001b[0mi\u001b[0m \u001b[0;32min\u001b[0m \u001b[0mrange\u001b[0m\u001b[0;34m(\u001b[0m\u001b[0;36m28\u001b[0m\u001b[0;34m)\u001b[0m\u001b[0;34m:\u001b[0m\u001b[0;34m\u001b[0m\u001b[0;34m\u001b[0m\u001b[0m\n\u001b[0;32m--> 147\u001b[0;31m         \u001b[0mres\u001b[0m\u001b[0;34m.\u001b[0m\u001b[0mappend\u001b[0m\u001b[0;34m(\u001b[0m\u001b[0mtorch\u001b[0m\u001b[0;34m.\u001b[0m\u001b[0many\u001b[0m\u001b[0;34m(\u001b[0m\u001b[0mcat_repeated\u001b[0m \u001b[0;34m==\u001b[0m \u001b[0mi\u001b[0m\u001b[0;34m,\u001b[0m  \u001b[0mdim\u001b[0m\u001b[0;34m=\u001b[0m\u001b[0;36m2\u001b[0m\u001b[0;34m)\u001b[0m\u001b[0;34m)\u001b[0m\u001b[0;34m\u001b[0m\u001b[0;34m\u001b[0m\u001b[0m\n\u001b[0m\u001b[1;32m    148\u001b[0m     \u001b[0mall_code_transactions\u001b[0m \u001b[0;34m=\u001b[0m \u001b[0mtorch\u001b[0m\u001b[0;34m.\u001b[0m\u001b[0mstack\u001b[0m\u001b[0;34m(\u001b[0m\u001b[0mres\u001b[0m\u001b[0;34m,\u001b[0m \u001b[0mdim\u001b[0m\u001b[0;34m=\u001b[0m\u001b[0;34m-\u001b[0m\u001b[0;36m1\u001b[0m\u001b[0;34m)\u001b[0m\u001b[0;34m.\u001b[0m\u001b[0mfloat\u001b[0m\u001b[0;34m(\u001b[0m\u001b[0;34m)\u001b[0m\u001b[0;34m\u001b[0m\u001b[0;34m\u001b[0m\u001b[0m\n\u001b[1;32m    149\u001b[0m \u001b[0;34m\u001b[0m\u001b[0m\n",
      "\u001b[0;31mKeyboardInterrupt\u001b[0m: "
     ]
    }
   ],
   "source": [
    "transactions_30 = []\n",
    "\n",
    "for batch in tqdm.tqdm(dm.train_dataloader(pl_training=False)):\n",
    "    _, labels, _, padding_mask = make_time_batch(batch, number_days=30)\n",
    "    trx_index = padding_mask.sum(1, keepdim=True) - 1\n",
    "    \n",
    "    ### This is the case when we don't have target so we skip this step\n",
    "    if any(trx_index == -1):\n",
    "        continue\n",
    "\n",
    "    input_labels = torch.gather(labels, 1, trx_index).float().squeeze(1)\n",
    "    transactions_30.extend(input_labels.tolist())"
   ]
  },
  {
   "cell_type": "code",
   "execution_count": 32,
   "id": "5c0f5ccd-92e9-4800-85ac-ae50343e8305",
   "metadata": {},
   "outputs": [
    {
     "data": {
      "image/png": "[encoded data removed]",
      "text/plain": [
       "<Figure size 1800x1200 with 1 Axes>"
      ]
     },
     "metadata": {},
     "output_type": "display_data"
    }
   ],
   "source": [
    "plt.hist(transactions_30, bins=20, density=True)\n",
    "plt.xlabel('Number of transactions')\n",
    "plt.ylabel('Density')\n",
    "plt.grid()\n",
    "plt.show()"
   ]
  },
  {
   "cell_type": "code",
   "execution_count": 34,
   "id": "78d8fc75-e54e-4c26-90bf-4141ce10e6cf",
   "metadata": {},
   "outputs": [
    {
     "data": {
      "text/plain": [
       "6.0"
      ]
     },
     "execution_count": 34,
     "metadata": {},
     "output_type": "execute_result"
    }
   ],
   "source": [
    "np.quantile(transactions_30, 0.5)"
   ]
  },
  {
   "cell_type": "markdown",
   "id": "0cc5d392-0b3a-4812-b3fc-55e7e341aa19",
   "metadata": {},
   "source": [
    "#### Next amnt 30 days"
   ]
  },
  {
   "cell_type": "code",
   "execution_count": 18,
   "id": "fb401de0",
   "metadata": {},
   "outputs": [
    {
     "name": "stderr",
     "output_type": "stream",
     "text": [
      "1811it [00:17, 103.64it/s]\n"
     ]
    }
   ],
   "source": [
    "targets = []\n",
    "for batch in tqdm.tqdm(dm.val_dataloader()):\n",
    "    trg = tqa_model.tasks[0].generate_target(batch)[0]\n",
    "    if trg is not None:\n",
    "        targets.extend(trg.tolist())"
   ]
  },
  {
   "cell_type": "code",
   "execution_count": 19,
   "id": "2be35cc1",
   "metadata": {},
   "outputs": [
    {
     "data": {
      "text/plain": [
       "0.5346583946078431"
      ]
     },
     "execution_count": 19,
     "metadata": {},
     "output_type": "execute_result"
    }
   ],
   "source": [
    "np.mean(targets)"
   ]
  },
  {
   "cell_type": "code",
   "execution_count": 35,
   "id": "e5d25a8c",
   "metadata": {},
   "outputs": [
    {
     "name": "stderr",
     "output_type": "stream",
     "text": [
      "16315it [02:56, 92.68it/s] \n"
     ]
    }
   ],
   "source": [
    "amounts = []\n",
    "\n",
    "for batch in tqdm.tqdm(dm.train_dataloader(pl_training=False)):\n",
    "    labels, _, _, padding_mask = make_time_batch(batch, number_days=30)\n",
    "    trx_index = padding_mask.sum(1, keepdim=True) - 1\n",
    "    \n",
    "    ### This is the case when we don't have target so we skip this step\n",
    "    if any(trx_index == -1):\n",
    "        continue\n",
    "\n",
    "    input_labels = torch.gather(labels, 1, trx_index).float().squeeze(1)\n",
    "    amounts.extend(input_labels.tolist())"
   ]
  },
  {
   "cell_type": "code",
   "execution_count": 36,
   "id": "da6337dc",
   "metadata": {},
   "outputs": [
    {
     "data": {
      "image/png": "[encoded data removed]",
      "text/plain": [
       "<Figure size 1800x1200 with 1 Axes>"
      ]
     },
     "metadata": {},
     "output_type": "display_data"
    }
   ],
   "source": [
    "plt.hist(amounts, bins=20, density=True)\n",
    "plt.xlabel('Amnt')\n",
    "plt.ylabel('Density')\n",
    "plt.grid()\n",
    "plt.show()"
   ]
  },
  {
   "cell_type": "code",
   "execution_count": 39,
   "id": "cd7389cc",
   "metadata": {},
   "outputs": [
    {
     "data": {
      "text/plain": [
       "2.2795541286468506"
      ]
     },
     "execution_count": 39,
     "metadata": {},
     "output_type": "execute_result"
    }
   ],
   "source": [
    "np.quantile(amounts, 0.5)"
   ]
  },
  {
   "cell_type": "markdown",
   "id": "ee9111b3",
   "metadata": {},
   "source": [
    "### Distributed DataLoader"
   ]
  },
  {
   "cell_type": "markdown",
   "id": "aea79ff4",
   "metadata": {},
   "source": [
    "Короче нужно вернуть старый итератор и сравнить сколько это по скорости работает?"
   ]
  },
  {
   "cell_type": "code",
   "execution_count": 11,
   "id": "6265261d",
   "metadata": {},
   "outputs": [],
   "source": [
    "from data_generators import batches_generator, old_batches_generator\n",
    "from datasets import IterableDataset as HFIterableDataset\n",
    "from pl_dataloader import TransactionQADataset\n",
    "from torch.nn.utils.rnn import pad_sequence"
   ]
  },
  {
   "cell_type": "code",
   "execution_count": 6,
   "id": "416a3481",
   "metadata": {},
   "outputs": [
    {
     "name": "stderr",
     "output_type": "stream",
     "text": [
      "7392it [01:23, 89.03it/s] "
     ]
    },
    {
     "name": "stdout",
     "output_type": "stream",
     "text": [
      "CPU times: user 16.1 s, sys: 39.2 s, total: 55.2 s\n",
      "Wall time: 1min 23s\n"
     ]
    },
    {
     "name": "stderr",
     "output_type": "stream",
     "text": [
      "\n"
     ]
    }
   ],
   "source": [
    "%%time\n",
    "for elem in tqdm.tqdm(old_batches_generator(dataset_train, batch_size=32, min_seq_len=50, max_seq_len=150)):\n",
    "    pass"
   ]
  },
  {
   "cell_type": "code",
   "execution_count": 7,
   "id": "a3adc212",
   "metadata": {},
   "outputs": [],
   "source": [
    "ds = TransactionQADataset(dataset_train, batch_size=1, max_seq_len=150, min_seq_len=50).build_dataset(buffer_size=None)\n",
    "ds2 = TransactionQADataset(dataset_train, batch_size=2, max_seq_len=150, min_seq_len=50).build_dataset(buffer_size=None)"
   ]
  },
  {
   "cell_type": "code",
   "execution_count": 12,
   "id": "670894be",
   "metadata": {},
   "outputs": [],
   "source": [
    "def collate_fn(batch):\n",
    "    output = {}\n",
    "\n",
    "    output['num_features'] = pad_sequence([d['num_features'].transpose(0, -1) for d in batch], batch_first=True).squeeze(2).permute(-1, 0, 1)\n",
    "    output['cat_features'] = pad_sequence([d['cat_features'].transpose(0, -1) for d in batch], batch_first=True).squeeze(2).permute(-1, 0, 1)\n",
    "    output['meta_features'] = torch.cat([d['meta_features'] for d in batch], dim=1)\n",
    "\n",
    "    output['mask'] = pad_sequence([d['mask'].transpose(0, -1) for d in batch], batch_first=True).squeeze(2)\n",
    "    output['app_id'] = torch.cat([d['app_id'] for d in batch])\n",
    "    output['label'] = torch.cat([d['label'] for d in batch])\n",
    "\n",
    "    return output"
   ]
  },
  {
   "cell_type": "code",
   "execution_count": 13,
   "id": "1fc504c0",
   "metadata": {},
   "outputs": [],
   "source": [
    "my_dl = DataLoader(ds, batch_size=32, num_workers=10, collate_fn=collate_fn)\n",
    "my_dl2 = DataLoader(ds, batch_size=32, num_workers=1, collate_fn=collate_fn)\n",
    "my_dl3 = DataLoader(ds2, batch_size=16, num_workers=10, collate_fn=collate_fn)"
   ]
  },
  {
   "cell_type": "code",
   "execution_count": 14,
   "id": "51dbfd5a",
   "metadata": {},
   "outputs": [
    {
     "name": "stderr",
     "output_type": "stream",
     "text": [
      "7336it [00:28, 257.34it/s]"
     ]
    },
    {
     "name": "stdout",
     "output_type": "stream",
     "text": [
      "CPU times: user 10.1 s, sys: 5.59 s, total: 15.7 s\n",
      "Wall time: 28.5 s\n"
     ]
    },
    {
     "name": "stderr",
     "output_type": "stream",
     "text": [
      "\n"
     ]
    }
   ],
   "source": [
    "%%time\n",
    "for elem in tqdm.tqdm(my_dl):\n",
    "    pass"
   ]
  },
  {
   "cell_type": "code",
   "execution_count": 23,
   "id": "23132c1c",
   "metadata": {},
   "outputs": [],
   "source": [
    "# Download vocabulary from huggingface.co and define model-specific arguments\n",
    "tokenizer = AutoTokenizer.from_pretrained('google/flan-t5-small')\n",
    "\n",
    "config = AutoConfig.from_pretrained(\n",
    "    'google/flan-t5-small',\n",
    ")\n",
    "\n",
    "# Download model from huggingface.co and cache.\n",
    "lm_model = AutoModelForSeq2SeqLM.from_pretrained(\n",
    "    'google/flan-t5-small',\n",
    "    config=config\n",
    ")"
   ]
  },
  {
   "cell_type": "code",
   "execution_count": null,
   "id": "1095077b",
   "metadata": {},
   "outputs": [],
   "source": [
    "transactions_model_config = {\n",
    "    \"cat_features\": cat_features_names,\n",
    "    \"cat_embedding_projections\": projections_maps.get('cat_embedding_projections'),\n",
    "    \"num_features\": num_features_names,\n",
    "    \"num_embedding_projections\": projections_maps.get('num_embedding_projections'),\n",
    "    \"meta_features\": meta_features_names,\n",
    "    \"meta_embedding_projections\": projections_maps.get('meta_embedding_projections'),\n",
    "    \"encoder_type\": model_args.transactions_model_encoder_type,\n",
    "    \"head_type\": model_args.transactions_model_head_type,\n",
    "    \"embedding_dropout\": 0.1\n",
    "}\n",
    "transactions_model = TransactionsModel(**transactions_model_config)"
   ]
  },
  {
   "cell_type": "code",
   "execution_count": null,
   "id": "3be0ece5",
   "metadata": {},
   "outputs": [],
   "source": [
    "# Create general Tranactions QA model\n",
    "transactionsQA_model_config = {\n",
    "    \"warmup_steps\": 10,\n",
    "    \"training_steps\": 1000,\n",
    "    \"do_freeze_tm\": False,\n",
    "    \"do_freeze_lm\": False,\n",
    "    \"do_freeze_connector\": False,\n",
    "    \"connector_input_size\": 384,\n",
    "}\n",
    "model = TransactionQAModel(\n",
    "    language_model=lm_model,\n",
    "    transaction_model=transactions_model,\n",
    "    tokenizer=tokenizer,\n",
    "    tasks=tasks,\n",
    "    **transactionsQA_model_config\n",
    ")"
   ]
  },
  {
   "cell_type": "code",
   "execution_count": null,
   "id": "0ae4042f",
   "metadata": {},
   "outputs": [],
   "source": []
  },
  {
   "cell_type": "markdown",
   "id": "4d0eaf4c",
   "metadata": {},
   "source": [
    "### Saving new data format"
   ]
  },
  {
   "cell_type": "code",
   "execution_count": null,
   "id": "6f956aca",
   "metadata": {},
   "outputs": [],
   "source": [
    "path = dataset_train[0]\n",
    "\n",
    "gc.disable()\n",
    "with open(path, 'rb') as f:\n",
    "    data = pickle.load(f)\n",
    "\n",
    "gc.enable()\n",
    "\n",
    "padded_sequences, targets, products = data['padded_sequences'], data['targets'], data[\n",
    "    'products']\n",
    "app_ids = data['app_id']\n",
    "indices = np.arange(len(products))\n",
    "\n",
    "transaction_features = ['currency', 'operation_kind', 'card_type', 'operation_type',\n",
    "                        'operation_type_group', 'ecommerce_flag', 'payment_system',\n",
    "                        'income_flag', 'mcc', 'country', 'city', 'mcc_category',\n",
    "                        'day_of_week', 'hour', 'weekofyear', 'amnt', 'days_before', 'hour_diff']\n",
    "\n",
    "num_features_names = ['amnt', 'days_before', 'hour_diff']\n",
    "cat_features_names = [x for x in transaction_features if x not in num_features_names]\n",
    "meta_features_names = ['product']\n",
    "\n",
    "num_features_indices = [transaction_features.index(x) for x in num_features_names]\n",
    "cat_features_indices = [transaction_features.index(x) for x in cat_features_names]\n",
    "\n",
    "\n",
    "bucket = padded_sequences[0]\n",
    "batch_sequences = bucket[0: 0 + 1]\n",
    "\n",
    "new_data = {}\n",
    "\n",
    "for key in data:\n",
    "    for elem in data[key]:\n",
    "        new_data[key] = to\n",
    "\n",
    "                        ret = dict(num_features=[torch.FloatTensor(batch_sequences[:, i]) for i in num_features_indices],\n",
    "                            cat_features=[torch.LongTensor(batch_sequences[:, i]) for i in cat_features_indices],\n",
    "                            mask=torch.BoolTensor(mask),\n",
    "                            meta_features=[torch.LongTensor(batch_products)],\n",
    "                            app_id=torch.LongTensor(batch_app_ids)\n",
    "                )"
   ]
  },
  {
   "cell_type": "markdown",
   "id": "9bb7f8d2",
   "metadata": {},
   "source": [
    "### Multi-task batch"
   ]
  },
  {
   "cell_type": "code",
   "execution_count": 96,
   "id": "2fa533dc",
   "metadata": {},
   "outputs": [],
   "source": [
    "from copy import deepcopy"
   ]
  },
  {
   "cell_type": "code",
   "execution_count": 97,
   "id": "41a1490d",
   "metadata": {},
   "outputs": [],
   "source": [
    "batch1 = next(iter(dm.train_dataloader()))\n",
    "\n",
    "batch2 = deepcopy(batch1)"
   ]
  },
  {
   "cell_type": "code",
   "execution_count": 98,
   "id": "40b7d6d9",
   "metadata": {},
   "outputs": [],
   "source": [
    "haha, nod = tqa_model.model_step(batch1)"
   ]
  },
  {
   "cell_type": "code",
   "execution_count": 15,
   "id": "531c1e47",
   "metadata": {},
   "outputs": [],
   "source": [
    "# number_of_tasks = np.random.randint(1, 3)\n",
    "# out = torch.tensor_split(batch['num_features'], number_of_tasks, dim=1)"
   ]
  },
  {
   "cell_type": "code",
   "execution_count": 16,
   "id": "efbfe9d2",
   "metadata": {},
   "outputs": [],
   "source": [
    "task1 = tqa_model.tasks[0]\n",
    "task2 = tqa_model.tasks[1]"
   ]
  },
  {
   "cell_type": "code",
   "execution_count": 17,
   "id": "3a45a178",
   "metadata": {},
   "outputs": [],
   "source": [
    "# task1.process_input_batch(batch)"
   ]
  },
  {
   "cell_type": "code",
   "execution_count": 18,
   "id": "5c0d3ce1",
   "metadata": {},
   "outputs": [],
   "source": [
    "qa_batch1 = task1.process_input_batch(batch1)\n",
    "qa_batch2 = task2.process_input_batch(batch2)"
   ]
  },
  {
   "cell_type": "code",
   "execution_count": 22,
   "id": "99628dc4",
   "metadata": {},
   "outputs": [],
   "source": []
  },
  {
   "cell_type": "code",
   "execution_count": 60,
   "id": "03a52315",
   "metadata": {},
   "outputs": [],
   "source": [
    "NUM_TASKS = len(tqa_model.tasks)\n",
    "splitted = get_split_indices(batch1, len(tqa_model.tasks))\n",
    "task_ids = np.random.choice(NUM_TASKS, size=len(splitted), replace=False)"
   ]
  },
  {
   "cell_type": "code",
   "execution_count": 88,
   "id": "f1dc30c3",
   "metadata": {},
   "outputs": [],
   "source": [
    "\n",
    "batches = []\n",
    "for i, split_indices in enumerate(splitted):\n",
    "    task = tqa_model.tasks[task_ids[i]]\n",
    "    subbatch = prepare_splitted_batch(batch1, split_indices)\n",
    "    tmp_batch = task.process_input_batch(subbatch)\n",
    "    if len(tmp_batch) == 0:\n",
    "        continue\n",
    "\n",
    "    batches.append(tmp_batch)\n",
    "\n",
    "# new_batch = collate_batch_dict(batches)\n",
    "\n",
    "# qa_batch = tqa_model.tokenize_texts(new_batch)"
   ]
  },
  {
   "cell_type": "code",
   "execution_count": null,
   "id": "32944c78",
   "metadata": {},
   "outputs": [],
   "source": []
  },
  {
   "cell_type": "markdown",
   "id": "f5b29578",
   "metadata": {},
   "source": [
    "### Few-shot format"
   ]
  },
  {
   "cell_type": "code",
   "execution_count": 13,
   "id": "5dad9f8f",
   "metadata": {},
   "outputs": [],
   "source": [
    "batch = next(iter(dm.train_dataloader()))"
   ]
  },
  {
   "cell_type": "code",
   "execution_count": 18,
   "id": "23dd8097",
   "metadata": {},
   "outputs": [],
   "source": [
    "NUM_TASKS = len(tqa_model.tasks)\n",
    "splitted = get_split_indices(batch, len(tqa_model.tasks))\n",
    "task_ids = np.random.choice(NUM_TASKS, size=len(splitted), replace=False)\n",
    "\n",
    "batches = []\n",
    "for i, split_indices in enumerate(splitted):\n",
    "    task = tqa_model.tasks[task_ids[i]]\n",
    "    subbatch = prepare_splitted_batch(batch, split_indices)\n",
    "    tmp_batch = task.process_input_batch(subbatch)\n",
    "    if len(tmp_batch) == 0:\n",
    "        continue\n",
    "\n",
    "    batches.append(tmp_batch)\n",
    "\n",
    "new_batch = collate_batch_dict(batches)\n",
    "\n",
    "qa_batch = tqa_model.tokenize_texts(new_batch)"
   ]
  },
  {
   "cell_type": "code",
   "execution_count": 16,
   "id": "abd9d4fb",
   "metadata": {},
   "outputs": [],
   "source": [
    "answer_template_encoded = tqa_model.tokenizer(new_batch['answer_start_string'],\n",
    "                                                padding=True,\n",
    "                                                return_tensors='pt',\n",
    "                                                add_special_tokens=False)"
   ]
  },
  {
   "cell_type": "code",
   "execution_count": 24,
   "id": "00ea7b54",
   "metadata": {},
   "outputs": [],
   "source": [
    "def get_few_shot_batch(qa_batch, batch):\n",
    "    question_start_embeddings_batch = tqa_model.language_model.encoder.embed_tokens(qa_batch['question_start_tokens'])  \n",
    "    # removing <EOS> token\n",
    "    question_end_embeddings_batch = tqa_model.language_model.encoder.embed_tokens(qa_batch['question_end_tokens']) \n",
    "    question_answer_embeddings_batch = tqa_model.language_model.encoder.embed_tokens(qa_batch['answer_tokens']) \n",
    "    question_eos_embeddings_batch = tqa_model.language_model.encoder.embed_tokens(qa_batch['eos_tokens']) \n",
    "\n",
    "    # Get transaction embedding\n",
    "    transactions_embeddings = tqa_model.transaction_model.get_embs(batch)[0]\n",
    "    transactions_embeddings = tqa_model.connector(transactions_embeddings)\n",
    "\n",
    "    # Get general LM's encoder input as:\n",
    "    # Q_start_tokens + TRNS_embeddings + Q_end_tokens\n",
    "    encoder_input = torch.cat([question_start_embeddings_batch,\n",
    "                                transactions_embeddings,\n",
    "                                question_end_embeddings_batch,\n",
    "                                question_answer_embeddings_batch], dim=1)\n",
    "\n",
    "    encoder_input_mask = torch.cat([\n",
    "        qa_batch['question_start_tokens_mask'],\n",
    "        batch['mask'],\n",
    "        qa_batch['question_end_tokens_mask'],\n",
    "        qa_batch['answer_mask'],\n",
    "        qa_batch['eos_tokens_mask']],dim=1\n",
    "        )\n",
    "\n",
    "    # Create answers + masks for LM's decoder inputs\n",
    "    batch_answers = qa_batch['answer_tokens'][-1]\n",
    "    # was: torch.cat([qa_batch['answer_template_tokens'], qa_batch['target_tokens']], dim=1)\n",
    "    batch_answers_mask = qa_batch['answer_mask'][-1]\n",
    "\n",
    "    res = encoder_input.flatten(0,1)[:-(question_answer_embeddings_batch.shape[1] + qa_batch['eos_tokens_mask'].shape[1])].unsqueeze(0)\n",
    "    return dict(inputs_embeds=res,\n",
    "                attention_mask=encoder_input_mask,\n",
    "                labels=batch_answers,\n",
    "                decoder_attention_mask=batch_answers_mask\n",
    "    )"
   ]
  }
 ],
 "metadata": {
  "kernelspec": {
   "display_name": "Python 3.7.12 ('base')",
   "language": "python",
   "name": "python3"
  },
  "language_info": {
   "codemirror_mode": {
    "name": "ipython",
    "version": 3
   },
   "file_extension": ".py",
   "mimetype": "text/x-python",
   "name": "python",
   "nbconvert_exporter": "python",
   "pygments_lexer": "ipython3",
   "version": "3.7.12"
  },
  "vscode": {
   "interpreter": {
    "hash": "4ff2a09b934b25be9a8b176e9d1e80ece927d491d3847c62b1a0ae23e4142515"
   }
  }
 },
 "nbformat": 4,
 "nbformat_minor": 5
}
