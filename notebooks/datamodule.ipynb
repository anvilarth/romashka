{
 "cells": [
  {
   "cell_type": "code",
   "execution_count": 27,
   "metadata": {},
   "outputs": [
    {
     "name": "stdout",
     "output_type": "stream",
     "text": [
      "The autoreload extension is already loaded. To reload it, use:\n",
      "  %reload_ext autoreload\n"
     ]
    }
   ],
   "source": [
    "%load_ext autoreload\n",
    "%autoreload 2"
   ]
  },
  {
   "cell_type": "code",
   "execution_count": 28,
   "metadata": {},
   "outputs": [],
   "source": [
    "import torch\n",
    "import sys \n",
    "\n",
    "sys.path.append('..')\n",
    "sys.path.append('../src')"
   ]
  },
  {
   "cell_type": "code",
   "execution_count": 29,
   "metadata": {},
   "outputs": [],
   "source": [
    "from data import AlfaDataModule\n",
    "# from data import batches_generator\n",
    "from models.task_model import TaskModule\n",
    "from tasks.task_auto import AutoTask"
   ]
  },
  {
   "cell_type": "code",
   "execution_count": 30,
   "metadata": {},
   "outputs": [],
   "source": [
    "from transformers import AutoTokenizer\n",
    "\n",
    "\n",
    "tokenizer = AutoTokenizer.from_pretrained(\"google/flan-t5-small\")"
   ]
  },
  {
   "cell_type": "code",
   "execution_count": 31,
   "metadata": {},
   "outputs": [],
   "source": [
    "dm = AlfaDataModule('/home/jovyan/romashka/data')\n",
    "task = AutoTask.get('default', task_type='non-text', tokenizer=tokenizer)"
   ]
  },
  {
   "cell_type": "code",
   "execution_count": 32,
   "metadata": {},
   "outputs": [
    {
     "name": "stdout",
     "output_type": "stream",
     "text": [
      "USING whisper\n"
     ]
    }
   ],
   "source": [
    "model = TaskModule(torch.optim.Adam, head_type='next', task_name='next_transaction')"
   ]
  },
  {
   "cell_type": "code",
   "execution_count": 33,
   "metadata": {},
   "outputs": [],
   "source": [
    "batch = next(iter(dm.val_dataloader()))"
   ]
  },
  {
   "cell_type": "code",
   "execution_count": 34,
   "metadata": {},
   "outputs": [
    {
     "name": "stderr",
     "output_type": "stream",
     "text": [
      "/home/jovyan/.imgenv-afilatov-dev-8-0/lib/python3.7/site-packages/pytorch_lightning/core/module.py:417: UserWarning: You are trying to `self.log()` but the `self.trainer` reference is not registered on the model yet. This is most likely because the model hasn't been passed to the `Trainer`\n",
      "  \"You are trying to `self.log()` but the `self.trainer` reference is not registered on the model yet.\"\n"
     ]
    },
    {
     "data": {
      "text/plain": [
       "{'loss': tensor(12.0811, grad_fn=<AddBackward0>)}"
      ]
     },
     "execution_count": 34,
     "metadata": {},
     "output_type": "execute_result"
    }
   ],
   "source": [
    "model.training_step(batch, 0)"
   ]
  },
  {
   "cell_type": "code",
   "execution_count": 13,
   "metadata": {},
   "outputs": [
    {
     "data": {
      "text/plain": [
       "{'num_features': tensor([[[ 4.8329e-01,  4.5793e-01,  4.8329e-01,  ...,  3.6769e-01,\n",
       "            4.4124e-01,  0.0000e+00],\n",
       "          [ 4.7794e-01,  4.4929e-01,  4.7794e-01,  ...,  0.0000e+00,\n",
       "            0.0000e+00,  0.0000e+00],\n",
       "          [ 3.8780e-01,  3.7954e-01,  2.4645e-01,  ...,  5.4661e-01,\n",
       "            3.0777e-01,  0.0000e+00],\n",
       "          ...,\n",
       "          [ 4.7794e-01,  4.2654e-01,  3.2080e-01,  ...,  0.0000e+00,\n",
       "            0.0000e+00,  0.0000e+00],\n",
       "          [ 3.8768e-01,  3.3634e-01,  2.3068e-01,  ...,  0.0000e+00,\n",
       "            0.0000e+00,  0.0000e+00],\n",
       "          [ 5.1683e-01,  5.2005e-01,  5.1683e-01,  ...,  4.6255e-01,\n",
       "            4.6401e-01,  3.5905e-01]],\n",
       " \n",
       "         [[ 9.3425e-01,  8.9315e-01,  8.4110e-01,  ...,  1.6438e-02,\n",
       "            5.4795e-03,  0.0000e+00],\n",
       "          [ 2.9315e-01,  2.9041e-01,  2.6301e-01,  ...,  0.0000e+00,\n",
       "            0.0000e+00,  0.0000e+00],\n",
       "          [ 8.3836e-01,  8.3836e-01,  7.8904e-01,  ...,  2.1918e-02,\n",
       "            5.4795e-03,  0.0000e+00],\n",
       "          ...,\n",
       "          [ 8.0274e-01,  8.0000e-01,  7.5342e-01,  ...,  0.0000e+00,\n",
       "            0.0000e+00,  0.0000e+00],\n",
       "          [ 8.3836e-01,  8.3836e-01,  7.3973e-01,  ...,  0.0000e+00,\n",
       "            0.0000e+00,  0.0000e+00],\n",
       "          [ 8.9589e-01,  8.9589e-01,  8.9589e-01,  ...,  1.3151e-01,\n",
       "            4.9315e-02,  1.3699e-02]],\n",
       " \n",
       "         [[-1.0526e-02,  3.7579e+00,  4.7895e+00,  ...,  0.0000e+00,\n",
       "            9.4737e-01,  0.0000e+00],\n",
       "          [-1.0526e-02,  1.6842e-01,  2.5474e+00,  ...,  0.0000e+00,\n",
       "            0.0000e+00,  0.0000e+00],\n",
       "          [-1.0526e-02,  3.1579e-02,  4.4526e+00,  ...,  2.5263e+00,\n",
       "            1.5368e+00,  0.0000e+00],\n",
       "          ...,\n",
       "          [-1.0526e-02,  2.6316e-01,  4.2737e+00,  ...,  0.0000e+00,\n",
       "            0.0000e+00,  0.0000e+00],\n",
       "          [-1.0526e-02,  0.0000e+00,  8.9158e+00,  ...,  0.0000e+00,\n",
       "            0.0000e+00,  0.0000e+00],\n",
       "          [-1.0526e-02,  0.0000e+00,  0.0000e+00,  ...,  0.0000e+00,\n",
       "            7.5789e+00,  3.2842e+00]]]),\n",
       " 'cat_features': tensor([[[  1,   1,   1,  ...,   1,   1,   0],\n",
       "          [  1,   1,   1,  ...,   0,   0,   0],\n",
       "          [  1,   1,   1,  ...,   1,   1,   0],\n",
       "          ...,\n",
       "          [  1,   1,   1,  ...,   0,   0,   0],\n",
       "          [  1,   1,   1,  ...,   0,   0,   0],\n",
       "          [  1,   1,   1,  ...,   1,   1,   1]],\n",
       " \n",
       "         [[  4,   4,   4,  ...,   1,   1,   0],\n",
       "          [  2,   2,   2,  ...,   0,   0,   0],\n",
       "          [  1,   1,   1,  ...,   2,   1,   0],\n",
       "          ...,\n",
       "          [  2,   2,   1,  ...,   0,   0,   0],\n",
       "          [  4,   2,   1,  ...,   0,   0,   0],\n",
       "          [  3,   3,   2,  ...,   4,   4,   4]],\n",
       " \n",
       "         [[175, 175, 175,  ...,  26,  26,   0],\n",
       "          [  1,   1,   1,  ...,   0,   0,   0],\n",
       "          [ 51,  51,  51,  ...,  51,  51,   0],\n",
       "          ...,\n",
       "          [ 10,  10,  10,  ...,   0,   0,   0],\n",
       "          [ 97,  97,  97,  ...,   0,   0,   0],\n",
       "          [ 23,   5,  23,  ...,  23,  23,   5]],\n",
       " \n",
       "         ...,\n",
       " \n",
       "         [[  5,   4,   6,  ...,   6,   1,   0],\n",
       "          [  1,   2,   5,  ...,   0,   0,   0],\n",
       "          [  5,   5,   2,  ...,   2,   1,   0],\n",
       "          ...,\n",
       "          [  6,   5,   1,  ...,   0,   0,   0],\n",
       "          [  5,   5,   4,  ...,   0,   0,   0],\n",
       "          [  5,   5,   5,  ...,   6,   4,   5]],\n",
       " \n",
       "         [[ 15,  13,  12,  ...,  21,  15,   0],\n",
       "          [ 13,   5,   8,  ...,   0,   0,   0],\n",
       "          [ 17,  20,  11,  ...,  12,  13,   0],\n",
       "          ...,\n",
       "          [ 12,  13,  11,  ...,   0,   0,   0],\n",
       "          [ 16,  16,   0,  ...,   0,   0,   0],\n",
       "          [ 12,  12,  12,  ...,  20,  20,  19]],\n",
       " \n",
       "         [[ 42,  46,  32,  ...,   1,   1,   0],\n",
       "          [ 16,  16,  17,  ...,   0,   0,   0],\n",
       "          [ 32,  32,  28,  ...,  34,   1,   0],\n",
       "          ...,\n",
       "          [ 28,  28,  18,  ...,   0,   0,   0],\n",
       "          [ 32,  32,  43,  ...,   0,   0,   0],\n",
       "          [ 46,  46,  46,  ...,  30,  24,   1]]]),\n",
       " 'meta_features': tensor([[2, 2, 1, 1, 1, 1, 1, 2, 2, 0, 0, 0, 2, 1, 1, 0, 3, 2, 1, 2, 2, 1, 0, 2,\n",
       "          1, 1, 0, 1, 0, 1, 0, 1]]),\n",
       " 'mask': tensor([[ True,  True,  True,  ...,  True,  True, False],\n",
       "         [ True,  True,  True,  ..., False, False, False],\n",
       "         [ True,  True,  True,  ...,  True,  True, False],\n",
       "         ...,\n",
       "         [ True,  True,  True,  ..., False, False, False],\n",
       "         [ True,  True,  True,  ..., False, False, False],\n",
       "         [ True,  True,  True,  ...,  True,  True,  True]]),\n",
       " 'app_id': tensor([  244,   762,  1075,  1116,  1211,  1297,  1579,  1916,  2305,  2612,\n",
       "          3458,  4728,  5192,  5759,  5978,  6289,  6456,  6486,  6535,  6748,\n",
       "          6905,  7205,  7436,  8058,  8623,  8757,  9090,  9587,  9600, 10495,\n",
       "         10496, 11008]),\n",
       " 'label': tensor([0, 0, 0, 0, 0, 0, 0, 0, 0, 0, 0, 0, 0, 0, 0, 0, 0, 0, 0, 0, 0, 0, 0, 0,\n",
       "         0, 0, 0, 0, 0, 0, 0, 0])}"
      ]
     },
     "execution_count": 13,
     "metadata": {},
     "output_type": "execute_result"
    }
   ],
   "source": [
    "model.task.generate_target(batch)"
   ]
  },
  {
   "cell_type": "code",
   "execution_count": 16,
   "metadata": {},
   "outputs": [
    {
     "name": "stderr",
     "output_type": "stream",
     "text": [
      "/home/jovyan/.imgenv-afilatov-dev-8-0/lib/python3.7/site-packages/pytorch_lightning/core/module.py:417: UserWarning: You are trying to `self.log()` but the `self.trainer` reference is not registered on the model yet. This is most likely because the model hasn't been passed to the `Trainer`\n",
      "  \"You are trying to `self.log()` but the `self.trainer` reference is not registered on the model yet.\"\n"
     ]
    },
    {
     "data": {
      "text/plain": [
       "{'loss': tensor(0., grad_fn=<NllLossBackward0>)}"
      ]
     },
     "execution_count": 16,
     "metadata": {},
     "output_type": "execute_result"
    }
   ],
   "source": [
    "model.training_step(batch, 0)"
   ]
  },
  {
   "cell_type": "code",
   "execution_count": 17,
   "metadata": {},
   "outputs": [
    {
     "data": {
      "text/plain": [
       "tensor([0, 0, 0, 0, 0, 0, 0, 0, 0, 0, 0, 0, 0, 0, 0, 0, 0, 0, 0, 0, 0, 0, 0, 0,\n",
       "        0, 0, 0, 0, 0, 0, 0, 0])"
      ]
     },
     "execution_count": 17,
     "metadata": {},
     "output_type": "execute_result"
    }
   ],
   "source": [
    "batch['label']"
   ]
  },
  {
   "cell_type": "code",
   "execution_count": null,
   "metadata": {},
   "outputs": [],
   "source": []
  }
 ],
 "metadata": {
  "kernelspec": {
   "display_name": "Python 3.7.12 ('base')",
   "language": "python",
   "name": "python3"
  },
  "language_info": {
   "codemirror_mode": {
    "name": "ipython",
    "version": 3
   },
   "file_extension": ".py",
   "mimetype": "text/x-python",
   "name": "python",
   "nbconvert_exporter": "python",
   "pygments_lexer": "ipython3",
   "version": "3.7.12"
  },
  "orig_nbformat": 4,
  "vscode": {
   "interpreter": {
    "hash": "4ff2a09b934b25be9a8b176e9d1e80ece927d491d3847c62b1a0ae23e4142515"
   }
  }
 },
 "nbformat": 4,
 "nbformat_minor": 2
}
