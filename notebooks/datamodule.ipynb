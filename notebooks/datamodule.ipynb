{
 "cells": [
  {
   "cell_type": "code",
   "execution_count": 1,
   "metadata": {},
   "outputs": [],
   "source": [
    "%load_ext autoreload\n",
    "%autoreload 2"
   ]
  },
  {
   "cell_type": "code",
   "execution_count": 2,
   "metadata": {},
   "outputs": [],
   "source": [
    "import torch\n",
    "import sys \n",
    "\n",
    "sys.path.append('..')\n",
    "sys.path.append('../src')"
   ]
  },
  {
   "cell_type": "code",
   "execution_count": 3,
   "metadata": {},
   "outputs": [],
   "source": [
    "from data import AlfaDataModule\n",
    "# from data import batches_generator\n",
    "from models.task_model import TaskModule\n",
    "from tasks.task_auto import AutoTask"
   ]
  },
  {
   "cell_type": "code",
   "execution_count": 4,
   "metadata": {},
   "outputs": [],
   "source": [
    "from transformers import AutoTokenizer\n",
    "\n",
    "\n",
    "tokenizer = AutoTokenizer.from_pretrained(\"google/flan-t5-small\")"
   ]
  },
  {
   "cell_type": "code",
   "execution_count": 5,
   "metadata": {},
   "outputs": [],
   "source": [
    "from random import shuffle\n",
    "\n",
    "\n",
    "dm = AlfaDataModule('/home/jovyan/romashka/data', shuffle=True)\n",
    "task = AutoTask.get('default', task_type='non-text', tokenizer=tokenizer)"
   ]
  },
  {
   "cell_type": "code",
   "execution_count": 6,
   "metadata": {},
   "outputs": [
    {
     "name": "stdout",
     "output_type": "stream",
     "text": [
      "USING whisper\n"
     ]
    }
   ],
   "source": [
    "from transformers import get_linear_schedule_with_warmup\n",
    "\n",
    "model = TaskModule(torch.optim.Adam, get_linear_schedule_with_warmup, head_type='next', task_name='next_transaction')"
   ]
  },
  {
   "cell_type": "code",
   "execution_count": 7,
   "metadata": {},
   "outputs": [
    {
     "ename": "ValueError",
     "evalue": "persistent_workers option needs num_workers > 0",
     "output_type": "error",
     "traceback": [
      "\u001b[0;31m---------------------------------------------------------------------------\u001b[0m",
      "\u001b[0;31mValueError\u001b[0m                                Traceback (most recent call last)",
      "\u001b[0;32m/tmp/ipykernel_268207/2487373913.py\u001b[0m in \u001b[0;36m<module>\u001b[0;34m\u001b[0m\n\u001b[0;32m----> 1\u001b[0;31m \u001b[0mbatch\u001b[0m \u001b[0;34m=\u001b[0m \u001b[0mnext\u001b[0m\u001b[0;34m(\u001b[0m\u001b[0miter\u001b[0m\u001b[0;34m(\u001b[0m\u001b[0mdm\u001b[0m\u001b[0;34m.\u001b[0m\u001b[0mval_dataloader\u001b[0m\u001b[0;34m(\u001b[0m\u001b[0;34m)\u001b[0m\u001b[0;34m)\u001b[0m\u001b[0;34m)\u001b[0m\u001b[0;34m\u001b[0m\u001b[0;34m\u001b[0m\u001b[0m\n\u001b[0m",
      "\u001b[0;32m~/romashka/src/data/alfa/alfa_datamodule.py\u001b[0m in \u001b[0;36mval_dataloader\u001b[0;34m(self)\u001b[0m\n\u001b[1;32m     86\u001b[0m                             \u001b[0mnum_workers\u001b[0m\u001b[0;34m=\u001b[0m\u001b[0mself\u001b[0m\u001b[0;34m.\u001b[0m\u001b[0mnum_workers\u001b[0m\u001b[0;34m,\u001b[0m\u001b[0;34m\u001b[0m\u001b[0;34m\u001b[0m\u001b[0m\n\u001b[1;32m     87\u001b[0m                             \u001b[0mcollate_fn\u001b[0m\u001b[0;34m=\u001b[0m\u001b[0mself\u001b[0m\u001b[0;34m.\u001b[0m\u001b[0mcollate_fn\u001b[0m\u001b[0;34m,\u001b[0m\u001b[0;34m\u001b[0m\u001b[0;34m\u001b[0m\u001b[0m\n\u001b[0;32m---> 88\u001b[0;31m                             persistent_workers=True)\n\u001b[0m\u001b[1;32m     89\u001b[0m \u001b[0;34m\u001b[0m\u001b[0m\n\u001b[1;32m     90\u001b[0m     \u001b[0;32mdef\u001b[0m \u001b[0mtest_dataloader\u001b[0m\u001b[0;34m(\u001b[0m\u001b[0mself\u001b[0m\u001b[0;34m)\u001b[0m\u001b[0;34m:\u001b[0m\u001b[0;34m\u001b[0m\u001b[0;34m\u001b[0m\u001b[0m\n",
      "\u001b[0;32m~/.imgenv-afilatov-dev-8-0/lib/python3.7/site-packages/torch/utils/data/dataloader.py\u001b[0m in \u001b[0;36m__init__\u001b[0;34m(self, dataset, batch_size, shuffle, sampler, batch_sampler, num_workers, collate_fn, pin_memory, drop_last, timeout, worker_init_fn, multiprocessing_context, generator, prefetch_factor, persistent_workers, pin_memory_device)\u001b[0m\n\u001b[1;32m    244\u001b[0m \u001b[0;34m\u001b[0m\u001b[0m\n\u001b[1;32m    245\u001b[0m         \u001b[0;32mif\u001b[0m \u001b[0mpersistent_workers\u001b[0m \u001b[0;32mand\u001b[0m \u001b[0mnum_workers\u001b[0m \u001b[0;34m==\u001b[0m \u001b[0;36m0\u001b[0m\u001b[0;34m:\u001b[0m\u001b[0;34m\u001b[0m\u001b[0;34m\u001b[0m\u001b[0m\n\u001b[0;32m--> 246\u001b[0;31m             \u001b[0;32mraise\u001b[0m \u001b[0mValueError\u001b[0m\u001b[0;34m(\u001b[0m\u001b[0;34m'persistent_workers option needs num_workers > 0'\u001b[0m\u001b[0;34m)\u001b[0m\u001b[0;34m\u001b[0m\u001b[0;34m\u001b[0m\u001b[0m\n\u001b[0m\u001b[1;32m    247\u001b[0m \u001b[0;34m\u001b[0m\u001b[0m\n\u001b[1;32m    248\u001b[0m         \u001b[0mself\u001b[0m\u001b[0;34m.\u001b[0m\u001b[0mdataset\u001b[0m \u001b[0;34m=\u001b[0m \u001b[0mdataset\u001b[0m\u001b[0;34m\u001b[0m\u001b[0;34m\u001b[0m\u001b[0m\n",
      "\u001b[0;31mValueError\u001b[0m: persistent_workers option needs num_workers > 0"
     ]
    }
   ],
   "source": [
    "batch = next(iter(dm.val_dataloader()))"
   ]
  },
  {
   "cell_type": "code",
   "execution_count": null,
   "metadata": {},
   "outputs": [],
   "source": []
  },
  {
   "cell_type": "code",
   "execution_count": null,
   "metadata": {},
   "outputs": [],
   "source": [
    "# model.training_step(batch, 0)"
   ]
  },
  {
   "cell_type": "code",
   "execution_count": null,
   "metadata": {},
   "outputs": [],
   "source": [
    "# model.task.generate_target(batch)"
   ]
  },
  {
   "cell_type": "code",
   "execution_count": null,
   "metadata": {},
   "outputs": [],
   "source": [
    "# model.training_step(batch, 0)"
   ]
  },
  {
   "cell_type": "code",
   "execution_count": null,
   "metadata": {},
   "outputs": [],
   "source": []
  },
  {
   "cell_type": "markdown",
   "metadata": {},
   "source": [
    "### Model Next MCC"
   ]
  },
  {
   "cell_type": "code",
   "execution_count": 12,
   "metadata": {},
   "outputs": [],
   "source": [
    "import random"
   ]
  },
  {
   "cell_type": "code",
   "execution_count": 13,
   "metadata": {},
   "outputs": [],
   "source": [
    "target_batch = ['1', '2', '3', '4', '5', '6', '7', '8']"
   ]
  },
  {
   "cell_type": "code",
   "execution_count": 14,
   "metadata": {},
   "outputs": [],
   "source": [
    "num_options = 2\n",
    "answer_options = [str(i) for i in range(8)]"
   ]
  },
  {
   "cell_type": "code",
   "execution_count": 16,
   "metadata": {},
   "outputs": [],
   "source": [
    "multichoice_separator = \" - %s;\"\n",
    "question_end =  \"Will the next transactions have merchant category code 2? Yes or No?\""
   ]
  },
  {
   "cell_type": "code",
   "execution_count": 17,
   "metadata": {},
   "outputs": [],
   "source": [
    "target_batch_options = []  # a list of str target options\n",
    "for gt_target in target_batch:\n",
    "    target_options = {gt_target}\n",
    "    while len(target_options) < num_options:\n",
    "        target_options.add(random.sample(answer_options, k=1)[0])\n",
    "\n",
    "    # shuffle\n",
    "    target_options = random.sample(list(target_options), k=len(target_options))\n",
    "    # connect with separator\n",
    "    target_options = \"\".join([multichoice_separator % target for target in target_options])\n",
    "    target_batch_options.append(target_options)\n",
    "\n",
    "question_target_batch = [question_end + \" OPTIONS:\" + target_options for target_options in\n",
    "                        target_batch_options] "
   ]
  },
  {
   "cell_type": "code",
   "execution_count": 21,
   "metadata": {},
   "outputs": [],
   "source": [
    "question_target_batch = [question_end + \" OPTIONS:\" + target_options for target_options in\n",
    "                        target_batch_options] "
   ]
  },
  {
   "cell_type": "code",
   "execution_count": 22,
   "metadata": {},
   "outputs": [
    {
     "data": {
      "text/plain": [
       "['Will the next transactions have merchant category code 2? Yes or No? OPTIONS: - 1; - 0;',\n",
       " 'Will the next transactions have merchant category code 2? Yes or No? OPTIONS: - 2; - 4;',\n",
       " 'Will the next transactions have merchant category code 2? Yes or No? OPTIONS: - 3; - 5;',\n",
       " 'Will the next transactions have merchant category code 2? Yes or No? OPTIONS: - 3; - 4;',\n",
       " 'Will the next transactions have merchant category code 2? Yes or No? OPTIONS: - 0; - 5;',\n",
       " 'Will the next transactions have merchant category code 2? Yes or No? OPTIONS: - 6; - 0;',\n",
       " 'Will the next transactions have merchant category code 2? Yes or No? OPTIONS: - 7; - 6;',\n",
       " 'Will the next transactions have merchant category code 2? Yes or No? OPTIONS: - 8; - 5;']"
      ]
     },
     "execution_count": 22,
     "metadata": {},
     "output_type": "execute_result"
    }
   ],
   "source": [
    "question_target_batch"
   ]
  },
  {
   "cell_type": "code",
   "execution_count": 28,
   "metadata": {},
   "outputs": [],
   "source": [
    "from src.transactions_qa.evaluation.eval_processings_utils import convert_to_numeric\n",
    "from torchmetrics import Accuracy\n",
    "\n",
    "\n",
    "answer = ['1', '2', '3', '4', 'suka']"
   ]
  },
  {
   "cell_type": "code",
   "execution_count": 30,
   "metadata": {},
   "outputs": [],
   "source": [
    "metric = Accuracy(task='multiclass', num_classes=10, ignore_index=-1)"
   ]
  },
  {
   "cell_type": "code",
   "execution_count": 38,
   "metadata": {},
   "outputs": [],
   "source": [
    "targets = torch.tensor((1, 1, 2))\n",
    "preds = torch.tensor([-10, 1, 1])"
   ]
  },
  {
   "cell_type": "code",
   "execution_count": 39,
   "metadata": {},
   "outputs": [
    {
     "data": {
      "text/plain": [
       "tensor(0.3333)"
      ]
     },
     "execution_count": 39,
     "metadata": {},
     "output_type": "execute_result"
    }
   ],
   "source": [
    "metric(preds, targets)"
   ]
  },
  {
   "cell_type": "code",
   "execution_count": 41,
   "metadata": {},
   "outputs": [
    {
     "name": "stdout",
     "output_type": "stream",
     "text": [
      "Value is not a number: suka\n"
     ]
    },
    {
     "data": {
      "text/plain": [
       "tensor([ 1,  2,  3,  4, -1])"
      ]
     },
     "execution_count": 41,
     "metadata": {},
     "output_type": "execute_result"
    }
   ],
   "source": [
    "torch.tensor(list(map(lambda x: convert_to_numeric(x, -1), answer)))"
   ]
  },
  {
   "cell_type": "code",
   "execution_count": null,
   "metadata": {},
   "outputs": [],
   "source": []
  },
  {
   "cell_type": "markdown",
   "metadata": {},
   "source": [
    "### Debugging transformer"
   ]
  },
  {
   "cell_type": "code",
   "execution_count": 8,
   "metadata": {},
   "outputs": [],
   "source": [
    "import os\n",
    "from datasets.io.generator import GeneratorDatasetInputStream"
   ]
  },
  {
   "cell_type": "code",
   "execution_count": 9,
   "metadata": {},
   "outputs": [],
   "source": [
    "data_dir = '/home/jovyan/romashka/data'"
   ]
  },
  {
   "cell_type": "code",
   "execution_count": 10,
   "metadata": {},
   "outputs": [],
   "source": [
    "dir_with_datasets = os.listdir(os.path.join(data_dir, 'val_buckets'))\n",
    "list_paths = sorted([os.path.join(data_dir, 'val_buckets', x)\n",
    "                        for x in dir_with_datasets])"
   ]
  },
  {
   "cell_type": "code",
   "execution_count": 11,
   "metadata": {},
   "outputs": [],
   "source": [
    "from src.data.alfa.components.data_generator import batches_generator"
   ]
  },
  {
   "cell_type": "code",
   "execution_count": 12,
   "metadata": {},
   "outputs": [],
   "source": [
    "from datasets import IterableDataset as HFIterableDataset"
   ]
  },
  {
   "cell_type": "code",
   "execution_count": 13,
   "metadata": {},
   "outputs": [],
   "source": [
    "dataset = HFIterableDataset.from_generator(batches_generator,\n",
    "                                            gen_kwargs={\n",
    "                                                'list_of_paths': list_paths,\n",
    "                                                'min_seq_len': 0,\n",
    "                                                'max_seq_len': 250,\n",
    "                                                # 'shuffle': False,\n",
    "                                            })"
   ]
  },
  {
   "cell_type": "code",
   "execution_count": 14,
   "metadata": {},
   "outputs": [
    {
     "name": "stdout",
     "output_type": "stream",
     "text": [
      "reading /home/jovyan/romashka/data/val_buckets/processed_chunk_000.pkl\n",
      "/home/jovyan/romashka/data/val_buckets/processed_chunk_000.pkl = [0 1 2 3 4 5 6 7 8 9]\n"
     ]
    },
    {
     "data": {
      "text/plain": [
       "{'num_features': tensor([[[ 0.5222,  0.5242,  0.5242,  0.5396,  0.5247,  0.5043,  0.5271,\n",
       "            0.5222,  0.5247,  0.5232,  0.2976,  0.4579,  0.4779]],\n",
       " \n",
       "         [[ 0.9233,  0.8274,  0.7507,  0.6740,  0.5808,  0.4959,  0.4274,\n",
       "            0.3260,  0.2521,  0.1644,  0.1644,  0.0767,  0.0767]],\n",
       " \n",
       "         [[-0.0105,  8.7895,  7.0737,  7.1053,  8.5263,  7.8632,  6.3474,\n",
       "            9.3368,  6.7789,  8.1474,  0.0000,  8.0632,  0.0000]]]),\n",
       " 'cat_features': tensor([[[ 1,  1,  1,  1,  1,  1,  1,  1,  1,  1,  1,  1,  1]],\n",
       " \n",
       "         [[ 4,  4,  4,  4,  4,  4,  4,  4,  4,  4,  4,  4,  4]],\n",
       " \n",
       "         [[84, 84, 84, 84, 84, 84, 84, 84, 84, 84, 84, 84, 84]],\n",
       " \n",
       "         [[14, 14,  4,  4,  4,  4,  4,  4,  4,  4,  4, 14, 14]],\n",
       " \n",
       "         [[ 2,  2,  2,  2,  2,  2,  2,  2,  2,  2,  2,  2,  2]],\n",
       " \n",
       "         [[ 1,  1,  1,  1,  1,  1,  1,  1,  1,  1,  1,  1,  1]],\n",
       " \n",
       "         [[ 3,  3,  3,  3,  3,  3,  3,  3,  3,  3,  3,  3,  3]],\n",
       " \n",
       "         [[ 2,  2,  2,  2,  2,  2,  2,  2,  2,  2,  2,  2,  2]],\n",
       " \n",
       "         [[ 2,  2,  2,  2,  2,  2,  2,  2,  2,  2,  2,  2,  2]],\n",
       " \n",
       "         [[ 1,  1,  1,  1,  1,  1,  1,  1,  1,  1,  1,  1,  1]],\n",
       " \n",
       "         [[ 1,  1,  1,  1,  1,  1,  1,  1,  1,  1,  1,  1,  1]],\n",
       " \n",
       "         [[ 2,  2,  2,  2,  2,  2,  2,  2,  2,  2,  2,  2,  2]],\n",
       " \n",
       "         [[ 2,  2,  2,  2,  1,  6,  1,  7,  2,  4,  4,  7,  7]],\n",
       " \n",
       "         [[18, 12, 12, 15,  9, 13, 16, 15, 11, 17, 17, 15, 15]],\n",
       " \n",
       "         [[42, 32, 18,  2, 13, 40,  5, 12, 17, 45, 45, 38, 38]]]),\n",
       " 'mask': tensor([[True, True, True, True, True, True, True, True, True, True, True, True,\n",
       "          True]]),\n",
       " 'meta_features': tensor([[1]]),\n",
       " 'app_id': tensor([173]),\n",
       " 'label': tensor([0])}"
      ]
     },
     "execution_count": 14,
     "metadata": {},
     "output_type": "execute_result"
    }
   ],
   "source": [
    "next(iter(dataset.with_format('torch')))"
   ]
  },
  {
   "cell_type": "code",
   "execution_count": 16,
   "metadata": {},
   "outputs": [],
   "source": [
    "gen = GeneratorDatasetInputStream(batches_generator, gen_kwargs={\n",
    "                                                'list_of_paths': list_paths,\n",
    "                                                'min_seq_len': 0,\n",
    "                                                'max_seq_len': 225,\n",
    "                                                'shuffle': False,\n",
    "                                            }, streaming=True)"
   ]
  },
  {
   "cell_type": "code",
   "execution_count": 17,
   "metadata": {},
   "outputs": [],
   "source": [
    "d = gen.read()"
   ]
  },
  {
   "cell_type": "code",
   "execution_count": 18,
   "metadata": {},
   "outputs": [],
   "source": [
    "from datasets.download.streaming_download_manager import StreamingDownloadManager"
   ]
  },
  {
   "cell_type": "code",
   "execution_count": 19,
   "metadata": {},
   "outputs": [],
   "source": [
    "data_dir = '/home/jovyan/romashka/data/train_buckets'"
   ]
  },
  {
   "cell_type": "code",
   "execution_count": 26,
   "metadata": {},
   "outputs": [],
   "source": [
    "from datasets.download.download_config import DownloadConfig"
   ]
  },
  {
   "cell_type": "code",
   "execution_count": 27,
   "metadata": {},
   "outputs": [],
   "source": [
    "dl_manager = StreamingDownloadManager(\n",
    "            base_path=gen.builder.base_path,\n",
    "            download_config=DownloadConfig(use_auth_token=gen.builder.use_auth_token, storage_options=gen.builder.storage_options),\n",
    "            dataset_name=gen.builder.name,\n",
    "            data_dir=gen.builder.config.data_dir,\n",
    "        )\n",
    "gen.builder._check_manual_download(dl_manager)\n"
   ]
  },
  {
   "cell_type": "code",
   "execution_count": 28,
   "metadata": {},
   "outputs": [
    {
     "data": {
      "text/plain": [
       "<datasets.download.streaming_download_manager.StreamingDownloadManager at 0x7fde784c9d10>"
      ]
     },
     "execution_count": 28,
     "metadata": {},
     "output_type": "execute_result"
    }
   ],
   "source": [
    "dl_manager"
   ]
  },
  {
   "cell_type": "code",
   "execution_count": 29,
   "metadata": {},
   "outputs": [],
   "source": [
    "splits_generators = {sg.name: sg for sg in gen.builder._split_generators(dl_manager)}\n",
    "# By default, return all splits\n"
   ]
  },
  {
   "cell_type": "code",
   "execution_count": 51,
   "metadata": {},
   "outputs": [
    {
     "data": {
      "text/plain": [
       "SplitInfo(name='train', num_bytes=0, num_examples=0, shard_lengths=None, dataset_name=None)"
      ]
     },
     "execution_count": 51,
     "metadata": {},
     "output_type": "execute_result"
    }
   ],
   "source": [
    "splits_generators['train'].split_info"
   ]
  },
  {
   "cell_type": "code",
   "execution_count": 54,
   "metadata": {},
   "outputs": [],
   "source": [
    "res = gen.builder._get_examples_iterable_for_split(splits_generators['train'])"
   ]
  },
  {
   "cell_type": "code",
   "execution_count": 56,
   "metadata": {},
   "outputs": [
    {
     "data": {
      "text/plain": [
       "5"
      ]
     },
     "execution_count": 56,
     "metadata": {},
     "output_type": "execute_result"
    }
   ],
   "source": [
    "res.n_shards"
   ]
  },
  {
   "cell_type": "code",
   "execution_count": 35,
   "metadata": {},
   "outputs": [],
   "source": [
    "from datasets.utils.py_utils import map_nested"
   ]
  },
  {
   "cell_type": "code",
   "execution_count": 37,
   "metadata": {},
   "outputs": [],
   "source": [
    "# Create a dataset for each of the given splits\n",
    "datasets = map_nested(\n",
    "    gen.builder._as_streaming_dataset_single,\n",
    "    splits_generators['train'],\n",
    "    map_tuple=True,\n",
    ")\n"
   ]
  },
  {
   "cell_type": "code",
   "execution_count": 47,
   "metadata": {},
   "outputs": [],
   "source": [
    "ex_iterable = gen.builder._get_examples_iterable_for_split(splits_generators['train'])"
   ]
  },
  {
   "cell_type": "code",
   "execution_count": 62,
   "metadata": {},
   "outputs": [
    {
     "data": {
      "text/plain": [
       "['/home/jovyan/romashka/data/val_buckets/processed_chunk_000.pkl',\n",
       " '/home/jovyan/romashka/data/val_buckets/processed_chunk_001.pkl',\n",
       " '/home/jovyan/romashka/data/val_buckets/processed_chunk_002.pkl',\n",
       " '/home/jovyan/romashka/data/val_buckets/processed_chunk_003.pkl',\n",
       " '/home/jovyan/romashka/data/val_buckets/processed_chunk_004.pkl']"
      ]
     },
     "execution_count": 62,
     "metadata": {},
     "output_type": "execute_result"
    }
   ],
   "source": [
    "list_paths"
   ]
  },
  {
   "cell_type": "code",
   "execution_count": 72,
   "metadata": {},
   "outputs": [
    {
     "name": "stdout",
     "output_type": "stream",
     "text": [
      "Reading /home/jovyan/romashka/data/val_buckets/processed_chunk_000.pkl\n",
      "(1021, 18, 13)\n",
      "(954, 18, 20)\n",
      "(783, 18, 28)\n",
      "(607, 18, 35)\n",
      "(667, 18, 43)\n",
      "(551, 18, 50)\n",
      "(580, 18, 58)\n",
      "(468, 18, 65)\n",
      "(491, 18, 72)\n",
      "(496, 18, 80)\n",
      "(404, 18, 87)\n",
      "(472, 18, 95)\n",
      "(375, 18, 102)\n",
      "(430, 18, 110)\n",
      "(354, 18, 117)\n",
      "(361, 18, 125)\n",
      "(310, 18, 132)\n",
      "(332, 18, 139)\n",
      "(370, 18, 147)\n",
      "(246, 18, 154)\n",
      "(347, 18, 162)\n",
      "(276, 18, 169)\n",
      "(309, 18, 177)\n",
      "(263, 18, 184)\n",
      "(297, 18, 192)\n",
      "(233, 18, 199)\n",
      "(259, 18, 206)\n",
      "(264, 18, 214)\n",
      "(214, 18, 221)\n",
      "(255, 18, 229)\n",
      "(206, 18, 236)\n",
      "(245, 18, 244)\n",
      "(212, 18, 251)\n",
      "(219, 18, 258)\n",
      "(222, 18, 266)\n",
      "(170, 18, 273)\n",
      "(200, 18, 281)\n",
      "(166, 18, 288)\n",
      "(195, 18, 296)\n",
      "(167, 18, 303)\n",
      "(188, 18, 311)\n",
      "(143, 18, 318)\n",
      "(154, 18, 325)\n",
      "(160, 18, 333)\n",
      "(151, 18, 340)\n",
      "(152, 18, 348)\n",
      "(130, 18, 355)\n",
      "(163, 18, 363)\n",
      "(136, 18, 370)\n",
      "(148, 18, 378)\n",
      "(130, 18, 385)\n",
      "(114, 18, 392)\n",
      "(138, 18, 400)\n",
      "(122, 18, 407)\n",
      "(133, 18, 415)\n",
      "(107, 18, 422)\n",
      "(118, 18, 430)\n",
      "(115, 18, 437)\n",
      "(96, 18, 444)\n",
      "(114, 18, 452)\n",
      "(87, 18, 459)\n",
      "(102, 18, 467)\n",
      "(108, 18, 474)\n",
      "(110, 18, 482)\n",
      "(85, 18, 489)\n",
      "(89, 18, 497)\n",
      "(62, 18, 504)\n",
      "(74, 18, 511)\n",
      "(111, 18, 519)\n",
      "(80, 18, 526)\n",
      "(74, 18, 534)\n",
      "(80, 18, 541)\n",
      "(84, 18, 549)\n",
      "(69, 18, 556)\n",
      "(48, 18, 564)\n",
      "(63, 18, 571)\n",
      "(55, 18, 578)\n",
      "(84, 18, 586)\n",
      "(55, 18, 593)\n",
      "(83, 18, 601)\n",
      "(41, 18, 608)\n",
      "(60, 18, 616)\n",
      "(42, 18, 623)\n",
      "(48, 18, 630)\n",
      "(62, 18, 638)\n",
      "(47, 18, 645)\n",
      "(64, 18, 653)\n",
      "(65, 18, 660)\n",
      "(51, 18, 668)\n",
      "(52, 18, 675)\n",
      "(61, 18, 683)\n",
      "(32, 18, 690)\n",
      "(32, 18, 697)\n",
      "(53, 18, 705)\n",
      "(27, 18, 712)\n",
      "(36, 18, 720)\n",
      "(42, 18, 727)\n",
      "(41, 18, 735)\n",
      "(31, 18, 742)\n",
      "(1253, 18, 750)\n",
      "Reading /home/jovyan/romashka/data/val_buckets/processed_chunk_001.pkl\n",
      "(882, 18, 13)\n",
      "(790, 18, 20)\n",
      "(725, 18, 28)\n",
      "(581, 18, 35)\n",
      "(623, 18, 43)\n",
      "(503, 18, 50)\n",
      "(522, 18, 58)\n",
      "(448, 18, 65)\n",
      "(450, 18, 72)\n",
      "(480, 18, 80)\n",
      "(395, 18, 87)\n",
      "(398, 18, 95)\n",
      "(347, 18, 102)\n",
      "(383, 18, 110)\n",
      "(337, 18, 117)\n",
      "(367, 18, 125)\n",
      "(304, 18, 132)\n",
      "(278, 18, 139)\n",
      "(296, 18, 147)\n",
      "(261, 18, 154)\n",
      "(297, 18, 162)\n",
      "(245, 18, 169)\n",
      "(265, 18, 177)\n",
      "(237, 18, 184)\n",
      "(250, 18, 192)\n",
      "(225, 18, 199)\n",
      "(212, 18, 206)\n",
      "(235, 18, 214)\n",
      "(225, 18, 221)\n",
      "(239, 18, 229)\n",
      "(192, 18, 236)\n",
      "(216, 18, 244)\n",
      "(189, 18, 251)\n",
      "(174, 18, 258)\n",
      "(191, 18, 266)\n",
      "(163, 18, 273)\n",
      "(165, 18, 281)\n",
      "(162, 18, 288)\n",
      "(171, 18, 296)\n",
      "(156, 18, 303)\n",
      "(175, 18, 311)\n",
      "(124, 18, 318)\n",
      "(136, 18, 325)\n",
      "(167, 18, 333)\n",
      "(121, 18, 340)\n",
      "(163, 18, 348)\n",
      "(136, 18, 355)\n",
      "(141, 18, 363)\n",
      "(128, 18, 370)\n",
      "(166, 18, 378)\n",
      "(111, 18, 385)\n",
      "(122, 18, 392)\n",
      "(130, 18, 400)\n",
      "(112, 18, 407)\n",
      "(137, 18, 415)\n",
      "(92, 18, 422)\n",
      "(105, 18, 430)\n",
      "(92, 18, 437)\n",
      "(80, 18, 444)\n",
      "(111, 18, 452)\n",
      "(95, 18, 459)\n",
      "(105, 18, 467)\n",
      "(109, 18, 474)\n",
      "(105, 18, 482)\n",
      "(97, 18, 489)\n",
      "(90, 18, 497)\n",
      "(72, 18, 504)\n",
      "(63, 18, 511)\n",
      "(97, 18, 519)\n",
      "(69, 18, 526)\n",
      "(73, 18, 534)\n",
      "(72, 18, 541)\n",
      "(66, 18, 549)\n",
      "(74, 18, 556)\n",
      "(62, 18, 564)\n",
      "(70, 18, 571)\n",
      "(61, 18, 578)\n",
      "(53, 18, 586)\n",
      "(64, 18, 593)\n",
      "(48, 18, 601)\n",
      "(51, 18, 608)\n",
      "(65, 18, 616)\n",
      "(41, 18, 623)\n",
      "(50, 18, 630)\n",
      "(62, 18, 638)\n",
      "(39, 18, 645)\n",
      "(51, 18, 653)\n",
      "(40, 18, 660)\n",
      "(56, 18, 668)\n",
      "(36, 18, 675)\n",
      "(40, 18, 683)\n",
      "(42, 18, 690)\n",
      "(32, 18, 697)\n",
      "(43, 18, 705)\n",
      "(39, 18, 712)\n",
      "(39, 18, 720)\n",
      "(39, 18, 727)\n",
      "(43, 18, 735)\n",
      "(42, 18, 742)\n",
      "(1510, 18, 750)\n",
      "Reading /home/jovyan/romashka/data/val_buckets/processed_chunk_002.pkl\n",
      "(801, 18, 13)\n",
      "(793, 18, 20)\n",
      "(668, 18, 28)\n",
      "(554, 18, 35)\n",
      "(539, 18, 43)\n",
      "(496, 18, 50)\n",
      "(523, 18, 58)\n",
      "(422, 18, 65)\n",
      "(425, 18, 72)\n",
      "(432, 18, 80)\n",
      "(370, 18, 87)\n",
      "(401, 18, 95)\n",
      "(314, 18, 102)\n",
      "(343, 18, 110)\n",
      "(305, 18, 117)\n",
      "(332, 18, 125)\n",
      "(276, 18, 132)\n",
      "(293, 18, 139)\n",
      "(290, 18, 147)\n",
      "(286, 18, 154)\n",
      "(304, 18, 162)\n",
      "(219, 18, 169)\n",
      "(254, 18, 177)\n",
      "(247, 18, 184)\n",
      "(266, 18, 192)\n",
      "(183, 18, 199)\n",
      "(211, 18, 206)\n",
      "(254, 18, 214)\n",
      "(172, 18, 221)\n",
      "(215, 18, 229)\n",
      "(183, 18, 236)\n",
      "(218, 18, 244)\n",
      "(170, 18, 251)\n",
      "(167, 18, 258)\n",
      "(190, 18, 266)\n",
      "(177, 18, 273)\n",
      "(178, 18, 281)\n",
      "(158, 18, 288)\n",
      "(172, 18, 296)\n",
      "(151, 18, 303)\n",
      "(168, 18, 311)\n",
      "(148, 18, 318)\n",
      "(146, 18, 325)\n",
      "(152, 18, 333)\n",
      "(133, 18, 340)\n",
      "(133, 18, 348)\n",
      "(133, 18, 355)\n",
      "(121, 18, 363)\n",
      "(113, 18, 370)\n",
      "(140, 18, 378)\n",
      "(113, 18, 385)\n",
      "(105, 18, 392)\n",
      "(116, 18, 400)\n",
      "(94, 18, 407)\n",
      "(99, 18, 415)\n",
      "(106, 18, 422)\n",
      "(107, 18, 430)\n",
      "(106, 18, 437)\n",
      "(108, 18, 444)\n",
      "(92, 18, 452)\n",
      "(99, 18, 459)\n",
      "(107, 18, 467)\n",
      "(82, 18, 474)\n",
      "(71, 18, 482)\n",
      "(78, 18, 489)\n",
      "(73, 18, 497)\n",
      "(64, 18, 504)\n",
      "(65, 18, 511)\n",
      "(85, 18, 519)\n",
      "(61, 18, 526)\n",
      "(80, 18, 534)\n",
      "(62, 18, 541)\n",
      "(78, 18, 549)\n",
      "(57, 18, 556)\n",
      "(65, 18, 564)\n",
      "(64, 18, 571)\n",
      "(60, 18, 578)\n",
      "(62, 18, 586)\n",
      "(67, 18, 593)\n",
      "(58, 18, 601)\n",
      "(52, 18, 608)\n",
      "(56, 18, 616)\n",
      "(47, 18, 623)\n",
      "(38, 18, 630)\n",
      "(65, 18, 638)\n",
      "(47, 18, 645)\n",
      "(45, 18, 653)\n",
      "(49, 18, 660)\n",
      "(54, 18, 668)\n",
      "(46, 18, 675)\n",
      "(57, 18, 683)\n",
      "(47, 18, 690)\n",
      "(51, 18, 697)\n",
      "(48, 18, 705)\n",
      "(39, 18, 712)\n",
      "(40, 18, 720)\n",
      "(33, 18, 727)\n",
      "(37, 18, 735)\n",
      "(38, 18, 742)\n",
      "(1559, 18, 750)\n",
      "Reading /home/jovyan/romashka/data/val_buckets/processed_chunk_003.pkl\n",
      "(698, 18, 13)\n",
      "(711, 18, 20)\n",
      "(628, 18, 28)\n",
      "(505, 18, 35)\n",
      "(547, 18, 43)\n",
      "(433, 18, 50)\n",
      "(463, 18, 58)\n",
      "(381, 18, 65)\n",
      "(360, 18, 72)\n",
      "(381, 18, 80)\n",
      "(338, 18, 87)\n",
      "(362, 18, 95)\n",
      "(318, 18, 102)\n",
      "(339, 18, 110)\n",
      "(285, 18, 117)\n",
      "(348, 18, 125)\n",
      "(238, 18, 132)\n",
      "(255, 18, 139)\n",
      "(279, 18, 147)\n",
      "(212, 18, 154)\n",
      "(256, 18, 162)\n",
      "(220, 18, 169)\n",
      "(244, 18, 177)\n",
      "(218, 18, 184)\n",
      "(239, 18, 192)\n",
      "(214, 18, 199)\n",
      "(172, 18, 206)\n",
      "(220, 18, 214)\n",
      "(175, 18, 221)\n",
      "(207, 18, 229)\n",
      "(195, 18, 236)\n",
      "(193, 18, 244)\n",
      "(152, 18, 251)\n",
      "(166, 18, 258)\n",
      "(164, 18, 266)\n",
      "(163, 18, 273)\n",
      "(165, 18, 281)\n",
      "(126, 18, 288)\n",
      "(154, 18, 296)\n",
      "(121, 18, 303)\n",
      "(160, 18, 311)\n",
      "(149, 18, 318)\n",
      "(123, 18, 325)\n",
      "(134, 18, 333)\n",
      "(119, 18, 340)\n",
      "(140, 18, 348)\n",
      "(108, 18, 355)\n",
      "(131, 18, 363)\n",
      "(107, 18, 370)\n",
      "(119, 18, 378)\n",
      "(123, 18, 385)\n",
      "(101, 18, 392)\n",
      "(126, 18, 400)\n",
      "(82, 18, 407)\n",
      "(120, 18, 415)\n",
      "(96, 18, 422)\n",
      "(104, 18, 430)\n",
      "(109, 18, 437)\n",
      "(95, 18, 444)\n",
      "(92, 18, 452)\n",
      "(97, 18, 459)\n",
      "(102, 18, 467)\n",
      "(65, 18, 474)\n",
      "(97, 18, 482)\n",
      "(78, 18, 489)\n",
      "(85, 18, 497)\n",
      "(71, 18, 504)\n",
      "(80, 18, 511)\n",
      "(97, 18, 519)\n",
      "(70, 18, 526)\n",
      "(62, 18, 534)\n",
      "(69, 18, 541)\n",
      "(75, 18, 549)\n",
      "(73, 18, 556)\n",
      "(84, 18, 564)\n",
      "(55, 18, 571)\n",
      "(67, 18, 578)\n",
      "(65, 18, 586)\n",
      "(54, 18, 593)\n",
      "(54, 18, 601)\n",
      "(66, 18, 608)\n",
      "(51, 18, 616)\n",
      "(55, 18, 623)\n",
      "(46, 18, 630)\n",
      "(57, 18, 638)\n",
      "(46, 18, 645)\n",
      "(53, 18, 653)\n",
      "(47, 18, 660)\n",
      "(56, 18, 668)\n",
      "(34, 18, 675)\n",
      "(53, 18, 683)\n",
      "(41, 18, 690)\n",
      "(37, 18, 697)\n",
      "(50, 18, 705)\n",
      "(41, 18, 712)\n",
      "(42, 18, 720)\n",
      "(43, 18, 727)\n",
      "(39, 18, 735)\n",
      "(39, 18, 742)\n",
      "(1691, 18, 750)\n",
      "Reading /home/jovyan/romashka/data/val_buckets/processed_chunk_004.pkl\n",
      "(629, 18, 13)\n",
      "(594, 18, 20)\n",
      "(624, 18, 28)\n",
      "(493, 18, 35)\n",
      "(525, 18, 43)\n",
      "(380, 18, 50)\n",
      "(403, 18, 58)\n",
      "(369, 18, 65)\n",
      "(329, 18, 72)\n",
      "(387, 18, 80)\n",
      "(358, 18, 87)\n",
      "(322, 18, 95)\n",
      "(287, 18, 102)\n",
      "(331, 18, 110)\n",
      "(272, 18, 117)\n",
      "(288, 18, 125)\n",
      "(242, 18, 132)\n",
      "(223, 18, 139)\n",
      "(264, 18, 147)\n",
      "(248, 18, 154)\n",
      "(228, 18, 162)\n",
      "(217, 18, 169)\n",
      "(238, 18, 177)\n",
      "(198, 18, 184)\n",
      "(231, 18, 192)\n",
      "(171, 18, 199)\n",
      "(170, 18, 206)\n",
      "(216, 18, 214)\n",
      "(202, 18, 221)\n",
      "(205, 18, 229)\n",
      "(148, 18, 236)\n",
      "(193, 18, 244)\n",
      "(158, 18, 251)\n",
      "(134, 18, 258)\n",
      "(152, 18, 266)\n",
      "(165, 18, 273)\n",
      "(160, 18, 281)\n",
      "(122, 18, 288)\n",
      "(135, 18, 296)\n",
      "(122, 18, 303)\n",
      "(149, 18, 311)\n",
      "(121, 18, 318)\n",
      "(89, 18, 325)\n",
      "(118, 18, 333)\n",
      "(104, 18, 340)\n",
      "(144, 18, 348)\n",
      "(104, 18, 355)\n",
      "(125, 18, 363)\n",
      "(91, 18, 370)\n",
      "(135, 18, 378)\n",
      "(100, 18, 385)\n",
      "(113, 18, 392)\n",
      "(106, 18, 400)\n",
      "(90, 18, 407)\n",
      "(112, 18, 415)\n",
      "(84, 18, 422)\n",
      "(103, 18, 430)\n",
      "(80, 18, 437)\n",
      "(76, 18, 444)\n",
      "(95, 18, 452)\n",
      "(81, 18, 459)\n",
      "(79, 18, 467)\n",
      "(71, 18, 474)\n",
      "(92, 18, 482)\n",
      "(70, 18, 489)\n",
      "(82, 18, 497)\n",
      "(72, 18, 504)\n",
      "(70, 18, 511)\n",
      "(74, 18, 519)\n",
      "(63, 18, 526)\n",
      "(70, 18, 534)\n",
      "(56, 18, 541)\n",
      "(79, 18, 549)\n",
      "(43, 18, 556)\n",
      "(63, 18, 564)\n",
      "(51, 18, 571)\n",
      "(72, 18, 578)\n",
      "(55, 18, 586)\n",
      "(61, 18, 593)\n",
      "(65, 18, 601)\n",
      "(55, 18, 608)\n",
      "(60, 18, 616)\n",
      "(54, 18, 623)\n",
      "(53, 18, 630)\n",
      "(47, 18, 638)\n",
      "(51, 18, 645)\n",
      "(65, 18, 653)\n",
      "(48, 18, 660)\n",
      "(49, 18, 668)\n",
      "(55, 18, 675)\n",
      "(47, 18, 683)\n",
      "(37, 18, 690)\n",
      "(57, 18, 697)\n",
      "(46, 18, 705)\n",
      "(41, 18, 712)\n",
      "(38, 18, 720)\n",
      "(40, 18, 727)\n",
      "(43, 18, 735)\n",
      "(33, 18, 742)\n",
      "(1802, 18, 750)\n"
     ]
    }
   ],
   "source": [
    "import pickle \n",
    "\n",
    "for elem in list_paths:\n",
    "    with open(elem, 'rb') as f:\n",
    "        data = pickle.load(f)\n",
    "\n",
    "    print(f'Reading {elem}')\n",
    "    for ps in data['padded_sequences']:\n",
    "        print(ps.shape)"
   ]
  },
  {
   "cell_type": "code",
   "execution_count": 70,
   "metadata": {},
   "outputs": [
    {
     "data": {
      "text/plain": [
       "(1021, 18, 13)"
      ]
     },
     "execution_count": 70,
     "metadata": {},
     "output_type": "execute_result"
    }
   ],
   "source": [
    "data['padded_sequences'][0].shape"
   ]
  },
  {
   "cell_type": "code",
   "execution_count": null,
   "metadata": {},
   "outputs": [],
   "source": []
  }
 ],
 "metadata": {
  "kernelspec": {
   "display_name": "Python 3 (ipykernel)",
   "language": "python",
   "name": "python3"
  },
  "language_info": {
   "codemirror_mode": {
    "name": "ipython",
    "version": 3
   },
   "file_extension": ".py",
   "mimetype": "text/x-python",
   "name": "python",
   "nbconvert_exporter": "python",
   "pygments_lexer": "ipython3",
   "version": "3.7.12"
  },
  "vscode": {
   "interpreter": {
    "hash": "4ff2a09b934b25be9a8b176e9d1e80ece927d491d3847c62b1a0ae23e4142515"
   }
  }
 },
 "nbformat": 4,
 "nbformat_minor": 4
}
